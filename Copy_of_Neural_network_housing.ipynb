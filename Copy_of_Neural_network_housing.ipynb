{
  "nbformat": 4,
  "nbformat_minor": 0,
  "metadata": {
    "colab": {
      "name": "Copy of Neural_network_housing.ipynb",
      "provenance": [],
      "collapsed_sections": []
    },
    "kernelspec": {
      "name": "python3",
      "display_name": "Python 3"
    },
    "language_info": {
      "name": "python"
    }
  },
  "cells": [
    {
      "cell_type": "code",
      "metadata": {
        "colab": {
          "base_uri": "https://localhost:8080/"
        },
        "id": "lFv5-T_zupnd",
        "outputId": "78565927-0aa4-4370-e64f-5d97ad2cd0da"
      },
      "source": [
        "import os\n",
        "# Find the latest version of spark 3.0  from http://www.apache.org/dist/spark/ and enter as the spark version\n",
        "# For example:\n",
        "spark_version = 'spark-3.0.3'\n",
        "#spark_version = 'spark-3.<enter version>'\n",
        "os.environ['SPARK_VERSION']=spark_version\n",
        "\n",
        "# Install Spark and Java\n",
        "!apt-get update\n",
        "!apt-get install openjdk-11-jdk-headless -qq > /dev/null\n",
        "!wget -q http://www.apache.org/dist/spark/$SPARK_VERSION/$SPARK_VERSION-bin-hadoop2.7.tgz\n",
        "!tar xf $SPARK_VERSION-bin-hadoop2.7.tgz\n",
        "!pip install -q findspark\n",
        "\n",
        "# Set Environment Variables\n",
        "import os\n",
        "os.environ[\"JAVA_HOME\"] = \"/usr/lib/jvm/java-11-openjdk-amd64\"\n",
        "os.environ[\"SPARK_HOME\"] = f\"/content/{spark_version}-bin-hadoop2.7\"\n",
        "\n",
        "# Start a SparkSession\n",
        "import findspark\n",
        "findspark.init()"
      ],
      "execution_count": null,
      "outputs": [
        {
          "output_type": "stream",
          "text": [
            "\r0% [Working]\r            \rIgn:1 https://developer.download.nvidia.com/compute/cuda/repos/ubuntu1804/x86_64  InRelease\n",
            "\r0% [Connecting to archive.ubuntu.com] [Connecting to security.ubuntu.com (91.18\r                                                                               \rHit:2 https://cloud.r-project.org/bin/linux/ubuntu bionic-cran40/ InRelease\n",
            "\r0% [Connecting to archive.ubuntu.com] [Connecting to security.ubuntu.com (91.18\r                                                                               \rIgn:3 https://developer.download.nvidia.com/compute/machine-learning/repos/ubuntu1804/x86_64  InRelease\n",
            "\r0% [Connecting to archive.ubuntu.com] [Connecting to security.ubuntu.com (91.18\r0% [2 InRelease gpgv 3,626 B] [Connecting to archive.ubuntu.com] [Connecting to\r                                                                               \rHit:4 https://developer.download.nvidia.com/compute/cuda/repos/ubuntu1804/x86_64  Release\n",
            "Hit:5 https://developer.download.nvidia.com/compute/machine-learning/repos/ubuntu1804/x86_64  Release\n",
            "Get:6 http://security.ubuntu.com/ubuntu bionic-security InRelease [88.7 kB]\n",
            "Hit:7 http://ppa.launchpad.net/c2d4u.team/c2d4u4.0+/ubuntu bionic InRelease\n",
            "Hit:8 http://archive.ubuntu.com/ubuntu bionic InRelease\n",
            "Hit:9 http://ppa.launchpad.net/cran/libgit2/ubuntu bionic InRelease\n",
            "Get:10 http://archive.ubuntu.com/ubuntu bionic-updates InRelease [88.7 kB]\n",
            "Hit:13 http://ppa.launchpad.net/deadsnakes/ppa/ubuntu bionic InRelease\n",
            "Get:14 http://archive.ubuntu.com/ubuntu bionic-backports InRelease [74.6 kB]\n",
            "Hit:15 http://ppa.launchpad.net/graphics-drivers/ppa/ubuntu bionic InRelease\n",
            "Fetched 252 kB in 3s (75.2 kB/s)\n",
            "Reading package lists... Done\n"
          ],
          "name": "stdout"
        }
      ]
    },
    {
      "cell_type": "code",
      "metadata": {
        "colab": {
          "base_uri": "https://localhost:8080/"
        },
        "id": "Chcx1Hb5vNuS",
        "outputId": "d54be1e1-5185-4139-818d-45e934f054ce"
      },
      "source": [
        "# First, enter the following code to download a Postgres driver that will allow Spark to interact with Postgres:\n",
        "!wget https://jdbc.postgresql.org/download/postgresql-42.2.16.jar"
      ],
      "execution_count": null,
      "outputs": [
        {
          "output_type": "stream",
          "text": [
            "--2021-07-30 22:55:39--  https://jdbc.postgresql.org/download/postgresql-42.2.16.jar\n",
            "Resolving jdbc.postgresql.org (jdbc.postgresql.org)... 72.32.157.228, 2001:4800:3e1:1::228\n",
            "Connecting to jdbc.postgresql.org (jdbc.postgresql.org)|72.32.157.228|:443... connected.\n",
            "HTTP request sent, awaiting response... 200 OK\n",
            "Length: 1002883 (979K) [application/java-archive]\n",
            "Saving to: ‘postgresql-42.2.16.jar.7’\n",
            "\n",
            "postgresql-42.2.16. 100%[===================>] 979.38K  5.95MB/s    in 0.2s    \n",
            "\n",
            "2021-07-30 22:55:39 (5.95 MB/s) - ‘postgresql-42.2.16.jar.7’ saved [1002883/1002883]\n",
            "\n"
          ],
          "name": "stdout"
        }
      ]
    },
    {
      "cell_type": "code",
      "metadata": {
        "id": "x1fG3JpHGtlD"
      },
      "source": [
        "from pyspark.sql import SparkSession\n",
        "spark = SparkSession.builder.appName(\"Final_data\").config(\"spark.driver.extraClassPath\",\"/content/postgresql-42.2.16.jar\").getOrCreate()"
      ],
      "execution_count": null,
      "outputs": []
    },
    {
      "cell_type": "code",
      "metadata": {
        "id": "-L7yMupXPGSn"
      },
      "source": [
        "# Load in a sql functions\n",
        "from pyspark.sql.functions import col, avg, sum, count, rand, randn, to_timestamp"
      ],
      "execution_count": null,
      "outputs": []
    },
    {
      "cell_type": "code",
      "metadata": {
        "colab": {
          "base_uri": "https://localhost:8080/"
        },
        "id": "4lKF0Lk1nZ2-",
        "outputId": "e601a350-7b90-4947-90c9-5b8955ba0990"
      },
      "source": [
        "# Read in data from S3 Buckets\n",
        "from pyspark import SparkFiles\n",
        "url = \"https://tq2cutebucket.s3.us-west-1.amazonaws.com/final_data2.csv\"\n",
        "spark.sparkContext.addFile(url)\n",
        "df = spark.read.option(\"encoding\", \"UTF-8\").csv(SparkFiles.get(\"final_data2.csv\"), sep=\",\", header=True, inferSchema=True)\n",
        "df.show()"
      ],
      "execution_count": null,
      "outputs": [
        {
          "output_type": "stream",
          "text": [
            "+--------------+--------------------+--------+------------+------------+---------+----------+----------+---+-----------+--------+---+--------------+--------------+----------+\n",
            "|    MLS Number|      Street Address|zip_code|      county|County_Index|Year_Sale|List Price|Sale Price|Age|Sq Ft Total|Lot Size|DOM|  Listing Date|     Sale Date|Year Built|\n",
            "+--------------+--------------------+--------+------------+------------+---------+----------+----------+---+-----------+--------+---+--------------+--------------+----------+\n",
            "|     CRP1-5385|   1428 Hacienda DR |   91011| Los Angeles|           0|     2021|   2800000|   2780000| 56|       3637| 17421.0| 36|5/18/2021 0:00|6/23/2021 0:00|      1965|\n",
            "|  CNSR21123928| 19458 Maldonado PL |   91350| Los Angeles|           0|     2021|    831000|    831000|  3|       1943|  5811.0| 12|6/10/2021 0:00|6/22/2021 0:00|      2018|\n",
            "|  CROC21112305|  29069 Sterling LN |   91354| Los Angeles|           0|     2021|    928000|    925000|  7|       2796|  5329.0|  7| 6/9/2021 0:00|6/16/2021 0:00|      2014|\n",
            "|  CNSR21126159|   5063 Gaviota AVE |   91436| Los Angeles|           0|     2021|   2512500|   2512500| 21|       4749| 13874.0|  0|6/14/2021 0:00|6/14/2021 0:00|      2000|\n",
            "|  CRNDP2106846|  602 Wildflower PL |   92026|   San Diego|           7|     2021|    699000|    730000| 40|       1964|  4271.0| 12|6/12/2021 0:00|6/24/2021 0:00|      1981|\n",
            "|  CRSW21126908|24463 Corte Desca...|   92562|   Riverside|           3|     2021|    535000|    580000| 22|       2086|  7405.0|  7|6/16/2021 0:00|6/23/2021 0:00|      1999|\n",
            "|  CRSW21124634|31551 Alicante LOOP |   92596|   Riverside|           3|     2021|    450000|    500000|  3|       1611|  2223.0|  7| 6/9/2021 0:00|6/16/2021 0:00|      2018|\n",
            "|  CROC21133611|   14892 Waverly LN |   92604|      Orange|           1|     2021|    940000|    940000| 50|       1217|  4950.0| 30|6/19/2021 0:00|7/19/2021 0:00|      1971|\n",
            "|  CRPW21134222| 19771 Inverness LN |   92646|      Orange|           1|     2021|    425000|    435000| 56|        600|   800.0|  7|6/21/2021 0:00|6/28/2021 0:00|      1965|\n",
            "|  CROC21150562|2476 White River ...|   92782|      Orange|           1|     2021|   2300000|   2300000| 22|       3829| 13189.0|  0| 7/7/2021 0:00| 7/7/2021 0:00|      1999|\n",
            "|CRV0-219001394|     450 Graham AVE |   93010|     Ventura|          12|     2019|    540000|    528000| 60|       1208|  7003.0| 57| 2/7/2019 0:00| 4/5/2019 0:00|      1961|\n",
            "|    CC40953950|    105 Cordova Way |   94519|Contra Costa|           4|     2021|    730000|    765000| 74|       1313|  5700.0| 12|6/11/2021 0:00|6/23/2021 0:00|      1947|\n",
            "|    ML81853154|   125 Navigator DR |   95066|  Santa Cruz|          26|     2021|   1300000|   1300000| 24|       2030|  3528.0|  0|7/12/2021 0:00|7/12/2021 0:00|      1997|\n",
            "|   ME221065460|1620 Royal Crest DR |   95242| San Joaquin|          15|     2021|    389950|    425000| 47|       1300|  6599.0|  7| 6/9/2021 0:00|6/16/2021 0:00|      1974|\n",
            "|   BA321035349|  18955 Robinson RD |   95476|      Sonoma|          13|     2021|    875000|    915000| 69|       1302| 19423.0| 29|4/22/2021 0:00|5/21/2021 0:00|      1952|\n",
            "|   ME221060024|    2028 Daphne AVE |   95864|  Sacramento|           2|     2021|    469000|    508500| 66|       1159|  6599.0|  5|6/17/2021 0:00|6/22/2021 0:00|      1955|\n",
            "|   ME201901630|    16 Sunflower LN |   95966|       Butte|           9|     2019|    219900|    219900| 39|       1512| 43996.0| 90|5/15/2019 0:00|8/13/2019 0:00|      1982|\n",
            "|   ME221066031| 1424 Tres Picos DR |   95993|      Sutter|          23|     2021|    429000|    460000| 19|       1784|  7405.0|  4|6/10/2021 0:00|6/14/2021 0:00|      2002|\n",
            "|  CRPW21118939|  12930 Burgess AVE |   90638| Los Angeles|           0|     2021|    845000|    845000| 62|       1592|  6303.0| 13| 6/2/2021 0:00|6/15/2021 0:00|      1959|\n",
            "|  CNSR21122752| 4916 Greenbush AVE |   91423| Los Angeles|           0|     2021|   1600000|   1710000| 70|       2475|  7206.0|  8|6/11/2021 0:00|6/19/2021 0:00|      1951|\n",
            "+--------------+--------------------+--------+------------+------------+---------+----------+----------+---+-----------+--------+---+--------------+--------------+----------+\n",
            "only showing top 20 rows\n",
            "\n"
          ],
          "name": "stdout"
        }
      ]
    },
    {
      "cell_type": "code",
      "metadata": {
        "id": "KEH4hE579gwD"
      },
      "source": [
        "# filter function\n",
        "# vine_votes = vine_df.filter(\"total_votes > 20\")\n",
        "# vine_votes.show()\n",
        "\n",
        "data_df = df.filter(\"County_Index < 10\")"
      ],
      "execution_count": null,
      "outputs": []
    },
    {
      "cell_type": "code",
      "metadata": {
        "colab": {
          "base_uri": "https://localhost:8080/"
        },
        "id": "yV-FPbfxoYEr",
        "outputId": "695770da-8a9f-49b1-f44e-16fd1f1a2679"
      },
      "source": [
        "# import sql function pyspark\n",
        "import pyspark.sql.functions as f\n",
        "\n",
        "# null values in each column\n",
        "data_agg = df.agg(*[f.count(f.when(f.isnull(c), c)).alias(c) for c in df.columns])\n",
        "data_agg.show()"
      ],
      "execution_count": null,
      "outputs": [
        {
          "output_type": "stream",
          "text": [
            "+----------+--------------+--------+------+------------+---------+----------+----------+---+-----------+--------+---+------------+---------+----------+\n",
            "|MLS Number|Street Address|zip_code|county|County_Index|Year_Sale|List Price|Sale Price|Age|Sq Ft Total|Lot Size|DOM|Listing Date|Sale Date|Year Built|\n",
            "+----------+--------------+--------+------+------------+---------+----------+----------+---+-----------+--------+---+------------+---------+----------+\n",
            "|         0|             0|       0|     0|           0|        0|         0|         0|  0|          0|       0|  0|           0|        0|         0|\n",
            "+----------+--------------+--------+------+------------+---------+----------+----------+---+-----------+--------+---+------------+---------+----------+\n",
            "\n"
          ],
          "name": "stdout"
        }
      ]
    },
    {
      "cell_type": "code",
      "metadata": {
        "colab": {
          "base_uri": "https://localhost:8080/"
        },
        "id": "y8Ali63JgPLl",
        "outputId": "cace8c86-eb6a-4bbc-87d7-951c2d6e6fea"
      },
      "source": [
        "#import pandas\n",
        "import pandas as pd\n",
        "import numpy as np\n",
        "from sqlalchemy import create_engine\n",
        "df.count()"
      ],
      "execution_count": null,
      "outputs": [
        {
          "output_type": "execute_result",
          "data": {
            "text/plain": [
              "8380"
            ]
          },
          "metadata": {
            "tags": []
          },
          "execution_count": 8
        }
      ]
    },
    {
      "cell_type": "code",
      "metadata": {
        "colab": {
          "base_uri": "https://localhost:8080/"
        },
        "id": "RH3xSLjCmwg0",
        "outputId": "aec40cf4-5a9c-4b70-fa45-8d1fc79838c4"
      },
      "source": [
        "df.printSchema()"
      ],
      "execution_count": null,
      "outputs": [
        {
          "output_type": "stream",
          "text": [
            "root\n",
            " |-- MLS Number: string (nullable = true)\n",
            " |-- Street Address: string (nullable = true)\n",
            " |-- zip_code: integer (nullable = true)\n",
            " |-- county: string (nullable = true)\n",
            " |-- County_Index: integer (nullable = true)\n",
            " |-- Year_Sale: integer (nullable = true)\n",
            " |-- List Price: integer (nullable = true)\n",
            " |-- Sale Price: integer (nullable = true)\n",
            " |-- Age: integer (nullable = true)\n",
            " |-- Sq Ft Total: integer (nullable = true)\n",
            " |-- Lot Size: double (nullable = true)\n",
            " |-- DOM: integer (nullable = true)\n",
            " |-- Listing Date: string (nullable = true)\n",
            " |-- Sale Date: string (nullable = true)\n",
            " |-- Year Built: integer (nullable = true)\n",
            "\n"
          ],
          "name": "stdout"
        }
      ]
    },
    {
      "cell_type": "code",
      "metadata": {
        "colab": {
          "base_uri": "https://localhost:8080/",
          "height": 542
        },
        "id": "G2wR6iQ6m_0c",
        "outputId": "f41b8fe9-6df8-4992-d43b-8282a3a85708"
      },
      "source": [
        "df.describe().toPandas().transpose()"
      ],
      "execution_count": null,
      "outputs": [
        {
          "output_type": "execute_result",
          "data": {
            "text/html": [
              "<div>\n",
              "<style scoped>\n",
              "    .dataframe tbody tr th:only-of-type {\n",
              "        vertical-align: middle;\n",
              "    }\n",
              "\n",
              "    .dataframe tbody tr th {\n",
              "        vertical-align: top;\n",
              "    }\n",
              "\n",
              "    .dataframe thead th {\n",
              "        text-align: right;\n",
              "    }\n",
              "</style>\n",
              "<table border=\"1\" class=\"dataframe\">\n",
              "  <thead>\n",
              "    <tr style=\"text-align: right;\">\n",
              "      <th></th>\n",
              "      <th>0</th>\n",
              "      <th>1</th>\n",
              "      <th>2</th>\n",
              "      <th>3</th>\n",
              "      <th>4</th>\n",
              "    </tr>\n",
              "  </thead>\n",
              "  <tbody>\n",
              "    <tr>\n",
              "      <th>summary</th>\n",
              "      <td>count</td>\n",
              "      <td>mean</td>\n",
              "      <td>stddev</td>\n",
              "      <td>min</td>\n",
              "      <td>max</td>\n",
              "    </tr>\n",
              "    <tr>\n",
              "      <th>MLS Number</th>\n",
              "      <td>8380</td>\n",
              "      <td>None</td>\n",
              "      <td>None</td>\n",
              "      <td>BA321030025</td>\n",
              "      <td>TM21-762052</td>\n",
              "    </tr>\n",
              "    <tr>\n",
              "      <th>Street Address</th>\n",
              "      <td>8380</td>\n",
              "      <td>None</td>\n",
              "      <td>None</td>\n",
              "      <td>\"'\"1595 '\"'\"C'\"'\" Josselyn Canyon RD '\"\"</td>\n",
              "      <td>9989 La Porte RD</td>\n",
              "    </tr>\n",
              "    <tr>\n",
              "      <th>zip_code</th>\n",
              "      <td>8380</td>\n",
              "      <td>93733.22840095466</td>\n",
              "      <td>1761.0926385734203</td>\n",
              "      <td>90002</td>\n",
              "      <td>96161</td>\n",
              "    </tr>\n",
              "    <tr>\n",
              "      <th>county</th>\n",
              "      <td>8380</td>\n",
              "      <td>None</td>\n",
              "      <td>None</td>\n",
              "      <td>Alameda</td>\n",
              "      <td>Yuba</td>\n",
              "    </tr>\n",
              "    <tr>\n",
              "      <th>County_Index</th>\n",
              "      <td>8380</td>\n",
              "      <td>7.523150357995227</td>\n",
              "      <td>7.796940385094982</td>\n",
              "      <td>0</td>\n",
              "      <td>44</td>\n",
              "    </tr>\n",
              "    <tr>\n",
              "      <th>Year_Sale</th>\n",
              "      <td>8380</td>\n",
              "      <td>2020.909307875895</td>\n",
              "      <td>0.37829177194192</td>\n",
              "      <td>2019</td>\n",
              "      <td>2021</td>\n",
              "    </tr>\n",
              "    <tr>\n",
              "      <th>List Price</th>\n",
              "      <td>8380</td>\n",
              "      <td>1038517.646778043</td>\n",
              "      <td>1041465.4783596672</td>\n",
              "      <td>75000</td>\n",
              "      <td>15868000</td>\n",
              "    </tr>\n",
              "    <tr>\n",
              "      <th>Sale Price</th>\n",
              "      <td>8380</td>\n",
              "      <td>1108018.570405728</td>\n",
              "      <td>1081878.8042877018</td>\n",
              "      <td>72000</td>\n",
              "      <td>15350000</td>\n",
              "    </tr>\n",
              "    <tr>\n",
              "      <th>Age</th>\n",
              "      <td>8380</td>\n",
              "      <td>46.71766109785203</td>\n",
              "      <td>26.720590810932638</td>\n",
              "      <td>0</td>\n",
              "      <td>152</td>\n",
              "    </tr>\n",
              "    <tr>\n",
              "      <th>Sq Ft Total</th>\n",
              "      <td>8380</td>\n",
              "      <td>1942.3334128878282</td>\n",
              "      <td>893.6397937478024</td>\n",
              "      <td>266</td>\n",
              "      <td>11853</td>\n",
              "    </tr>\n",
              "    <tr>\n",
              "      <th>Lot Size</th>\n",
              "      <td>8380</td>\n",
              "      <td>309681.16659427196</td>\n",
              "      <td>1.1117743355602924E7</td>\n",
              "      <td>800.0</td>\n",
              "      <td>6.181164E8</td>\n",
              "    </tr>\n",
              "    <tr>\n",
              "      <th>DOM</th>\n",
              "      <td>8380</td>\n",
              "      <td>13.511694510739856</td>\n",
              "      <td>36.466533619550376</td>\n",
              "      <td>0</td>\n",
              "      <td>892</td>\n",
              "    </tr>\n",
              "    <tr>\n",
              "      <th>Listing Date</th>\n",
              "      <td>8380</td>\n",
              "      <td>None</td>\n",
              "      <td>None</td>\n",
              "      <td>1/10/2020 0:00</td>\n",
              "      <td>9/6/2019 0:00</td>\n",
              "    </tr>\n",
              "    <tr>\n",
              "      <th>Sale Date</th>\n",
              "      <td>8380</td>\n",
              "      <td>None</td>\n",
              "      <td>None</td>\n",
              "      <td>1/1/2021 0:00</td>\n",
              "      <td>9/8/2020 0:00</td>\n",
              "    </tr>\n",
              "    <tr>\n",
              "      <th>Year Built</th>\n",
              "      <td>8380</td>\n",
              "      <td>1974.282338902148</td>\n",
              "      <td>26.72059081093267</td>\n",
              "      <td>1869</td>\n",
              "      <td>2021</td>\n",
              "    </tr>\n",
              "  </tbody>\n",
              "</table>\n",
              "</div>"
            ],
            "text/plain": [
              "                    0  ...                  4\n",
              "summary         count  ...                max\n",
              "MLS Number       8380  ...        TM21-762052\n",
              "Street Address   8380  ...  9989 La Porte RD \n",
              "zip_code         8380  ...              96161\n",
              "county           8380  ...               Yuba\n",
              "County_Index     8380  ...                 44\n",
              "Year_Sale        8380  ...               2021\n",
              "List Price       8380  ...           15868000\n",
              "Sale Price       8380  ...           15350000\n",
              "Age              8380  ...                152\n",
              "Sq Ft Total      8380  ...              11853\n",
              "Lot Size         8380  ...         6.181164E8\n",
              "DOM              8380  ...                892\n",
              "Listing Date     8380  ...      9/6/2019 0:00\n",
              "Sale Date        8380  ...      9/8/2020 0:00\n",
              "Year Built       8380  ...               2021\n",
              "\n",
              "[16 rows x 5 columns]"
            ]
          },
          "metadata": {
            "tags": []
          },
          "execution_count": 10
        }
      ]
    },
    {
      "cell_type": "code",
      "metadata": {
        "colab": {
          "base_uri": "https://localhost:8080/"
        },
        "id": "rW_FGhjAIgZT",
        "outputId": "fd5777e1-a1eb-4508-87a5-6d7d58fd00dd"
      },
      "source": [
        "#reg_df = df.select(\"County_Index\",\"Sq Ft Total\",\"Lot Size\",\"Age\",\"DOM\",\"List Price\",\"Sale Price\")\n",
        "reg_df = df.select(\"County_Index\",\"Year_Sale\",\"Sq Ft Total\",\"Lot Size\",\"Age\",\"List Price\",\"Sale Price\")\n",
        "reg_df.show()\n",
        "reg_df.count()"
      ],
      "execution_count": null,
      "outputs": [
        {
          "output_type": "stream",
          "text": [
            "+------------+---------+-----------+--------+---+----------+----------+\n",
            "|County_Index|Year_Sale|Sq Ft Total|Lot Size|Age|List Price|Sale Price|\n",
            "+------------+---------+-----------+--------+---+----------+----------+\n",
            "|           0|     2021|       3637| 17421.0| 56|   2800000|   2780000|\n",
            "|           0|     2021|       1943|  5811.0|  3|    831000|    831000|\n",
            "|           0|     2021|       2796|  5329.0|  7|    928000|    925000|\n",
            "|           0|     2021|       4749| 13874.0| 21|   2512500|   2512500|\n",
            "|           7|     2021|       1964|  4271.0| 40|    699000|    730000|\n",
            "|           3|     2021|       2086|  7405.0| 22|    535000|    580000|\n",
            "|           3|     2021|       1611|  2223.0|  3|    450000|    500000|\n",
            "|           1|     2021|       1217|  4950.0| 50|    940000|    940000|\n",
            "|           1|     2021|        600|   800.0| 56|    425000|    435000|\n",
            "|           1|     2021|       3829| 13189.0| 22|   2300000|   2300000|\n",
            "|          12|     2019|       1208|  7003.0| 60|    540000|    528000|\n",
            "|           4|     2021|       1313|  5700.0| 74|    730000|    765000|\n",
            "|          26|     2021|       2030|  3528.0| 24|   1300000|   1300000|\n",
            "|          15|     2021|       1300|  6599.0| 47|    389950|    425000|\n",
            "|          13|     2021|       1302| 19423.0| 69|    875000|    915000|\n",
            "|           2|     2021|       1159|  6599.0| 66|    469000|    508500|\n",
            "|           9|     2019|       1512| 43996.0| 39|    219900|    219900|\n",
            "|          23|     2021|       1784|  7405.0| 19|    429000|    460000|\n",
            "|           0|     2021|       1592|  6303.0| 62|    845000|    845000|\n",
            "|           0|     2021|       2475|  7206.0| 70|   1600000|   1710000|\n",
            "+------------+---------+-----------+--------+---+----------+----------+\n",
            "only showing top 20 rows\n",
            "\n"
          ],
          "name": "stdout"
        },
        {
          "output_type": "execute_result",
          "data": {
            "text/plain": [
              "8380"
            ]
          },
          "metadata": {
            "tags": []
          },
          "execution_count": 28
        }
      ]
    },
    {
      "cell_type": "code",
      "metadata": {
        "colab": {
          "base_uri": "https://localhost:8080/"
        },
        "id": "vrnhefRDJXFl",
        "outputId": "4c02f63f-38bc-4b4d-cff7-5dd8d560e1d5"
      },
      "source": [
        "data_array = np.array(reg_df.collect())\n",
        "data_array"
      ],
      "execution_count": null,
      "outputs": [
        {
          "output_type": "execute_result",
          "data": {
            "text/plain": [
              "array([[0.000e+00, 2.021e+03, 3.637e+03, ..., 5.600e+01, 2.800e+06,\n",
              "        2.780e+06],\n",
              "       [0.000e+00, 2.021e+03, 1.943e+03, ..., 3.000e+00, 8.310e+05,\n",
              "        8.310e+05],\n",
              "       [0.000e+00, 2.021e+03, 2.796e+03, ..., 7.000e+00, 9.280e+05,\n",
              "        9.250e+05],\n",
              "       ...,\n",
              "       [9.000e+00, 2.019e+03, 2.268e+03, ..., 1.300e+01, 3.290e+05,\n",
              "        3.290e+05],\n",
              "       [9.000e+00, 2.021e+03, 1.578e+03, ..., 5.700e+01, 3.120e+05,\n",
              "        3.250e+05],\n",
              "       [1.800e+01, 2.021e+03, 1.189e+03, ..., 4.500e+01, 4.000e+05,\n",
              "        4.450e+05]])"
            ]
          },
          "metadata": {
            "tags": []
          },
          "execution_count": 29
        }
      ]
    },
    {
      "cell_type": "code",
      "metadata": {
        "colab": {
          "base_uri": "https://localhost:8080/"
        },
        "id": "NwB9lojkJXwn",
        "outputId": "ee0b7ba3-e08f-4f0c-c927-211bb97171df"
      },
      "source": [
        "X = data_array[1:4211:,0:6]\n",
        "Y = data_array[1:4211:,6:7]\n",
        "print(X)\n",
        "print(Y)"
      ],
      "execution_count": null,
      "outputs": [
        {
          "output_type": "stream",
          "text": [
            "[[0.0000e+00 2.0210e+03 1.9430e+03 5.8110e+03 3.0000e+00 8.3100e+05]\n",
            " [0.0000e+00 2.0210e+03 2.7960e+03 5.3290e+03 7.0000e+00 9.2800e+05]\n",
            " [0.0000e+00 2.0210e+03 4.7490e+03 1.3874e+04 2.1000e+01 2.5125e+06]\n",
            " ...\n",
            " [1.3000e+01 2.0210e+03 1.3020e+03 1.9423e+04 6.9000e+01 8.7500e+05]\n",
            " [2.0000e+00 2.0210e+03 1.1590e+03 6.5990e+03 6.6000e+01 4.6900e+05]\n",
            " [9.0000e+00 2.0190e+03 1.5120e+03 4.3996e+04 3.9000e+01 2.1990e+05]]\n",
            "[[ 831000.]\n",
            " [ 925000.]\n",
            " [2512500.]\n",
            " ...\n",
            " [ 915000.]\n",
            " [ 508500.]\n",
            " [ 219900.]]\n"
          ],
          "name": "stdout"
        }
      ]
    },
    {
      "cell_type": "code",
      "metadata": {
        "id": "c0ta5yaPKkcL"
      },
      "source": [
        "from sklearn import preprocessing\n",
        "min_max_scaler = preprocessing.MinMaxScaler()\n",
        "X_scale = min_max_scaler.fit_transform(X)"
      ],
      "execution_count": null,
      "outputs": []
    },
    {
      "cell_type": "code",
      "metadata": {
        "id": "zIKRxfBvNljR"
      },
      "source": [
        "from sklearn.model_selection import train_test_split\n",
        "X_train, X_val_and_test, Y_train, Y_val_and_test = train_test_split(X_scale, Y, test_size=0.3)"
      ],
      "execution_count": null,
      "outputs": []
    },
    {
      "cell_type": "code",
      "metadata": {
        "id": "R93yAyN9OpJX"
      },
      "source": [
        "X_val, X_test, Y_val, Y_test = train_test_split(X_val_and_test, Y_val_and_test, test_size=0.5)"
      ],
      "execution_count": null,
      "outputs": []
    },
    {
      "cell_type": "code",
      "metadata": {
        "colab": {
          "base_uri": "https://localhost:8080/"
        },
        "id": "nL2yRX8IOpj1",
        "outputId": "e6608ca1-a322-4857-8269-bc2b19d050a6"
      },
      "source": [
        "print(X_train.shape, X_val.shape, X_test.shape, Y_train.shape, Y_val.shape, Y_test.shape)"
      ],
      "execution_count": null,
      "outputs": [
        {
          "output_type": "stream",
          "text": [
            "(2947, 6) (631, 6) (632, 6) (2947, 1) (631, 1) (632, 1)\n"
          ],
          "name": "stdout"
        }
      ]
    },
    {
      "cell_type": "code",
      "metadata": {
        "id": "PjIXHdIWPKC_"
      },
      "source": [
        "from keras.models import Sequential\n",
        "from keras.layers import Dense"
      ],
      "execution_count": null,
      "outputs": []
    },
    {
      "cell_type": "code",
      "metadata": {
        "id": "YybTzPG8Prgt"
      },
      "source": [
        "model = Sequential([\n",
        "    Dense(32, activation='relu', input_shape=(6,)),\n",
        "    Dense(5, activation='sigmoid'),\n",
        "    Dense(5, activation='relu'),\n",
        "])\n",
        "\n",
        "#model = Sequential([\n",
        "#    Dense(32, activation='relu', input_shape=(5,)),\n",
        "#    Dense(32, activation='relu'),\n",
        "#    Dense(1, activation='sigmoid'),\n",
        "#])"
      ],
      "execution_count": null,
      "outputs": []
    },
    {
      "cell_type": "code",
      "metadata": {
        "id": "cllWutqEQhTT"
      },
      "source": [
        "model.compile(optimizer='Adam',\n",
        "              loss='MSE',\n",
        "              metrics=['MSE'])\n",
        "\n",
        "#model.compile(optimizer='sgd',\n",
        "#              loss='binary_crossentropy',\n",
        "#              metrics=['accuracy'])\n",
        "\n",
        "# optimizer: RMSPROP, SGD, AdaGrad, Adadelta, Adam\n",
        "# loss function: MSE, BCE, CC, SCC\n",
        "# metrics: MSE, accuracy, Log Loss,"
      ],
      "execution_count": null,
      "outputs": []
    },
    {
      "cell_type": "code",
      "metadata": {
        "colab": {
          "base_uri": "https://localhost:8080/"
        },
        "id": "59dKSLwVQu03",
        "outputId": "845aefe1-c966-4329-9a67-060d3f39cdd2"
      },
      "source": [
        "hist = model.fit(X_train, Y_train,\n",
        "          batch_size=32, epochs=100,\n",
        "          validation_data=(X_val, Y_val))"
      ],
      "execution_count": null,
      "outputs": [
        {
          "output_type": "stream",
          "text": [
            "Epoch 1/100\n",
            "93/93 [==============================] - 1s 4ms/step - loss: 2806008092802.7236 - MSE: 2806008092802.7236 - val_loss: 2111266619392.0000 - val_MSE: 2111266619392.0000\n",
            "Epoch 2/100\n",
            "93/93 [==============================] - 0s 2ms/step - loss: 2550436171165.9575 - MSE: 2550436171165.9575 - val_loss: 2111265308672.0000 - val_MSE: 2111265308672.0000\n",
            "Epoch 3/100\n",
            "93/93 [==============================] - 0s 2ms/step - loss: 2265160341983.3193 - MSE: 2265160341983.3193 - val_loss: 2111264391168.0000 - val_MSE: 2111264391168.0000\n",
            "Epoch 4/100\n",
            "93/93 [==============================] - 0s 2ms/step - loss: 2659894963091.0640 - MSE: 2659894963091.0640 - val_loss: 2111263604736.0000 - val_MSE: 2111263604736.0000\n",
            "Epoch 5/100\n",
            "93/93 [==============================] - 0s 2ms/step - loss: 2576616014172.5957 - MSE: 2576616014172.5957 - val_loss: 2111262556160.0000 - val_MSE: 2111262556160.0000\n",
            "Epoch 6/100\n",
            "93/93 [==============================] - 0s 2ms/step - loss: 2646049162610.3828 - MSE: 2646049162610.3828 - val_loss: 2111261900800.0000 - val_MSE: 2111261900800.0000\n",
            "Epoch 7/100\n",
            "93/93 [==============================] - 0s 2ms/step - loss: 2399466171283.0640 - MSE: 2399466171283.0640 - val_loss: 2111260983296.0000 - val_MSE: 2111260983296.0000\n",
            "Epoch 8/100\n",
            "93/93 [==============================] - 0s 2ms/step - loss: 2572427795259.9150 - MSE: 2572427795259.9150 - val_loss: 2111260590080.0000 - val_MSE: 2111260590080.0000\n",
            "Epoch 9/100\n",
            "93/93 [==============================] - 0s 2ms/step - loss: 2481408015686.8086 - MSE: 2481408015686.8086 - val_loss: 2111259934720.0000 - val_MSE: 2111259934720.0000\n",
            "Epoch 10/100\n",
            "93/93 [==============================] - 0s 2ms/step - loss: 2385239715404.2554 - MSE: 2385239715404.2554 - val_loss: 2111258886144.0000 - val_MSE: 2111258886144.0000\n",
            "Epoch 11/100\n",
            "93/93 [==============================] - 0s 2ms/step - loss: 2506660052992.0000 - MSE: 2506660052992.0000 - val_loss: 2111258492928.0000 - val_MSE: 2111258492928.0000\n",
            "Epoch 12/100\n",
            "93/93 [==============================] - 0s 2ms/step - loss: 2881794207656.8511 - MSE: 2881794207656.8511 - val_loss: 2111257182208.0000 - val_MSE: 2111257182208.0000\n",
            "Epoch 13/100\n",
            "93/93 [==============================] - 0s 2ms/step - loss: 2511618336637.2764 - MSE: 2511618336637.2764 - val_loss: 2111256526848.0000 - val_MSE: 2111256526848.0000\n",
            "Epoch 14/100\n",
            "93/93 [==============================] - 0s 2ms/step - loss: 2576270215560.1704 - MSE: 2576270215560.1704 - val_loss: 2111256133632.0000 - val_MSE: 2111256133632.0000\n",
            "Epoch 15/100\n",
            "93/93 [==============================] - 0s 2ms/step - loss: 2661872948332.9360 - MSE: 2661872948332.9360 - val_loss: 2111255347200.0000 - val_MSE: 2111255347200.0000\n",
            "Epoch 16/100\n",
            "93/93 [==============================] - 0s 2ms/step - loss: 2627309057655.8296 - MSE: 2627309057655.8296 - val_loss: 2111254429696.0000 - val_MSE: 2111254429696.0000\n",
            "Epoch 17/100\n",
            "93/93 [==============================] - 0s 2ms/step - loss: 2781813179065.1914 - MSE: 2781813179065.1914 - val_loss: 2111254036480.0000 - val_MSE: 2111254036480.0000\n",
            "Epoch 18/100\n",
            "93/93 [==============================] - 0s 2ms/step - loss: 2324658740376.5107 - MSE: 2324658740376.5107 - val_loss: 2111252987904.0000 - val_MSE: 2111252987904.0000\n",
            "Epoch 19/100\n",
            "93/93 [==============================] - 0s 2ms/step - loss: 2581125920027.2339 - MSE: 2581125920027.2339 - val_loss: 2111252463616.0000 - val_MSE: 2111252463616.0000\n",
            "Epoch 20/100\n",
            "93/93 [==============================] - 0s 2ms/step - loss: 2354059698698.8936 - MSE: 2354059698698.8936 - val_loss: 2111251677184.0000 - val_MSE: 2111251677184.0000\n",
            "Epoch 21/100\n",
            "93/93 [==============================] - 0s 2ms/step - loss: 2361683277083.2339 - MSE: 2361683277083.2339 - val_loss: 2111250759680.0000 - val_MSE: 2111250759680.0000\n",
            "Epoch 22/100\n",
            "93/93 [==============================] - 0s 2ms/step - loss: 2421480525213.9575 - MSE: 2421480525213.9575 - val_loss: 2111250235392.0000 - val_MSE: 2111250235392.0000\n",
            "Epoch 23/100\n",
            "93/93 [==============================] - 0s 2ms/step - loss: 2456579375801.1914 - MSE: 2456579375801.1914 - val_loss: 2111249580032.0000 - val_MSE: 2111249580032.0000\n",
            "Epoch 24/100\n",
            "93/93 [==============================] - 0s 2ms/step - loss: 2743082077946.5532 - MSE: 2743082077946.5532 - val_loss: 2111248924672.0000 - val_MSE: 2111248924672.0000\n",
            "Epoch 25/100\n",
            "93/93 [==============================] - 0s 2ms/step - loss: 2211921404078.2979 - MSE: 2211921404078.2979 - val_loss: 2111247876096.0000 - val_MSE: 2111247876096.0000\n",
            "Epoch 26/100\n",
            "93/93 [==============================] - 0s 2ms/step - loss: 2315385014315.5747 - MSE: 2315385014315.5747 - val_loss: 2111247220736.0000 - val_MSE: 2111247220736.0000\n",
            "Epoch 27/100\n",
            "93/93 [==============================] - 0s 2ms/step - loss: 2364073575794.3828 - MSE: 2364073575794.3828 - val_loss: 2111246565376.0000 - val_MSE: 2111246565376.0000\n",
            "Epoch 28/100\n",
            "93/93 [==============================] - 0s 2ms/step - loss: 2368436218073.8726 - MSE: 2368436218073.8726 - val_loss: 2111245647872.0000 - val_MSE: 2111245647872.0000\n",
            "Epoch 29/100\n",
            "93/93 [==============================] - 0s 2ms/step - loss: 2610447277208.5107 - MSE: 2610447277208.5107 - val_loss: 2111245123584.0000 - val_MSE: 2111245123584.0000\n",
            "Epoch 30/100\n",
            "93/93 [==============================] - 0s 2ms/step - loss: 2322369873266.3828 - MSE: 2322369873266.3828 - val_loss: 2111244206080.0000 - val_MSE: 2111244206080.0000\n",
            "Epoch 31/100\n",
            "93/93 [==============================] - 0s 2ms/step - loss: 2520069781111.8296 - MSE: 2520069781111.8296 - val_loss: 2111243550720.0000 - val_MSE: 2111243550720.0000\n",
            "Epoch 32/100\n",
            "93/93 [==============================] - 0s 2ms/step - loss: 2615441955643.9150 - MSE: 2615441955643.9150 - val_loss: 2111242895360.0000 - val_MSE: 2111242895360.0000\n",
            "Epoch 33/100\n",
            "93/93 [==============================] - 0s 2ms/step - loss: 2506073795823.6597 - MSE: 2506073795823.6597 - val_loss: 2111242108928.0000 - val_MSE: 2111242108928.0000\n",
            "Epoch 34/100\n",
            "93/93 [==============================] - 0s 2ms/step - loss: 2734723995778.7236 - MSE: 2734723995778.7236 - val_loss: 2111241453568.0000 - val_MSE: 2111241453568.0000\n",
            "Epoch 35/100\n",
            "93/93 [==============================] - 0s 2ms/step - loss: 2828606945585.0215 - MSE: 2828606945585.0215 - val_loss: 2111240798208.0000 - val_MSE: 2111240798208.0000\n",
            "Epoch 36/100\n",
            "93/93 [==============================] - 0s 2ms/step - loss: 2364342412832.6807 - MSE: 2364342412832.6807 - val_loss: 2111240142848.0000 - val_MSE: 2111240011776.0000\n",
            "Epoch 37/100\n",
            "93/93 [==============================] - 0s 2ms/step - loss: 2323793591274.2129 - MSE: 2323793591274.2129 - val_loss: 2111239094272.0000 - val_MSE: 2111239094272.0000\n",
            "Epoch 38/100\n",
            "93/93 [==============================] - 0s 2ms/step - loss: 2396812314667.5747 - MSE: 2396812314667.5747 - val_loss: 2111238438912.0000 - val_MSE: 2111238438912.0000\n",
            "Epoch 39/100\n",
            "93/93 [==============================] - 0s 2ms/step - loss: 2337805150425.8726 - MSE: 2337805150425.8726 - val_loss: 2111237783552.0000 - val_MSE: 2111237783552.0000\n",
            "Epoch 40/100\n",
            "93/93 [==============================] - 0s 2ms/step - loss: 2362211383601.0215 - MSE: 2362211383601.0215 - val_loss: 2111237259264.0000 - val_MSE: 2111237259264.0000\n",
            "Epoch 41/100\n",
            "93/93 [==============================] - 0s 2ms/step - loss: 2284082038130.3828 - MSE: 2284082038130.3828 - val_loss: 2111236603904.0000 - val_MSE: 2111236603904.0000\n",
            "Epoch 42/100\n",
            "93/93 [==============================] - 0s 2ms/step - loss: 2490618860652.9360 - MSE: 2490618860652.9360 - val_loss: 2111235948544.0000 - val_MSE: 2111235948544.0000\n",
            "Epoch 43/100\n",
            "93/93 [==============================] - 0s 2ms/step - loss: 2409915592268.2554 - MSE: 2409915592268.2554 - val_loss: 2111235031040.0000 - val_MSE: 2111235031040.0000\n",
            "Epoch 44/100\n",
            "93/93 [==============================] - 0s 2ms/step - loss: 2677998831310.9785 - MSE: 2677998831310.9785 - val_loss: 2111234244608.0000 - val_MSE: 2111234244608.0000\n",
            "Epoch 45/100\n",
            "93/93 [==============================] - 0s 2ms/step - loss: 2983776384980.4253 - MSE: 2983776384980.4253 - val_loss: 2111233589248.0000 - val_MSE: 2111233589248.0000\n",
            "Epoch 46/100\n",
            "93/93 [==============================] - 0s 2ms/step - loss: 2337807986600.8511 - MSE: 2337807986600.8511 - val_loss: 2111232933888.0000 - val_MSE: 2111232933888.0000\n",
            "Epoch 47/100\n",
            "93/93 [==============================] - 0s 2ms/step - loss: 2516547385649.0215 - MSE: 2516547385649.0215 - val_loss: 2111232147456.0000 - val_MSE: 2111232147456.0000\n",
            "Epoch 48/100\n",
            "93/93 [==============================] - 0s 2ms/step - loss: 2431587474584.5107 - MSE: 2431587474584.5107 - val_loss: 2111231492096.0000 - val_MSE: 2111231492096.0000\n",
            "Epoch 49/100\n",
            "93/93 [==============================] - 0s 2ms/step - loss: 2539313048467.0640 - MSE: 2539313048467.0640 - val_loss: 2111230836736.0000 - val_MSE: 2111230836736.0000\n",
            "Epoch 50/100\n",
            "93/93 [==============================] - 0s 2ms/step - loss: 2321460077415.4893 - MSE: 2321460077415.4893 - val_loss: 2111229788160.0000 - val_MSE: 2111229788160.0000\n",
            "Epoch 51/100\n",
            "93/93 [==============================] - 0s 2ms/step - loss: 2719269722939.9150 - MSE: 2719269722939.9150 - val_loss: 2111229526016.0000 - val_MSE: 2111229526016.0000\n",
            "Epoch 52/100\n",
            "93/93 [==============================] - 0s 2ms/step - loss: 2425713845444.0850 - MSE: 2425713845444.0850 - val_loss: 2111228739584.0000 - val_MSE: 2111228739584.0000\n",
            "Epoch 53/100\n",
            "93/93 [==============================] - 0s 2ms/step - loss: 2573939747731.0640 - MSE: 2573939747731.0640 - val_loss: 2111227822080.0000 - val_MSE: 2111227822080.0000\n",
            "Epoch 54/100\n",
            "93/93 [==============================] - 0s 2ms/step - loss: 2382099030887.4893 - MSE: 2382099030887.4893 - val_loss: 2111227035648.0000 - val_MSE: 2111227035648.0000\n",
            "Epoch 55/100\n",
            "93/93 [==============================] - 0s 2ms/step - loss: 2678023422649.1914 - MSE: 2678023422649.1914 - val_loss: 2111226380288.0000 - val_MSE: 2111226380288.0000\n",
            "Epoch 56/100\n",
            "93/93 [==============================] - 0s 2ms/step - loss: 2498092989069.6172 - MSE: 2498092989069.6172 - val_loss: 2111225724928.0000 - val_MSE: 2111225724928.0000\n",
            "Epoch 57/100\n",
            "93/93 [==============================] - 0s 2ms/step - loss: 2505680024859.2339 - MSE: 2505680024859.2339 - val_loss: 2111225069568.0000 - val_MSE: 2111225069568.0000\n",
            "Epoch 58/100\n",
            "93/93 [==============================] - 0s 2ms/step - loss: 2824768881337.1914 - MSE: 2824768881337.1914 - val_loss: 2111224283136.0000 - val_MSE: 2111224283136.0000\n",
            "Epoch 59/100\n",
            "93/93 [==============================] - 0s 2ms/step - loss: 2351524975376.3403 - MSE: 2351524975376.3403 - val_loss: 2111223365632.0000 - val_MSE: 2111223365632.0000\n",
            "Epoch 60/100\n",
            "93/93 [==============================] - 0s 2ms/step - loss: 2978271676110.9785 - MSE: 2978271676110.9785 - val_loss: 2111222710272.0000 - val_MSE: 2111222710272.0000\n",
            "Epoch 61/100\n",
            "93/93 [==============================] - 0s 2ms/step - loss: 2642326816811.5747 - MSE: 2642326816811.5747 - val_loss: 2111221923840.0000 - val_MSE: 2111221923840.0000\n",
            "Epoch 62/100\n",
            "93/93 [==============================] - 0s 2ms/step - loss: 2744794837602.0425 - MSE: 2744794837602.0425 - val_loss: 2111221399552.0000 - val_MSE: 2111221399552.0000\n",
            "Epoch 63/100\n",
            "93/93 [==============================] - 0s 2ms/step - loss: 2617938228855.8296 - MSE: 2617938228855.8296 - val_loss: 2111220350976.0000 - val_MSE: 2111220350976.0000\n",
            "Epoch 64/100\n",
            "93/93 [==============================] - 0s 2ms/step - loss: 2409341667022.9785 - MSE: 2409341667022.9785 - val_loss: 2111219957760.0000 - val_MSE: 2111219957760.0000\n",
            "Epoch 65/100\n",
            "93/93 [==============================] - 0s 2ms/step - loss: 2808982789969.7021 - MSE: 2808982789969.7021 - val_loss: 2111219302400.0000 - val_MSE: 2111219302400.0000\n",
            "Epoch 66/100\n",
            "93/93 [==============================] - 0s 2ms/step - loss: 2719471724413.2764 - MSE: 2719471724413.2764 - val_loss: 2111218253824.0000 - val_MSE: 2111218253824.0000\n",
            "Epoch 67/100\n",
            "93/93 [==============================] - 0s 2ms/step - loss: 2240219529564.5957 - MSE: 2240219529564.5957 - val_loss: 2111217598464.0000 - val_MSE: 2111217598464.0000\n",
            "Epoch 68/100\n",
            "93/93 [==============================] - 0s 2ms/step - loss: 2713171669950.6382 - MSE: 2713171669950.6382 - val_loss: 2111217205248.0000 - val_MSE: 2111217205248.0000\n",
            "Epoch 69/100\n",
            "93/93 [==============================] - 0s 2ms/step - loss: 2667022677972.4253 - MSE: 2667022677972.4253 - val_loss: 2111215894528.0000 - val_MSE: 2111215894528.0000\n",
            "Epoch 70/100\n",
            "93/93 [==============================] - 0s 2ms/step - loss: 2369151833545.5317 - MSE: 2369151833545.5317 - val_loss: 2111215501312.0000 - val_MSE: 2111215501312.0000\n",
            "Epoch 71/100\n",
            "93/93 [==============================] - 0s 2ms/step - loss: 2193949178858.2126 - MSE: 2193949178858.2126 - val_loss: 2111214845952.0000 - val_MSE: 2111214845952.0000\n",
            "Epoch 72/100\n",
            "93/93 [==============================] - 0s 2ms/step - loss: 2283062410915.4043 - MSE: 2283062410915.4043 - val_loss: 2111214190592.0000 - val_MSE: 2111214190592.0000\n",
            "Epoch 73/100\n",
            "93/93 [==============================] - 0s 2ms/step - loss: 2266833159538.3828 - MSE: 2266833159538.3828 - val_loss: 2111213535232.0000 - val_MSE: 2111213535232.0000\n",
            "Epoch 74/100\n",
            "93/93 [==============================] - 0s 2ms/step - loss: 2502189793628.5957 - MSE: 2502189793628.5957 - val_loss: 2111213010944.0000 - val_MSE: 2111213010944.0000\n",
            "Epoch 75/100\n",
            "93/93 [==============================] - 0s 2ms/step - loss: 2421139268106.8936 - MSE: 2421139268106.8936 - val_loss: 2111211831296.0000 - val_MSE: 2111211831296.0000\n",
            "Epoch 76/100\n",
            "93/93 [==============================] - 0s 2ms/step - loss: 2366348618991.6597 - MSE: 2366348618991.6597 - val_loss: 2111211307008.0000 - val_MSE: 2111211307008.0000\n",
            "Epoch 77/100\n",
            "93/93 [==============================] - 0s 2ms/step - loss: 2698091672510.6382 - MSE: 2698091672510.6382 - val_loss: 2111210651648.0000 - val_MSE: 2111210651648.0000\n",
            "Epoch 78/100\n",
            "93/93 [==============================] - 0s 2ms/step - loss: 2596265671658.2129 - MSE: 2596265671658.2129 - val_loss: 2111209734144.0000 - val_MSE: 2111209734144.0000\n",
            "Epoch 79/100\n",
            "93/93 [==============================] - 0s 2ms/step - loss: 2573158549547.5747 - MSE: 2573158549547.5747 - val_loss: 2111209078784.0000 - val_MSE: 2111209078784.0000\n",
            "Epoch 80/100\n",
            "93/93 [==============================] - 0s 2ms/step - loss: 2601743796616.1704 - MSE: 2601743796616.1704 - val_loss: 2111208292352.0000 - val_MSE: 2111208292352.0000\n",
            "Epoch 81/100\n",
            "93/93 [==============================] - 0s 2ms/step - loss: 2453878153390.2979 - MSE: 2453878153390.2979 - val_loss: 2111207899136.0000 - val_MSE: 2111207899136.0000\n",
            "Epoch 82/100\n",
            "93/93 [==============================] - 0s 2ms/step - loss: 2500810064220.5957 - MSE: 2500810064220.5957 - val_loss: 2111206981632.0000 - val_MSE: 2111206981632.0000\n",
            "Epoch 83/100\n",
            "93/93 [==============================] - 0s 2ms/step - loss: 2380140251876.7661 - MSE: 2380140251876.7661 - val_loss: 2111206195200.0000 - val_MSE: 2111206195200.0000\n",
            "Epoch 84/100\n",
            "93/93 [==============================] - 0s 2ms/step - loss: 2649841460420.0850 - MSE: 2649841460420.0850 - val_loss: 2111205539840.0000 - val_MSE: 2111205539840.0000\n",
            "Epoch 85/100\n",
            "93/93 [==============================] - 0s 2ms/step - loss: 2259546252135.4893 - MSE: 2259546252135.4893 - val_loss: 2111204622336.0000 - val_MSE: 2111204622336.0000\n",
            "Epoch 86/100\n",
            "93/93 [==============================] - 0s 2ms/step - loss: 2222665310382.2979 - MSE: 2222665310382.2979 - val_loss: 2111204229120.0000 - val_MSE: 2111204229120.0000\n",
            "Epoch 87/100\n",
            "93/93 [==============================] - 0s 2ms/step - loss: 2443964373471.3193 - MSE: 2443964373471.3193 - val_loss: 2111203442688.0000 - val_MSE: 2111203442688.0000\n",
            "Epoch 88/100\n",
            "93/93 [==============================] - 0s 2ms/step - loss: 2423580033721.1914 - MSE: 2423580033721.1914 - val_loss: 2111202525184.0000 - val_MSE: 2111202525184.0000\n",
            "Epoch 89/100\n",
            "93/93 [==============================] - 0s 2ms/step - loss: 2462863811082.8936 - MSE: 2462863811082.8936 - val_loss: 2111201869824.0000 - val_MSE: 2111201869824.0000\n",
            "Epoch 90/100\n",
            "93/93 [==============================] - 0s 2ms/step - loss: 2728109293916.5957 - MSE: 2728109293916.5957 - val_loss: 2111201214464.0000 - val_MSE: 2111201476608.0000\n",
            "Epoch 91/100\n",
            "93/93 [==============================] - 0s 2ms/step - loss: 2333445419618.0425 - MSE: 2333445419618.0425 - val_loss: 2111200165888.0000 - val_MSE: 2111200165888.0000\n",
            "Epoch 92/100\n",
            "93/93 [==============================] - 0s 2ms/step - loss: 2500305450964.4253 - MSE: 2500305450964.4253 - val_loss: 2111199772672.0000 - val_MSE: 2111199772672.0000\n",
            "Epoch 93/100\n",
            "93/93 [==============================] - 0s 2ms/step - loss: 2583117451699.7446 - MSE: 2583117451699.7446 - val_loss: 2111199117312.0000 - val_MSE: 2111199117312.0000\n",
            "Epoch 94/100\n",
            "93/93 [==============================] - 0s 2ms/step - loss: 2673601891393.3618 - MSE: 2673601891393.3618 - val_loss: 2111198330880.0000 - val_MSE: 2111198330880.0000\n",
            "Epoch 95/100\n",
            "93/93 [==============================] - 0s 2ms/step - loss: 2776505460256.6807 - MSE: 2776505460256.6807 - val_loss: 2111197675520.0000 - val_MSE: 2111197675520.0000\n",
            "Epoch 96/100\n",
            "93/93 [==============================] - 0s 2ms/step - loss: 2734738818069.7871 - MSE: 2734738818069.7871 - val_loss: 2111197020160.0000 - val_MSE: 2111197020160.0000\n",
            "Epoch 97/100\n",
            "93/93 [==============================] - 0s 2ms/step - loss: 2642048438010.5532 - MSE: 2642048438010.5532 - val_loss: 2111196364800.0000 - val_MSE: 2111196364800.0000\n",
            "Epoch 98/100\n",
            "93/93 [==============================] - 0s 2ms/step - loss: 2221934320443.9150 - MSE: 2221934320443.9150 - val_loss: 2111195578368.0000 - val_MSE: 2111195578368.0000\n",
            "Epoch 99/100\n",
            "93/93 [==============================] - 0s 2ms/step - loss: 2487137822589.2764 - MSE: 2487137822589.2764 - val_loss: 2111194660864.0000 - val_MSE: 2111194660864.0000\n",
            "Epoch 100/100\n",
            "93/93 [==============================] - 0s 2ms/step - loss: 2481828595058.3828 - MSE: 2481828595058.3828 - val_loss: 2111194005504.0000 - val_MSE: 2111194005504.0000\n"
          ],
          "name": "stdout"
        }
      ]
    },
    {
      "cell_type": "code",
      "metadata": {
        "id": "Xog3ZeboRN3J",
        "colab": {
          "base_uri": "https://localhost:8080/"
        },
        "outputId": "f9bff664-c8ba-4dd3-ae5a-27af0e3e5ddf"
      },
      "source": [
        "model.evaluate(X_test, Y_test)[1]"
      ],
      "execution_count": null,
      "outputs": [
        {
          "output_type": "stream",
          "text": [
            "20/20 [==============================] - 0s 1ms/step - loss: 2037461680128.0000 - MSE: 2037461680128.0000\n"
          ],
          "name": "stdout"
        },
        {
          "output_type": "execute_result",
          "data": {
            "text/plain": [
              "2037461680128.0"
            ]
          },
          "metadata": {
            "tags": []
          },
          "execution_count": 139
        }
      ]
    },
    {
      "cell_type": "code",
      "metadata": {
        "id": "2oqNW0TzS48A",
        "colab": {
          "base_uri": "https://localhost:8080/",
          "height": 295
        },
        "outputId": "1728fe8f-e56e-422c-a4a1-f930e15e9218"
      },
      "source": [
        "import matplotlib.pyplot as plt\n",
        "plt.plot(hist.history['loss'])\n",
        "plt.plot(hist.history['val_loss'])\n",
        "plt.title('Model loss')\n",
        "plt.ylabel('Loss')\n",
        "plt.xlabel('Epoch')\n",
        "plt.legend(['Train', 'Val'], loc='upper right')\n",
        "plt.show()"
      ],
      "execution_count": null,
      "outputs": [
        {
          "output_type": "display_data",
          "data": {
            "image/png": "[encoded data removed]",
            "text/plain": [
              "<Figure size 432x288 with 1 Axes>"
            ]
          },
          "metadata": {
            "tags": [],
            "needs_background": "light"
          }
        }
      ]
    }
  ]
}