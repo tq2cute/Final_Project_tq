{
 "cells": [
  {
   "cell_type": "code",
   "execution_count": 58,
   "id": "early-departure",
   "metadata": {},
   "outputs": [],
   "source": [
    "import keras\n",
    "import numpy as np\n",
    "import pandas as pd"
   ]
  },
  {
   "cell_type": "code",
   "execution_count": 59,
   "id": "infinite-biotechnology",
   "metadata": {},
   "outputs": [
    {
     "data": {
      "text/html": [
       "<div>\n",
       "<style scoped>\n",
       "    .dataframe tbody tr th:only-of-type {\n",
       "        vertical-align: middle;\n",
       "    }\n",
       "\n",
       "    .dataframe tbody tr th {\n",
       "        vertical-align: top;\n",
       "    }\n",
       "\n",
       "    .dataframe thead th {\n",
       "        text-align: right;\n",
       "    }\n",
       "</style>\n",
       "<table border=\"1\" class=\"dataframe\">\n",
       "  <thead>\n",
       "    <tr style=\"text-align: right;\">\n",
       "      <th></th>\n",
       "      <th>MLS Number</th>\n",
       "      <th>Street Address</th>\n",
       "      <th>zip_code</th>\n",
       "      <th>county</th>\n",
       "      <th>County_Index</th>\n",
       "      <th>List Price</th>\n",
       "      <th>Sale Price</th>\n",
       "      <th>Age</th>\n",
       "      <th>Sq Ft Total</th>\n",
       "      <th>Lot Size</th>\n",
       "      <th>Days On Market</th>\n",
       "      <th>Listing Date</th>\n",
       "      <th>Sale Date</th>\n",
       "      <th>Year Built</th>\n",
       "      <th>Listing Year</th>\n",
       "      <th>Sale Year</th>\n",
       "    </tr>\n",
       "  </thead>\n",
       "  <tbody>\n",
       "    <tr>\n",
       "      <th>0</th>\n",
       "      <td>BA321045593</td>\n",
       "      <td>110 Ralston AVE</td>\n",
       "      <td>94941</td>\n",
       "      <td>Marin</td>\n",
       "      <td>17</td>\n",
       "      <td>1750000</td>\n",
       "      <td>2200000</td>\n",
       "      <td>43</td>\n",
       "      <td>2215</td>\n",
       "      <td>31080.0</td>\n",
       "      <td>4</td>\n",
       "      <td>6/12/2021 0:00</td>\n",
       "      <td>6/16/2021 0:00</td>\n",
       "      <td>1978</td>\n",
       "      <td>2021</td>\n",
       "      <td>2021</td>\n",
       "    </tr>\n",
       "    <tr>\n",
       "      <th>1</th>\n",
       "      <td>BA321051684</td>\n",
       "      <td>526 Sandy</td>\n",
       "      <td>94510</td>\n",
       "      <td>Solano</td>\n",
       "      <td>14</td>\n",
       "      <td>795000</td>\n",
       "      <td>865000</td>\n",
       "      <td>43</td>\n",
       "      <td>1579</td>\n",
       "      <td>14375.0</td>\n",
       "      <td>12</td>\n",
       "      <td>6/11/2021 0:00</td>\n",
       "      <td>6/23/2021 0:00</td>\n",
       "      <td>1978</td>\n",
       "      <td>2021</td>\n",
       "      <td>2021</td>\n",
       "    </tr>\n",
       "    <tr>\n",
       "      <th>2</th>\n",
       "      <td>BA321056825</td>\n",
       "      <td>1079 W Verano AVE</td>\n",
       "      <td>95476</td>\n",
       "      <td>Sonoma</td>\n",
       "      <td>13</td>\n",
       "      <td>1285000</td>\n",
       "      <td>1300000</td>\n",
       "      <td>57</td>\n",
       "      <td>1353</td>\n",
       "      <td>12632.0</td>\n",
       "      <td>2</td>\n",
       "      <td>6/24/2021 0:00</td>\n",
       "      <td>6/26/2021 0:00</td>\n",
       "      <td>1964</td>\n",
       "      <td>2021</td>\n",
       "      <td>2021</td>\n",
       "    </tr>\n",
       "    <tr>\n",
       "      <th>3</th>\n",
       "      <td>BE40953648</td>\n",
       "      <td>37071 Elm St</td>\n",
       "      <td>94536</td>\n",
       "      <td>Alameda</td>\n",
       "      <td>5</td>\n",
       "      <td>1348888</td>\n",
       "      <td>1575000</td>\n",
       "      <td>59</td>\n",
       "      <td>2011</td>\n",
       "      <td>9744.0</td>\n",
       "      <td>6</td>\n",
       "      <td>6/10/2021 0:00</td>\n",
       "      <td>6/16/2021 0:00</td>\n",
       "      <td>1962</td>\n",
       "      <td>2021</td>\n",
       "      <td>2021</td>\n",
       "    </tr>\n",
       "    <tr>\n",
       "      <th>4</th>\n",
       "      <td>CC40954591</td>\n",
       "      <td>1224 Sherlock Way</td>\n",
       "      <td>94521</td>\n",
       "      <td>Contra Costa</td>\n",
       "      <td>4</td>\n",
       "      <td>719000</td>\n",
       "      <td>818000</td>\n",
       "      <td>65</td>\n",
       "      <td>1390</td>\n",
       "      <td>5700.0</td>\n",
       "      <td>5</td>\n",
       "      <td>6/16/2021 0:00</td>\n",
       "      <td>6/21/2021 0:00</td>\n",
       "      <td>1956</td>\n",
       "      <td>2021</td>\n",
       "      <td>2021</td>\n",
       "    </tr>\n",
       "  </tbody>\n",
       "</table>\n",
       "</div>"
      ],
      "text/plain": [
       "    MLS Number      Street Address  zip_code        county  County_Index  \\\n",
       "0  BA321045593    110 Ralston AVE      94941         Marin            17   \n",
       "1  BA321051684          526 Sandy      94510        Solano            14   \n",
       "2  BA321056825  1079 W Verano AVE      95476        Sonoma            13   \n",
       "3   BE40953648       37071 Elm St      94536       Alameda             5   \n",
       "4   CC40954591  1224 Sherlock Way      94521  Contra Costa             4   \n",
       "\n",
       "   List Price  Sale Price  Age  Sq Ft Total  Lot Size  Days On Market  \\\n",
       "0     1750000     2200000   43         2215   31080.0               4   \n",
       "1      795000      865000   43         1579   14375.0              12   \n",
       "2     1285000     1300000   57         1353   12632.0               2   \n",
       "3     1348888     1575000   59         2011    9744.0               6   \n",
       "4      719000      818000   65         1390    5700.0               5   \n",
       "\n",
       "     Listing Date       Sale Date  Year Built  Listing Year  Sale Year  \n",
       "0  6/12/2021 0:00  6/16/2021 0:00        1978          2021       2021  \n",
       "1  6/11/2021 0:00  6/23/2021 0:00        1978          2021       2021  \n",
       "2  6/24/2021 0:00  6/26/2021 0:00        1964          2021       2021  \n",
       "3  6/10/2021 0:00  6/16/2021 0:00        1962          2021       2021  \n",
       "4  6/16/2021 0:00  6/21/2021 0:00        1956          2021       2021  "
      ]
     },
     "execution_count": 59,
     "metadata": {},
     "output_type": "execute_result"
    }
   ],
   "source": [
    "df = pd.read_csv('final_data_sri.csv')\n",
    "df.head()"
   ]
  },
  {
   "cell_type": "code",
   "execution_count": 60,
   "id": "unauthorized-defeat",
   "metadata": {},
   "outputs": [],
   "source": [
    "X = df.drop(columns=['Sale Price','Sale Date','Listing Date','Street Address','county','MLS Number'])\n",
    "Y = df[['Sale Price']]\n",
    "\n"
   ]
  },
  {
   "cell_type": "code",
   "execution_count": 61,
   "id": "practical-paintball",
   "metadata": {},
   "outputs": [
    {
     "name": "stdout",
     "output_type": "stream",
     "text": [
      "      zip_code  County_Index  List Price  Age  Sq Ft Total  Lot Size  \\\n",
      "0        94941            17     1750000   43         2215   31080.0   \n",
      "1        94510            14      795000   43         1579   14375.0   \n",
      "2        95476            13     1285000   57         1353   12632.0   \n",
      "3        94536             5     1348888   59         2011    9744.0   \n",
      "4        94521             4      719000   65         1390    5700.0   \n",
      "...        ...           ...         ...  ...          ...       ...   \n",
      "4185     95677            10      649900   27         2480   11008.0   \n",
      "4186     95762            18      599000    2         1650    4356.0   \n",
      "4187     95691            24      699900   16         3232    6534.0   \n",
      "4188     94568             5     1330000   45         1855    6533.0   \n",
      "4189     91401             0      975000   73         1628    6325.0   \n",
      "\n",
      "      Days On Market  Year Built  Listing Year  Sale Year  \n",
      "0                  4        1978          2021       2021  \n",
      "1                 12        1978          2021       2021  \n",
      "2                  2        1964          2021       2021  \n",
      "3                  6        1962          2021       2021  \n",
      "4                  5        1956          2021       2021  \n",
      "...              ...         ...           ...        ...  \n",
      "4185               4        1994          2021       2021  \n",
      "4186              11        2019          2021       2021  \n",
      "4187              12        2005          2021       2021  \n",
      "4188               4        1976          2021       2021  \n",
      "4189               5        1948          2021       2021  \n",
      "\n",
      "[4190 rows x 10 columns]\n"
     ]
    }
   ],
   "source": [
    "print(X)"
   ]
  },
  {
   "cell_type": "code",
   "execution_count": 66,
   "id": "linear-camcorder",
   "metadata": {},
   "outputs": [
    {
     "name": "stdout",
     "output_type": "stream",
     "text": [
      "      Sale Price\n",
      "0        2200000\n",
      "1         865000\n",
      "2        1300000\n",
      "3        1575000\n",
      "4         818000\n",
      "...          ...\n",
      "4185      690000\n",
      "4186      605000\n",
      "4187      700000\n",
      "4188     1500000\n",
      "4189     1010000\n",
      "\n",
      "[4190 rows x 1 columns]\n"
     ]
    }
   ],
   "source": [
    "print(Y)"
   ]
  },
  {
   "cell_type": "code",
   "execution_count": 62,
   "id": "swedish-mineral",
   "metadata": {},
   "outputs": [],
   "source": [
    "model = keras.models.Sequential()\n",
    "\n",
    "model.add(keras.layers.Dense(10, activation='relu', input_shape=(10,)))\n",
    "model.add(keras.layers.Dense(10, activation='relu'))\n",
    "model.add(keras.layers.Dense(1))\n",
    "\n",
    "model.compile(optimizer='adam', loss='mean_squared_error')"
   ]
  },
  {
   "cell_type": "code",
   "execution_count": 63,
   "id": "controversial-visibility",
   "metadata": {},
   "outputs": [
    {
     "name": "stdout",
     "output_type": "stream",
     "text": [
      "Epoch 1/30\n",
      "131/131 [==============================] - 13s 1ms/step - loss: 2473054813711.5151\n",
      "WARNING:tensorflow:Early stopping conditioned on metric `val_loss` which is not available. Available metrics are: loss\n",
      "Epoch 2/30\n",
      "131/131 [==============================] - 0s 1ms/step - loss: 1387408299845.8181A: 0s - loss: 1409565185085.264\n",
      "WARNING:tensorflow:Early stopping conditioned on metric `val_loss` which is not available. Available metrics are: loss\n",
      "Epoch 3/30\n",
      "131/131 [==============================] - 0s 1ms/step - loss: 452750640593.4545\n",
      "WARNING:tensorflow:Early stopping conditioned on metric `val_loss` which is not available. Available metrics are: loss\n",
      "Epoch 4/30\n",
      "131/131 [==============================] - 0s 1ms/step - loss: 1415448910196.3635\n",
      "WARNING:tensorflow:Early stopping conditioned on metric `val_loss` which is not available. Available metrics are: loss\n",
      "Epoch 5/30\n",
      "131/131 [==============================] - 0s 1ms/step - loss: 969438180328.7273\n",
      "WARNING:tensorflow:Early stopping conditioned on metric `val_loss` which is not available. Available metrics are: loss\n",
      "Epoch 6/30\n",
      "131/131 [==============================] - 0s 1ms/step - loss: 182077615740.1212\n",
      "WARNING:tensorflow:Early stopping conditioned on metric `val_loss` which is not available. Available metrics are: loss\n",
      "Epoch 7/30\n",
      "131/131 [==============================] - 0s 1ms/step - loss: 26982264901.8182\n",
      "WARNING:tensorflow:Early stopping conditioned on metric `val_loss` which is not available. Available metrics are: loss\n",
      "Epoch 8/30\n",
      "131/131 [==============================] - 0s 2ms/step - loss: 20389493806.5455\n",
      "WARNING:tensorflow:Early stopping conditioned on metric `val_loss` which is not available. Available metrics are: loss\n",
      "Epoch 9/30\n",
      "131/131 [==============================] - 0s 3ms/step - loss: 30039806045.0909\n",
      "WARNING:tensorflow:Early stopping conditioned on metric `val_loss` which is not available. Available metrics are: loss\n",
      "Epoch 10/30\n",
      "131/131 [==============================] - 0s 1ms/step - loss: 26273391685.8182\n",
      "WARNING:tensorflow:Early stopping conditioned on metric `val_loss` which is not available. Available metrics are: loss\n",
      "Epoch 11/30\n",
      "131/131 [==============================] - 0s 1ms/step - loss: 14736916526.5455\n",
      "WARNING:tensorflow:Early stopping conditioned on metric `val_loss` which is not available. Available metrics are: loss\n",
      "Epoch 12/30\n",
      "131/131 [==============================] - 0s 1ms/step - loss: 17045023705.2121\n",
      "WARNING:tensorflow:Early stopping conditioned on metric `val_loss` which is not available. Available metrics are: loss\n",
      "Epoch 13/30\n",
      "131/131 [==============================] - 0s 1ms/step - loss: 17590925870.5455\n",
      "WARNING:tensorflow:Early stopping conditioned on metric `val_loss` which is not available. Available metrics are: loss\n",
      "Epoch 14/30\n",
      "131/131 [==============================] - 0s 1ms/step - loss: 16302110665.6970\n",
      "WARNING:tensorflow:Early stopping conditioned on metric `val_loss` which is not available. Available metrics are: loss\n",
      "Epoch 15/30\n",
      "131/131 [==============================] - 0s 1ms/step - loss: 16995194026.6667\n",
      "WARNING:tensorflow:Early stopping conditioned on metric `val_loss` which is not available. Available metrics are: loss\n",
      "Epoch 16/30\n",
      "131/131 [==============================] - 0s 1ms/step - loss: 26238045292.6061\n",
      "WARNING:tensorflow:Early stopping conditioned on metric `val_loss` which is not available. Available metrics are: loss\n",
      "Epoch 17/30\n",
      "131/131 [==============================] - 0s 3ms/step - loss: 14587126171.1515\n",
      "WARNING:tensorflow:Early stopping conditioned on metric `val_loss` which is not available. Available metrics are: loss\n",
      "Epoch 18/30\n",
      "131/131 [==============================] - 0s 2ms/step - loss: 16831803399.7576\n",
      "WARNING:tensorflow:Early stopping conditioned on metric `val_loss` which is not available. Available metrics are: loss\n",
      "Epoch 19/30\n",
      "131/131 [==============================] - 0s 1ms/step - loss: 19222751441.4545\n",
      "WARNING:tensorflow:Early stopping conditioned on metric `val_loss` which is not available. Available metrics are: loss\n",
      "Epoch 20/30\n",
      "131/131 [==============================] - 0s 3ms/step - loss: 33339858269.0909\n",
      "WARNING:tensorflow:Early stopping conditioned on metric `val_loss` which is not available. Available metrics are: loss\n",
      "Epoch 21/30\n",
      "131/131 [==============================] - 0s 1ms/step - loss: 793252546497.9395\n",
      "WARNING:tensorflow:Early stopping conditioned on metric `val_loss` which is not available. Available metrics are: loss\n",
      "Epoch 22/30\n",
      "131/131 [==============================] - 0s 3ms/step - loss: 79144953433.2121\n",
      "WARNING:tensorflow:Early stopping conditioned on metric `val_loss` which is not available. Available metrics are: loss\n",
      "Epoch 23/30\n",
      "131/131 [==============================] - 0s 2ms/step - loss: 32017503371.6364\n",
      "WARNING:tensorflow:Early stopping conditioned on metric `val_loss` which is not available. Available metrics are: loss\n",
      "Epoch 24/30\n",
      "131/131 [==============================] - 0s 1ms/step - loss: 16269349154.9091\n",
      "WARNING:tensorflow:Early stopping conditioned on metric `val_loss` which is not available. Available metrics are: loss\n",
      "Epoch 25/30\n",
      "131/131 [==============================] - 0s 1ms/step - loss: 15218344859.1515\n",
      "WARNING:tensorflow:Early stopping conditioned on metric `val_loss` which is not available. Available metrics are: loss\n",
      "Epoch 26/30\n",
      "131/131 [==============================] - 0s 1ms/step - loss: 16064876699.1515\n",
      "WARNING:tensorflow:Early stopping conditioned on metric `val_loss` which is not available. Available metrics are: loss\n",
      "Epoch 27/30\n",
      "131/131 [==============================] - 0s 1ms/step - loss: 19323452152.2424\n",
      "WARNING:tensorflow:Early stopping conditioned on metric `val_loss` which is not available. Available metrics are: loss\n",
      "Epoch 28/30\n",
      "131/131 [==============================] - 0s 1ms/step - loss: 153413512626.4243\n",
      "WARNING:tensorflow:Early stopping conditioned on metric `val_loss` which is not available. Available metrics are: loss\n",
      "Epoch 29/30\n",
      "131/131 [==============================] - 0s 1ms/step - loss: 37229344287.0303\n",
      "WARNING:tensorflow:Early stopping conditioned on metric `val_loss` which is not available. Available metrics are: loss\n",
      "Epoch 30/30\n",
      "131/131 [==============================] - 0s 1ms/step - loss: 15735420322.9091\n",
      "WARNING:tensorflow:Early stopping conditioned on metric `val_loss` which is not available. Available metrics are: loss\n"
     ]
    },
    {
     "data": {
      "text/plain": [
       "<keras.callbacks.History at 0x23f1f9880a0>"
      ]
     },
     "execution_count": 63,
     "metadata": {},
     "output_type": "execute_result"
    }
   ],
   "source": [
    "model.fit(X, Y, epochs=30, callbacks=[keras.callbacks.EarlyStopping(patience=3)])\n"
   ]
  },
  {
   "cell_type": "code",
   "execution_count": 64,
   "id": "invisible-friendly",
   "metadata": {},
   "outputs": [
    {
     "name": "stdout",
     "output_type": "stream",
     "text": [
      "[[1874200.1]]\n"
     ]
    }
   ],
   "source": [
    "test_data = np.array([94941,17,1750000,43,2215,31080.0,4,1978,2021,2021])\n",
    "print(model.predict(test_data.reshape(1,10), batch_size=1))"
   ]
  },
  {
   "cell_type": "code",
   "execution_count": 65,
   "id": "difficult-remainder",
   "metadata": {
    "scrolled": true
   },
   "outputs": [
    {
     "name": "stdout",
     "output_type": "stream",
     "text": [
      "[[1060261.4]]\n"
     ]
    }
   ],
   "source": [
    "test_data = np.array([ 91401,0,975000,73,1628,6325.0,5,1948,2021,2021])\n",
    "print(model.predict(test_data.reshape(1,10), batch_size=1))"
   ]
  },
  {
   "cell_type": "code",
   "execution_count": null,
   "id": "alpine-cuisine",
   "metadata": {},
   "outputs": [],
   "source": []
  }
 ],
 "metadata": {
  "kernelspec": {
   "display_name": "PythonData",
   "language": "python",
   "name": "pythondata"
  },
  "language_info": {
   "codemirror_mode": {
    "name": "ipython",
    "version": 3
   },
   "file_extension": ".py",
   "mimetype": "text/x-python",
   "name": "python",
   "nbconvert_exporter": "python",
   "pygments_lexer": "ipython3",
   "version": "3.8.5"
  }
 },
 "nbformat": 4,
 "nbformat_minor": 5
}
