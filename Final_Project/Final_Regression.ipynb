{
  "nbformat": 4,
  "nbformat_minor": 0,
  "metadata": {
    "colab": {
      "name": "Final_Regression.ipynb",
      "provenance": [],
      "collapsed_sections": []
    },
    "kernelspec": {
      "name": "python3",
      "display_name": "Python 3"
    },
    "language_info": {
      "name": "python"
    }
  },
  "cells": [
    {
      "cell_type": "code",
      "metadata": {
        "colab": {
          "base_uri": "https://localhost:8080/"
        },
        "id": "lFv5-T_zupnd",
        "outputId": "cec7b61e-6814-413b-b468-df5b8699b36c"
      },
      "source": [
        "import os\n",
        "# Find the latest version of spark 3.0  from http://www.apache.org/dist/spark/ and enter as the spark version\n",
        "# For example:\n",
        "spark_version = 'spark-3.0.3'\n",
        "#spark_version = 'spark-3.<enter version>'\n",
        "os.environ['SPARK_VERSION']=spark_version\n",
        "\n",
        "# Install Spark and Java\n",
        "!apt-get update\n",
        "!apt-get install openjdk-11-jdk-headless -qq > /dev/null\n",
        "!wget -q http://www.apache.org/dist/spark/$SPARK_VERSION/$SPARK_VERSION-bin-hadoop2.7.tgz\n",
        "!tar xf $SPARK_VERSION-bin-hadoop2.7.tgz\n",
        "!pip install -q findspark\n",
        "\n",
        "# Set Environment Variables\n",
        "import os\n",
        "os.environ[\"JAVA_HOME\"] = \"/usr/lib/jvm/java-11-openjdk-amd64\"\n",
        "os.environ[\"SPARK_HOME\"] = f\"/content/{spark_version}-bin-hadoop2.7\"\n",
        "\n",
        "# Start a SparkSession\n",
        "import findspark\n",
        "findspark.init()"
      ],
      "execution_count": 1,
      "outputs": [
        {
          "output_type": "stream",
          "text": [
            "\r0% [Working]\r            \rHit:1 https://cloud.r-project.org/bin/linux/ubuntu bionic-cran40/ InRelease\n",
            "Ign:2 https://developer.download.nvidia.com/compute/cuda/repos/ubuntu1804/x86_64  InRelease\n",
            "Get:3 http://security.ubuntu.com/ubuntu bionic-security InRelease [88.7 kB]\n",
            "Ign:4 https://developer.download.nvidia.com/compute/machine-learning/repos/ubuntu1804/x86_64  InRelease\n",
            "Hit:5 https://developer.download.nvidia.com/compute/cuda/repos/ubuntu1804/x86_64  Release\n",
            "Hit:6 https://developer.download.nvidia.com/compute/machine-learning/repos/ubuntu1804/x86_64  Release\n",
            "Hit:7 http://ppa.launchpad.net/c2d4u.team/c2d4u4.0+/ubuntu bionic InRelease\n",
            "Hit:9 http://archive.ubuntu.com/ubuntu bionic InRelease\n",
            "Hit:11 http://ppa.launchpad.net/cran/libgit2/ubuntu bionic InRelease\n",
            "Get:12 http://archive.ubuntu.com/ubuntu bionic-updates InRelease [88.7 kB]\n",
            "Hit:13 http://ppa.launchpad.net/deadsnakes/ppa/ubuntu bionic InRelease\n",
            "Get:14 http://archive.ubuntu.com/ubuntu bionic-backports InRelease [74.6 kB]\n",
            "Hit:15 http://ppa.launchpad.net/graphics-drivers/ppa/ubuntu bionic InRelease\n",
            "Fetched 252 kB in 3s (98.7 kB/s)\n",
            "Reading package lists... Done\n"
          ],
          "name": "stdout"
        }
      ]
    },
    {
      "cell_type": "code",
      "metadata": {
        "id": "Chcx1Hb5vNuS",
        "colab": {
          "base_uri": "https://localhost:8080/"
        },
        "outputId": "96597288-ffd0-4717-c0b9-0473d963ec51"
      },
      "source": [
        "# First, enter the following code to download a Postgres driver that will allow Spark to interact with Postgres:\n",
        "!wget https://jdbc.postgresql.org/download/postgresql-42.2.16.jar"
      ],
      "execution_count": 2,
      "outputs": [
        {
          "output_type": "stream",
          "text": [
            "--2021-08-13 00:44:10--  https://jdbc.postgresql.org/download/postgresql-42.2.16.jar\n",
            "Resolving jdbc.postgresql.org (jdbc.postgresql.org)... 72.32.157.228, 2001:4800:3e1:1::228\n",
            "Connecting to jdbc.postgresql.org (jdbc.postgresql.org)|72.32.157.228|:443... connected.\n",
            "HTTP request sent, awaiting response... 200 OK\n",
            "Length: 1002883 (979K) [application/java-archive]\n",
            "Saving to: ‘postgresql-42.2.16.jar.7’\n",
            "\n",
            "postgresql-42.2.16. 100%[===================>] 979.38K  1.21MB/s    in 0.8s    \n",
            "\n",
            "2021-08-13 00:44:11 (1.21 MB/s) - ‘postgresql-42.2.16.jar.7’ saved [1002883/1002883]\n",
            "\n"
          ],
          "name": "stdout"
        }
      ]
    },
    {
      "cell_type": "code",
      "metadata": {
        "id": "x1fG3JpHGtlD"
      },
      "source": [
        "from pyspark.sql import SparkSession\n",
        "spark = SparkSession.builder.appName(\"Final_Regression\").config(\"spark.driver.extraClassPath\",\"/content/postgresql-42.2.16.jar\").getOrCreate()"
      ],
      "execution_count": 3,
      "outputs": []
    },
    {
      "cell_type": "code",
      "metadata": {
        "id": "L9WRF-EGf86x"
      },
      "source": [
        "# Load in a sql functions\n",
        "# Import our dependencies\n",
        "import numpy as np\n",
        "import pandas as pd\n",
        "import seaborn as sns\n",
        "\n",
        "%matplotlib inline\n",
        "from sklearn.model_selection import train_test_split\n",
        "from sklearn.preprocessing import StandardScaler, OneHotEncoder\n",
        "\n",
        "import tensorflow as tf\n",
        "\n",
        "from pyspark.sql.functions import col, avg, sum, count, rand, randn, to_timestamp, to_date, date_format, sqrt\n",
        "from pyspark.sql.functions import unix_timestamp, from_unixtime\n",
        "\n",
        "# Import libraries\n",
        "from pathlib import Path\n",
        "import matplotlib.pyplot as plt\n",
        "from sklearn.linear_model import LinearRegression"
      ],
      "execution_count": 4,
      "outputs": []
    },
    {
      "cell_type": "code",
      "metadata": {
        "id": "kbZk5lFRFR6p",
        "colab": {
          "base_uri": "https://localhost:8080/"
        },
        "outputId": "04b5ac1b-ad12-4ece-8289-d0395ea0a46c"
      },
      "source": [
        "# Read in data from S3 Buckets\n",
        "from pyspark import SparkFiles\n",
        "url = \"https://tq2cutebucket.s3.us-west-1.amazonaws.com/final_data.csv\"\n",
        "spark.sparkContext.addFile(url)\n",
        "df = spark.read.option(\"encoding\", \"UTF-8\").csv(SparkFiles.get(\"final_data.csv\"), sep=\",\", header=True, inferSchema=True)\n",
        "df.show(5)\n",
        "df.count()"
      ],
      "execution_count": 5,
      "outputs": [
        {
          "output_type": "stream",
          "text": [
            "+-----------+--------------------+----------+--------+----------+------------+---------+--------+---+----------+---------+---------+---------+---+---------+---------+----------+----------+--------------+--------------+----------+\n",
            "| MLS_Number|      Street_Address|      City|Zip_Code|    county|County_Index|SqFtTotal|Lot_Size|Age|BathsTotal|BedsTotal|BathsFull|BathsHalf|DOM|Year_List|Year_Sold|List_Price|Sale_Price|  Listing_Date|     Sale_Date|Year_Built|\n",
            "+-----------+--------------------+----------+--------+----------+------------+---------+--------+---+----------+---------+---------+---------+---+---------+---------+----------+----------+--------------+--------------+----------+\n",
            "| BE40950609|   2724 Foxglove Ct |Pleasanton|   94588|   Alameda|           8|     2051|  2949.0| 23|         3|        4|        2|        1|  6|     2021|     2021|   1450000|   1625000|5/19/2021 0:00|5/25/2021 0:00|      1998|\n",
            "| ML81845215|  7873 Chestnut WAY |Pleasanton|   94588|   Alameda|           8|     1650|  7763.0| 48|         2|        4|        2|        0|  8|     2021|     2021|   1228888|   1650000|5/21/2021 0:00|5/29/2021 0:00|      1973|\n",
            "|ME202001823|3252 Rogue River DR |     Chico|   95973|     Butte|          11|     2216|  6098.0|  6|         2|        4|        2|        0| 37|     2020|     2020|    489000|    484000|6/18/2020 0:00|7/25/2020 0:00|      2015|\n",
            "|ME221053072|   6014 Steadman PL | Elk Grove|   95758|Sacramento|           4|     1404|  8346.0| 29|         2|        3|        2|        0|  2|     2021|     2021|    520000|    520000|5/17/2021 0:00|5/19/2021 0:00|      1992|\n",
            "|ME221054463|5834 Valley Sprin...| Elk Grove|   95758|Sacramento|           4|     2574|  6726.0| 32|         3|        4|        3|        0|  5|     2021|     2021|    559999|    595000|5/20/2021 0:00|5/25/2021 0:00|      1989|\n",
            "+-----------+--------------------+----------+--------+----------+------------+---------+--------+---+----------+---------+---------+---------+---+---------+---------+----------+----------+--------------+--------------+----------+\n",
            "only showing top 5 rows\n",
            "\n"
          ],
          "name": "stdout"
        },
        {
          "output_type": "execute_result",
          "data": {
            "text/plain": [
              "4225"
            ]
          },
          "metadata": {
            "tags": []
          },
          "execution_count": 5
        }
      ]
    },
    {
      "cell_type": "code",
      "metadata": {
        "colab": {
          "base_uri": "https://localhost:8080/"
        },
        "id": "BguLxFOQnce6",
        "outputId": "316ec349-a8d9-4488-dd14-c337035f9f49"
      },
      "source": [
        "# Drop null values\n",
        "# This is a safety step in case the data is not perfect\n",
        "df = df.dropDuplicates(['MLS_Number','Street_Address','City','Zip_Code','county','County_Index','SqFtTotal','Lot_Size','BedsTotal','BathsTotal','BathsFull','BathsHalf','Year_Built','List_Price','Sale_Price'])\n",
        "df = df.sort(\"MLS_Number\")\n",
        "df.show(5)\n",
        "df.count()"
      ],
      "execution_count": 6,
      "outputs": [
        {
          "output_type": "stream",
          "text": [
            "+-----------+--------------------+---------+--------+------+------------+---------+--------+---+----------+---------+---------+---------+---+---------+---------+----------+----------+--------------+--------------+----------+\n",
            "| MLS_Number|      Street_Address|     City|Zip_Code|county|County_Index|SqFtTotal|Lot_Size|Age|BathsTotal|BedsTotal|BathsFull|BathsHalf|DOM|Year_List|Year_Sold|List_Price|Sale_Price|  Listing_Date|     Sale_Date|Year_Built|\n",
            "+-----------+--------------------+---------+--------+------+------------+---------+--------+---+----------+---------+---------+---------+---+---------+---------+----------+----------+--------------+--------------+----------+\n",
            "|BA321014028|807 Dizzy Gillesp...|  Windsor|   95492|Sonoma|          20|     1520|  4400.0| 22|         2|        3|        2|        0|  0|     2021|     2021|    629000|    650000|5/23/2021 0:00|5/23/2021 0:00|      1999|\n",
            "|BA321014324|  300 Via La Cumbre |Greenbrae|   94904| Marin|          15|     2419|  7479.0| 58|         3|        4|        3|        0|  9|     2021|     2021|   1299000|   1460000|5/18/2021 0:00|5/27/2021 0:00|      1963|\n",
            "|BA321015460|   238 Brookdale DR |Vacaville|   95687|Solano|          16|     1226|  8969.0| 36|         2|        3|        2|        0| 37|     2021|     2021|    449977|    470000| 2/1/2021 0:00|3/10/2021 0:00|      1985|\n",
            "|BA321015670|        2 Alpine RD |   Novato|   94945| Marin|          15|     2892| 43560.0|138|         4|        4|        4|        0|  7|     2021|     2021|   1599000|   1781883|5/18/2021 0:00|5/25/2021 0:00|      1883|\n",
            "|BA321019503|   19355 Orange AVE |   Sonoma|   95476|Sonoma|          20|     2339| 76666.0| 69|         2|        3|        2|        0|  8|     2021|     2021|   1600000|   1650000|5/17/2021 0:00|5/25/2021 0:00|      1952|\n",
            "+-----------+--------------------+---------+--------+------+------------+---------+--------+---+----------+---------+---------+---------+---+---------+---------+----------+----------+--------------+--------------+----------+\n",
            "only showing top 5 rows\n",
            "\n"
          ],
          "name": "stdout"
        },
        {
          "output_type": "execute_result",
          "data": {
            "text/plain": [
              "4225"
            ]
          },
          "metadata": {
            "tags": []
          },
          "execution_count": 6
        }
      ]
    },
    {
      "cell_type": "code",
      "metadata": {
        "colab": {
          "base_uri": "https://localhost:8080/"
        },
        "id": "VsQLq4dTRh0d",
        "outputId": "26d768f2-415f-4b5a-fc16-e16bc96b8a21"
      },
      "source": [
        "# Process the date column (listing date and sale date)\n",
        "#df.select(to_date(df.Sale_Date, 'MM/dd/yyyy HH:mm').alias('date')).show()\n",
        "\n",
        "df = df.withColumn('Sale_Date',to_date(to_timestamp(col('Sale_Date'), 'M/d/yyyy H:mm')))\n",
        "df = df.withColumn('Listing_Date',to_date(to_timestamp(col('Listing_Date'), 'M/d/yyyy H:mm')))\n",
        "\n",
        "df.show(5)"
      ],
      "execution_count": 7,
      "outputs": [
        {
          "output_type": "stream",
          "text": [
            "+-----------+--------------------+---------+--------+------+------------+---------+--------+---+----------+---------+---------+---------+---+---------+---------+----------+----------+------------+----------+----------+\n",
            "| MLS_Number|      Street_Address|     City|Zip_Code|county|County_Index|SqFtTotal|Lot_Size|Age|BathsTotal|BedsTotal|BathsFull|BathsHalf|DOM|Year_List|Year_Sold|List_Price|Sale_Price|Listing_Date| Sale_Date|Year_Built|\n",
            "+-----------+--------------------+---------+--------+------+------------+---------+--------+---+----------+---------+---------+---------+---+---------+---------+----------+----------+------------+----------+----------+\n",
            "|BA321014028|807 Dizzy Gillesp...|  Windsor|   95492|Sonoma|          20|     1520|  4400.0| 22|         2|        3|        2|        0|  0|     2021|     2021|    629000|    650000|  2021-05-23|2021-05-23|      1999|\n",
            "|BA321014324|  300 Via La Cumbre |Greenbrae|   94904| Marin|          15|     2419|  7479.0| 58|         3|        4|        3|        0|  9|     2021|     2021|   1299000|   1460000|  2021-05-18|2021-05-27|      1963|\n",
            "|BA321015460|   238 Brookdale DR |Vacaville|   95687|Solano|          16|     1226|  8969.0| 36|         2|        3|        2|        0| 37|     2021|     2021|    449977|    470000|  2021-02-01|2021-03-10|      1985|\n",
            "|BA321015670|        2 Alpine RD |   Novato|   94945| Marin|          15|     2892| 43560.0|138|         4|        4|        4|        0|  7|     2021|     2021|   1599000|   1781883|  2021-05-18|2021-05-25|      1883|\n",
            "|BA321019503|   19355 Orange AVE |   Sonoma|   95476|Sonoma|          20|     2339| 76666.0| 69|         2|        3|        2|        0|  8|     2021|     2021|   1600000|   1650000|  2021-05-17|2021-05-25|      1952|\n",
            "+-----------+--------------------+---------+--------+------+------------+---------+--------+---+----------+---------+---------+---------+---+---------+---------+----------+----------+------------+----------+----------+\n",
            "only showing top 5 rows\n",
            "\n"
          ],
          "name": "stdout"
        }
      ]
    },
    {
      "cell_type": "code",
      "metadata": {
        "colab": {
          "base_uri": "https://localhost:8080/",
          "height": 203
        },
        "id": "CG1oQPD4SdRR",
        "outputId": "ac5b564e-b43d-4b25-e5c9-33811aec1b90"
      },
      "source": [
        "# Convert data to pandas db\n",
        "reg_pd_df=df.select('county','SqFtTotal','Lot_Size','Age','BathsTotal','BedsTotal','BathsFull','BathsHalf','DOM','Year_Sold','List_Price','Sale_Price').toPandas()\n",
        "#reg_pd_df=df.toPandas()\n",
        "reg_pd_df.head(5)"
      ],
      "execution_count": 8,
      "outputs": [
        {
          "output_type": "execute_result",
          "data": {
            "text/html": [
              "<div>\n",
              "<style scoped>\n",
              "    .dataframe tbody tr th:only-of-type {\n",
              "        vertical-align: middle;\n",
              "    }\n",
              "\n",
              "    .dataframe tbody tr th {\n",
              "        vertical-align: top;\n",
              "    }\n",
              "\n",
              "    .dataframe thead th {\n",
              "        text-align: right;\n",
              "    }\n",
              "</style>\n",
              "<table border=\"1\" class=\"dataframe\">\n",
              "  <thead>\n",
              "    <tr style=\"text-align: right;\">\n",
              "      <th></th>\n",
              "      <th>county</th>\n",
              "      <th>SqFtTotal</th>\n",
              "      <th>Lot_Size</th>\n",
              "      <th>Age</th>\n",
              "      <th>BathsTotal</th>\n",
              "      <th>BedsTotal</th>\n",
              "      <th>BathsFull</th>\n",
              "      <th>BathsHalf</th>\n",
              "      <th>DOM</th>\n",
              "      <th>Year_Sold</th>\n",
              "      <th>List_Price</th>\n",
              "      <th>Sale_Price</th>\n",
              "    </tr>\n",
              "  </thead>\n",
              "  <tbody>\n",
              "    <tr>\n",
              "      <th>0</th>\n",
              "      <td>Sonoma</td>\n",
              "      <td>1520</td>\n",
              "      <td>4400.0</td>\n",
              "      <td>22</td>\n",
              "      <td>2</td>\n",
              "      <td>3</td>\n",
              "      <td>2</td>\n",
              "      <td>0</td>\n",
              "      <td>0</td>\n",
              "      <td>2021</td>\n",
              "      <td>629000</td>\n",
              "      <td>650000</td>\n",
              "    </tr>\n",
              "    <tr>\n",
              "      <th>1</th>\n",
              "      <td>Marin</td>\n",
              "      <td>2419</td>\n",
              "      <td>7479.0</td>\n",
              "      <td>58</td>\n",
              "      <td>3</td>\n",
              "      <td>4</td>\n",
              "      <td>3</td>\n",
              "      <td>0</td>\n",
              "      <td>9</td>\n",
              "      <td>2021</td>\n",
              "      <td>1299000</td>\n",
              "      <td>1460000</td>\n",
              "    </tr>\n",
              "    <tr>\n",
              "      <th>2</th>\n",
              "      <td>Solano</td>\n",
              "      <td>1226</td>\n",
              "      <td>8969.0</td>\n",
              "      <td>36</td>\n",
              "      <td>2</td>\n",
              "      <td>3</td>\n",
              "      <td>2</td>\n",
              "      <td>0</td>\n",
              "      <td>37</td>\n",
              "      <td>2021</td>\n",
              "      <td>449977</td>\n",
              "      <td>470000</td>\n",
              "    </tr>\n",
              "    <tr>\n",
              "      <th>3</th>\n",
              "      <td>Marin</td>\n",
              "      <td>2892</td>\n",
              "      <td>43560.0</td>\n",
              "      <td>138</td>\n",
              "      <td>4</td>\n",
              "      <td>4</td>\n",
              "      <td>4</td>\n",
              "      <td>0</td>\n",
              "      <td>7</td>\n",
              "      <td>2021</td>\n",
              "      <td>1599000</td>\n",
              "      <td>1781883</td>\n",
              "    </tr>\n",
              "    <tr>\n",
              "      <th>4</th>\n",
              "      <td>Sonoma</td>\n",
              "      <td>2339</td>\n",
              "      <td>76666.0</td>\n",
              "      <td>69</td>\n",
              "      <td>2</td>\n",
              "      <td>3</td>\n",
              "      <td>2</td>\n",
              "      <td>0</td>\n",
              "      <td>8</td>\n",
              "      <td>2021</td>\n",
              "      <td>1600000</td>\n",
              "      <td>1650000</td>\n",
              "    </tr>\n",
              "  </tbody>\n",
              "</table>\n",
              "</div>"
            ],
            "text/plain": [
              "   county  SqFtTotal  Lot_Size  Age  ...  DOM  Year_Sold  List_Price  Sale_Price\n",
              "0  Sonoma       1520    4400.0   22  ...    0       2021      629000      650000\n",
              "1   Marin       2419    7479.0   58  ...    9       2021     1299000     1460000\n",
              "2  Solano       1226    8969.0   36  ...   37       2021      449977      470000\n",
              "3   Marin       2892   43560.0  138  ...    7       2021     1599000     1781883\n",
              "4  Sonoma       2339   76666.0   69  ...    8       2021     1600000     1650000\n",
              "\n",
              "[5 rows x 12 columns]"
            ]
          },
          "metadata": {
            "tags": []
          },
          "execution_count": 8
        }
      ]
    },
    {
      "cell_type": "code",
      "metadata": {
        "colab": {
          "base_uri": "https://localhost:8080/"
        },
        "id": "po1cWS6sQTnG",
        "outputId": "86163821-65d3-4b55-9d1d-157b8ab5246b"
      },
      "source": [
        "# Break down county into column of county_county\n",
        "application_cat = reg_pd_df.dtypes[reg_pd_df.dtypes == \"object\"].index.tolist()\n",
        "reg_pd_df[application_cat].nunique()"
      ],
      "execution_count": 9,
      "outputs": [
        {
          "output_type": "execute_result",
          "data": {
            "text/plain": [
              "county    46\n",
              "dtype: int64"
            ]
          },
          "metadata": {
            "tags": []
          },
          "execution_count": 9
        }
      ]
    },
    {
      "cell_type": "code",
      "metadata": {
        "colab": {
          "base_uri": "https://localhost:8080/"
        },
        "id": "hfAEi9_UScPG",
        "outputId": "9fcb7ea3-ee65-4ee3-a90b-d8bc9ec0a0b4"
      },
      "source": [
        "# Look at APPLICATION_TYPE value counts for binning\n",
        "#  YOUR CODE GOES HERE\n",
        "# Check the unique value counts to see if binning is required\n",
        "county_type_counts = reg_pd_df.county.value_counts()\n",
        "county_type_counts"
      ],
      "execution_count": 10,
      "outputs": [
        {
          "output_type": "execute_result",
          "data": {
            "text/plain": [
              "Los Angeles        701\n",
              "Riverside          412\n",
              "Orange             403\n",
              "San Bernardino     282\n",
              "Sacramento         281\n",
              "Contra Costa       237\n",
              "San Diego          237\n",
              "Santa Clara        208\n",
              "Alameda            181\n",
              "Placer             122\n",
              "San Joaquin        104\n",
              "Stanislaus          94\n",
              "Butte               91\n",
              "San Mateo           79\n",
              "San Luis Obispo     75\n",
              "Marin               75\n",
              "Solano              60\n",
              "Ventura             53\n",
              "Yuba                52\n",
              "El Dorado           49\n",
              "Sonoma              44\n",
              "San Francisco       41\n",
              "Merced              39\n",
              "Monterey            37\n",
              "Santa Cruz          34\n",
              "Yolo                31\n",
              "Sutter              29\n",
              "Nevada              26\n",
              "Madera              18\n",
              "Lake                14\n",
              "Santa Barbara       13\n",
              "Napa                13\n",
              "Kern                12\n",
              "San Benito          11\n",
              "Amador              10\n",
              "Mendocino           10\n",
              "Shasta               9\n",
              "Fresno               9\n",
              "Colusa               8\n",
              "Calaveras            7\n",
              "Tuolumne             3\n",
              "Glenn                3\n",
              "Tehama               3\n",
              "Tulare               2\n",
              "Plumas               2\n",
              "Imperial             1\n",
              "Name: county, dtype: int64"
            ]
          },
          "metadata": {
            "tags": []
          },
          "execution_count": 10
        }
      ]
    },
    {
      "cell_type": "code",
      "metadata": {
        "colab": {
          "base_uri": "https://localhost:8080/"
        },
        "id": "_xC285QmUJAQ",
        "outputId": "579bbdc4-0c78-47d3-932d-840f5b833066"
      },
      "source": [
        "# Determine which values to replace if counts are less than ...?\n",
        "#  YOUR CODE GOES HERE\n",
        "# Determine which values to replaceapplication_type_counts\n",
        "replace_county = list(county_type_counts[county_type_counts < 10].index)\n",
        "\n",
        "# Replace in dataframe\n",
        "for app in replace_county:\n",
        "    reg_pd_df.county = reg_pd_df.county.replace(app,\"Other\")\n",
        "    \n",
        "# Check to make sure binning was successful\n",
        "reg_pd_df.county.value_counts()"
      ],
      "execution_count": 11,
      "outputs": [
        {
          "output_type": "execute_result",
          "data": {
            "text/plain": [
              "Los Angeles        701\n",
              "Riverside          412\n",
              "Orange             403\n",
              "San Bernardino     282\n",
              "Sacramento         281\n",
              "San Diego          237\n",
              "Contra Costa       237\n",
              "Santa Clara        208\n",
              "Alameda            181\n",
              "Placer             122\n",
              "San Joaquin        104\n",
              "Stanislaus          94\n",
              "Butte               91\n",
              "San Mateo           79\n",
              "Marin               75\n",
              "San Luis Obispo     75\n",
              "Solano              60\n",
              "Ventura             53\n",
              "Yuba                52\n",
              "El Dorado           49\n",
              "Other               47\n",
              "Sonoma              44\n",
              "San Francisco       41\n",
              "Merced              39\n",
              "Monterey            37\n",
              "Santa Cruz          34\n",
              "Yolo                31\n",
              "Sutter              29\n",
              "Nevada              26\n",
              "Madera              18\n",
              "Lake                14\n",
              "Santa Barbara       13\n",
              "Napa                13\n",
              "Kern                12\n",
              "San Benito          11\n",
              "Amador              10\n",
              "Mendocino           10\n",
              "Name: county, dtype: int64"
            ]
          },
          "metadata": {
            "tags": []
          },
          "execution_count": 11
        }
      ]
    },
    {
      "cell_type": "code",
      "metadata": {
        "colab": {
          "base_uri": "https://localhost:8080/",
          "height": 257
        },
        "id": "0ZtE1DA1V4cS",
        "outputId": "56576e58-aca4-4a35-80eb-2ace6b84fb87"
      },
      "source": [
        "from sklearn.preprocessing import StandardScaler,OneHotEncoder\n",
        "# Create a OneHotEncoder instance\n",
        "enc = OneHotEncoder(sparse=False)\n",
        "\n",
        "# Fit and transform the OneHotEncoder using the categorical variable list\n",
        "encode_df = pd.DataFrame(enc.fit_transform(reg_pd_df[application_cat]))\n",
        "\n",
        "\n",
        "# Add the encoded variable names to the dataframe\n",
        "encode_df.columns = enc.get_feature_names(application_cat)\n",
        "encode_df.head()"
      ],
      "execution_count": 12,
      "outputs": [
        {
          "output_type": "execute_result",
          "data": {
            "text/html": [
              "<div>\n",
              "<style scoped>\n",
              "    .dataframe tbody tr th:only-of-type {\n",
              "        vertical-align: middle;\n",
              "    }\n",
              "\n",
              "    .dataframe tbody tr th {\n",
              "        vertical-align: top;\n",
              "    }\n",
              "\n",
              "    .dataframe thead th {\n",
              "        text-align: right;\n",
              "    }\n",
              "</style>\n",
              "<table border=\"1\" class=\"dataframe\">\n",
              "  <thead>\n",
              "    <tr style=\"text-align: right;\">\n",
              "      <th></th>\n",
              "      <th>county_Alameda</th>\n",
              "      <th>county_Amador</th>\n",
              "      <th>county_Butte</th>\n",
              "      <th>county_Contra Costa</th>\n",
              "      <th>county_El Dorado</th>\n",
              "      <th>county_Kern</th>\n",
              "      <th>county_Lake</th>\n",
              "      <th>county_Los Angeles</th>\n",
              "      <th>county_Madera</th>\n",
              "      <th>county_Marin</th>\n",
              "      <th>county_Mendocino</th>\n",
              "      <th>county_Merced</th>\n",
              "      <th>county_Monterey</th>\n",
              "      <th>county_Napa</th>\n",
              "      <th>county_Nevada</th>\n",
              "      <th>county_Orange</th>\n",
              "      <th>county_Other</th>\n",
              "      <th>county_Placer</th>\n",
              "      <th>county_Riverside</th>\n",
              "      <th>county_Sacramento</th>\n",
              "      <th>county_San Benito</th>\n",
              "      <th>county_San Bernardino</th>\n",
              "      <th>county_San Diego</th>\n",
              "      <th>county_San Francisco</th>\n",
              "      <th>county_San Joaquin</th>\n",
              "      <th>county_San Luis Obispo</th>\n",
              "      <th>county_San Mateo</th>\n",
              "      <th>county_Santa Barbara</th>\n",
              "      <th>county_Santa Clara</th>\n",
              "      <th>county_Santa Cruz</th>\n",
              "      <th>county_Solano</th>\n",
              "      <th>county_Sonoma</th>\n",
              "      <th>county_Stanislaus</th>\n",
              "      <th>county_Sutter</th>\n",
              "      <th>county_Ventura</th>\n",
              "      <th>county_Yolo</th>\n",
              "      <th>county_Yuba</th>\n",
              "    </tr>\n",
              "  </thead>\n",
              "  <tbody>\n",
              "    <tr>\n",
              "      <th>0</th>\n",
              "      <td>0.0</td>\n",
              "      <td>0.0</td>\n",
              "      <td>0.0</td>\n",
              "      <td>0.0</td>\n",
              "      <td>0.0</td>\n",
              "      <td>0.0</td>\n",
              "      <td>0.0</td>\n",
              "      <td>0.0</td>\n",
              "      <td>0.0</td>\n",
              "      <td>0.0</td>\n",
              "      <td>0.0</td>\n",
              "      <td>0.0</td>\n",
              "      <td>0.0</td>\n",
              "      <td>0.0</td>\n",
              "      <td>0.0</td>\n",
              "      <td>0.0</td>\n",
              "      <td>0.0</td>\n",
              "      <td>0.0</td>\n",
              "      <td>0.0</td>\n",
              "      <td>0.0</td>\n",
              "      <td>0.0</td>\n",
              "      <td>0.0</td>\n",
              "      <td>0.0</td>\n",
              "      <td>0.0</td>\n",
              "      <td>0.0</td>\n",
              "      <td>0.0</td>\n",
              "      <td>0.0</td>\n",
              "      <td>0.0</td>\n",
              "      <td>0.0</td>\n",
              "      <td>0.0</td>\n",
              "      <td>0.0</td>\n",
              "      <td>1.0</td>\n",
              "      <td>0.0</td>\n",
              "      <td>0.0</td>\n",
              "      <td>0.0</td>\n",
              "      <td>0.0</td>\n",
              "      <td>0.0</td>\n",
              "    </tr>\n",
              "    <tr>\n",
              "      <th>1</th>\n",
              "      <td>0.0</td>\n",
              "      <td>0.0</td>\n",
              "      <td>0.0</td>\n",
              "      <td>0.0</td>\n",
              "      <td>0.0</td>\n",
              "      <td>0.0</td>\n",
              "      <td>0.0</td>\n",
              "      <td>0.0</td>\n",
              "      <td>0.0</td>\n",
              "      <td>1.0</td>\n",
              "      <td>0.0</td>\n",
              "      <td>0.0</td>\n",
              "      <td>0.0</td>\n",
              "      <td>0.0</td>\n",
              "      <td>0.0</td>\n",
              "      <td>0.0</td>\n",
              "      <td>0.0</td>\n",
              "      <td>0.0</td>\n",
              "      <td>0.0</td>\n",
              "      <td>0.0</td>\n",
              "      <td>0.0</td>\n",
              "      <td>0.0</td>\n",
              "      <td>0.0</td>\n",
              "      <td>0.0</td>\n",
              "      <td>0.0</td>\n",
              "      <td>0.0</td>\n",
              "      <td>0.0</td>\n",
              "      <td>0.0</td>\n",
              "      <td>0.0</td>\n",
              "      <td>0.0</td>\n",
              "      <td>0.0</td>\n",
              "      <td>0.0</td>\n",
              "      <td>0.0</td>\n",
              "      <td>0.0</td>\n",
              "      <td>0.0</td>\n",
              "      <td>0.0</td>\n",
              "      <td>0.0</td>\n",
              "    </tr>\n",
              "    <tr>\n",
              "      <th>2</th>\n",
              "      <td>0.0</td>\n",
              "      <td>0.0</td>\n",
              "      <td>0.0</td>\n",
              "      <td>0.0</td>\n",
              "      <td>0.0</td>\n",
              "      <td>0.0</td>\n",
              "      <td>0.0</td>\n",
              "      <td>0.0</td>\n",
              "      <td>0.0</td>\n",
              "      <td>0.0</td>\n",
              "      <td>0.0</td>\n",
              "      <td>0.0</td>\n",
              "      <td>0.0</td>\n",
              "      <td>0.0</td>\n",
              "      <td>0.0</td>\n",
              "      <td>0.0</td>\n",
              "      <td>0.0</td>\n",
              "      <td>0.0</td>\n",
              "      <td>0.0</td>\n",
              "      <td>0.0</td>\n",
              "      <td>0.0</td>\n",
              "      <td>0.0</td>\n",
              "      <td>0.0</td>\n",
              "      <td>0.0</td>\n",
              "      <td>0.0</td>\n",
              "      <td>0.0</td>\n",
              "      <td>0.0</td>\n",
              "      <td>0.0</td>\n",
              "      <td>0.0</td>\n",
              "      <td>0.0</td>\n",
              "      <td>1.0</td>\n",
              "      <td>0.0</td>\n",
              "      <td>0.0</td>\n",
              "      <td>0.0</td>\n",
              "      <td>0.0</td>\n",
              "      <td>0.0</td>\n",
              "      <td>0.0</td>\n",
              "    </tr>\n",
              "    <tr>\n",
              "      <th>3</th>\n",
              "      <td>0.0</td>\n",
              "      <td>0.0</td>\n",
              "      <td>0.0</td>\n",
              "      <td>0.0</td>\n",
              "      <td>0.0</td>\n",
              "      <td>0.0</td>\n",
              "      <td>0.0</td>\n",
              "      <td>0.0</td>\n",
              "      <td>0.0</td>\n",
              "      <td>1.0</td>\n",
              "      <td>0.0</td>\n",
              "      <td>0.0</td>\n",
              "      <td>0.0</td>\n",
              "      <td>0.0</td>\n",
              "      <td>0.0</td>\n",
              "      <td>0.0</td>\n",
              "      <td>0.0</td>\n",
              "      <td>0.0</td>\n",
              "      <td>0.0</td>\n",
              "      <td>0.0</td>\n",
              "      <td>0.0</td>\n",
              "      <td>0.0</td>\n",
              "      <td>0.0</td>\n",
              "      <td>0.0</td>\n",
              "      <td>0.0</td>\n",
              "      <td>0.0</td>\n",
              "      <td>0.0</td>\n",
              "      <td>0.0</td>\n",
              "      <td>0.0</td>\n",
              "      <td>0.0</td>\n",
              "      <td>0.0</td>\n",
              "      <td>0.0</td>\n",
              "      <td>0.0</td>\n",
              "      <td>0.0</td>\n",
              "      <td>0.0</td>\n",
              "      <td>0.0</td>\n",
              "      <td>0.0</td>\n",
              "    </tr>\n",
              "    <tr>\n",
              "      <th>4</th>\n",
              "      <td>0.0</td>\n",
              "      <td>0.0</td>\n",
              "      <td>0.0</td>\n",
              "      <td>0.0</td>\n",
              "      <td>0.0</td>\n",
              "      <td>0.0</td>\n",
              "      <td>0.0</td>\n",
              "      <td>0.0</td>\n",
              "      <td>0.0</td>\n",
              "      <td>0.0</td>\n",
              "      <td>0.0</td>\n",
              "      <td>0.0</td>\n",
              "      <td>0.0</td>\n",
              "      <td>0.0</td>\n",
              "      <td>0.0</td>\n",
              "      <td>0.0</td>\n",
              "      <td>0.0</td>\n",
              "      <td>0.0</td>\n",
              "      <td>0.0</td>\n",
              "      <td>0.0</td>\n",
              "      <td>0.0</td>\n",
              "      <td>0.0</td>\n",
              "      <td>0.0</td>\n",
              "      <td>0.0</td>\n",
              "      <td>0.0</td>\n",
              "      <td>0.0</td>\n",
              "      <td>0.0</td>\n",
              "      <td>0.0</td>\n",
              "      <td>0.0</td>\n",
              "      <td>0.0</td>\n",
              "      <td>0.0</td>\n",
              "      <td>1.0</td>\n",
              "      <td>0.0</td>\n",
              "      <td>0.0</td>\n",
              "      <td>0.0</td>\n",
              "      <td>0.0</td>\n",
              "      <td>0.0</td>\n",
              "    </tr>\n",
              "  </tbody>\n",
              "</table>\n",
              "</div>"
            ],
            "text/plain": [
              "   county_Alameda  county_Amador  ...  county_Yolo  county_Yuba\n",
              "0             0.0            0.0  ...          0.0          0.0\n",
              "1             0.0            0.0  ...          0.0          0.0\n",
              "2             0.0            0.0  ...          0.0          0.0\n",
              "3             0.0            0.0  ...          0.0          0.0\n",
              "4             0.0            0.0  ...          0.0          0.0\n",
              "\n",
              "[5 rows x 37 columns]"
            ]
          },
          "metadata": {
            "tags": []
          },
          "execution_count": 12
        }
      ]
    },
    {
      "cell_type": "code",
      "metadata": {
        "colab": {
          "base_uri": "https://localhost:8080/",
          "height": 257
        },
        "id": "J9fUm4WAawxO",
        "outputId": "d428a585-d373-4762-dede-6fb4b8b2965c"
      },
      "source": [
        "# Merge one-hot encoded features and drop the originals\n",
        "reg_pd_df = reg_pd_df.merge(encode_df,left_index=True, right_index=True)\n",
        "reg_pd_df = reg_pd_df.drop(application_cat,1)\n",
        "reg_pd_df.head()"
      ],
      "execution_count": 13,
      "outputs": [
        {
          "output_type": "execute_result",
          "data": {
            "text/html": [
              "<div>\n",
              "<style scoped>\n",
              "    .dataframe tbody tr th:only-of-type {\n",
              "        vertical-align: middle;\n",
              "    }\n",
              "\n",
              "    .dataframe tbody tr th {\n",
              "        vertical-align: top;\n",
              "    }\n",
              "\n",
              "    .dataframe thead th {\n",
              "        text-align: right;\n",
              "    }\n",
              "</style>\n",
              "<table border=\"1\" class=\"dataframe\">\n",
              "  <thead>\n",
              "    <tr style=\"text-align: right;\">\n",
              "      <th></th>\n",
              "      <th>SqFtTotal</th>\n",
              "      <th>Lot_Size</th>\n",
              "      <th>Age</th>\n",
              "      <th>BathsTotal</th>\n",
              "      <th>BedsTotal</th>\n",
              "      <th>BathsFull</th>\n",
              "      <th>BathsHalf</th>\n",
              "      <th>DOM</th>\n",
              "      <th>Year_Sold</th>\n",
              "      <th>List_Price</th>\n",
              "      <th>Sale_Price</th>\n",
              "      <th>county_Alameda</th>\n",
              "      <th>county_Amador</th>\n",
              "      <th>county_Butte</th>\n",
              "      <th>county_Contra Costa</th>\n",
              "      <th>county_El Dorado</th>\n",
              "      <th>county_Kern</th>\n",
              "      <th>county_Lake</th>\n",
              "      <th>county_Los Angeles</th>\n",
              "      <th>county_Madera</th>\n",
              "      <th>county_Marin</th>\n",
              "      <th>county_Mendocino</th>\n",
              "      <th>county_Merced</th>\n",
              "      <th>county_Monterey</th>\n",
              "      <th>county_Napa</th>\n",
              "      <th>county_Nevada</th>\n",
              "      <th>county_Orange</th>\n",
              "      <th>county_Other</th>\n",
              "      <th>county_Placer</th>\n",
              "      <th>county_Riverside</th>\n",
              "      <th>county_Sacramento</th>\n",
              "      <th>county_San Benito</th>\n",
              "      <th>county_San Bernardino</th>\n",
              "      <th>county_San Diego</th>\n",
              "      <th>county_San Francisco</th>\n",
              "      <th>county_San Joaquin</th>\n",
              "      <th>county_San Luis Obispo</th>\n",
              "      <th>county_San Mateo</th>\n",
              "      <th>county_Santa Barbara</th>\n",
              "      <th>county_Santa Clara</th>\n",
              "      <th>county_Santa Cruz</th>\n",
              "      <th>county_Solano</th>\n",
              "      <th>county_Sonoma</th>\n",
              "      <th>county_Stanislaus</th>\n",
              "      <th>county_Sutter</th>\n",
              "      <th>county_Ventura</th>\n",
              "      <th>county_Yolo</th>\n",
              "      <th>county_Yuba</th>\n",
              "    </tr>\n",
              "  </thead>\n",
              "  <tbody>\n",
              "    <tr>\n",
              "      <th>0</th>\n",
              "      <td>1520</td>\n",
              "      <td>4400.0</td>\n",
              "      <td>22</td>\n",
              "      <td>2</td>\n",
              "      <td>3</td>\n",
              "      <td>2</td>\n",
              "      <td>0</td>\n",
              "      <td>0</td>\n",
              "      <td>2021</td>\n",
              "      <td>629000</td>\n",
              "      <td>650000</td>\n",
              "      <td>0.0</td>\n",
              "      <td>0.0</td>\n",
              "      <td>0.0</td>\n",
              "      <td>0.0</td>\n",
              "      <td>0.0</td>\n",
              "      <td>0.0</td>\n",
              "      <td>0.0</td>\n",
              "      <td>0.0</td>\n",
              "      <td>0.0</td>\n",
              "      <td>0.0</td>\n",
              "      <td>0.0</td>\n",
              "      <td>0.0</td>\n",
              "      <td>0.0</td>\n",
              "      <td>0.0</td>\n",
              "      <td>0.0</td>\n",
              "      <td>0.0</td>\n",
              "      <td>0.0</td>\n",
              "      <td>0.0</td>\n",
              "      <td>0.0</td>\n",
              "      <td>0.0</td>\n",
              "      <td>0.0</td>\n",
              "      <td>0.0</td>\n",
              "      <td>0.0</td>\n",
              "      <td>0.0</td>\n",
              "      <td>0.0</td>\n",
              "      <td>0.0</td>\n",
              "      <td>0.0</td>\n",
              "      <td>0.0</td>\n",
              "      <td>0.0</td>\n",
              "      <td>0.0</td>\n",
              "      <td>0.0</td>\n",
              "      <td>1.0</td>\n",
              "      <td>0.0</td>\n",
              "      <td>0.0</td>\n",
              "      <td>0.0</td>\n",
              "      <td>0.0</td>\n",
              "      <td>0.0</td>\n",
              "    </tr>\n",
              "    <tr>\n",
              "      <th>1</th>\n",
              "      <td>2419</td>\n",
              "      <td>7479.0</td>\n",
              "      <td>58</td>\n",
              "      <td>3</td>\n",
              "      <td>4</td>\n",
              "      <td>3</td>\n",
              "      <td>0</td>\n",
              "      <td>9</td>\n",
              "      <td>2021</td>\n",
              "      <td>1299000</td>\n",
              "      <td>1460000</td>\n",
              "      <td>0.0</td>\n",
              "      <td>0.0</td>\n",
              "      <td>0.0</td>\n",
              "      <td>0.0</td>\n",
              "      <td>0.0</td>\n",
              "      <td>0.0</td>\n",
              "      <td>0.0</td>\n",
              "      <td>0.0</td>\n",
              "      <td>0.0</td>\n",
              "      <td>1.0</td>\n",
              "      <td>0.0</td>\n",
              "      <td>0.0</td>\n",
              "      <td>0.0</td>\n",
              "      <td>0.0</td>\n",
              "      <td>0.0</td>\n",
              "      <td>0.0</td>\n",
              "      <td>0.0</td>\n",
              "      <td>0.0</td>\n",
              "      <td>0.0</td>\n",
              "      <td>0.0</td>\n",
              "      <td>0.0</td>\n",
              "      <td>0.0</td>\n",
              "      <td>0.0</td>\n",
              "      <td>0.0</td>\n",
              "      <td>0.0</td>\n",
              "      <td>0.0</td>\n",
              "      <td>0.0</td>\n",
              "      <td>0.0</td>\n",
              "      <td>0.0</td>\n",
              "      <td>0.0</td>\n",
              "      <td>0.0</td>\n",
              "      <td>0.0</td>\n",
              "      <td>0.0</td>\n",
              "      <td>0.0</td>\n",
              "      <td>0.0</td>\n",
              "      <td>0.0</td>\n",
              "      <td>0.0</td>\n",
              "    </tr>\n",
              "    <tr>\n",
              "      <th>2</th>\n",
              "      <td>1226</td>\n",
              "      <td>8969.0</td>\n",
              "      <td>36</td>\n",
              "      <td>2</td>\n",
              "      <td>3</td>\n",
              "      <td>2</td>\n",
              "      <td>0</td>\n",
              "      <td>37</td>\n",
              "      <td>2021</td>\n",
              "      <td>449977</td>\n",
              "      <td>470000</td>\n",
              "      <td>0.0</td>\n",
              "      <td>0.0</td>\n",
              "      <td>0.0</td>\n",
              "      <td>0.0</td>\n",
              "      <td>0.0</td>\n",
              "      <td>0.0</td>\n",
              "      <td>0.0</td>\n",
              "      <td>0.0</td>\n",
              "      <td>0.0</td>\n",
              "      <td>0.0</td>\n",
              "      <td>0.0</td>\n",
              "      <td>0.0</td>\n",
              "      <td>0.0</td>\n",
              "      <td>0.0</td>\n",
              "      <td>0.0</td>\n",
              "      <td>0.0</td>\n",
              "      <td>0.0</td>\n",
              "      <td>0.0</td>\n",
              "      <td>0.0</td>\n",
              "      <td>0.0</td>\n",
              "      <td>0.0</td>\n",
              "      <td>0.0</td>\n",
              "      <td>0.0</td>\n",
              "      <td>0.0</td>\n",
              "      <td>0.0</td>\n",
              "      <td>0.0</td>\n",
              "      <td>0.0</td>\n",
              "      <td>0.0</td>\n",
              "      <td>0.0</td>\n",
              "      <td>0.0</td>\n",
              "      <td>1.0</td>\n",
              "      <td>0.0</td>\n",
              "      <td>0.0</td>\n",
              "      <td>0.0</td>\n",
              "      <td>0.0</td>\n",
              "      <td>0.0</td>\n",
              "      <td>0.0</td>\n",
              "    </tr>\n",
              "    <tr>\n",
              "      <th>3</th>\n",
              "      <td>2892</td>\n",
              "      <td>43560.0</td>\n",
              "      <td>138</td>\n",
              "      <td>4</td>\n",
              "      <td>4</td>\n",
              "      <td>4</td>\n",
              "      <td>0</td>\n",
              "      <td>7</td>\n",
              "      <td>2021</td>\n",
              "      <td>1599000</td>\n",
              "      <td>1781883</td>\n",
              "      <td>0.0</td>\n",
              "      <td>0.0</td>\n",
              "      <td>0.0</td>\n",
              "      <td>0.0</td>\n",
              "      <td>0.0</td>\n",
              "      <td>0.0</td>\n",
              "      <td>0.0</td>\n",
              "      <td>0.0</td>\n",
              "      <td>0.0</td>\n",
              "      <td>1.0</td>\n",
              "      <td>0.0</td>\n",
              "      <td>0.0</td>\n",
              "      <td>0.0</td>\n",
              "      <td>0.0</td>\n",
              "      <td>0.0</td>\n",
              "      <td>0.0</td>\n",
              "      <td>0.0</td>\n",
              "      <td>0.0</td>\n",
              "      <td>0.0</td>\n",
              "      <td>0.0</td>\n",
              "      <td>0.0</td>\n",
              "      <td>0.0</td>\n",
              "      <td>0.0</td>\n",
              "      <td>0.0</td>\n",
              "      <td>0.0</td>\n",
              "      <td>0.0</td>\n",
              "      <td>0.0</td>\n",
              "      <td>0.0</td>\n",
              "      <td>0.0</td>\n",
              "      <td>0.0</td>\n",
              "      <td>0.0</td>\n",
              "      <td>0.0</td>\n",
              "      <td>0.0</td>\n",
              "      <td>0.0</td>\n",
              "      <td>0.0</td>\n",
              "      <td>0.0</td>\n",
              "      <td>0.0</td>\n",
              "    </tr>\n",
              "    <tr>\n",
              "      <th>4</th>\n",
              "      <td>2339</td>\n",
              "      <td>76666.0</td>\n",
              "      <td>69</td>\n",
              "      <td>2</td>\n",
              "      <td>3</td>\n",
              "      <td>2</td>\n",
              "      <td>0</td>\n",
              "      <td>8</td>\n",
              "      <td>2021</td>\n",
              "      <td>1600000</td>\n",
              "      <td>1650000</td>\n",
              "      <td>0.0</td>\n",
              "      <td>0.0</td>\n",
              "      <td>0.0</td>\n",
              "      <td>0.0</td>\n",
              "      <td>0.0</td>\n",
              "      <td>0.0</td>\n",
              "      <td>0.0</td>\n",
              "      <td>0.0</td>\n",
              "      <td>0.0</td>\n",
              "      <td>0.0</td>\n",
              "      <td>0.0</td>\n",
              "      <td>0.0</td>\n",
              "      <td>0.0</td>\n",
              "      <td>0.0</td>\n",
              "      <td>0.0</td>\n",
              "      <td>0.0</td>\n",
              "      <td>0.0</td>\n",
              "      <td>0.0</td>\n",
              "      <td>0.0</td>\n",
              "      <td>0.0</td>\n",
              "      <td>0.0</td>\n",
              "      <td>0.0</td>\n",
              "      <td>0.0</td>\n",
              "      <td>0.0</td>\n",
              "      <td>0.0</td>\n",
              "      <td>0.0</td>\n",
              "      <td>0.0</td>\n",
              "      <td>0.0</td>\n",
              "      <td>0.0</td>\n",
              "      <td>0.0</td>\n",
              "      <td>0.0</td>\n",
              "      <td>1.0</td>\n",
              "      <td>0.0</td>\n",
              "      <td>0.0</td>\n",
              "      <td>0.0</td>\n",
              "      <td>0.0</td>\n",
              "      <td>0.0</td>\n",
              "    </tr>\n",
              "  </tbody>\n",
              "</table>\n",
              "</div>"
            ],
            "text/plain": [
              "   SqFtTotal  Lot_Size  Age  ...  county_Ventura  county_Yolo  county_Yuba\n",
              "0       1520    4400.0   22  ...             0.0          0.0          0.0\n",
              "1       2419    7479.0   58  ...             0.0          0.0          0.0\n",
              "2       1226    8969.0   36  ...             0.0          0.0          0.0\n",
              "3       2892   43560.0  138  ...             0.0          0.0          0.0\n",
              "4       2339   76666.0   69  ...             0.0          0.0          0.0\n",
              "\n",
              "[5 rows x 48 columns]"
            ]
          },
          "metadata": {
            "tags": []
          },
          "execution_count": 13
        }
      ]
    },
    {
      "cell_type": "code",
      "metadata": {
        "colab": {
          "base_uri": "https://localhost:8080/"
        },
        "id": "9pCMYRDf2Ewi",
        "outputId": "408fc1bb-4863-4d8c-dfb2-3c0be7fcc7b5"
      },
      "source": [
        "#data_df = df.select('MLS_Number','Street_Address','City','Zip_Code','county','County_Index','SqFtTotal','Lot_Size','BedsTotal','BathsTotal','BathsFull','BathsHalf','Year_Built','Sale_Price')\n",
        "#data_df = df.select('county','County_Index','SqFtTotal','Lot_Size','Age','BathsTotal','BedsTotal','BathsFull','BathsHalf','DOM','Year_Sold','List_Price','Sale_Price')\n",
        "reg_pd_df.dtypes"
      ],
      "execution_count": 14,
      "outputs": [
        {
          "output_type": "execute_result",
          "data": {
            "text/plain": [
              "SqFtTotal                   int32\n",
              "Lot_Size                  float64\n",
              "Age                         int32\n",
              "BathsTotal                  int32\n",
              "BedsTotal                   int32\n",
              "BathsFull                   int32\n",
              "BathsHalf                   int32\n",
              "DOM                         int32\n",
              "Year_Sold                   int32\n",
              "List_Price                  int32\n",
              "Sale_Price                  int32\n",
              "county_Alameda            float64\n",
              "county_Amador             float64\n",
              "county_Butte              float64\n",
              "county_Contra Costa       float64\n",
              "county_El Dorado          float64\n",
              "county_Kern               float64\n",
              "county_Lake               float64\n",
              "county_Los Angeles        float64\n",
              "county_Madera             float64\n",
              "county_Marin              float64\n",
              "county_Mendocino          float64\n",
              "county_Merced             float64\n",
              "county_Monterey           float64\n",
              "county_Napa               float64\n",
              "county_Nevada             float64\n",
              "county_Orange             float64\n",
              "county_Other              float64\n",
              "county_Placer             float64\n",
              "county_Riverside          float64\n",
              "county_Sacramento         float64\n",
              "county_San Benito         float64\n",
              "county_San Bernardino     float64\n",
              "county_San Diego          float64\n",
              "county_San Francisco      float64\n",
              "county_San Joaquin        float64\n",
              "county_San Luis Obispo    float64\n",
              "county_San Mateo          float64\n",
              "county_Santa Barbara      float64\n",
              "county_Santa Clara        float64\n",
              "county_Santa Cruz         float64\n",
              "county_Solano             float64\n",
              "county_Sonoma             float64\n",
              "county_Stanislaus         float64\n",
              "county_Sutter             float64\n",
              "county_Ventura            float64\n",
              "county_Yolo               float64\n",
              "county_Yuba               float64\n",
              "dtype: object"
            ]
          },
          "metadata": {
            "tags": []
          },
          "execution_count": 14
        }
      ]
    },
    {
      "cell_type": "code",
      "metadata": {
        "colab": {
          "base_uri": "https://localhost:8080/"
        },
        "id": "kuv2gyrAOGox",
        "outputId": "047b4e28-daff-42a0-89ab-379a14cad718"
      },
      "source": [
        "# Perform descriptive analytics\n",
        "# reg_pd_df.describe().transpose()\n",
        "reg_pd_df.columns"
      ],
      "execution_count": 15,
      "outputs": [
        {
          "output_type": "execute_result",
          "data": {
            "text/plain": [
              "Index(['SqFtTotal', 'Lot_Size', 'Age', 'BathsTotal', 'BedsTotal', 'BathsFull',\n",
              "       'BathsHalf', 'DOM', 'Year_Sold', 'List_Price', 'Sale_Price',\n",
              "       'county_Alameda', 'county_Amador', 'county_Butte',\n",
              "       'county_Contra Costa', 'county_El Dorado', 'county_Kern', 'county_Lake',\n",
              "       'county_Los Angeles', 'county_Madera', 'county_Marin',\n",
              "       'county_Mendocino', 'county_Merced', 'county_Monterey', 'county_Napa',\n",
              "       'county_Nevada', 'county_Orange', 'county_Other', 'county_Placer',\n",
              "       'county_Riverside', 'county_Sacramento', 'county_San Benito',\n",
              "       'county_San Bernardino', 'county_San Diego', 'county_San Francisco',\n",
              "       'county_San Joaquin', 'county_San Luis Obispo', 'county_San Mateo',\n",
              "       'county_Santa Barbara', 'county_Santa Clara', 'county_Santa Cruz',\n",
              "       'county_Solano', 'county_Sonoma', 'county_Stanislaus', 'county_Sutter',\n",
              "       'county_Ventura', 'county_Yolo', 'county_Yuba'],\n",
              "      dtype='object')"
            ]
          },
          "metadata": {
            "tags": []
          },
          "execution_count": 15
        }
      ]
    },
    {
      "cell_type": "code",
      "metadata": {
        "id": "JBbAJ98y3O0v",
        "colab": {
          "base_uri": "https://localhost:8080/"
        },
        "outputId": "b53603b1-8df3-4247-9faf-79fb0dc1b502"
      },
      "source": [
        "#data_array = np.array(data_df.collect())\n",
        "y = np.array(reg_pd_df.Sale_Price)\n",
        "X = np.array(reg_pd_df.drop(columns=['Sale_Price'])) # Include the Listing Price Here\n",
        "\n",
        "print(X)\n",
        "print(y)"
      ],
      "execution_count": 16,
      "outputs": [
        {
          "output_type": "stream",
          "text": [
            "[[1.5200e+03 4.4000e+03 2.2000e+01 ... 0.0000e+00 0.0000e+00 0.0000e+00]\n",
            " [2.4190e+03 7.4790e+03 5.8000e+01 ... 0.0000e+00 0.0000e+00 0.0000e+00]\n",
            " [1.2260e+03 8.9690e+03 3.6000e+01 ... 0.0000e+00 0.0000e+00 0.0000e+00]\n",
            " ...\n",
            " [7.8000e+02 1.3932e+04 8.3000e+01 ... 0.0000e+00 0.0000e+00 0.0000e+00]\n",
            " [2.1590e+03 3.7723e+04 7.1000e+01 ... 0.0000e+00 0.0000e+00 0.0000e+00]\n",
            " [8.9180e+03 1.3074e+04 1.3000e+01 ... 0.0000e+00 0.0000e+00 0.0000e+00]]\n",
            "[  650000  1460000   470000 ...  1200000  2450000 13500000]\n"
          ],
          "name": "stdout"
        }
      ]
    },
    {
      "cell_type": "markdown",
      "metadata": {
        "id": "PfRKI3rii-Qe"
      },
      "source": [
        "**MODEL 1:** includes **\"List_Price\"**"
      ]
    },
    {
      "cell_type": "markdown",
      "metadata": {
        "id": "luyjxOR7-_mI"
      },
      "source": [
        "**SAMPLE SIZE** due to sample size is pretty large, > 4K, 5% of 4K is more than 200 rows. 200 is good enough for testing "
      ]
    },
    {
      "cell_type": "code",
      "metadata": {
        "id": "V721r4IJ8JaP"
      },
      "source": [
        "from sklearn.model_selection import train_test_split\n",
        "X_train, X_test, y_train, y_test = train_test_split(X, y, test_size=0.05, random_state=5)"
      ],
      "execution_count": 17,
      "outputs": []
    },
    {
      "cell_type": "code",
      "metadata": {
        "colab": {
          "base_uri": "https://localhost:8080/"
        },
        "id": "vSQDNEXS-X6-",
        "outputId": "73206130-95ac-403a-d620-06044a1c883f"
      },
      "source": [
        "print(X_train.shape, X_test.shape, y_train.shape, y_test.shape)"
      ],
      "execution_count": 18,
      "outputs": [
        {
          "output_type": "stream",
          "text": [
            "(4013, 47) (212, 47) (4013,) (212,)\n"
          ],
          "name": "stdout"
        }
      ]
    },
    {
      "cell_type": "code",
      "metadata": {
        "colab": {
          "base_uri": "https://localhost:8080/"
        },
        "id": "MoAa5O7T-38e",
        "outputId": "4cb422fd-a67e-4d85-c769-a60a588fad51"
      },
      "source": [
        "# Fit ML Regression to a trainingg set\n",
        "# Forcing intercept to be zero\n",
        "from sklearn.linear_model import LinearRegression\n",
        "regression = LinearRegression(fit_intercept=False) # False = no-intercept\n",
        "regression.fit(X_train, y_train)\n",
        "\n",
        "# https://scikit-learn.org/stable/modules/generated/sklearn.linear_model.LinearRegression.html\n",
        "# LinearRegression(copy_X=True, fit_intercept=False, n_jobs=None, normalize=False)"
      ],
      "execution_count": 19,
      "outputs": [
        {
          "output_type": "execute_result",
          "data": {
            "text/plain": [
              "LinearRegression(copy_X=True, fit_intercept=False, n_jobs=None, normalize=False)"
            ]
          },
          "metadata": {
            "tags": []
          },
          "execution_count": 19
        }
      ]
    },
    {
      "cell_type": "code",
      "metadata": {
        "id": "bkVDltVtDJMx",
        "colab": {
          "base_uri": "https://localhost:8080/"
        },
        "outputId": "4bf442b6-912d-46c9-d8a9-58b5d8f89485"
      },
      "source": [
        "# Predicting the test result\n",
        "y_pred = regression.predict(X_test)\n",
        "X[0]"
      ],
      "execution_count": 20,
      "outputs": [
        {
          "output_type": "execute_result",
          "data": {
            "text/plain": [
              "array([1.520e+03, 4.400e+03, 2.200e+01, 2.000e+00, 3.000e+00, 2.000e+00,\n",
              "       0.000e+00, 0.000e+00, 2.021e+03, 6.290e+05, 0.000e+00, 0.000e+00,\n",
              "       0.000e+00, 0.000e+00, 0.000e+00, 0.000e+00, 0.000e+00, 0.000e+00,\n",
              "       0.000e+00, 0.000e+00, 0.000e+00, 0.000e+00, 0.000e+00, 0.000e+00,\n",
              "       0.000e+00, 0.000e+00, 0.000e+00, 0.000e+00, 0.000e+00, 0.000e+00,\n",
              "       0.000e+00, 0.000e+00, 0.000e+00, 0.000e+00, 0.000e+00, 0.000e+00,\n",
              "       0.000e+00, 0.000e+00, 0.000e+00, 0.000e+00, 0.000e+00, 1.000e+00,\n",
              "       0.000e+00, 0.000e+00, 0.000e+00, 0.000e+00, 0.000e+00])"
            ]
          },
          "metadata": {
            "tags": []
          },
          "execution_count": 20
        }
      ]
    },
    {
      "cell_type": "code",
      "metadata": {
        "id": "HpXUUU9NJBgL",
        "colab": {
          "base_uri": "https://localhost:8080/"
        },
        "outputId": "aaf184b1-ec26-42a5-b79f-8762120951b7"
      },
      "source": [
        "# Print out the interceptor\n",
        "# Expect intercept is zero\n",
        "print(\"Intercept: \" + str(regression.intercept_))"
      ],
      "execution_count": 21,
      "outputs": [
        {
          "output_type": "stream",
          "text": [
            "Intercept: 0.0\n"
          ],
          "name": "stdout"
        }
      ]
    },
    {
      "cell_type": "code",
      "metadata": {
        "colab": {
          "base_uri": "https://localhost:8080/"
        },
        "id": "u9t4K4jK68YZ",
        "outputId": "0f6dd87b-3ce1-4a7a-8d2f-3ead515c5ed8"
      },
      "source": [
        "# Print out the coefficients\n",
        "print(\"Coefficients: \" + str(regression.coef_))"
      ],
      "execution_count": 22,
      "outputs": [
        {
          "output_type": "stream",
          "text": [
            "Coefficients: [ 7.05846023e+00 -3.97319975e-05  2.37809922e+02 -6.61507688e+03\n",
            "  4.33821438e+03 -1.79402309e+03 -4.82105354e+03 -2.04294533e+01\n",
            "  1.42877073e+04  1.01985715e+00 -2.87209600e+07 -2.88837992e+07\n",
            " -2.88898308e+07 -2.87976538e+07 -2.88553795e+07 -2.88937631e+07\n",
            " -2.89142853e+07 -2.88611547e+07 -2.88987526e+07 -2.87828276e+07\n",
            " -2.88995682e+07 -2.88884175e+07 -2.88803837e+07 -2.88669584e+07\n",
            " -2.88795840e+07 -2.88871556e+07 -2.88858686e+07 -2.88629361e+07\n",
            " -2.88757705e+07 -2.88678871e+07 -2.88765539e+07 -2.88810263e+07\n",
            " -2.88742500e+07 -2.87307020e+07 -2.88633867e+07 -2.88813855e+07\n",
            " -2.86917111e+07 -2.88857612e+07 -2.87300128e+07 -2.88174333e+07\n",
            " -2.88733102e+07 -2.88500048e+07 -2.88809702e+07 -2.88963150e+07\n",
            " -2.88669534e+07 -2.88431558e+07 -2.88797093e+07]\n"
          ],
          "name": "stdout"
        }
      ]
    },
    {
      "cell_type": "code",
      "metadata": {
        "colab": {
          "base_uri": "https://localhost:8080/"
        },
        "id": "vBX8Vjfl7mBg",
        "outputId": "f2ef99da-2abf-41d6-b482-75735271588b"
      },
      "source": [
        "from sklearn.metrics import r2_score\n",
        "from sklearn.metrics import mean_squared_error\n",
        "#\n",
        "print(\"Mean Squared Error(MSE): \" + str(mean_squared_error(y_test, y_pred)))\n",
        "print(\"R squared(R2): \" + str(r2_score(y_test, y_pred)))"
      ],
      "execution_count": 23,
      "outputs": [
        {
          "output_type": "stream",
          "text": [
            "Mean Squared Error(MSE): 100260327577.81798\n",
            "R squared(R2): 0.9605332854433306\n"
          ],
          "name": "stdout"
        }
      ]
    },
    {
      "cell_type": "code",
      "metadata": {
        "colab": {
          "base_uri": "https://localhost:8080/",
          "height": 357
        },
        "id": "Y_UaOkJ51YBe",
        "outputId": "8be4a869-6168-4f9f-dcde-42f4e8a1bc72"
      },
      "source": [
        "#df = create a df of Sales_Price and Prediction values\n",
        "import pandas as pd\n",
        "good_result_df = pd.DataFrame({\"Sale_Price\": [x for x in y_test], \"Good Prediction\": [x for x in y_pred]})\n",
        "good_result_df['Good Prediction'] = good_result_df['Good Prediction'].map('{:,.2f}'.format)\n",
        "good_result_df.head(10)"
      ],
      "execution_count": 24,
      "outputs": [
        {
          "output_type": "execute_result",
          "data": {
            "text/html": [
              "<div>\n",
              "<style scoped>\n",
              "    .dataframe tbody tr th:only-of-type {\n",
              "        vertical-align: middle;\n",
              "    }\n",
              "\n",
              "    .dataframe tbody tr th {\n",
              "        vertical-align: top;\n",
              "    }\n",
              "\n",
              "    .dataframe thead th {\n",
              "        text-align: right;\n",
              "    }\n",
              "</style>\n",
              "<table border=\"1\" class=\"dataframe\">\n",
              "  <thead>\n",
              "    <tr style=\"text-align: right;\">\n",
              "      <th></th>\n",
              "      <th>Sale_Price</th>\n",
              "      <th>Good Prediction</th>\n",
              "    </tr>\n",
              "  </thead>\n",
              "  <tbody>\n",
              "    <tr>\n",
              "      <th>0</th>\n",
              "      <td>1005000</td>\n",
              "      <td>913,281.32</td>\n",
              "    </tr>\n",
              "    <tr>\n",
              "      <th>1</th>\n",
              "      <td>1175000</td>\n",
              "      <td>1,219,022.44</td>\n",
              "    </tr>\n",
              "    <tr>\n",
              "      <th>2</th>\n",
              "      <td>565000</td>\n",
              "      <td>587,771.36</td>\n",
              "    </tr>\n",
              "    <tr>\n",
              "      <th>3</th>\n",
              "      <td>950000</td>\n",
              "      <td>959,388.14</td>\n",
              "    </tr>\n",
              "    <tr>\n",
              "      <th>4</th>\n",
              "      <td>625000</td>\n",
              "      <td>608,544.68</td>\n",
              "    </tr>\n",
              "    <tr>\n",
              "      <th>5</th>\n",
              "      <td>1925000</td>\n",
              "      <td>1,872,278.90</td>\n",
              "    </tr>\n",
              "    <tr>\n",
              "      <th>6</th>\n",
              "      <td>21150000</td>\n",
              "      <td>25,521,630.17</td>\n",
              "    </tr>\n",
              "    <tr>\n",
              "      <th>7</th>\n",
              "      <td>2000000</td>\n",
              "      <td>1,830,298.75</td>\n",
              "    </tr>\n",
              "    <tr>\n",
              "      <th>8</th>\n",
              "      <td>341000</td>\n",
              "      <td>321,158.59</td>\n",
              "    </tr>\n",
              "    <tr>\n",
              "      <th>9</th>\n",
              "      <td>1450000</td>\n",
              "      <td>1,469,391.98</td>\n",
              "    </tr>\n",
              "  </tbody>\n",
              "</table>\n",
              "</div>"
            ],
            "text/plain": [
              "   Sale_Price Good Prediction\n",
              "0     1005000      913,281.32\n",
              "1     1175000    1,219,022.44\n",
              "2      565000      587,771.36\n",
              "3      950000      959,388.14\n",
              "4      625000      608,544.68\n",
              "5     1925000    1,872,278.90\n",
              "6    21150000   25,521,630.17\n",
              "7     2000000    1,830,298.75\n",
              "8      341000      321,158.59\n",
              "9     1450000    1,469,391.98"
            ]
          },
          "metadata": {
            "tags": []
          },
          "execution_count": 24
        }
      ]
    },
    {
      "cell_type": "code",
      "metadata": {
        "id": "e1K3xZFIHdJW",
        "colab": {
          "base_uri": "https://localhost:8080/",
          "height": 295
        },
        "outputId": "038a5763-7744-4efd-ea4a-4024f35519bd"
      },
      "source": [
        "import matplotlib.pyplot as plt\n",
        "plt.plot(y_pred)\n",
        "plt.plot(y_test)\n",
        "plt.title('Model Prediction: include List_Price')\n",
        "plt.ylabel('Price')\n",
        "plt.xlabel('No. of Samples')\n",
        "plt.legend(['Good Prediction', 'Sale_Price'], loc='upper right')\n",
        "plt.show()"
      ],
      "execution_count": 25,
      "outputs": [
        {
          "output_type": "display_data",
          "data": {
            "image/png": "[encoded data removed]",
            "text/plain": [
              "<Figure size 432x288 with 1 Axes>"
            ]
          },
          "metadata": {
            "tags": [],
            "needs_background": "light"
          }
        }
      ]
    },
    {
      "cell_type": "markdown",
      "metadata": {
        "id": "qblGLMT9kgdL"
      },
      "source": [
        "**Model 2** does not have **List_Price**"
      ]
    },
    {
      "cell_type": "code",
      "metadata": {
        "colab": {
          "base_uri": "https://localhost:8080/"
        },
        "id": "bh9hztZjkc0L",
        "outputId": "08c77aaa-4332-454f-f68a-274dffae9809"
      },
      "source": [
        "#data_array = np.array(data_df.collect())\n",
        "y2 = np.array(reg_pd_df.Sale_Price)\n",
        "X2 = np.array(reg_pd_df.drop(columns=['Sale_Price','List_Price'])) # Exclude the List_Price Here\n",
        "\n",
        "#your_array = your_array.astype(np.float64)\n",
        "X2 = X2.astype(np.float64)\n",
        "y2 = y2.astype(np.float64)\n",
        "\n",
        "from sklearn.model_selection import train_test_split\n",
        "X2_train, X2_test, y2_train, y2_test = train_test_split(X2, y2, test_size=0.05, random_state=5)\n",
        "\n",
        "print(X2_train.shape, X2_test.shape, y2_train.shape, y2_test.shape)\n"
      ],
      "execution_count": 26,
      "outputs": [
        {
          "output_type": "stream",
          "text": [
            "(4013, 46) (212, 46) (4013,) (212,)\n"
          ],
          "name": "stdout"
        }
      ]
    },
    {
      "cell_type": "code",
      "metadata": {
        "colab": {
          "base_uri": "https://localhost:8080/"
        },
        "id": "TQtERu_fkdJC",
        "outputId": "c781e783-1e71-4b77-e1a2-9a87568e1e90"
      },
      "source": [
        "# Fit ML Regression to a training set\n",
        "# Forcing intercept to be zero\n",
        "from sklearn.linear_model import LinearRegression\n",
        "regression2 = LinearRegression(fit_intercept=False) # False = no-intercept\n",
        "regression2.fit(X2_train, y2_train)\n",
        "\n",
        "# Predicting the test result\n",
        "y_pred2 = regression2.predict(X2_test)\n",
        "\n",
        "# Print out the interceptor\n",
        "# Expect intercept is zero\n",
        "print(\"Intercept: \" + str(regression.intercept_))\n",
        "# Print out the coefficients\n",
        "print(\"Coefficients: \" + str(regression.coef_))"
      ],
      "execution_count": 27,
      "outputs": [
        {
          "output_type": "stream",
          "text": [
            "Intercept: 0.0\n",
            "Coefficients: [ 7.05846023e+00 -3.97319975e-05  2.37809922e+02 -6.61507688e+03\n",
            "  4.33821438e+03 -1.79402309e+03 -4.82105354e+03 -2.04294533e+01\n",
            "  1.42877073e+04  1.01985715e+00 -2.87209600e+07 -2.88837992e+07\n",
            " -2.88898308e+07 -2.87976538e+07 -2.88553795e+07 -2.88937631e+07\n",
            " -2.89142853e+07 -2.88611547e+07 -2.88987526e+07 -2.87828276e+07\n",
            " -2.88995682e+07 -2.88884175e+07 -2.88803837e+07 -2.88669584e+07\n",
            " -2.88795840e+07 -2.88871556e+07 -2.88858686e+07 -2.88629361e+07\n",
            " -2.88757705e+07 -2.88678871e+07 -2.88765539e+07 -2.88810263e+07\n",
            " -2.88742500e+07 -2.87307020e+07 -2.88633867e+07 -2.88813855e+07\n",
            " -2.86917111e+07 -2.88857612e+07 -2.87300128e+07 -2.88174333e+07\n",
            " -2.88733102e+07 -2.88500048e+07 -2.88809702e+07 -2.88963150e+07\n",
            " -2.88669534e+07 -2.88431558e+07 -2.88797093e+07]\n"
          ],
          "name": "stdout"
        }
      ]
    },
    {
      "cell_type": "markdown",
      "metadata": {
        "id": "MmkpmZF6lVFx"
      },
      "source": [
        "**Pay attention to r2_score** here"
      ]
    },
    {
      "cell_type": "code",
      "metadata": {
        "colab": {
          "base_uri": "https://localhost:8080/"
        },
        "id": "MMsHCCTmkdZ5",
        "outputId": "a8a3995d-2ebc-4b66-881e-769803b98b54"
      },
      "source": [
        "from sklearn.metrics import r2_score\n",
        "from sklearn.metrics import mean_squared_error\n",
        "#\n",
        "print(\"MSE -- Mean Squared Error: \" + str(mean_squared_error(y2_test, y_pred2)))\n",
        "print(\"r2 -- R squared: \" + str(r2_score(y2_test, y_pred2)))"
      ],
      "execution_count": 28,
      "outputs": [
        {
          "output_type": "stream",
          "text": [
            "MSE -- Mean Squared Error: 832699403517.799\n",
            "r2 -- R squared: 0.6722142200798396\n"
          ],
          "name": "stdout"
        }
      ]
    },
    {
      "cell_type": "code",
      "metadata": {
        "colab": {
          "base_uri": "https://localhost:8080/",
          "height": 357
        },
        "id": "0oCgHMX50Jgn",
        "outputId": "c811290c-bed8-492f-8b63-d4ace1f6d13f"
      },
      "source": [
        "#df = create a df of Sales_Price and Prediction values\n",
        "import pandas as pd\n",
        "bad_result_df = pd.DataFrame({\"Sale_Price\": [x for x in y2_test], \"Bad Prediction\": [x for x in y_pred2]})\n",
        "bad_result_df['Bad Prediction'] = bad_result_df['Bad Prediction'].map('{:,.2f}'.format)\n",
        "bad_result_df.head(10)"
      ],
      "execution_count": 29,
      "outputs": [
        {
          "output_type": "execute_result",
          "data": {
            "text/html": [
              "<div>\n",
              "<style scoped>\n",
              "    .dataframe tbody tr th:only-of-type {\n",
              "        vertical-align: middle;\n",
              "    }\n",
              "\n",
              "    .dataframe tbody tr th {\n",
              "        vertical-align: top;\n",
              "    }\n",
              "\n",
              "    .dataframe thead th {\n",
              "        text-align: right;\n",
              "    }\n",
              "</style>\n",
              "<table border=\"1\" class=\"dataframe\">\n",
              "  <thead>\n",
              "    <tr style=\"text-align: right;\">\n",
              "      <th></th>\n",
              "      <th>Sale_Price</th>\n",
              "      <th>Bad Prediction</th>\n",
              "    </tr>\n",
              "  </thead>\n",
              "  <tbody>\n",
              "    <tr>\n",
              "      <th>0</th>\n",
              "      <td>1005000.0</td>\n",
              "      <td>1,416,121.20</td>\n",
              "    </tr>\n",
              "    <tr>\n",
              "      <th>1</th>\n",
              "      <td>1175000.0</td>\n",
              "      <td>1,559,513.55</td>\n",
              "    </tr>\n",
              "    <tr>\n",
              "      <th>2</th>\n",
              "      <td>565000.0</td>\n",
              "      <td>639,187.61</td>\n",
              "    </tr>\n",
              "    <tr>\n",
              "      <th>3</th>\n",
              "      <td>950000.0</td>\n",
              "      <td>1,152,340.72</td>\n",
              "    </tr>\n",
              "    <tr>\n",
              "      <th>4</th>\n",
              "      <td>625000.0</td>\n",
              "      <td>526,425.80</td>\n",
              "    </tr>\n",
              "    <tr>\n",
              "      <th>5</th>\n",
              "      <td>1925000.0</td>\n",
              "      <td>965,161.08</td>\n",
              "    </tr>\n",
              "    <tr>\n",
              "      <th>6</th>\n",
              "      <td>21150000.0</td>\n",
              "      <td>10,581,912.84</td>\n",
              "    </tr>\n",
              "    <tr>\n",
              "      <th>7</th>\n",
              "      <td>2000000.0</td>\n",
              "      <td>1,322,725.73</td>\n",
              "    </tr>\n",
              "    <tr>\n",
              "      <th>8</th>\n",
              "      <td>341000.0</td>\n",
              "      <td>564,749.91</td>\n",
              "    </tr>\n",
              "    <tr>\n",
              "      <th>9</th>\n",
              "      <td>1450000.0</td>\n",
              "      <td>2,446,670.51</td>\n",
              "    </tr>\n",
              "  </tbody>\n",
              "</table>\n",
              "</div>"
            ],
            "text/plain": [
              "   Sale_Price Bad Prediction\n",
              "0   1005000.0   1,416,121.20\n",
              "1   1175000.0   1,559,513.55\n",
              "2    565000.0     639,187.61\n",
              "3    950000.0   1,152,340.72\n",
              "4    625000.0     526,425.80\n",
              "5   1925000.0     965,161.08\n",
              "6  21150000.0  10,581,912.84\n",
              "7   2000000.0   1,322,725.73\n",
              "8    341000.0     564,749.91\n",
              "9   1450000.0   2,446,670.51"
            ]
          },
          "metadata": {
            "tags": []
          },
          "execution_count": 29
        }
      ]
    },
    {
      "cell_type": "code",
      "metadata": {
        "colab": {
          "base_uri": "https://localhost:8080/",
          "height": 295
        },
        "id": "BYViqxlPkd2W",
        "outputId": "71148b57-42fa-4685-edc2-b1d35bef356d"
      },
      "source": [
        "import matplotlib.pyplot as plt\n",
        "plt.plot(y_pred2)\n",
        "plt.plot(y2_test)\n",
        "plt.title('Model Prediction 2: exclude List_Price')\n",
        "plt.ylabel('Price')\n",
        "plt.xlabel('No. of Samples')\n",
        "plt.legend(['Bad Prediction', 'Sale_Price'], loc='upper right')\n",
        "plt.show()"
      ],
      "execution_count": 30,
      "outputs": [
        {
          "output_type": "display_data",
          "data": {
            "image/png": "[encoded data removed]",
            "text/plain": [
              "<Figure size 432x288 with 1 Axes>"
            ]
          },
          "metadata": {
            "tags": [],
            "needs_background": "light"
          }
        }
      ]
    },
    {
      "cell_type": "markdown",
      "metadata": {
        "id": "pxLSbiWnnO_-"
      },
      "source": [
        "**The role** of List_price???"
      ]
    },
    {
      "cell_type": "markdown",
      "metadata": {
        "id": "lM1xNxclg6nL"
      },
      "source": [
        "**END**"
      ]
    }
  ]
}