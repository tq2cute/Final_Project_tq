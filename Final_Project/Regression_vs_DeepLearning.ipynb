{
  "nbformat": 4,
  "nbformat_minor": 0,
  "metadata": {
    "colab": {
      "name": "Regression_vs_DeepLearning.ipynb",
      "provenance": [],
      "collapsed_sections": []
    },
    "kernelspec": {
      "name": "python3",
      "display_name": "Python 3"
    },
    "language_info": {
      "name": "python"
    }
  },
  "cells": [
    {
      "cell_type": "code",
      "metadata": {
        "colab": {
          "base_uri": "https://localhost:8080/"
        },
        "id": "lFv5-T_zupnd",
        "outputId": "b2a2192d-62fc-4a49-9456-8b4d496707c3"
      },
      "source": [
        "import os\n",
        "# Find the latest version of spark 3.0  from http://www.apache.org/dist/spark/ and enter as the spark version\n",
        "# For example:\n",
        "spark_version = 'spark-3.0.3'\n",
        "#spark_version = 'spark-3.<enter version>'\n",
        "os.environ['SPARK_VERSION']=spark_version\n",
        "\n",
        "# Install Spark and Java\n",
        "!apt-get update\n",
        "!apt-get install openjdk-11-jdk-headless -qq > /dev/null\n",
        "!wget -q http://www.apache.org/dist/spark/$SPARK_VERSION/$SPARK_VERSION-bin-hadoop2.7.tgz\n",
        "!tar xf $SPARK_VERSION-bin-hadoop2.7.tgz\n",
        "!pip install -q findspark\n",
        "\n",
        "# Set Environment Variables\n",
        "import os\n",
        "os.environ[\"JAVA_HOME\"] = \"/usr/lib/jvm/java-11-openjdk-amd64\"\n",
        "os.environ[\"SPARK_HOME\"] = f\"/content/{spark_version}-bin-hadoop2.7\"\n",
        "\n",
        "# Start a SparkSession\n",
        "import findspark\n",
        "findspark.init()"
      ],
      "execution_count": 1,
      "outputs": [
        {
          "output_type": "stream",
          "text": [
            "\r0% [Working]\r            \rGet:1 http://security.ubuntu.com/ubuntu bionic-security InRelease [88.7 kB]\n",
            "\r0% [Connecting to archive.ubuntu.com (91.189.88.152)] [1 InRelease 14.2 kB/88.7\r0% [Connecting to archive.ubuntu.com (91.189.88.152)] [Connected to cloud.r-pro\r0% [1 InRelease gpgv 88.7 kB] [Connecting to archive.ubuntu.com (91.189.88.152)\r                                                                               \rGet:2 https://cloud.r-project.org/bin/linux/ubuntu bionic-cran40/ InRelease [3,626 B]\n",
            "\r0% [1 InRelease gpgv 88.7 kB] [Connecting to archive.ubuntu.com (91.189.88.152)\r                                                                               \rIgn:3 https://developer.download.nvidia.com/compute/cuda/repos/ubuntu1804/x86_64  InRelease\n",
            "Hit:4 http://archive.ubuntu.com/ubuntu bionic InRelease\n",
            "Get:5 http://ppa.launchpad.net/c2d4u.team/c2d4u4.0+/ubuntu bionic InRelease [15.9 kB]\n",
            "Get:6 http://archive.ubuntu.com/ubuntu bionic-updates InRelease [88.7 kB]\n",
            "Ign:7 https://developer.download.nvidia.com/compute/machine-learning/repos/ubuntu1804/x86_64  InRelease\n",
            "Get:8 https://developer.download.nvidia.com/compute/cuda/repos/ubuntu1804/x86_64  Release [697 B]\n",
            "Hit:9 https://developer.download.nvidia.com/compute/machine-learning/repos/ubuntu1804/x86_64  Release\n",
            "Get:10 https://developer.download.nvidia.com/compute/cuda/repos/ubuntu1804/x86_64  Release.gpg [836 B]\n",
            "Get:11 http://security.ubuntu.com/ubuntu bionic-security/restricted amd64 Packages [510 kB]\n",
            "Get:12 http://security.ubuntu.com/ubuntu bionic-security/main amd64 Packages [2,263 kB]\n",
            "Hit:13 http://ppa.launchpad.net/cran/libgit2/ubuntu bionic InRelease\n",
            "Get:14 http://archive.ubuntu.com/ubuntu bionic-backports InRelease [74.6 kB]\n",
            "Get:15 http://security.ubuntu.com/ubuntu bionic-security/multiverse amd64 Packages [26.7 kB]\n",
            "Get:16 http://security.ubuntu.com/ubuntu bionic-security/universe amd64 Packages [1,420 kB]\n",
            "Hit:17 http://ppa.launchpad.net/deadsnakes/ppa/ubuntu bionic InRelease\n",
            "Get:18 https://cloud.r-project.org/bin/linux/ubuntu bionic-cran40/ Packages [62.9 kB]\n",
            "Get:19 http://ppa.launchpad.net/graphics-drivers/ppa/ubuntu bionic InRelease [21.3 kB]\n",
            "Ign:21 https://developer.download.nvidia.com/compute/cuda/repos/ubuntu1804/x86_64  Packages\n",
            "Get:21 https://developer.download.nvidia.com/compute/cuda/repos/ubuntu1804/x86_64  Packages [695 kB]\n",
            "Get:22 http://ppa.launchpad.net/c2d4u.team/c2d4u4.0+/ubuntu bionic/main Sources [1,786 kB]\n",
            "Get:23 http://archive.ubuntu.com/ubuntu bionic-updates/multiverse amd64 Packages [39.4 kB]\n",
            "Get:24 http://archive.ubuntu.com/ubuntu bionic-updates/main amd64 Packages [2,698 kB]\n",
            "Get:25 http://ppa.launchpad.net/c2d4u.team/c2d4u4.0+/ubuntu bionic/main amd64 Packages [914 kB]\n",
            "Get:26 http://archive.ubuntu.com/ubuntu bionic-updates/restricted amd64 Packages [544 kB]\n",
            "Get:27 http://archive.ubuntu.com/ubuntu bionic-updates/universe amd64 Packages [2,195 kB]\n",
            "Get:28 http://ppa.launchpad.net/graphics-drivers/ppa/ubuntu bionic/main amd64 Packages [44.1 kB]\n",
            "Fetched 13.5 MB in 4s (3,127 kB/s)\n",
            "Reading package lists... Done\n"
          ],
          "name": "stdout"
        }
      ]
    },
    {
      "cell_type": "code",
      "metadata": {
        "id": "Chcx1Hb5vNuS",
        "colab": {
          "base_uri": "https://localhost:8080/"
        },
        "outputId": "641554a4-1770-4322-ed81-e5324b479e91"
      },
      "source": [
        "# First, enter the following code to download a Postgres driver that will allow Spark to interact with Postgres:\n",
        "!wget https://jdbc.postgresql.org/download/postgresql-42.2.16.jar"
      ],
      "execution_count": 2,
      "outputs": [
        {
          "output_type": "stream",
          "text": [
            "--2021-08-06 07:46:38--  https://jdbc.postgresql.org/download/postgresql-42.2.16.jar\n",
            "Resolving jdbc.postgresql.org (jdbc.postgresql.org)... 72.32.157.228, 2001:4800:3e1:1::228\n",
            "Connecting to jdbc.postgresql.org (jdbc.postgresql.org)|72.32.157.228|:443... connected.\n",
            "HTTP request sent, awaiting response... 200 OK\n",
            "Length: 1002883 (979K) [application/java-archive]\n",
            "Saving to: ‘postgresql-42.2.16.jar’\n",
            "\n",
            "postgresql-42.2.16. 100%[===================>] 979.38K  5.56MB/s    in 0.2s    \n",
            "\n",
            "2021-08-06 07:46:38 (5.56 MB/s) - ‘postgresql-42.2.16.jar’ saved [1002883/1002883]\n",
            "\n"
          ],
          "name": "stdout"
        }
      ]
    },
    {
      "cell_type": "code",
      "metadata": {
        "id": "x1fG3JpHGtlD"
      },
      "source": [
        "from pyspark.sql import SparkSession\n",
        "spark = SparkSession.builder.appName(\"Regression_DeepLearning\").config(\"spark.driver.extraClassPath\",\"/content/postgresql-42.2.16.jar\").getOrCreate()"
      ],
      "execution_count": 3,
      "outputs": []
    },
    {
      "cell_type": "code",
      "metadata": {
        "id": "kbZk5lFRFR6p",
        "colab": {
          "base_uri": "https://localhost:8080/"
        },
        "outputId": "45e5be6d-cd62-46ab-b286-f19de23d4217"
      },
      "source": [
        "# Read in data from S3 Buckets\n",
        "from pyspark import SparkFiles\n",
        "url = \"https://tq2cutebucket.s3.us-west-1.amazonaws.com/sale_data.csv\"\n",
        "spark.sparkContext.addFile(url)\n",
        "df = spark.read.option(\"encoding\", \"UTF-8\").csv(SparkFiles.get(\"sale_data.csv\"), sep=\",\", header=True, inferSchema=True)\n",
        "df = df.sort(\"MLS_Number\")\n",
        "df.show()"
      ],
      "execution_count": 4,
      "outputs": [
        {
          "output_type": "stream",
          "text": [
            "+-----------+------+------------+---------+--------+---------+----------+---------+---------+---+----------+---+---------+---------+--------------+----------+----------+\n",
            "| MLS_Number|county|County_Index|SqFtTotal|Lot_Size|BedsTotal|BathsTotal|BathsFull|BathsHalf|Age|Year_Built|DOM|Year_Sold|Year_List|     Sale_Date|List_Price|Sale_Price|\n",
            "+-----------+------+------------+---------+--------+---------+----------+---------+---------+---+----------+---+---------+---------+--------------+----------+----------+\n",
            "|BA321014028|Sonoma|          20|     1520|  4400.0|        3|         2|        2|        0| 22|      1999|  0|     2021|     2021|5/23/2021 0:00|    629000|    650000|\n",
            "|BA321014324| Marin|          15|     2419|  7479.0|        4|         3|        3|        0| 58|      1963|  9|     2021|     2021|5/27/2021 0:00|   1299000|   1460000|\n",
            "|BA321015460|Solano|          16|     1226|  8969.0|        3|         2|        2|        0| 36|      1985| 37|     2021|     2021|3/10/2021 0:00|    449977|    470000|\n",
            "|BA321015670| Marin|          15|     2892| 43560.0|        4|         4|        4|        0|138|      1883|  7|     2021|     2021|5/25/2021 0:00|   1599000|   1781883|\n",
            "|BA321019503|Sonoma|          20|     2339| 76666.0|        3|         2|        2|        0| 69|      1952|  8|     2021|     2021|5/25/2021 0:00|   1600000|   1650000|\n",
            "|BA321020993|Sonoma|          20|     1972| 15298.0|        3|         3|        2|        1| 41|      1980|  3|     2021|     2021| 4/8/2021 0:00|    999000|   1150000|\n",
            "|BA321022379| Marin|          15|     3662| 21837.0|        4|         4|        3|        1| 71|      1950|  0|     2021|     2021| 4/1/2021 0:00|   5000000|   5000000|\n",
            "|BA321024324| Marin|          15|     4845| 11565.0|        5|         6|        5|        1|120|      1901| 29|     2021|     2021|5/28/2021 0:00|   4795000|   5050000|\n",
            "|BA321024642| Marin|          15|     1043|  6825.0|        2|         1|        1|        0| 70|      1951|  0|     2021|     2021|4/14/2021 0:00|    749000|    875000|\n",
            "|BA321024737|Solano|          16|     1081|  5663.0|        3|         2|        2|        0| 62|      1959|  5|     2021|     2021|5/26/2021 0:00|    450000|    490000|\n",
            "|BA321025000| Marin|          15|     3687|  7234.0|        5|         4|        4|        0| 60|      1961|  6|     2021|     2021|4/22/2021 0:00|   1450000|   1650000|\n",
            "|BA321025006|Sonoma|          20|     2128|  6098.0|        4|         3|        3|        0| 48|      1973|  0|     2021|     2021|5/27/2021 0:00|    915000|    925000|\n",
            "|BA321025610| Marin|          15|     2571|  7200.0|        4|         3|        3|        0| 66|      1955|  9|     2021|     2021|5/28/2021 0:00|   1795000|   2070000|\n",
            "|BA321027596| Marin|          15|     4625| 36477.0|        5|         5|        4|        1| 23|      1998|  0|     2021|     2021|5/28/2021 0:00|   4150000|   4600022|\n",
            "|BA321027742| Marin|          15|     2212| 24685.0|        4|         3|        2|        1| 53|      1968|  9|     2021|     2021|5/28/2021 0:00|    979000|   1150000|\n",
            "|BA321028960| Marin|          15|     1659|  6299.0|        4|         2|        2|        0| 63|      1958|  8|     2021|     2021|5/27/2021 0:00|   1595000|   1755000|\n",
            "|BA321028961|Sonoma|          20|     1548|  6055.0|        3|         2|        2|        0| 30|      1991| 24|     2021|     2021|5/17/2021 0:00|    629000|    647870|\n",
            "|BA321030017|Sonoma|          20|     2382|189050.0|        3|         4|        3|        1| 15|      2006|  6|     2021|     2021|5/27/2021 0:00|   1999000|   2400000|\n",
            "|BA321030026| Marin|          15|     1246|  8999.0|        3|         1|        1|        0|121|      1900|  2|     2021|     2021|5/21/2021 0:00|   1799000|   1810000|\n",
            "|BA321030118| Marin|          15|     2560|  9000.0|        4|         3|        3|        0| 74|      1947|  0|     2021|     2021|5/27/2021 0:00|   2599000|   3500000|\n",
            "+-----------+------+------------+---------+--------+---------+----------+---------+---------+---+----------+---+---------+---------+--------------+----------+----------+\n",
            "only showing top 20 rows\n",
            "\n"
          ],
          "name": "stdout"
        }
      ]
    },
    {
      "cell_type": "markdown",
      "metadata": {
        "id": "bpNDc-xfzChi"
      },
      "source": [
        "**Input the number of counties you want to run test**<br>"
      ]
    },
    {
      "cell_type": "code",
      "metadata": {
        "colab": {
          "base_uri": "https://localhost:8080/"
        },
        "id": "9pCMYRDf2Ewi",
        "outputId": "1e193861-2a68-471e-83dc-551ab798a5a0"
      },
      "source": [
        "df = df.select('county','County_Index','SqFtTotal','Lot_Size', 'BedsTotal','BathsTotal',\"Age\",'Year_Built','DOM','Year_Sold','Sale_Price')\n",
        "data_df = df.filter(\"County_Index < 10\")\n",
        "data_df.count()"
      ],
      "execution_count": 5,
      "outputs": [
        {
          "output_type": "execute_result",
          "data": {
            "text/plain": [
              "3064"
            ]
          },
          "metadata": {
            "tags": []
          },
          "execution_count": 5
        }
      ]
    },
    {
      "cell_type": "code",
      "metadata": {
        "colab": {
          "base_uri": "https://localhost:8080/"
        },
        "id": "AxU6faGaG2eu",
        "outputId": "60d95a8f-0ae2-4df5-8272-ef1f4846aacc"
      },
      "source": [
        "data_df.show()"
      ],
      "execution_count": 6,
      "outputs": [
        {
          "output_type": "stream",
          "text": [
            "+------------+------------+---------+--------+---------+----------+---+----------+---+---------+----------+\n",
            "|      county|County_Index|SqFtTotal|Lot_Size|BedsTotal|BathsTotal|Age|Year_Built|DOM|Year_Sold|Sale_Price|\n",
            "+------------+------------+---------+--------+---------+----------+---+----------+---+---------+----------+\n",
            "|Contra Costa|           6|     1967|  8512.0|        4|         2| 23|      1998|  4|     2021|    620000|\n",
            "|Contra Costa|           6|     1933| 12001.0|        4|         2| 58|      1963|  8|     2021|    801800|\n",
            "|     Alameda|           8|     1485|  5854.0|        3|         2| 53|      1968|  2|     2021|   1210000|\n",
            "|Contra Costa|           6|     2864|  8298.0|        4|         3| 16|      2005|  7|     2021|    800000|\n",
            "|Contra Costa|           6|     3620|  7640.0|        5|         3| 16|      2005|  0|     2021|    775000|\n",
            "|     Alameda|           8|      850|  5200.0|        2|         1| 74|      1947|  5|     2021|    652000|\n",
            "|Contra Costa|           6|     1459|  6800.0|        3|         2| 42|      1979|  5|     2021|    903000|\n",
            "|     Alameda|           8|     1392|  7194.0|        3|         2| 58|      1963| 11|     2021|    975000|\n",
            "|     Alameda|           8|     3760|  5822.0|        8|         5| 19|      2002|  4|     2021|   1926000|\n",
            "|     Alameda|           8|     2378|  7556.0|        5|         3| 53|      1968|  4|     2021|   1800000|\n",
            "| Santa Clara|           7|     1998| 14000.0|        4|         3| 51|      1970|  2|     2021|   3182000|\n",
            "|     Alameda|           8|     1488|  8591.0|        3|         2| 50|      1971|  6|     2021|   1300000|\n",
            "|     Alameda|           8|     2572|  6395.0|        5|         3| 52|      1969|  0|     2021|   1730000|\n",
            "|     Alameda|           8|     1254|  5998.0|        3|         2| 56|      1965|  4|     2021|    990000|\n",
            "|     Alameda|           8|     1992|  5000.0|        4|         5|126|      1895|  4|     2021|   2230000|\n",
            "|     Alameda|           8|     1188|  8146.0|        3|         2| 62|      1959|  5|     2021|    975000|\n",
            "|Contra Costa|           6|     1510|  5000.0|        2|         2| 24|      1997|  2|     2021|    570000|\n",
            "|     Alameda|           8|     2151| 10231.0|        3|         3| 44|      1977|  7|     2021|   1550000|\n",
            "|     Alameda|           8|     1598|  5414.0|        3|         2| 27|      1994|  7|     2021|   1430000|\n",
            "|     Alameda|           8|     1670|  6500.0|        4|         2| 55|      1966|  6|     2021|   1150000|\n",
            "+------------+------------+---------+--------+---------+----------+---+----------+---+---------+----------+\n",
            "only showing top 20 rows\n",
            "\n"
          ],
          "name": "stdout"
        }
      ]
    },
    {
      "cell_type": "markdown",
      "metadata": {
        "id": "_q3F4QNfaGmW"
      },
      "source": [
        "**Purpose**<br> Given the same data set and the same number of test sample, run both Regression and Neural Network"
      ]
    },
    {
      "cell_type": "code",
      "metadata": {
        "id": "5rDoAzll2FJE"
      },
      "source": [
        "# Import libraries\n",
        "import numpy as np\n",
        "import pandas as pd\n",
        "import seaborn as sns\n",
        "%matplotlib inline\n",
        "from pathlib import Path\n",
        "import matplotlib.pyplot as plt\n",
        "from sklearn.linear_model import LinearRegression"
      ],
      "execution_count": 7,
      "outputs": []
    },
    {
      "cell_type": "code",
      "metadata": {
        "id": "JBbAJ98y3O0v"
      },
      "source": [
        "data_array = np.array(data_df.collect())"
      ],
      "execution_count": 8,
      "outputs": []
    },
    {
      "cell_type": "code",
      "metadata": {
        "id": "OLJdL2AO3j5M"
      },
      "source": [
        "X = data_array[:,1:10]\n",
        "y = data_array[:,10:11]"
      ],
      "execution_count": 9,
      "outputs": []
    },
    {
      "cell_type": "code",
      "metadata": {
        "id": "NGYpN-BjEFBo",
        "colab": {
          "base_uri": "https://localhost:8080/"
        },
        "outputId": "b30cf352-9430-474f-b560-07f7ec5893ae"
      },
      "source": [
        "#your_array = your_array.astype(np.float64)\n",
        "X = X.astype(np.float64)\n",
        "y = y.astype(np.float64)\n",
        "X"
      ],
      "execution_count": 10,
      "outputs": [
        {
          "output_type": "execute_result",
          "data": {
            "text/plain": [
              "array([[6.0000e+00, 1.9670e+03, 8.5120e+03, ..., 1.9980e+03, 4.0000e+00,\n",
              "        2.0210e+03],\n",
              "       [6.0000e+00, 1.9330e+03, 1.2001e+04, ..., 1.9630e+03, 8.0000e+00,\n",
              "        2.0210e+03],\n",
              "       [8.0000e+00, 1.4850e+03, 5.8540e+03, ..., 1.9680e+03, 2.0000e+00,\n",
              "        2.0210e+03],\n",
              "       ...,\n",
              "       [0.0000e+00, 7.8000e+02, 1.3932e+04, ..., 1.9380e+03, 3.3000e+01,\n",
              "        2.0210e+03],\n",
              "       [0.0000e+00, 2.1590e+03, 3.7723e+04, ..., 1.9500e+03, 7.0000e+00,\n",
              "        2.0210e+03],\n",
              "       [0.0000e+00, 8.9180e+03, 1.3074e+04, ..., 2.0080e+03, 1.0000e+00,\n",
              "        2.0210e+03]])"
            ]
          },
          "metadata": {
            "tags": []
          },
          "execution_count": 10
        }
      ]
    },
    {
      "cell_type": "code",
      "metadata": {
        "id": "V721r4IJ8JaP"
      },
      "source": [
        "from sklearn.model_selection import train_test_split\n",
        "X_train, X_test, y_train, y_test = train_test_split(X, y, test_size=0.02, random_state=10)"
      ],
      "execution_count": 11,
      "outputs": []
    },
    {
      "cell_type": "code",
      "metadata": {
        "colab": {
          "base_uri": "https://localhost:8080/"
        },
        "id": "vSQDNEXS-X6-",
        "outputId": "18373a00-4f32-4432-9d91-7dadf41e818d"
      },
      "source": [
        "print(X_train.shape, X_test.shape, y_train.shape, y_test.shape)"
      ],
      "execution_count": 12,
      "outputs": [
        {
          "output_type": "stream",
          "text": [
            "(3002, 9) (62, 9) (3002, 1) (62, 1)\n"
          ],
          "name": "stdout"
        }
      ]
    },
    {
      "cell_type": "markdown",
      "metadata": {
        "id": "6tmJXgNvwmgf"
      },
      "source": [
        "**REGRESSION begins**"
      ]
    },
    {
      "cell_type": "code",
      "metadata": {
        "colab": {
          "base_uri": "https://localhost:8080/"
        },
        "id": "MoAa5O7T-38e",
        "outputId": "443e5cd9-0be2-4955-ba0a-fcb5313d29c3"
      },
      "source": [
        "# Fit ML Regression to a traing set\n",
        "# Note: intercept is set to zero\n",
        "from sklearn.linear_model import LinearRegression\n",
        "regression = LinearRegression(fit_intercept=False)\n",
        "regression.fit(X_train, y_train)\n",
        "\n",
        "# https://scikit-learn.org/stable/modules/generated/sklearn.linear_model.LinearRegression.html\n",
        "# LinearRegression(copy_X=True, fit_intercept=False, n_jobs=None, normalize=False)"
      ],
      "execution_count": 13,
      "outputs": [
        {
          "output_type": "execute_result",
          "data": {
            "text/plain": [
              "LinearRegression(copy_X=True, fit_intercept=False, n_jobs=None, normalize=False)"
            ]
          },
          "metadata": {
            "tags": []
          },
          "execution_count": 13
        }
      ]
    },
    {
      "cell_type": "code",
      "metadata": {
        "id": "bkVDltVtDJMx"
      },
      "source": [
        "# Predicting the test result\n",
        "y_pred = regression.predict(X_test)"
      ],
      "execution_count": 14,
      "outputs": []
    },
    {
      "cell_type": "code",
      "metadata": {
        "colab": {
          "base_uri": "https://localhost:8080/",
          "height": 357
        },
        "id": "bh_U9zIiHyiW",
        "outputId": "63df9616-d009-434c-ec52-1d8e6dd6cded"
      },
      "source": [
        "#df = pd.DataFrame.from_records([{ 'A':a,'B':b }], index='A')\n",
        "import pandas as pd\n",
        "regression_result_df = pd.DataFrame({\"Sale_Price\": [x[0] for x in y_test], \"Reg_Prediction\": [x[0] for x in y_pred]})\n",
        "regression_result_df['Reg_Prediction'] = regression_result_df['Reg_Prediction'].map('{:,.2f}'.format)\n",
        "regression_result_df.head(10)"
      ],
      "execution_count": 15,
      "outputs": [
        {
          "output_type": "execute_result",
          "data": {
            "text/html": [
              "<div>\n",
              "<style scoped>\n",
              "    .dataframe tbody tr th:only-of-type {\n",
              "        vertical-align: middle;\n",
              "    }\n",
              "\n",
              "    .dataframe tbody tr th {\n",
              "        vertical-align: top;\n",
              "    }\n",
              "\n",
              "    .dataframe thead th {\n",
              "        text-align: right;\n",
              "    }\n",
              "</style>\n",
              "<table border=\"1\" class=\"dataframe\">\n",
              "  <thead>\n",
              "    <tr style=\"text-align: right;\">\n",
              "      <th></th>\n",
              "      <th>Sale_Price</th>\n",
              "      <th>Reg_Prediction</th>\n",
              "    </tr>\n",
              "  </thead>\n",
              "  <tbody>\n",
              "    <tr>\n",
              "      <th>0</th>\n",
              "      <td>925000.0</td>\n",
              "      <td>1,197,152.87</td>\n",
              "    </tr>\n",
              "    <tr>\n",
              "      <th>1</th>\n",
              "      <td>765000.0</td>\n",
              "      <td>628,717.69</td>\n",
              "    </tr>\n",
              "    <tr>\n",
              "      <th>2</th>\n",
              "      <td>775000.0</td>\n",
              "      <td>1,232,569.11</td>\n",
              "    </tr>\n",
              "    <tr>\n",
              "      <th>3</th>\n",
              "      <td>317000.0</td>\n",
              "      <td>565,970.83</td>\n",
              "    </tr>\n",
              "    <tr>\n",
              "      <th>4</th>\n",
              "      <td>685000.0</td>\n",
              "      <td>641,230.62</td>\n",
              "    </tr>\n",
              "    <tr>\n",
              "      <th>5</th>\n",
              "      <td>2100000.0</td>\n",
              "      <td>2,239,918.12</td>\n",
              "    </tr>\n",
              "    <tr>\n",
              "      <th>6</th>\n",
              "      <td>286000.0</td>\n",
              "      <td>287,004.25</td>\n",
              "    </tr>\n",
              "    <tr>\n",
              "      <th>7</th>\n",
              "      <td>650000.0</td>\n",
              "      <td>961,617.31</td>\n",
              "    </tr>\n",
              "    <tr>\n",
              "      <th>8</th>\n",
              "      <td>460000.0</td>\n",
              "      <td>215,969.97</td>\n",
              "    </tr>\n",
              "    <tr>\n",
              "      <th>9</th>\n",
              "      <td>1500000.0</td>\n",
              "      <td>904,590.83</td>\n",
              "    </tr>\n",
              "  </tbody>\n",
              "</table>\n",
              "</div>"
            ],
            "text/plain": [
              "   Sale_Price Reg_Prediction\n",
              "0    925000.0   1,197,152.87\n",
              "1    765000.0     628,717.69\n",
              "2    775000.0   1,232,569.11\n",
              "3    317000.0     565,970.83\n",
              "4    685000.0     641,230.62\n",
              "5   2100000.0   2,239,918.12\n",
              "6    286000.0     287,004.25\n",
              "7    650000.0     961,617.31\n",
              "8    460000.0     215,969.97\n",
              "9   1500000.0     904,590.83"
            ]
          },
          "metadata": {
            "tags": []
          },
          "execution_count": 15
        }
      ]
    },
    {
      "cell_type": "code",
      "metadata": {
        "colab": {
          "base_uri": "https://localhost:8080/",
          "height": 357
        },
        "id": "RkdxsXeKKy7j",
        "outputId": "cbebef1c-91c5-4d15-9f02-747c90a08a59"
      },
      "source": [
        "# Built the dataframe of tested rows\n",
        "import pandas as pd\n",
        "\n",
        "# Built the dataframe of tested items. Select the column needed\n",
        "# Need this dataframe later to append the talbe of testing variables\n",
        "county_index_pyspark = df.select('county','County_Index').drop_duplicates().sort('county')\n",
        "\n",
        "#pandasDF = pysparkDF.toPandas()\n",
        "county_index_df = county_index_pyspark.toPandas()\n",
        "\n",
        "# create a panda df from the X_test information\n",
        "test_data_df = pd.DataFrame(X_test,columns=['County_Index','SqFtTotal','Lot_Size', 'BedsTotal','BathsTotal',\"Age\",'Year_Built','DOM','Year_Sold'])\n",
        "\n",
        "#df = pd.DataFrame.from_records([{ 'A':a,'B':b }], index='A')\n",
        "regression_result_df = pd.DataFrame({\"Sale_Price\": [x[0] for x in y_test], \"Reg_Prediction\": [x[0] for x in y_pred]})\n",
        "regression_result_df['Reg_Prediction'] = regression_result_df['Reg_Prediction'].map('{:,.2f}'.format)\n",
        "regression_result_df.head(10)\n",
        "\n",
        "# This is the final data frame. Merge two df to match the independent variables and the predicted price\n",
        "regression_result_data_df = test_data_df.merge(regression_result_df, how='left', left_index=True, right_index=True)\n",
        "\n",
        "#result = pd.merge(left, right, on=\"key\")\n",
        "final_regression_df = pd.merge(county_index_df, regression_result_data_df, on=\"County_Index\")\n",
        "final_regression_df.head(10)\n",
        "\n",
        "#pandasDF = pysparkDF.toPandas()\n",
        "#sparkDF=spark.createDataFrame(pandasDF)\n",
        "#reg_test_prediction_df = spark.createDataFrame(final_add_county_df)\n",
        "#reg_test_prediction_df.show(10)"
      ],
      "execution_count": 16,
      "outputs": [
        {
          "output_type": "execute_result",
          "data": {
            "text/html": [
              "<div>\n",
              "<style scoped>\n",
              "    .dataframe tbody tr th:only-of-type {\n",
              "        vertical-align: middle;\n",
              "    }\n",
              "\n",
              "    .dataframe tbody tr th {\n",
              "        vertical-align: top;\n",
              "    }\n",
              "\n",
              "    .dataframe thead th {\n",
              "        text-align: right;\n",
              "    }\n",
              "</style>\n",
              "<table border=\"1\" class=\"dataframe\">\n",
              "  <thead>\n",
              "    <tr style=\"text-align: right;\">\n",
              "      <th></th>\n",
              "      <th>county</th>\n",
              "      <th>County_Index</th>\n",
              "      <th>SqFtTotal</th>\n",
              "      <th>Lot_Size</th>\n",
              "      <th>BedsTotal</th>\n",
              "      <th>BathsTotal</th>\n",
              "      <th>Age</th>\n",
              "      <th>Year_Built</th>\n",
              "      <th>DOM</th>\n",
              "      <th>Year_Sold</th>\n",
              "      <th>Sale_Price</th>\n",
              "      <th>Reg_Prediction</th>\n",
              "    </tr>\n",
              "  </thead>\n",
              "  <tbody>\n",
              "    <tr>\n",
              "      <th>0</th>\n",
              "      <td>Alameda</td>\n",
              "      <td>8</td>\n",
              "      <td>2242.0</td>\n",
              "      <td>3915.0</td>\n",
              "      <td>4.0</td>\n",
              "      <td>3.0</td>\n",
              "      <td>13.0</td>\n",
              "      <td>2008.0</td>\n",
              "      <td>6.0</td>\n",
              "      <td>2021.0</td>\n",
              "      <td>1587000.0</td>\n",
              "      <td>979,768.78</td>\n",
              "    </tr>\n",
              "    <tr>\n",
              "      <th>1</th>\n",
              "      <td>Alameda</td>\n",
              "      <td>8</td>\n",
              "      <td>1159.0</td>\n",
              "      <td>6500.0</td>\n",
              "      <td>3.0</td>\n",
              "      <td>2.0</td>\n",
              "      <td>56.0</td>\n",
              "      <td>1965.0</td>\n",
              "      <td>5.0</td>\n",
              "      <td>2021.0</td>\n",
              "      <td>1200000.0</td>\n",
              "      <td>722,895.54</td>\n",
              "    </tr>\n",
              "    <tr>\n",
              "      <th>2</th>\n",
              "      <td>Alameda</td>\n",
              "      <td>8</td>\n",
              "      <td>1989.0</td>\n",
              "      <td>7985.0</td>\n",
              "      <td>3.0</td>\n",
              "      <td>3.0</td>\n",
              "      <td>48.0</td>\n",
              "      <td>1973.0</td>\n",
              "      <td>6.0</td>\n",
              "      <td>2021.0</td>\n",
              "      <td>1535000.0</td>\n",
              "      <td>1,474,622.49</td>\n",
              "    </tr>\n",
              "    <tr>\n",
              "      <th>3</th>\n",
              "      <td>Contra Costa</td>\n",
              "      <td>6</td>\n",
              "      <td>1714.0</td>\n",
              "      <td>6700.0</td>\n",
              "      <td>4.0</td>\n",
              "      <td>3.0</td>\n",
              "      <td>65.0</td>\n",
              "      <td>1956.0</td>\n",
              "      <td>7.0</td>\n",
              "      <td>2021.0</td>\n",
              "      <td>925000.0</td>\n",
              "      <td>1,197,152.87</td>\n",
              "    </tr>\n",
              "    <tr>\n",
              "      <th>4</th>\n",
              "      <td>Contra Costa</td>\n",
              "      <td>6</td>\n",
              "      <td>2041.0</td>\n",
              "      <td>6800.0</td>\n",
              "      <td>4.0</td>\n",
              "      <td>3.0</td>\n",
              "      <td>48.0</td>\n",
              "      <td>1973.0</td>\n",
              "      <td>6.0</td>\n",
              "      <td>2021.0</td>\n",
              "      <td>775000.0</td>\n",
              "      <td>1,232,569.11</td>\n",
              "    </tr>\n",
              "    <tr>\n",
              "      <th>5</th>\n",
              "      <td>Contra Costa</td>\n",
              "      <td>6</td>\n",
              "      <td>932.0</td>\n",
              "      <td>5000.0</td>\n",
              "      <td>3.0</td>\n",
              "      <td>1.0</td>\n",
              "      <td>75.0</td>\n",
              "      <td>1946.0</td>\n",
              "      <td>7.0</td>\n",
              "      <td>2021.0</td>\n",
              "      <td>317000.0</td>\n",
              "      <td>565,970.83</td>\n",
              "    </tr>\n",
              "    <tr>\n",
              "      <th>6</th>\n",
              "      <td>Contra Costa</td>\n",
              "      <td>6</td>\n",
              "      <td>1677.0</td>\n",
              "      <td>9800.0</td>\n",
              "      <td>4.0</td>\n",
              "      <td>2.0</td>\n",
              "      <td>58.0</td>\n",
              "      <td>1963.0</td>\n",
              "      <td>5.0</td>\n",
              "      <td>2021.0</td>\n",
              "      <td>1500000.0</td>\n",
              "      <td>904,590.83</td>\n",
              "    </tr>\n",
              "    <tr>\n",
              "      <th>7</th>\n",
              "      <td>Contra Costa</td>\n",
              "      <td>6</td>\n",
              "      <td>2448.0</td>\n",
              "      <td>13939.0</td>\n",
              "      <td>5.0</td>\n",
              "      <td>3.0</td>\n",
              "      <td>57.0</td>\n",
              "      <td>1964.0</td>\n",
              "      <td>0.0</td>\n",
              "      <td>2021.0</td>\n",
              "      <td>1600000.0</td>\n",
              "      <td>1,491,598.48</td>\n",
              "    </tr>\n",
              "    <tr>\n",
              "      <th>8</th>\n",
              "      <td>Contra Costa</td>\n",
              "      <td>6</td>\n",
              "      <td>1602.0</td>\n",
              "      <td>8649.0</td>\n",
              "      <td>3.0</td>\n",
              "      <td>2.0</td>\n",
              "      <td>67.0</td>\n",
              "      <td>1954.0</td>\n",
              "      <td>9.0</td>\n",
              "      <td>2021.0</td>\n",
              "      <td>1675000.0</td>\n",
              "      <td>1,182,330.50</td>\n",
              "    </tr>\n",
              "    <tr>\n",
              "      <th>9</th>\n",
              "      <td>Los Angeles</td>\n",
              "      <td>0</td>\n",
              "      <td>1197.0</td>\n",
              "      <td>7840.0</td>\n",
              "      <td>3.0</td>\n",
              "      <td>2.0</td>\n",
              "      <td>68.0</td>\n",
              "      <td>1953.0</td>\n",
              "      <td>4.0</td>\n",
              "      <td>2021.0</td>\n",
              "      <td>765000.0</td>\n",
              "      <td>628,717.69</td>\n",
              "    </tr>\n",
              "  </tbody>\n",
              "</table>\n",
              "</div>"
            ],
            "text/plain": [
              "         county  County_Index  SqFtTotal  ...  Year_Sold  Sale_Price  Reg_Prediction\n",
              "0       Alameda             8     2242.0  ...     2021.0   1587000.0      979,768.78\n",
              "1       Alameda             8     1159.0  ...     2021.0   1200000.0      722,895.54\n",
              "2       Alameda             8     1989.0  ...     2021.0   1535000.0    1,474,622.49\n",
              "3  Contra Costa             6     1714.0  ...     2021.0    925000.0    1,197,152.87\n",
              "4  Contra Costa             6     2041.0  ...     2021.0    775000.0    1,232,569.11\n",
              "5  Contra Costa             6      932.0  ...     2021.0    317000.0      565,970.83\n",
              "6  Contra Costa             6     1677.0  ...     2021.0   1500000.0      904,590.83\n",
              "7  Contra Costa             6     2448.0  ...     2021.0   1600000.0    1,491,598.48\n",
              "8  Contra Costa             6     1602.0  ...     2021.0   1675000.0    1,182,330.50\n",
              "9   Los Angeles             0     1197.0  ...     2021.0    765000.0      628,717.69\n",
              "\n",
              "[10 rows x 12 columns]"
            ]
          },
          "metadata": {
            "tags": []
          },
          "execution_count": 16
        }
      ]
    },
    {
      "cell_type": "code",
      "metadata": {
        "colab": {
          "base_uri": "https://localhost:8080/"
        },
        "id": "HpXUUU9NJBgL",
        "outputId": "52faf8e0-3bde-44d5-e400-e25a4483d81d"
      },
      "source": [
        "# Print out the interceptor\n",
        "# Expect intercept has to be zero\n",
        "print(\"Regression Intercept: \" + str(regression.intercept_))"
      ],
      "execution_count": 17,
      "outputs": [
        {
          "output_type": "stream",
          "text": [
            "Regression Intercept: 0.0\n"
          ],
          "name": "stdout"
        }
      ]
    },
    {
      "cell_type": "code",
      "metadata": {
        "id": "izni-9FLGO7P",
        "colab": {
          "base_uri": "https://localhost:8080/"
        },
        "outputId": "e7262b43-a465-420b-ddc6-1296f5ce8021"
      },
      "source": [
        "# Print out the coefficents\n",
        "print(\"Regression Coefficients: \" + str(regression.coef_))\n",
        "#print(regression.coef_)"
      ],
      "execution_count": 18,
      "outputs": [
        {
          "output_type": "stream",
          "text": [
            "Regression Coefficients: [[ 3.70768342e+04  8.48314417e+02  1.75031985e-03 -2.12009980e+05\n",
            "   1.60969319e+05 -1.62018533e+05 -1.76231681e+05  3.59239779e+02\n",
            "   1.75716803e+05]]\n"
          ],
          "name": "stdout"
        }
      ]
    },
    {
      "cell_type": "code",
      "metadata": {
        "colab": {
          "base_uri": "https://localhost:8080/"
        },
        "id": "TD3xGTamtxRh",
        "outputId": "9a748281-c37a-44b2-871d-63ed8e9d6bb5"
      },
      "source": [
        "from sklearn.metrics import r2_score\n",
        "from sklearn.metrics import mean_squared_error\n",
        "#\n",
        "print(\"MSE -- Regression: \" + str(mean_squared_error(y_test, y_pred)))\n",
        "print(\"r2 -- Regression: \" + str(r2_score(y_test, y_pred)))"
      ],
      "execution_count": 19,
      "outputs": [
        {
          "output_type": "stream",
          "text": [
            "MSE -- Regression: 168323272666.91016\n",
            "r2 -- Regression: 0.20895416302220204\n"
          ],
          "name": "stdout"
        }
      ]
    },
    {
      "cell_type": "code",
      "metadata": {
        "id": "e1K3xZFIHdJW",
        "colab": {
          "base_uri": "https://localhost:8080/",
          "height": 295
        },
        "outputId": "f08037fa-4ad4-4095-b99a-bf2f44f0f99b"
      },
      "source": [
        "import matplotlib.pyplot as plt\n",
        "plt.plot(y_pred)\n",
        "plt.plot(y_test)\n",
        "plt.title('Model Regression')\n",
        "plt.ylabel('Price $')\n",
        "plt.xlabel('No. of Test Samples')\n",
        "plt.legend(['Prediction', 'Sale Price'], loc='upper right')\n",
        "plt.show()"
      ],
      "execution_count": 20,
      "outputs": [
        {
          "output_type": "display_data",
          "data": {
            "image/png": "[encoded data removed]",
            "text/plain": [
              "<Figure size 432x288 with 1 Axes>"
            ]
          },
          "metadata": {
            "tags": [],
            "needs_background": "light"
          }
        }
      ]
    },
    {
      "cell_type": "markdown",
      "metadata": {
        "id": "lM1xNxclg6nL"
      },
      "source": [
        "**END REGRESSION**"
      ]
    },
    {
      "cell_type": "markdown",
      "metadata": {
        "id": "xTpIK265wZQ_"
      },
      "source": [
        "**NEURAL NETWORK begins**"
      ]
    },
    {
      "cell_type": "code",
      "metadata": {
        "id": "Jm1a6q9OKNlM"
      },
      "source": [
        "from keras.models import Sequential\n",
        "from keras.layers import Dense"
      ],
      "execution_count": 21,
      "outputs": []
    },
    {
      "cell_type": "code",
      "metadata": {
        "colab": {
          "base_uri": "https://localhost:8080/"
        },
        "id": "EaWXxH_VMs9o",
        "outputId": "3d67cc9a-d4af-4448-d79c-6d9e05164528"
      },
      "source": [
        "print(X_train.shape, X_test.shape, y_train.shape, y_test.shape)"
      ],
      "execution_count": 22,
      "outputs": [
        {
          "output_type": "stream",
          "text": [
            "(3002, 9) (62, 9) (3002, 1) (62, 1)\n"
          ],
          "name": "stdout"
        }
      ]
    },
    {
      "cell_type": "code",
      "metadata": {
        "id": "IgVdVyLhKOAM"
      },
      "source": [
        "model = Sequential([\n",
        "    Dense(10, activation='relu', input_shape=(9,)),\n",
        "    Dense(1, activation='relu'),\n",
        "])\n"
      ],
      "execution_count": 23,
      "outputs": []
    },
    {
      "cell_type": "code",
      "metadata": {
        "id": "-kgMcvkEKOSu"
      },
      "source": [
        "model.compile(optimizer='Adam',\n",
        "              loss='MSE',\n",
        "              metrics=['MSE'])"
      ],
      "execution_count": 24,
      "outputs": []
    },
    {
      "cell_type": "code",
      "metadata": {
        "colab": {
          "base_uri": "https://localhost:8080/"
        },
        "id": "0TpyI4mDKOoC",
        "outputId": "edbab70c-8ffd-4adb-8d9c-39d1eae997d6"
      },
      "source": [
        "hist = model.fit(X_train, y_train,\n",
        "          batch_size=32, epochs=50,\n",
        "          validation_data=(X_test, y_test))"
      ],
      "execution_count": 25,
      "outputs": [
        {
          "output_type": "stream",
          "text": [
            "Epoch 1/50\n",
            "94/94 [==============================] - 15s 6ms/step - loss: 2137404420915.2000 - MSE: 2137404420915.2000 - val_loss: 978258493440.0000 - val_MSE: 978258493440.0000\n",
            "Epoch 2/50\n",
            "94/94 [==============================] - 0s 1ms/step - loss: 2461238097898.4419 - MSE: 2461238097898.4419 - val_loss: 971180539904.0000 - val_MSE: 971180539904.0000\n",
            "Epoch 3/50\n",
            "94/94 [==============================] - 0s 1ms/step - loss: 2372487119192.9263 - MSE: 2372487119192.9263 - val_loss: 959696928768.0000 - val_MSE: 959696928768.0000\n",
            "Epoch 4/50\n",
            "94/94 [==============================] - 0s 2ms/step - loss: 2741772422521.2632 - MSE: 2741772422521.2632 - val_loss: 954530922496.0000 - val_MSE: 954530922496.0000\n",
            "Epoch 5/50\n",
            "94/94 [==============================] - 0s 1ms/step - loss: 2834829964945.5156 - MSE: 2834829964945.5156 - val_loss: 951133274112.0000 - val_MSE: 951133274112.0000\n",
            "Epoch 6/50\n",
            "94/94 [==============================] - 0s 2ms/step - loss: 2107010595656.7578 - MSE: 2107010595656.7578 - val_loss: 947720421376.0000 - val_MSE: 947720421376.0000\n",
            "Epoch 7/50\n",
            "94/94 [==============================] - 0s 2ms/step - loss: 2625245649305.6001 - MSE: 2625245649305.6001 - val_loss: 944427237376.0000 - val_MSE: 944427237376.0000\n",
            "Epoch 8/50\n",
            "94/94 [==============================] - 0s 1ms/step - loss: 2783577634104.5894 - MSE: 2783577634104.5894 - val_loss: 941346258944.0000 - val_MSE: 941346258944.0000\n",
            "Epoch 9/50\n",
            "94/94 [==============================] - 0s 1ms/step - loss: 2535746448157.6421 - MSE: 2535746448157.6421 - val_loss: 938091020288.0000 - val_MSE: 938091020288.0000\n",
            "Epoch 10/50\n",
            "94/94 [==============================] - 0s 2ms/step - loss: 2339295201991.4106 - MSE: 2339295201991.4106 - val_loss: 934676856832.0000 - val_MSE: 934676856832.0000\n",
            "Epoch 11/50\n",
            "94/94 [==============================] - 0s 1ms/step - loss: 2414873748232.0840 - MSE: 2414873748232.0840 - val_loss: 931266887680.0000 - val_MSE: 931266887680.0000\n",
            "Epoch 12/50\n",
            "94/94 [==============================] - 0s 2ms/step - loss: 2048516209825.6843 - MSE: 2048516209825.6843 - val_loss: 927753371648.0000 - val_MSE: 927753371648.0000\n",
            "Epoch 13/50\n",
            "94/94 [==============================] - 0s 2ms/step - loss: 2204877427076.0420 - MSE: 2204877427076.0420 - val_loss: 924021424128.0000 - val_MSE: 924021424128.0000\n",
            "Epoch 14/50\n",
            "94/94 [==============================] - 0s 2ms/step - loss: 2298745184169.7686 - MSE: 2298745184169.7686 - val_loss: 920133173248.0000 - val_MSE: 920133173248.0000\n",
            "Epoch 15/50\n",
            "94/94 [==============================] - 0s 1ms/step - loss: 2654872628859.9580 - MSE: 2654872628859.9580 - val_loss: 916129644544.0000 - val_MSE: 916129644544.0000\n",
            "Epoch 16/50\n",
            "94/94 [==============================] - 0s 1ms/step - loss: 2211494146522.2739 - MSE: 2211494146522.2739 - val_loss: 911908012032.0000 - val_MSE: 911908012032.0000\n",
            "Epoch 17/50\n",
            "94/94 [==============================] - 0s 1ms/step - loss: 2234029206474.1055 - MSE: 2234029206474.1055 - val_loss: 907388780544.0000 - val_MSE: 907388780544.0000\n",
            "Epoch 18/50\n",
            "94/94 [==============================] - 0s 1ms/step - loss: 2289770735378.8633 - MSE: 2289770735378.8633 - val_loss: 902658719744.0000 - val_MSE: 902658719744.0000\n",
            "Epoch 19/50\n",
            "94/94 [==============================] - 0s 1ms/step - loss: 2247746993658.6104 - MSE: 2247746993658.6104 - val_loss: 897687420928.0000 - val_MSE: 897687420928.0000\n",
            "Epoch 20/50\n",
            "94/94 [==============================] - 0s 2ms/step - loss: 2149706293851.6211 - MSE: 2149706293851.6211 - val_loss: 892405612544.0000 - val_MSE: 892405612544.0000\n",
            "Epoch 21/50\n",
            "94/94 [==============================] - 0s 2ms/step - loss: 2011460541170.5264 - MSE: 2011460541170.5264 - val_loss: 886871490560.0000 - val_MSE: 886871490560.0000\n",
            "Epoch 22/50\n",
            "94/94 [==============================] - 0s 1ms/step - loss: 2616813962768.1685 - MSE: 2616813962768.1685 - val_loss: 881080401920.0000 - val_MSE: 881080401920.0000\n",
            "Epoch 23/50\n",
            "94/94 [==============================] - 0s 1ms/step - loss: 2531176473869.4736 - MSE: 2531176473869.4736 - val_loss: 874852646912.0000 - val_MSE: 874852646912.0000\n",
            "Epoch 24/50\n",
            "94/94 [==============================] - 0s 1ms/step - loss: 2471535529509.7261 - MSE: 2471535529509.7261 - val_loss: 868212015104.0000 - val_MSE: 868212015104.0000\n",
            "Epoch 25/50\n",
            "94/94 [==============================] - 0s 1ms/step - loss: 2116681885976.2527 - MSE: 2116681885976.2527 - val_loss: 861213032448.0000 - val_MSE: 861213032448.0000\n",
            "Epoch 26/50\n",
            "94/94 [==============================] - 0s 1ms/step - loss: 2021641162795.1157 - MSE: 2021641162795.1157 - val_loss: 853833940992.0000 - val_MSE: 853833940992.0000\n",
            "Epoch 27/50\n",
            "94/94 [==============================] - 0s 2ms/step - loss: 2142587763873.6843 - MSE: 2142587763873.6843 - val_loss: 846133592064.0000 - val_MSE: 846133592064.0000\n",
            "Epoch 28/50\n",
            "94/94 [==============================] - 0s 2ms/step - loss: 2450054463660.4634 - MSE: 2450054463660.4634 - val_loss: 837925601280.0000 - val_MSE: 837925601280.0000\n",
            "Epoch 29/50\n",
            "94/94 [==============================] - 0s 1ms/step - loss: 2108242393756.2947 - MSE: 2108242393756.2947 - val_loss: 829300604928.0000 - val_MSE: 829300604928.0000\n",
            "Epoch 30/50\n",
            "94/94 [==============================] - 0s 1ms/step - loss: 1959336626370.0210 - MSE: 1959336626370.0210 - val_loss: 820499906560.0000 - val_MSE: 820499906560.0000\n",
            "Epoch 31/50\n",
            "94/94 [==============================] - 0s 1ms/step - loss: 1940419329530.6106 - MSE: 1940419329530.6106 - val_loss: 811074060288.0000 - val_MSE: 811074060288.0000\n",
            "Epoch 32/50\n",
            "94/94 [==============================] - 0s 1ms/step - loss: 2263387623639.5791 - MSE: 2263387623639.5791 - val_loss: 801165934592.0000 - val_MSE: 801165934592.0000\n",
            "Epoch 33/50\n",
            "94/94 [==============================] - 0s 1ms/step - loss: 1875833300754.8630 - MSE: 1875833300754.8630 - val_loss: 791099998208.0000 - val_MSE: 791099998208.0000\n",
            "Epoch 34/50\n",
            "94/94 [==============================] - 0s 2ms/step - loss: 2192619374268.6316 - MSE: 2192619374268.6316 - val_loss: 780449284096.0000 - val_MSE: 780449284096.0000\n",
            "Epoch 35/50\n",
            "94/94 [==============================] - 0s 2ms/step - loss: 1980799845731.7053 - MSE: 1980799845731.7053 - val_loss: 769299382272.0000 - val_MSE: 769299382272.0000\n",
            "Epoch 36/50\n",
            "94/94 [==============================] - 0s 2ms/step - loss: 1741785498634.7791 - MSE: 1741785498634.7791 - val_loss: 758138732544.0000 - val_MSE: 758138732544.0000\n",
            "Epoch 37/50\n",
            "94/94 [==============================] - 0s 1ms/step - loss: 1963402553624.2527 - MSE: 1963402553624.2527 - val_loss: 746203643904.0000 - val_MSE: 746203643904.0000\n",
            "Epoch 38/50\n",
            "94/94 [==============================] - 0s 1ms/step - loss: 1818220102321.8525 - MSE: 1818220102321.8525 - val_loss: 733879795712.0000 - val_MSE: 733879795712.0000\n",
            "Epoch 39/50\n",
            "94/94 [==============================] - 0s 1ms/step - loss: 2009165538056.0842 - MSE: 2009165538056.0842 - val_loss: 722592792576.0000 - val_MSE: 722592792576.0000\n",
            "Epoch 40/50\n",
            "94/94 [==============================] - 0s 1ms/step - loss: 1941222796751.4946 - MSE: 1941222796751.4946 - val_loss: 709534547968.0000 - val_MSE: 709534547968.0000\n",
            "Epoch 41/50\n",
            "94/94 [==============================] - 0s 1ms/step - loss: 1828798989667.7053 - MSE: 1828798989667.7053 - val_loss: 696143642624.0000 - val_MSE: 696143642624.0000\n",
            "Epoch 42/50\n",
            "94/94 [==============================] - 0s 2ms/step - loss: 2128307454296.9263 - MSE: 2128307454296.9263 - val_loss: 682568253440.0000 - val_MSE: 682568253440.0000\n",
            "Epoch 43/50\n",
            "94/94 [==============================] - 0s 2ms/step - loss: 1991854268502.2317 - MSE: 1991854268502.2317 - val_loss: 668423421952.0000 - val_MSE: 668423487488.0000\n",
            "Epoch 44/50\n",
            "94/94 [==============================] - 0s 2ms/step - loss: 1816097132587.1157 - MSE: 1816097132587.1157 - val_loss: 654157938688.0000 - val_MSE: 654157938688.0000\n",
            "Epoch 45/50\n",
            "94/94 [==============================] - 0s 1ms/step - loss: 2069294248237.8105 - MSE: 2069294248237.8105 - val_loss: 639918080000.0000 - val_MSE: 639918080000.0000\n",
            "Epoch 46/50\n",
            "94/94 [==============================] - 0s 1ms/step - loss: 2148902440313.2632 - MSE: 2148902440313.2632 - val_loss: 625168875520.0000 - val_MSE: 625168875520.0000\n",
            "Epoch 47/50\n",
            "94/94 [==============================] - 0s 1ms/step - loss: 1878821133904.8420 - MSE: 1878821133904.8420 - val_loss: 610235973632.0000 - val_MSE: 610235973632.0000\n",
            "Epoch 48/50\n",
            "94/94 [==============================] - 0s 1ms/step - loss: 1726636201013.8948 - MSE: 1726636201013.8948 - val_loss: 596193640448.0000 - val_MSE: 596193640448.0000\n",
            "Epoch 49/50\n",
            "94/94 [==============================] - 0s 2ms/step - loss: 1907103717613.1370 - MSE: 1907103717613.1370 - val_loss: 580765417472.0000 - val_MSE: 580765417472.0000\n",
            "Epoch 50/50\n",
            "94/94 [==============================] - 0s 1ms/step - loss: 2173787211452.6316 - MSE: 2173787211452.6316 - val_loss: 565517025280.0000 - val_MSE: 565517025280.0000\n"
          ],
          "name": "stdout"
        }
      ]
    },
    {
      "cell_type": "code",
      "metadata": {
        "id": "F7AISbx7NZxR"
      },
      "source": [
        "# the predict() method is used to generate predictions\n",
        "y_pred2 = model.predict(X_test)\n",
        "#print(y_pred2)"
      ],
      "execution_count": 26,
      "outputs": []
    },
    {
      "cell_type": "code",
      "metadata": {
        "colab": {
          "base_uri": "https://localhost:8080/",
          "height": 357
        },
        "id": "UAci2lc5KvBM",
        "outputId": "27c038b5-00d1-4f06-c7be-bffe7c24efd6"
      },
      "source": [
        "#df = pd.DataFrame.from_records([{ 'A':a,'B':b }], index='A')\n",
        "import pandas as pd\n",
        "dl_result_df = pd.DataFrame({\"Sale_Price\": [x[0] for x in y_test], \"DL_Prediction\": [x[0] for x in y_pred2]})\n",
        "dl_result_df['DL_Prediction'] = dl_result_df['DL_Prediction'].map('{:,.2f}'.format)\n",
        "dl_result_df.head(10)"
      ],
      "execution_count": 27,
      "outputs": [
        {
          "output_type": "execute_result",
          "data": {
            "text/html": [
              "<div>\n",
              "<style scoped>\n",
              "    .dataframe tbody tr th:only-of-type {\n",
              "        vertical-align: middle;\n",
              "    }\n",
              "\n",
              "    .dataframe tbody tr th {\n",
              "        vertical-align: top;\n",
              "    }\n",
              "\n",
              "    .dataframe thead th {\n",
              "        text-align: right;\n",
              "    }\n",
              "</style>\n",
              "<table border=\"1\" class=\"dataframe\">\n",
              "  <thead>\n",
              "    <tr style=\"text-align: right;\">\n",
              "      <th></th>\n",
              "      <th>Sale_Price</th>\n",
              "      <th>DL_Prediction</th>\n",
              "    </tr>\n",
              "  </thead>\n",
              "  <tbody>\n",
              "    <tr>\n",
              "      <th>0</th>\n",
              "      <td>925000.0</td>\n",
              "      <td>267,175.06</td>\n",
              "    </tr>\n",
              "    <tr>\n",
              "      <th>1</th>\n",
              "      <td>765000.0</td>\n",
              "      <td>244,343.75</td>\n",
              "    </tr>\n",
              "    <tr>\n",
              "      <th>2</th>\n",
              "      <td>775000.0</td>\n",
              "      <td>281,314.38</td>\n",
              "    </tr>\n",
              "    <tr>\n",
              "      <th>3</th>\n",
              "      <td>317000.0</td>\n",
              "      <td>233,338.75</td>\n",
              "    </tr>\n",
              "    <tr>\n",
              "      <th>4</th>\n",
              "      <td>685000.0</td>\n",
              "      <td>244,349.95</td>\n",
              "    </tr>\n",
              "    <tr>\n",
              "      <th>5</th>\n",
              "      <td>2100000.0</td>\n",
              "      <td>352,419.03</td>\n",
              "    </tr>\n",
              "    <tr>\n",
              "      <th>6</th>\n",
              "      <td>286000.0</td>\n",
              "      <td>233,390.33</td>\n",
              "    </tr>\n",
              "    <tr>\n",
              "      <th>7</th>\n",
              "      <td>650000.0</td>\n",
              "      <td>287,029.19</td>\n",
              "    </tr>\n",
              "    <tr>\n",
              "      <th>8</th>\n",
              "      <td>460000.0</td>\n",
              "      <td>250,984.67</td>\n",
              "    </tr>\n",
              "    <tr>\n",
              "      <th>9</th>\n",
              "      <td>1500000.0</td>\n",
              "      <td>265,350.62</td>\n",
              "    </tr>\n",
              "  </tbody>\n",
              "</table>\n",
              "</div>"
            ],
            "text/plain": [
              "   Sale_Price DL_Prediction\n",
              "0    925000.0    267,175.06\n",
              "1    765000.0    244,343.75\n",
              "2    775000.0    281,314.38\n",
              "3    317000.0    233,338.75\n",
              "4    685000.0    244,349.95\n",
              "5   2100000.0    352,419.03\n",
              "6    286000.0    233,390.33\n",
              "7    650000.0    287,029.19\n",
              "8    460000.0    250,984.67\n",
              "9   1500000.0    265,350.62"
            ]
          },
          "metadata": {
            "tags": []
          },
          "execution_count": 27
        }
      ]
    },
    {
      "cell_type": "code",
      "metadata": {
        "colab": {
          "base_uri": "https://localhost:8080/"
        },
        "id": "g1SZUrjcOJiU",
        "outputId": "3ea8ffae-a5a6-4282-9ae3-e149dd24255c"
      },
      "source": [
        "#result = pd.merge(left, right, on=\"key\")\n",
        "final_regression_deeplearning_df = pd.merge(final_regression_df, dl_result_df, on=\"Sale_Price\")\n",
        "#final_regression_deeplearning_df.head(10)\n",
        "\n",
        "#pandasDF = pysparkDF.toPandas()\n",
        "#sparkDF=spark.createDataFrame(pandasDF)\n",
        "regression_dl_pandasDF = spark.createDataFrame(final_regression_deeplearning_df)\n",
        "regression_dl_pandasDF.show(10)\n",
        "regression_dl_pandasDF.count()"
      ],
      "execution_count": 28,
      "outputs": [
        {
          "output_type": "stream",
          "text": [
            "+------------+------------+---------+--------+---------+----------+----+----------+----+---------+----------+--------------+-------------+\n",
            "|      county|County_Index|SqFtTotal|Lot_Size|BedsTotal|BathsTotal| Age|Year_Built| DOM|Year_Sold|Sale_Price|Reg_Prediction|DL_Prediction|\n",
            "+------------+------------+---------+--------+---------+----------+----+----------+----+---------+----------+--------------+-------------+\n",
            "|     Alameda|           8|   2242.0|  3915.0|      4.0|       3.0|13.0|    2008.0| 6.0|   2021.0| 1587000.0|    979,768.78|   290,348.34|\n",
            "|     Alameda|           8|   1159.0|  6500.0|      3.0|       2.0|56.0|    1965.0| 5.0|   2021.0| 1200000.0|    722,895.54|   243,206.58|\n",
            "|     Alameda|           8|   1159.0|  6500.0|      3.0|       2.0|56.0|    1965.0| 5.0|   2021.0| 1200000.0|    722,895.54|   301,698.81|\n",
            "|      Orange|           2|   2507.0|  4066.0|      4.0|       4.0| 8.0|    2013.0|10.0|   2021.0| 1200000.0|  1,073,451.90|   243,206.58|\n",
            "|      Orange|           2|   2507.0|  4066.0|      4.0|       4.0| 8.0|    2013.0|10.0|   2021.0| 1200000.0|  1,073,451.90|   301,698.81|\n",
            "|     Alameda|           8|   1989.0|  7985.0|      3.0|       3.0|48.0|    1973.0| 6.0|   2021.0| 1535000.0|  1,474,622.49|   279,061.50|\n",
            "|Contra Costa|           6|   1714.0|  6700.0|      4.0|       3.0|65.0|    1956.0| 7.0|   2021.0|  925000.0|  1,197,152.87|   267,175.06|\n",
            "|Contra Costa|           6|   2041.0|  6800.0|      4.0|       3.0|48.0|    1973.0| 6.0|   2021.0|  775000.0|  1,232,569.11|   281,314.38|\n",
            "|Contra Costa|           6|   2041.0|  6800.0|      4.0|       3.0|48.0|    1973.0| 6.0|   2021.0|  775000.0|  1,232,569.11|   277,583.47|\n",
            "| Los Angeles|           0|   1964.0|  9046.0|      3.0|       2.0| 8.0|    2013.0| 3.0|   2021.0|  775000.0|    426,228.88|   281,314.38|\n",
            "+------------+------------+---------+--------+---------+----------+----+----------+----+---------+----------+--------------+-------------+\n",
            "only showing top 10 rows\n",
            "\n"
          ],
          "name": "stdout"
        },
        {
          "output_type": "execute_result",
          "data": {
            "text/plain": [
              "70"
            ]
          },
          "metadata": {
            "tags": []
          },
          "execution_count": 28
        }
      ]
    },
    {
      "cell_type": "code",
      "metadata": {
        "colab": {
          "base_uri": "https://localhost:8080/"
        },
        "id": "kzNrTrgcKvdE",
        "outputId": "eee898a9-ba5b-4b21-8c9e-020d64f5fa00"
      },
      "source": [
        "from sklearn.metrics import r2_score\n",
        "from sklearn.metrics import mean_squared_error\n",
        "#\n",
        "print(\"MSE -- Deep Learning: \" + str(mean_squared_error(y_test, y_pred2)))\n",
        "print(\"r2 -- Deep Learning: \" + str(r2_score(y_test, y_pred2)))"
      ],
      "execution_count": 29,
      "outputs": [
        {
          "output_type": "stream",
          "text": [
            "MSE -- Deep Learning: 565516992044.5883\n",
            "r2 -- Deep Learning: -1.6576827743976028\n"
          ],
          "name": "stdout"
        }
      ]
    },
    {
      "cell_type": "markdown",
      "metadata": {
        "id": "5OGmbL3ea0JD"
      },
      "source": [
        "**When R2 is negative ==> something is wrong**"
      ]
    },
    {
      "cell_type": "code",
      "metadata": {
        "colab": {
          "base_uri": "https://localhost:8080/",
          "height": 295
        },
        "id": "q4HthI4XLvja",
        "outputId": "66b7d8df-5caa-4859-e7c9-bdab852b78a8"
      },
      "source": [
        "import matplotlib.pyplot as plt\n",
        "plt.plot(y_pred2)\n",
        "plt.plot(y_test)\n",
        "plt.title('Model Neural Network')\n",
        "plt.ylabel('Price $')\n",
        "plt.xlabel('No. of Test samples')\n",
        "plt.legend(['Prediction', 'Sale Price'], loc='upper right')\n",
        "plt.show()"
      ],
      "execution_count": 30,
      "outputs": [
        {
          "output_type": "display_data",
          "data": {
            "image/png": "[encoded data removed]",
            "text/plain": [
              "<Figure size 432x288 with 1 Axes>"
            ]
          },
          "metadata": {
            "tags": [],
            "needs_background": "light"
          }
        }
      ]
    },
    {
      "cell_type": "code",
      "metadata": {
        "colab": {
          "base_uri": "https://localhost:8080/",
          "height": 295
        },
        "id": "Su13IkedLwBr",
        "outputId": "8b661628-5009-43bc-8546-e59003100f65"
      },
      "source": [
        "import matplotlib.pyplot as plt\n",
        "plt.plot(hist.history['loss'])\n",
        "plt.plot(hist.history['val_loss'])\n",
        "plt.title('Model loss: Neural Netwrok')\n",
        "plt.ylabel('Loss')\n",
        "plt.xlabel('Epoch')\n",
        "plt.legend(['Train', 'Val'], loc='upper right')\n",
        "plt.show()"
      ],
      "execution_count": 31,
      "outputs": [
        {
          "output_type": "display_data",
          "data": {
            "image/png": "[encoded data removed]",
            "text/plain": [
              "<Figure size 432x288 with 1 Axes>"
            ]
          },
          "metadata": {
            "tags": [],
            "needs_background": "light"
          }
        }
      ]
    },
    {
      "cell_type": "markdown",
      "metadata": {
        "id": "I_MxVOhuZMEJ"
      },
      "source": [
        "**END**"
      ]
    },
    {
      "cell_type": "markdown",
      "metadata": {
        "id": "Ee1-xz3jZMlC"
      },
      "source": [
        "**Activate next two cells if want to store the dataframe**"
      ]
    },
    {
      "cell_type": "code",
      "metadata": {
        "colab": {
          "base_uri": "https://localhost:8080/"
        },
        "id": "FufchT93ZM8A",
        "outputId": "043af021-2c13-4259-aae1-0779a2d93c80"
      },
      "source": [
        "# Store environmental variable\n",
        "from getpass import getpass\n",
        "password = getpass('Enter database password')\n",
        "# Configure settings for RDS\n",
        "mode = \"append\"\n",
        "jdbc_url=\"jdbc:postgresql://database-1.cvmp56um73d3.us-west-1.rds.amazonaws.com:5432/Final_Project_db\"\n",
        "config = {\"user\":\"postgres\",\n",
        "          \"password\": password,\n",
        "          \"driver\":\"org.postgresql.Driver\"}\n",
        "\n",
        "# Write DataFrame to house table in RDS\n",
        "# export_prediction_df.write.jdbc(url=jdbc_url, table='final_data_prediction', mode=mode, properties=config)"
      ],
      "execution_count": 32,
      "outputs": [
        {
          "output_type": "stream",
          "text": [
            "Enter database password··········\n"
          ],
          "name": "stdout"
        }
      ]
    },
    {
      "cell_type": "code",
      "metadata": {
        "colab": {
          "base_uri": "https://localhost:8080/"
        },
        "id": "CgcTG0xYZVYO",
        "outputId": "496fd6e7-bcbb-4a41-fc17-9eabad3adf32"
      },
      "source": [
        "# Write DataFrame to house table in RDS\n",
        "regression_dl_pandasDF.write.jdbc(url=jdbc_url, table='Regression_Neural_Network', mode=mode, properties=config)\n",
        "type(regression_dl_pandasDF)"
      ],
      "execution_count": 33,
      "outputs": [
        {
          "output_type": "execute_result",
          "data": {
            "text/plain": [
              "pyspark.sql.dataframe.DataFrame"
            ]
          },
          "metadata": {
            "tags": []
          },
          "execution_count": 33
        }
      ]
    }
  ]
}