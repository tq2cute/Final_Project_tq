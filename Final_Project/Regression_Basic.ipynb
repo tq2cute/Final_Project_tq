{
  "nbformat": 4,
  "nbformat_minor": 0,
  "metadata": {
    "colab": {
      "name": "Regression_Basic.ipynb",
      "provenance": [],
      "collapsed_sections": []
    },
    "kernelspec": {
      "name": "python3",
      "display_name": "Python 3"
    },
    "language_info": {
      "name": "python"
    }
  },
  "cells": [
    {
      "cell_type": "code",
      "metadata": {
        "colab": {
          "base_uri": "https://localhost:8080/"
        },
        "id": "lFv5-T_zupnd",
        "outputId": "a723d3b9-f4b6-4332-db42-66662611a975"
      },
      "source": [
        "import os\n",
        "# Find the latest version of spark 3.0  from http://www.apache.org/dist/spark/ and enter as the spark version\n",
        "# For example:\n",
        "spark_version = 'spark-3.0.3'\n",
        "#spark_version = 'spark-3.<enter version>'\n",
        "os.environ['SPARK_VERSION']=spark_version\n",
        "\n",
        "# Install Spark and Java\n",
        "!apt-get update\n",
        "!apt-get install openjdk-11-jdk-headless -qq > /dev/null\n",
        "!wget -q http://www.apache.org/dist/spark/$SPARK_VERSION/$SPARK_VERSION-bin-hadoop2.7.tgz\n",
        "!tar xf $SPARK_VERSION-bin-hadoop2.7.tgz\n",
        "!pip install -q findspark\n",
        "\n",
        "# Set Environment Variables\n",
        "import os\n",
        "os.environ[\"JAVA_HOME\"] = \"/usr/lib/jvm/java-11-openjdk-amd64\"\n",
        "os.environ[\"SPARK_HOME\"] = f\"/content/{spark_version}-bin-hadoop2.7\"\n",
        "\n",
        "# Start a SparkSession\n",
        "import findspark\n",
        "findspark.init()"
      ],
      "execution_count": null,
      "outputs": [
        {
          "output_type": "stream",
          "text": [
            "\r0% [Working]\r            \rGet:1 https://cloud.r-project.org/bin/linux/ubuntu bionic-cran40/ InRelease [3,626 B]\n",
            "Get:2 http://security.ubuntu.com/ubuntu bionic-security InRelease [88.7 kB]\n",
            "Ign:3 https://developer.download.nvidia.com/compute/cuda/repos/ubuntu1804/x86_64  InRelease\n",
            "Hit:4 http://archive.ubuntu.com/ubuntu bionic InRelease\n",
            "Get:5 http://ppa.launchpad.net/c2d4u.team/c2d4u4.0+/ubuntu bionic InRelease [15.9 kB]\n",
            "Ign:6 https://developer.download.nvidia.com/compute/machine-learning/repos/ubuntu1804/x86_64  InRelease\n",
            "Get:7 https://developer.download.nvidia.com/compute/cuda/repos/ubuntu1804/x86_64  Release [697 B]\n",
            "Hit:8 https://developer.download.nvidia.com/compute/machine-learning/repos/ubuntu1804/x86_64  Release\n",
            "Get:9 http://archive.ubuntu.com/ubuntu bionic-updates InRelease [88.7 kB]\n",
            "Get:10 https://developer.download.nvidia.com/compute/cuda/repos/ubuntu1804/x86_64  Release.gpg [836 B]\n",
            "Hit:11 http://ppa.launchpad.net/cran/libgit2/ubuntu bionic InRelease\n",
            "Get:12 http://archive.ubuntu.com/ubuntu bionic-backports InRelease [74.6 kB]\n",
            "Hit:13 http://ppa.launchpad.net/deadsnakes/ppa/ubuntu bionic InRelease\n",
            "Get:14 https://cloud.r-project.org/bin/linux/ubuntu bionic-cran40/ Packages [62.9 kB]\n",
            "Get:15 http://ppa.launchpad.net/graphics-drivers/ppa/ubuntu bionic InRelease [21.3 kB]\n",
            "Get:16 http://security.ubuntu.com/ubuntu bionic-security/multiverse amd64 Packages [26.7 kB]\n",
            "Get:17 http://security.ubuntu.com/ubuntu bionic-security/main amd64 Packages [2,263 kB]\n",
            "Get:18 http://security.ubuntu.com/ubuntu bionic-security/universe amd64 Packages [1,420 kB]\n",
            "Get:19 http://security.ubuntu.com/ubuntu bionic-security/restricted amd64 Packages [510 kB]\n",
            "Get:21 http://ppa.launchpad.net/c2d4u.team/c2d4u4.0+/ubuntu bionic/main Sources [1,786 kB]\n",
            "Ign:22 https://developer.download.nvidia.com/compute/cuda/repos/ubuntu1804/x86_64  Packages\n",
            "Get:22 https://developer.download.nvidia.com/compute/cuda/repos/ubuntu1804/x86_64  Packages [695 kB]\n",
            "Get:23 http://ppa.launchpad.net/c2d4u.team/c2d4u4.0+/ubuntu bionic/main amd64 Packages [914 kB]\n",
            "Get:24 http://archive.ubuntu.com/ubuntu bionic-updates/restricted amd64 Packages [544 kB]\n",
            "Get:25 http://archive.ubuntu.com/ubuntu bionic-updates/multiverse amd64 Packages [39.4 kB]\n",
            "Get:26 http://archive.ubuntu.com/ubuntu bionic-updates/universe amd64 Packages [2,195 kB]\n",
            "Get:27 http://archive.ubuntu.com/ubuntu bionic-updates/main amd64 Packages [2,698 kB]\n",
            "Get:28 http://ppa.launchpad.net/graphics-drivers/ppa/ubuntu bionic/main amd64 Packages [44.1 kB]\n",
            "Fetched 13.5 MB in 5s (2,840 kB/s)\n",
            "Reading package lists... Done\n"
          ],
          "name": "stdout"
        }
      ]
    },
    {
      "cell_type": "code",
      "metadata": {
        "id": "Chcx1Hb5vNuS",
        "colab": {
          "base_uri": "https://localhost:8080/"
        },
        "outputId": "43ff0208-4df7-45db-a119-07ead5de4f3e"
      },
      "source": [
        "# First, enter the following code to download a Postgres driver that will allow Spark to interact with Postgres:\n",
        "!wget https://jdbc.postgresql.org/download/postgresql-42.2.16.jar"
      ],
      "execution_count": null,
      "outputs": [
        {
          "output_type": "stream",
          "text": [
            "--2021-08-06 06:09:04--  https://jdbc.postgresql.org/download/postgresql-42.2.16.jar\n",
            "Resolving jdbc.postgresql.org (jdbc.postgresql.org)... 72.32.157.228, 2001:4800:3e1:1::228\n",
            "Connecting to jdbc.postgresql.org (jdbc.postgresql.org)|72.32.157.228|:443... connected.\n",
            "HTTP request sent, awaiting response... 200 OK\n",
            "Length: 1002883 (979K) [application/java-archive]\n",
            "Saving to: ‘postgresql-42.2.16.jar’\n",
            "\n",
            "postgresql-42.2.16. 100%[===================>] 979.38K  --.-KB/s    in 0.1s    \n",
            "\n",
            "2021-08-06 06:09:05 (6.53 MB/s) - ‘postgresql-42.2.16.jar’ saved [1002883/1002883]\n",
            "\n"
          ],
          "name": "stdout"
        }
      ]
    },
    {
      "cell_type": "code",
      "metadata": {
        "id": "x1fG3JpHGtlD"
      },
      "source": [
        "from pyspark.sql import SparkSession\n",
        "spark = SparkSession.builder.appName(\"Regression_Basic\").config(\"spark.driver.extraClassPath\",\"/content/postgresql-42.2.16.jar\").getOrCreate()"
      ],
      "execution_count": null,
      "outputs": []
    },
    {
      "cell_type": "code",
      "metadata": {
        "id": "L9WRF-EGf86x"
      },
      "source": [
        "# Load in a sql functions\n",
        "from pyspark.sql.functions import col, avg, sum, count, rand, randn, to_timestamp"
      ],
      "execution_count": null,
      "outputs": []
    },
    {
      "cell_type": "code",
      "metadata": {
        "id": "kbZk5lFRFR6p",
        "colab": {
          "base_uri": "https://localhost:8080/"
        },
        "outputId": "b9406383-2bca-4890-dc91-aa8625db8070"
      },
      "source": [
        "# Read in data from S3 Buckets\n",
        "from pyspark import SparkFiles\n",
        "url = \"https://tq2cutebucket.s3.us-west-1.amazonaws.com/final_data.csv\"\n",
        "spark.sparkContext.addFile(url)\n",
        "df = spark.read.option(\"encoding\", \"UTF-8\").csv(SparkFiles.get(\"final_data.csv\"), sep=\",\", header=True, inferSchema=True)\n",
        "df.show(5)\n",
        "df.count()"
      ],
      "execution_count": null,
      "outputs": [
        {
          "output_type": "stream",
          "text": [
            "+-----------+--------------------+----------+--------+----------+------------+---------+--------+---+----------+---------+---------+---------+---+---------+---------+----------+----------+--------------+--------------+----------+\n",
            "| MLS_Number|      Street_Address|      City|Zip_Code|    county|County_Index|SqFtTotal|Lot_Size|Age|BathsTotal|BedsTotal|BathsFull|BathsHalf|DOM|Year_List|Year_Sold|List_Price|Sale_Price|  Listing_Date|     Sale_Date|Year_Built|\n",
            "+-----------+--------------------+----------+--------+----------+------------+---------+--------+---+----------+---------+---------+---------+---+---------+---------+----------+----------+--------------+--------------+----------+\n",
            "| BE40950609|   2724 Foxglove Ct |Pleasanton|   94588|   Alameda|           8|     2051|  2949.0| 23|         3|        4|        2|        1|  6|     2021|     2021|   1450000|   1625000|5/19/2021 0:00|5/25/2021 0:00|      1998|\n",
            "| ML81845215|  7873 Chestnut WAY |Pleasanton|   94588|   Alameda|           8|     1650|  7763.0| 48|         2|        4|        2|        0|  8|     2021|     2021|   1228888|   1650000|5/21/2021 0:00|5/29/2021 0:00|      1973|\n",
            "|ME202001823|3252 Rogue River DR |     Chico|   95973|     Butte|          11|     2216|  6098.0|  6|         2|        4|        2|        0| 37|     2020|     2020|    489000|    484000|6/18/2020 0:00|7/25/2020 0:00|      2015|\n",
            "|ME221053072|   6014 Steadman PL | Elk Grove|   95758|Sacramento|           4|     1404|  8346.0| 29|         2|        3|        2|        0|  2|     2021|     2021|    520000|    520000|5/17/2021 0:00|5/19/2021 0:00|      1992|\n",
            "|ME221054463|5834 Valley Sprin...| Elk Grove|   95758|Sacramento|           4|     2574|  6726.0| 32|         3|        4|        3|        0|  5|     2021|     2021|    559999|    595000|5/20/2021 0:00|5/25/2021 0:00|      1989|\n",
            "+-----------+--------------------+----------+--------+----------+------------+---------+--------+---+----------+---------+---------+---------+---+---------+---------+----------+----------+--------------+--------------+----------+\n",
            "only showing top 5 rows\n",
            "\n"
          ],
          "name": "stdout"
        },
        {
          "output_type": "execute_result",
          "data": {
            "text/plain": [
              "4225"
            ]
          },
          "metadata": {
            "tags": []
          },
          "execution_count": 5
        }
      ]
    },
    {
      "cell_type": "code",
      "metadata": {
        "colab": {
          "base_uri": "https://localhost:8080/"
        },
        "id": "BguLxFOQnce6",
        "outputId": "ae26bb36-e46c-46a1-ee9b-05442c495de3"
      },
      "source": [
        "# Drop null values\n",
        "# This is a safety step in case the data is not perfect\n",
        "df = df.dropDuplicates(['MLS_Number','Street_Address','City','Zip_Code','county','County_Index','SqFtTotal','Lot_Size','BedsTotal','BathsTotal','BathsFull','BathsHalf','Year_Built','List_Price','Sale_Price'])\n",
        "df = df.sort(\"MLS_Number\")\n",
        "df.show(5)\n",
        "df.count()"
      ],
      "execution_count": null,
      "outputs": [
        {
          "output_type": "stream",
          "text": [
            "+-----------+--------------------+---------+--------+------+------------+---------+--------+---+----------+---------+---------+---------+---+---------+---------+----------+----------+--------------+--------------+----------+\n",
            "| MLS_Number|      Street_Address|     City|Zip_Code|county|County_Index|SqFtTotal|Lot_Size|Age|BathsTotal|BedsTotal|BathsFull|BathsHalf|DOM|Year_List|Year_Sold|List_Price|Sale_Price|  Listing_Date|     Sale_Date|Year_Built|\n",
            "+-----------+--------------------+---------+--------+------+------------+---------+--------+---+----------+---------+---------+---------+---+---------+---------+----------+----------+--------------+--------------+----------+\n",
            "|BA321014028|807 Dizzy Gillesp...|  Windsor|   95492|Sonoma|          20|     1520|  4400.0| 22|         2|        3|        2|        0|  0|     2021|     2021|    629000|    650000|5/23/2021 0:00|5/23/2021 0:00|      1999|\n",
            "|BA321014324|  300 Via La Cumbre |Greenbrae|   94904| Marin|          15|     2419|  7479.0| 58|         3|        4|        3|        0|  9|     2021|     2021|   1299000|   1460000|5/18/2021 0:00|5/27/2021 0:00|      1963|\n",
            "|BA321015460|   238 Brookdale DR |Vacaville|   95687|Solano|          16|     1226|  8969.0| 36|         2|        3|        2|        0| 37|     2021|     2021|    449977|    470000| 2/1/2021 0:00|3/10/2021 0:00|      1985|\n",
            "|BA321015670|        2 Alpine RD |   Novato|   94945| Marin|          15|     2892| 43560.0|138|         4|        4|        4|        0|  7|     2021|     2021|   1599000|   1781883|5/18/2021 0:00|5/25/2021 0:00|      1883|\n",
            "|BA321019503|   19355 Orange AVE |   Sonoma|   95476|Sonoma|          20|     2339| 76666.0| 69|         2|        3|        2|        0|  8|     2021|     2021|   1600000|   1650000|5/17/2021 0:00|5/25/2021 0:00|      1952|\n",
            "+-----------+--------------------+---------+--------+------+------------+---------+--------+---+----------+---------+---------+---------+---+---------+---------+----------+----------+--------------+--------------+----------+\n",
            "only showing top 5 rows\n",
            "\n"
          ],
          "name": "stdout"
        },
        {
          "output_type": "execute_result",
          "data": {
            "text/plain": [
              "4225"
            ]
          },
          "metadata": {
            "tags": []
          },
          "execution_count": 6
        }
      ]
    },
    {
      "cell_type": "code",
      "metadata": {
        "colab": {
          "base_uri": "https://localhost:8080/",
          "height": 307
        },
        "id": "CG1oQPD4SdRR",
        "outputId": "c932813d-6a0e-4d85-871a-8c7b45a0ae52"
      },
      "source": [
        "# Convert data to pandas db\n",
        "reg_pd_df=df.toPandas()\n",
        "reg_pd_df.head(5)"
      ],
      "execution_count": null,
      "outputs": [
        {
          "output_type": "execute_result",
          "data": {
            "text/html": [
              "<div>\n",
              "<style scoped>\n",
              "    .dataframe tbody tr th:only-of-type {\n",
              "        vertical-align: middle;\n",
              "    }\n",
              "\n",
              "    .dataframe tbody tr th {\n",
              "        vertical-align: top;\n",
              "    }\n",
              "\n",
              "    .dataframe thead th {\n",
              "        text-align: right;\n",
              "    }\n",
              "</style>\n",
              "<table border=\"1\" class=\"dataframe\">\n",
              "  <thead>\n",
              "    <tr style=\"text-align: right;\">\n",
              "      <th></th>\n",
              "      <th>MLS_Number</th>\n",
              "      <th>Street_Address</th>\n",
              "      <th>City</th>\n",
              "      <th>Zip_Code</th>\n",
              "      <th>county</th>\n",
              "      <th>County_Index</th>\n",
              "      <th>SqFtTotal</th>\n",
              "      <th>Lot_Size</th>\n",
              "      <th>Age</th>\n",
              "      <th>BathsTotal</th>\n",
              "      <th>BedsTotal</th>\n",
              "      <th>BathsFull</th>\n",
              "      <th>BathsHalf</th>\n",
              "      <th>DOM</th>\n",
              "      <th>Year_List</th>\n",
              "      <th>Year_Sold</th>\n",
              "      <th>List_Price</th>\n",
              "      <th>Sale_Price</th>\n",
              "      <th>Listing_Date</th>\n",
              "      <th>Sale_Date</th>\n",
              "      <th>Year_Built</th>\n",
              "    </tr>\n",
              "  </thead>\n",
              "  <tbody>\n",
              "    <tr>\n",
              "      <th>0</th>\n",
              "      <td>BA321014028</td>\n",
              "      <td>807 Dizzy Gillespie WAY</td>\n",
              "      <td>Windsor</td>\n",
              "      <td>95492</td>\n",
              "      <td>Sonoma</td>\n",
              "      <td>20</td>\n",
              "      <td>1520</td>\n",
              "      <td>4400.0</td>\n",
              "      <td>22</td>\n",
              "      <td>2</td>\n",
              "      <td>3</td>\n",
              "      <td>2</td>\n",
              "      <td>0</td>\n",
              "      <td>0</td>\n",
              "      <td>2021</td>\n",
              "      <td>2021</td>\n",
              "      <td>629000</td>\n",
              "      <td>650000</td>\n",
              "      <td>5/23/2021 0:00</td>\n",
              "      <td>5/23/2021 0:00</td>\n",
              "      <td>1999</td>\n",
              "    </tr>\n",
              "    <tr>\n",
              "      <th>1</th>\n",
              "      <td>BA321014324</td>\n",
              "      <td>300 Via La Cumbre</td>\n",
              "      <td>Greenbrae</td>\n",
              "      <td>94904</td>\n",
              "      <td>Marin</td>\n",
              "      <td>15</td>\n",
              "      <td>2419</td>\n",
              "      <td>7479.0</td>\n",
              "      <td>58</td>\n",
              "      <td>3</td>\n",
              "      <td>4</td>\n",
              "      <td>3</td>\n",
              "      <td>0</td>\n",
              "      <td>9</td>\n",
              "      <td>2021</td>\n",
              "      <td>2021</td>\n",
              "      <td>1299000</td>\n",
              "      <td>1460000</td>\n",
              "      <td>5/18/2021 0:00</td>\n",
              "      <td>5/27/2021 0:00</td>\n",
              "      <td>1963</td>\n",
              "    </tr>\n",
              "    <tr>\n",
              "      <th>2</th>\n",
              "      <td>BA321015460</td>\n",
              "      <td>238 Brookdale DR</td>\n",
              "      <td>Vacaville</td>\n",
              "      <td>95687</td>\n",
              "      <td>Solano</td>\n",
              "      <td>16</td>\n",
              "      <td>1226</td>\n",
              "      <td>8969.0</td>\n",
              "      <td>36</td>\n",
              "      <td>2</td>\n",
              "      <td>3</td>\n",
              "      <td>2</td>\n",
              "      <td>0</td>\n",
              "      <td>37</td>\n",
              "      <td>2021</td>\n",
              "      <td>2021</td>\n",
              "      <td>449977</td>\n",
              "      <td>470000</td>\n",
              "      <td>2/1/2021 0:00</td>\n",
              "      <td>3/10/2021 0:00</td>\n",
              "      <td>1985</td>\n",
              "    </tr>\n",
              "    <tr>\n",
              "      <th>3</th>\n",
              "      <td>BA321015670</td>\n",
              "      <td>2 Alpine RD</td>\n",
              "      <td>Novato</td>\n",
              "      <td>94945</td>\n",
              "      <td>Marin</td>\n",
              "      <td>15</td>\n",
              "      <td>2892</td>\n",
              "      <td>43560.0</td>\n",
              "      <td>138</td>\n",
              "      <td>4</td>\n",
              "      <td>4</td>\n",
              "      <td>4</td>\n",
              "      <td>0</td>\n",
              "      <td>7</td>\n",
              "      <td>2021</td>\n",
              "      <td>2021</td>\n",
              "      <td>1599000</td>\n",
              "      <td>1781883</td>\n",
              "      <td>5/18/2021 0:00</td>\n",
              "      <td>5/25/2021 0:00</td>\n",
              "      <td>1883</td>\n",
              "    </tr>\n",
              "    <tr>\n",
              "      <th>4</th>\n",
              "      <td>BA321019503</td>\n",
              "      <td>19355 Orange AVE</td>\n",
              "      <td>Sonoma</td>\n",
              "      <td>95476</td>\n",
              "      <td>Sonoma</td>\n",
              "      <td>20</td>\n",
              "      <td>2339</td>\n",
              "      <td>76666.0</td>\n",
              "      <td>69</td>\n",
              "      <td>2</td>\n",
              "      <td>3</td>\n",
              "      <td>2</td>\n",
              "      <td>0</td>\n",
              "      <td>8</td>\n",
              "      <td>2021</td>\n",
              "      <td>2021</td>\n",
              "      <td>1600000</td>\n",
              "      <td>1650000</td>\n",
              "      <td>5/17/2021 0:00</td>\n",
              "      <td>5/25/2021 0:00</td>\n",
              "      <td>1952</td>\n",
              "    </tr>\n",
              "  </tbody>\n",
              "</table>\n",
              "</div>"
            ],
            "text/plain": [
              "    MLS_Number            Street_Address  ...       Sale_Date  Year_Built\n",
              "0  BA321014028  807 Dizzy Gillespie WAY   ...  5/23/2021 0:00        1999\n",
              "1  BA321014324        300 Via La Cumbre   ...  5/27/2021 0:00        1963\n",
              "2  BA321015460         238 Brookdale DR   ...  3/10/2021 0:00        1985\n",
              "3  BA321015670              2 Alpine RD   ...  5/25/2021 0:00        1883\n",
              "4  BA321019503         19355 Orange AVE   ...  5/25/2021 0:00        1952\n",
              "\n",
              "[5 rows x 21 columns]"
            ]
          },
          "metadata": {
            "tags": []
          },
          "execution_count": 7
        }
      ]
    },
    {
      "cell_type": "code",
      "metadata": {
        "colab": {
          "base_uri": "https://localhost:8080/"
        },
        "id": "h44P7YPLoj9G",
        "outputId": "8598ebfc-bcf0-4a76-efe3-2c34edde570c"
      },
      "source": [
        "# Built the dataframe of tested items\n",
        "# Select the column needed\n",
        "# Need this dataframe later to append the talbe of testing variables\n",
        "county_index_pyspark = df.select('county','County_Index').drop_duplicates().sort('county')\n",
        "county_index_pyspark.show(50)\n",
        "county_index_pyspark.count()"
      ],
      "execution_count": null,
      "outputs": [
        {
          "output_type": "stream",
          "text": [
            "+---------------+------------+\n",
            "|         county|County_Index|\n",
            "+---------------+------------+\n",
            "|        Alameda|           8|\n",
            "|         Amador|          34|\n",
            "|          Butte|          11|\n",
            "|      Calaveras|          39|\n",
            "|         Colusa|          38|\n",
            "|   Contra Costa|           6|\n",
            "|      El Dorado|          19|\n",
            "|         Fresno|          36|\n",
            "|          Glenn|          41|\n",
            "|       Imperial|          46|\n",
            "|           Kern|          32|\n",
            "|           Lake|          29|\n",
            "|    Los Angeles|           0|\n",
            "|         Madera|          28|\n",
            "|          Marin|          15|\n",
            "|      Mendocino|          35|\n",
            "|         Merced|          22|\n",
            "|       Monterey|          24|\n",
            "|           Napa|          30|\n",
            "|         Nevada|          27|\n",
            "|         Orange|           2|\n",
            "|         Placer|           9|\n",
            "|         Plumas|          44|\n",
            "|      Riverside|           1|\n",
            "|     Sacramento|           4|\n",
            "|     San Benito|          33|\n",
            "| San Bernardino|           3|\n",
            "|      San Diego|           5|\n",
            "|  San Francisco|          21|\n",
            "|    San Joaquin|          10|\n",
            "|San Luis Obispo|          14|\n",
            "|      San Mateo|          13|\n",
            "|  Santa Barbara|          31|\n",
            "|    Santa Clara|           7|\n",
            "|     Santa Cruz|          25|\n",
            "|         Shasta|          37|\n",
            "|         Solano|          16|\n",
            "|         Sonoma|          20|\n",
            "|     Stanislaus|          12|\n",
            "|         Sutter|          23|\n",
            "|         Tehama|          40|\n",
            "|         Tulare|          45|\n",
            "|       Tuolumne|          42|\n",
            "|        Ventura|          17|\n",
            "|           Yolo|          26|\n",
            "|           Yuba|          18|\n",
            "+---------------+------------+\n",
            "\n"
          ],
          "name": "stdout"
        },
        {
          "output_type": "execute_result",
          "data": {
            "text/plain": [
              "46"
            ]
          },
          "metadata": {
            "tags": []
          },
          "execution_count": 8
        }
      ]
    },
    {
      "cell_type": "code",
      "metadata": {
        "colab": {
          "base_uri": "https://localhost:8080/"
        },
        "id": "9pCMYRDf2Ewi",
        "outputId": "e0c1156b-8373-4214-d3bb-1494d20067f8"
      },
      "source": [
        "#data_df = df.select('MLS_Number','Street_Address','City','Zip_Code','county','County_Index','SqFtTotal','Lot_Size','BedsTotal','BathsTotal','BathsFull','BathsHalf','Year_Built','Sale_Price')\n",
        "data_df = df.select('county','County_Index','SqFtTotal','Lot_Size','Age','BathsTotal','BedsTotal','BathsFull','BathsHalf','DOM','Year_Sold','List_Price','Sale_Price')\n",
        "df.dtypes\n",
        "data_df.count()"
      ],
      "execution_count": null,
      "outputs": [
        {
          "output_type": "execute_result",
          "data": {
            "text/plain": [
              "4225"
            ]
          },
          "metadata": {
            "tags": []
          },
          "execution_count": 9
        }
      ]
    },
    {
      "cell_type": "code",
      "metadata": {
        "id": "5rDoAzll2FJE"
      },
      "source": [
        "# Import libraries\n",
        "import numpy as np\n",
        "import pandas as pd\n",
        "import seaborn as sns\n",
        "%matplotlib inline\n",
        "from pathlib import Path\n",
        "import matplotlib.pyplot as plt\n",
        "from sklearn.linear_model import LinearRegression"
      ],
      "execution_count": null,
      "outputs": []
    },
    {
      "cell_type": "code",
      "metadata": {
        "colab": {
          "base_uri": "https://localhost:8080/"
        },
        "id": "b5FLkG7yNjA4",
        "outputId": "eae7f5b1-f535-4cbf-8d8e-1cf274376782"
      },
      "source": [
        "data_df.show()"
      ],
      "execution_count": null,
      "outputs": [
        {
          "output_type": "stream",
          "text": [
            "+------+------------+---------+--------+---+----------+---------+---------+---------+---+---------+----------+----------+\n",
            "|county|County_Index|SqFtTotal|Lot_Size|Age|BathsTotal|BedsTotal|BathsFull|BathsHalf|DOM|Year_Sold|List_Price|Sale_Price|\n",
            "+------+------------+---------+--------+---+----------+---------+---------+---------+---+---------+----------+----------+\n",
            "|Sonoma|          20|     1520|  4400.0| 22|         2|        3|        2|        0|  0|     2021|    629000|    650000|\n",
            "| Marin|          15|     2419|  7479.0| 58|         3|        4|        3|        0|  9|     2021|   1299000|   1460000|\n",
            "|Solano|          16|     1226|  8969.0| 36|         2|        3|        2|        0| 37|     2021|    449977|    470000|\n",
            "| Marin|          15|     2892| 43560.0|138|         4|        4|        4|        0|  7|     2021|   1599000|   1781883|\n",
            "|Sonoma|          20|     2339| 76666.0| 69|         2|        3|        2|        0|  8|     2021|   1600000|   1650000|\n",
            "|Sonoma|          20|     1972| 15298.0| 41|         3|        3|        2|        1|  3|     2021|    999000|   1150000|\n",
            "| Marin|          15|     3662| 21837.0| 71|         4|        4|        3|        1|  0|     2021|   5000000|   5000000|\n",
            "| Marin|          15|     4845| 11565.0|120|         6|        5|        5|        1| 29|     2021|   4795000|   5050000|\n",
            "| Marin|          15|     1043|  6825.0| 70|         1|        2|        1|        0|  0|     2021|    749000|    875000|\n",
            "|Solano|          16|     1081|  5663.0| 62|         2|        3|        2|        0|  5|     2021|    450000|    490000|\n",
            "| Marin|          15|     3687|  7234.0| 60|         4|        5|        4|        0|  6|     2021|   1450000|   1650000|\n",
            "|Sonoma|          20|     2128|  6098.0| 48|         3|        4|        3|        0|  0|     2021|    915000|    925000|\n",
            "| Marin|          15|     2571|  7200.0| 66|         3|        4|        3|        0|  9|     2021|   1795000|   2070000|\n",
            "| Marin|          15|     4625| 36477.0| 23|         5|        5|        4|        1|  0|     2021|   4150000|   4600022|\n",
            "| Marin|          15|     2212| 24685.0| 53|         3|        4|        2|        1|  9|     2021|    979000|   1150000|\n",
            "| Marin|          15|     1659|  6299.0| 63|         2|        4|        2|        0|  8|     2021|   1595000|   1755000|\n",
            "|Sonoma|          20|     1548|  6055.0| 30|         2|        3|        2|        0| 24|     2021|    629000|    647870|\n",
            "|Sonoma|          20|     2382|189050.0| 15|         4|        3|        3|        1|  6|     2021|   1999000|   2400000|\n",
            "| Marin|          15|     1246|  8999.0|121|         1|        3|        1|        0|  2|     2021|   1799000|   1810000|\n",
            "| Marin|          15|     2560|  9000.0| 74|         3|        4|        3|        0|  0|     2021|   2599000|   3500000|\n",
            "+------+------------+---------+--------+---+----------+---------+---------+---------+---+---------+----------+----------+\n",
            "only showing top 20 rows\n",
            "\n"
          ],
          "name": "stdout"
        }
      ]
    },
    {
      "cell_type": "code",
      "metadata": {
        "id": "JBbAJ98y3O0v"
      },
      "source": [
        "data_array = np.array(data_df.collect())"
      ],
      "execution_count": null,
      "outputs": []
    },
    {
      "cell_type": "code",
      "metadata": {
        "id": "OLJdL2AO3j5M",
        "colab": {
          "base_uri": "https://localhost:8080/"
        },
        "outputId": "6e0e0c90-83b6-4f17-f0a1-f8de7b4f7c8b"
      },
      "source": [
        "#Note: skip the listing price here\n",
        "X = data_array[:,1:12]\n",
        "y = data_array[:,12:13]\n",
        "print(X)\n",
        "print(y)"
      ],
      "execution_count": null,
      "outputs": [
        {
          "output_type": "stream",
          "text": [
            "[['20' '1520' '4400.0' ... '0' '2021' '629000']\n",
            " ['15' '2419' '7479.0' ... '9' '2021' '1299000']\n",
            " ['16' '1226' '8969.0' ... '37' '2021' '449977']\n",
            " ...\n",
            " ['0' '780' '13932.0' ... '33' '2021' '1099000']\n",
            " ['0' '2159' '37723.0' ... '7' '2021' '2295000']\n",
            " ['0' '8918' '13074.0' ... '1' '2021' '13500000']]\n",
            "[['650000']\n",
            " ['1460000']\n",
            " ['470000']\n",
            " ...\n",
            " ['1200000']\n",
            " ['2450000']\n",
            " ['13500000']]\n"
          ],
          "name": "stdout"
        }
      ]
    },
    {
      "cell_type": "code",
      "metadata": {
        "id": "NGYpN-BjEFBo"
      },
      "source": [
        "#your_array = your_array.astype(np.float64)\n",
        "X = X.astype(np.float64)\n",
        "y = y.astype(np.float64)"
      ],
      "execution_count": null,
      "outputs": []
    },
    {
      "cell_type": "markdown",
      "metadata": {
        "id": "luyjxOR7-_mI"
      },
      "source": [
        "**SAMPLE SIZE** due to sample size is pretty large, > 4K, 5% of 4K is more than 200 rows. 200 is good enough for testing "
      ]
    },
    {
      "cell_type": "code",
      "metadata": {
        "id": "V721r4IJ8JaP"
      },
      "source": [
        "from sklearn.model_selection import train_test_split\n",
        "X_train, X_test, y_train, y_test = train_test_split(X, y, test_size=0.05, random_state=5)"
      ],
      "execution_count": null,
      "outputs": []
    },
    {
      "cell_type": "code",
      "metadata": {
        "colab": {
          "base_uri": "https://localhost:8080/"
        },
        "id": "vSQDNEXS-X6-",
        "outputId": "f358cdc0-7920-41ae-83e1-4e475f84ece7"
      },
      "source": [
        "print(X_train.shape, X_test.shape, y_train.shape, y_test.shape)"
      ],
      "execution_count": null,
      "outputs": [
        {
          "output_type": "stream",
          "text": [
            "(4013, 11) (212, 11) (4013, 1) (212, 1)\n"
          ],
          "name": "stdout"
        }
      ]
    },
    {
      "cell_type": "code",
      "metadata": {
        "colab": {
          "base_uri": "https://localhost:8080/"
        },
        "id": "MoAa5O7T-38e",
        "outputId": "3aa86ad3-5cf5-4f31-e1f1-b8b85cf1ebb4"
      },
      "source": [
        "# Fit ML Regression to a traing set\n",
        "# Forcing intercept to be zero\n",
        "from sklearn.linear_model import LinearRegression\n",
        "regression = LinearRegression(fit_intercept=False) # False = no-intercept\n",
        "regression.fit(X_train, y_train)\n",
        "\n",
        "# https://scikit-learn.org/stable/modules/generated/sklearn.linear_model.LinearRegression.html\n",
        "# LinearRegression(copy_X=True, fit_intercept=False, n_jobs=None, normalize=False)"
      ],
      "execution_count": null,
      "outputs": [
        {
          "output_type": "execute_result",
          "data": {
            "text/plain": [
              "LinearRegression(copy_X=True, fit_intercept=False, n_jobs=None, normalize=False)"
            ]
          },
          "metadata": {
            "tags": []
          },
          "execution_count": 17
        }
      ]
    },
    {
      "cell_type": "code",
      "metadata": {
        "id": "bkVDltVtDJMx"
      },
      "source": [
        "# Predicting the test result\n",
        "y_pred = regression.predict(X_test)"
      ],
      "execution_count": null,
      "outputs": []
    },
    {
      "cell_type": "code",
      "metadata": {
        "id": "HpXUUU9NJBgL",
        "colab": {
          "base_uri": "https://localhost:8080/"
        },
        "outputId": "c018959e-6798-4c84-94f0-015916171dfa"
      },
      "source": [
        "# Print out the interceptor\n",
        "# Expect intercept is zero\n",
        "print(\"Intercept: \" + str(regression.intercept_))"
      ],
      "execution_count": null,
      "outputs": [
        {
          "output_type": "stream",
          "text": [
            "Intercept: 0.0\n"
          ],
          "name": "stdout"
        }
      ]
    },
    {
      "cell_type": "code",
      "metadata": {
        "colab": {
          "base_uri": "https://localhost:8080/"
        },
        "id": "u9t4K4jK68YZ",
        "outputId": "1faa4575-091c-431d-d571-91dde6380288"
      },
      "source": [
        "# Print out the coefficients\n",
        "print(\"Coefficients: \" + str(regression.coef_))"
      ],
      "execution_count": null,
      "outputs": [
        {
          "output_type": "stream",
          "text": [
            "Coefficients: [[ 6.57434557e+02 -1.30780502e+01 -7.78347836e-05  6.53969471e+02\n",
            "  -1.70205803e+03  1.08816226e+04  1.59465227e+03 -3.29671031e+03\n",
            "  -1.69559030e+02 -9.58901326e+00  1.04113333e+00]]\n"
          ],
          "name": "stdout"
        }
      ]
    },
    {
      "cell_type": "code",
      "metadata": {
        "colab": {
          "base_uri": "https://localhost:8080/"
        },
        "id": "lngWtIYu_zSQ",
        "outputId": "538cfe9f-49c4-4731-f10c-5c54240dd0ab"
      },
      "source": [
        "regression.coef_"
      ],
      "execution_count": null,
      "outputs": [
        {
          "output_type": "execute_result",
          "data": {
            "text/plain": [
              "array([[ 6.57434557e+02, -1.30780502e+01, -7.78347836e-05,\n",
              "         6.53969471e+02, -1.70205803e+03,  1.08816226e+04,\n",
              "         1.59465227e+03, -3.29671031e+03, -1.69559030e+02,\n",
              "        -9.58901326e+00,  1.04113333e+00]])"
            ]
          },
          "metadata": {
            "tags": []
          },
          "execution_count": 21
        }
      ]
    },
    {
      "cell_type": "code",
      "metadata": {
        "id": "cjauNKsY4_T1"
      },
      "source": [
        "# trying to build a df of coefficient table of name and coefficient values\n",
        "# initialise data of lists.\n",
        "#data = {'Name':['Tom', 'nick', 'krish', 'jack'],\n",
        "#        'Age':[20, 21, 19, 18]}\n",
        " \n",
        "# Create DataFrame\n",
        "#df = pd.DataFrame(data)\n",
        " \n",
        "# Print the output.\n",
        "#df\n",
        "\n",
        "#data_coeff = {'Name':['County_Index','SqFtTotal','Lot_Size','Age','BathsTotal','BedsTotal','BathsFull','BathsHalf','DOM','Year_Sold','List_Price'],\n",
        "#       'Coefficient':[regression.coef_]}\n",
        "\n",
        "#coeff_df = pd.DataFrame(data_coeff)\n",
        "\n",
        "#coeff_df"
      ],
      "execution_count": null,
      "outputs": []
    },
    {
      "cell_type": "code",
      "metadata": {
        "colab": {
          "base_uri": "https://localhost:8080/"
        },
        "id": "vBX8Vjfl7mBg",
        "outputId": "41d0cd71-d4bf-4004-f5a0-40364374e4ab"
      },
      "source": [
        "from sklearn.metrics import r2_score\n",
        "from sklearn.metrics import mean_squared_error\n",
        "#\n",
        "print(\"MSE -- Mean Squared Error: \" + str(mean_squared_error(y_test, y_pred)))\n",
        "print(\"r2 -- R squared: \" + str(r2_score(y_test, y_pred)))"
      ],
      "execution_count": null,
      "outputs": [
        {
          "output_type": "stream",
          "text": [
            "MSE -- Mean Squared Error: 118418552908.09721\n",
            "r2 -- R squared: 0.9533854383010042\n"
          ],
          "name": "stdout"
        }
      ]
    },
    {
      "cell_type": "code",
      "metadata": {
        "id": "e1K3xZFIHdJW",
        "colab": {
          "base_uri": "https://localhost:8080/",
          "height": 295
        },
        "outputId": "4fe1aee6-ad34-4d79-ae5e-89ce005ab597"
      },
      "source": [
        "import matplotlib.pyplot as plt\n",
        "plt.plot(y_pred)\n",
        "plt.plot(y_test)\n",
        "plt.title('Model Prediction')\n",
        "plt.ylabel('Price')\n",
        "plt.xlabel('No. of Samples')\n",
        "plt.legend(['y_pred', 'y_test'], loc='upper right')\n",
        "plt.show()"
      ],
      "execution_count": null,
      "outputs": [
        {
          "output_type": "display_data",
          "data": {
            "image/png": "[encoded data removed]",
            "text/plain": [
              "<Figure size 432x288 with 1 Axes>"
            ]
          },
          "metadata": {
            "tags": [],
            "needs_background": "light"
          }
        }
      ]
    },
    {
      "cell_type": "markdown",
      "metadata": {
        "id": "oUlXZNs0u1Tl"
      },
      "source": [
        "**print out a list of predicted price for the x-test data points**"
      ]
    },
    {
      "cell_type": "code",
      "metadata": {
        "id": "X3P5ZDPooDzv",
        "colab": {
          "base_uri": "https://localhost:8080/"
        },
        "outputId": "3bf4e36a-57e3-4773-a53e-2563e40fdba0"
      },
      "source": [
        "# Built the dataframe of tested rows\n",
        "\n",
        "#pandasDF = pysparkDF.toPandas()\n",
        "county_index_df = county_index_pyspark.toPandas()\n",
        "\n",
        "# create a panda df from the X_test information\n",
        "test_data_df = pd.DataFrame(X_test,columns=['County_Index','SqFtTotal','Lot_Size','Age','BathsTotal','BedsTotal','BathsFull','BathsHalf','DOM','Year_Sold','List_Price'])\n",
        "\n",
        "#df = create a df of Sales_Price and Prediction values\n",
        "import pandas as pd\n",
        "good_result_df = pd.DataFrame({\"Sale_Price\": [x[0] for x in y_test], \"Prediction\": [x[0] for x in y_pred]})\n",
        "good_result_df['Prediction'] = good_result_df['Prediction'].map('{:,.2f}'.format)\n",
        "\n",
        "# This is the final data frame. Merge two df to match the independent variables and the predicted price\n",
        "final_result_data_df = test_data_df.merge(good_result_df, how='left', left_index=True, right_index=True)\n",
        "\n",
        "#result = pd.merge(left, right, on=\"key\")\n",
        "final_add_county_df = pd.merge(county_index_df, final_result_data_df, on=\"County_Index\")\n",
        "final_add_county_df.head(20)\n",
        "\n",
        "#pandasDF = pysparkDF.toPandas()\n",
        "#sparkDF=spark.createDataFrame(pandasDF)\n",
        "reg_test_prediction_df = spark.createDataFrame(final_add_county_df)\n",
        "reg_test_prediction_df.show(10)\n"
      ],
      "execution_count": null,
      "outputs": [
        {
          "output_type": "stream",
          "text": [
            "+-------+------------+---------+--------+-----+----------+---------+---------+---------+----+---------+----------+----------+------------+\n",
            "| county|County_Index|SqFtTotal|Lot_Size|  Age|BathsTotal|BedsTotal|BathsFull|BathsHalf| DOM|Year_Sold|List_Price|Sale_Price|  Prediction|\n",
            "+-------+------------+---------+--------+-----+----------+---------+---------+---------+----+---------+----------+----------+------------+\n",
            "|Alameda|           8|   1650.0|  7763.0| 48.0|       2.0|      4.0|      2.0|      0.0| 8.0|   2021.0| 1228888.0| 1650000.0|1,317,082.69|\n",
            "|Alameda|           8|   1610.0|  7000.0| 53.0|       2.0|      3.0|      2.0|      0.0| 6.0|   2021.0|  850000.0|  930000.0|  915,860.29|\n",
            "|Alameda|           8|   1325.0|  4988.0| 33.0|       2.0|      3.0|      2.0|      0.0| 5.0|   2021.0|  799000.0| 1020000.0|  853,580.06|\n",
            "|Alameda|           8|   1116.0|  6555.0| 61.0|       2.0|      3.0|      2.0|      0.0|16.0|   2021.0|  895000.0|  840000.0|  972,708.05|\n",
            "|Alameda|           8|   1729.0|  6500.0| 53.0|       2.0|      3.0|      2.0|      0.0| 8.0|   2021.0| 1239000.0| 1350000.0|1,318,965.79|\n",
            "|Alameda|           8|   1999.0|  9823.0| 55.0|       3.0|      4.0|      3.0|      0.0| 7.0|   2021.0| 1100000.0| 1335000.0|1,182,968.64|\n",
            "|Alameda|           8|   2402.0|  2328.0|  2.0|       4.0|      4.0|      3.0|      1.0| 6.0|   2021.0| 1199000.0| 1350000.0|1,241,281.38|\n",
            "|Alameda|           8|   3012.0|  6328.0| 85.0|       4.0|      4.0|      3.0|      1.0| 6.0|   2021.0| 1775000.0| 2400000.0|1,887,275.72|\n",
            "|Alameda|           8|   2372.0| 13889.0| 51.0|       3.0|      5.0|      2.0|      1.0|15.0|   2021.0| 1715000.0| 1715000.0|1,820,405.12|\n",
            "|  Butte|          11|   2072.0|  4356.0|109.0|       2.0|      5.0|      2.0|      0.0|10.0|   2021.0|  309000.0|  300000.0|  406,244.91|\n",
            "+-------+------------+---------+--------+-----+----------+---------+---------+---------+----+---------+----------+----------+------------+\n",
            "only showing top 10 rows\n",
            "\n"
          ],
          "name": "stdout"
        }
      ]
    },
    {
      "cell_type": "markdown",
      "metadata": {
        "id": "KaHfleoX3HxU"
      },
      "source": [
        "**SECTION 2** generate a list of predicted value for **ALL** the data points"
      ]
    },
    {
      "cell_type": "code",
      "metadata": {
        "colab": {
          "base_uri": "https://localhost:8080/"
        },
        "id": "QVu5_O-MwcfR",
        "outputId": "4d9574a6-6282-4a5d-e90c-d01c5b145b3a"
      },
      "source": [
        "# Predicting the price for all\n",
        "y_pred_all = regression.predict(X)\n",
        "print(y_pred_all)"
      ],
      "execution_count": null,
      "outputs": [
        {
          "output_type": "stream",
          "text": [
            "[[  675580.56614355]\n",
            " [ 1390886.4044729 ]\n",
            " [  493290.49531826]\n",
            " ...\n",
            " [ 1195845.65097877]\n",
            " [ 2414459.35810778]\n",
            " [13971387.68060188]]\n"
          ],
          "name": "stdout"
        }
      ]
    },
    {
      "cell_type": "code",
      "metadata": {
        "colab": {
          "base_uri": "https://localhost:8080/",
          "height": 307
        },
        "id": "wY8pNddE33Aa",
        "outputId": "65475dd7-2b03-4b2f-c1b5-014df230abab"
      },
      "source": [
        "# Convert data to pandas db\n",
        "reg_pd_df=df.toPandas()\n",
        "reg_pd_df.head(5)"
      ],
      "execution_count": null,
      "outputs": [
        {
          "output_type": "execute_result",
          "data": {
            "text/html": [
              "<div>\n",
              "<style scoped>\n",
              "    .dataframe tbody tr th:only-of-type {\n",
              "        vertical-align: middle;\n",
              "    }\n",
              "\n",
              "    .dataframe tbody tr th {\n",
              "        vertical-align: top;\n",
              "    }\n",
              "\n",
              "    .dataframe thead th {\n",
              "        text-align: right;\n",
              "    }\n",
              "</style>\n",
              "<table border=\"1\" class=\"dataframe\">\n",
              "  <thead>\n",
              "    <tr style=\"text-align: right;\">\n",
              "      <th></th>\n",
              "      <th>MLS_Number</th>\n",
              "      <th>Street_Address</th>\n",
              "      <th>City</th>\n",
              "      <th>Zip_Code</th>\n",
              "      <th>county</th>\n",
              "      <th>County_Index</th>\n",
              "      <th>SqFtTotal</th>\n",
              "      <th>Lot_Size</th>\n",
              "      <th>Age</th>\n",
              "      <th>BathsTotal</th>\n",
              "      <th>BedsTotal</th>\n",
              "      <th>BathsFull</th>\n",
              "      <th>BathsHalf</th>\n",
              "      <th>DOM</th>\n",
              "      <th>Year_List</th>\n",
              "      <th>Year_Sold</th>\n",
              "      <th>List_Price</th>\n",
              "      <th>Sale_Price</th>\n",
              "      <th>Listing_Date</th>\n",
              "      <th>Sale_Date</th>\n",
              "      <th>Year_Built</th>\n",
              "    </tr>\n",
              "  </thead>\n",
              "  <tbody>\n",
              "    <tr>\n",
              "      <th>0</th>\n",
              "      <td>BA321014028</td>\n",
              "      <td>807 Dizzy Gillespie WAY</td>\n",
              "      <td>Windsor</td>\n",
              "      <td>95492</td>\n",
              "      <td>Sonoma</td>\n",
              "      <td>20</td>\n",
              "      <td>1520</td>\n",
              "      <td>4400.0</td>\n",
              "      <td>22</td>\n",
              "      <td>2</td>\n",
              "      <td>3</td>\n",
              "      <td>2</td>\n",
              "      <td>0</td>\n",
              "      <td>0</td>\n",
              "      <td>2021</td>\n",
              "      <td>2021</td>\n",
              "      <td>629000</td>\n",
              "      <td>650000</td>\n",
              "      <td>5/23/2021 0:00</td>\n",
              "      <td>5/23/2021 0:00</td>\n",
              "      <td>1999</td>\n",
              "    </tr>\n",
              "    <tr>\n",
              "      <th>1</th>\n",
              "      <td>BA321014324</td>\n",
              "      <td>300 Via La Cumbre</td>\n",
              "      <td>Greenbrae</td>\n",
              "      <td>94904</td>\n",
              "      <td>Marin</td>\n",
              "      <td>15</td>\n",
              "      <td>2419</td>\n",
              "      <td>7479.0</td>\n",
              "      <td>58</td>\n",
              "      <td>3</td>\n",
              "      <td>4</td>\n",
              "      <td>3</td>\n",
              "      <td>0</td>\n",
              "      <td>9</td>\n",
              "      <td>2021</td>\n",
              "      <td>2021</td>\n",
              "      <td>1299000</td>\n",
              "      <td>1460000</td>\n",
              "      <td>5/18/2021 0:00</td>\n",
              "      <td>5/27/2021 0:00</td>\n",
              "      <td>1963</td>\n",
              "    </tr>\n",
              "    <tr>\n",
              "      <th>2</th>\n",
              "      <td>BA321015460</td>\n",
              "      <td>238 Brookdale DR</td>\n",
              "      <td>Vacaville</td>\n",
              "      <td>95687</td>\n",
              "      <td>Solano</td>\n",
              "      <td>16</td>\n",
              "      <td>1226</td>\n",
              "      <td>8969.0</td>\n",
              "      <td>36</td>\n",
              "      <td>2</td>\n",
              "      <td>3</td>\n",
              "      <td>2</td>\n",
              "      <td>0</td>\n",
              "      <td>37</td>\n",
              "      <td>2021</td>\n",
              "      <td>2021</td>\n",
              "      <td>449977</td>\n",
              "      <td>470000</td>\n",
              "      <td>2/1/2021 0:00</td>\n",
              "      <td>3/10/2021 0:00</td>\n",
              "      <td>1985</td>\n",
              "    </tr>\n",
              "    <tr>\n",
              "      <th>3</th>\n",
              "      <td>BA321015670</td>\n",
              "      <td>2 Alpine RD</td>\n",
              "      <td>Novato</td>\n",
              "      <td>94945</td>\n",
              "      <td>Marin</td>\n",
              "      <td>15</td>\n",
              "      <td>2892</td>\n",
              "      <td>43560.0</td>\n",
              "      <td>138</td>\n",
              "      <td>4</td>\n",
              "      <td>4</td>\n",
              "      <td>4</td>\n",
              "      <td>0</td>\n",
              "      <td>7</td>\n",
              "      <td>2021</td>\n",
              "      <td>2021</td>\n",
              "      <td>1599000</td>\n",
              "      <td>1781883</td>\n",
              "      <td>5/18/2021 0:00</td>\n",
              "      <td>5/25/2021 0:00</td>\n",
              "      <td>1883</td>\n",
              "    </tr>\n",
              "    <tr>\n",
              "      <th>4</th>\n",
              "      <td>BA321019503</td>\n",
              "      <td>19355 Orange AVE</td>\n",
              "      <td>Sonoma</td>\n",
              "      <td>95476</td>\n",
              "      <td>Sonoma</td>\n",
              "      <td>20</td>\n",
              "      <td>2339</td>\n",
              "      <td>76666.0</td>\n",
              "      <td>69</td>\n",
              "      <td>2</td>\n",
              "      <td>3</td>\n",
              "      <td>2</td>\n",
              "      <td>0</td>\n",
              "      <td>8</td>\n",
              "      <td>2021</td>\n",
              "      <td>2021</td>\n",
              "      <td>1600000</td>\n",
              "      <td>1650000</td>\n",
              "      <td>5/17/2021 0:00</td>\n",
              "      <td>5/25/2021 0:00</td>\n",
              "      <td>1952</td>\n",
              "    </tr>\n",
              "  </tbody>\n",
              "</table>\n",
              "</div>"
            ],
            "text/plain": [
              "    MLS_Number            Street_Address  ...       Sale_Date  Year_Built\n",
              "0  BA321014028  807 Dizzy Gillespie WAY   ...  5/23/2021 0:00        1999\n",
              "1  BA321014324        300 Via La Cumbre   ...  5/27/2021 0:00        1963\n",
              "2  BA321015460         238 Brookdale DR   ...  3/10/2021 0:00        1985\n",
              "3  BA321015670              2 Alpine RD   ...  5/25/2021 0:00        1883\n",
              "4  BA321019503         19355 Orange AVE   ...  5/25/2021 0:00        1952\n",
              "\n",
              "[5 rows x 21 columns]"
            ]
          },
          "metadata": {
            "tags": []
          },
          "execution_count": 27
        }
      ]
    },
    {
      "cell_type": "code",
      "metadata": {
        "colab": {
          "base_uri": "https://localhost:8080/",
          "height": 357
        },
        "id": "-Z93gGdS33jQ",
        "outputId": "ce36c87d-d23e-4764-cfcc-df719f96f071"
      },
      "source": [
        "# create a panda df from the all information\n",
        "# predict_all_df = pd.DataFrame(df,columns=['MLS_Number','Street_Address','City','Zip_Code','county','County_Index','SqFtTotal','Lot_Size','BedsTotal','BathsTotal','BathsFull','BathsHalf','Year_Built','List_Price'])\n",
        "\n",
        "#df = create a df of Sales_Price and Prediction values\n",
        "import pandas as pd\n",
        "result_all_df = pd.DataFrame({\"Sale_Price\": [x[0] for x in y], \"Predicted_Value\": [x[0] for x in y_pred_all]})\n",
        "result_all_df['Predicted_Value'] = result_all_df['Predicted_Value'].map('{:,.2f}'.format)\n",
        "result_all_df.head(10)"
      ],
      "execution_count": null,
      "outputs": [
        {
          "output_type": "execute_result",
          "data": {
            "text/html": [
              "<div>\n",
              "<style scoped>\n",
              "    .dataframe tbody tr th:only-of-type {\n",
              "        vertical-align: middle;\n",
              "    }\n",
              "\n",
              "    .dataframe tbody tr th {\n",
              "        vertical-align: top;\n",
              "    }\n",
              "\n",
              "    .dataframe thead th {\n",
              "        text-align: right;\n",
              "    }\n",
              "</style>\n",
              "<table border=\"1\" class=\"dataframe\">\n",
              "  <thead>\n",
              "    <tr style=\"text-align: right;\">\n",
              "      <th></th>\n",
              "      <th>Sale_Price</th>\n",
              "      <th>Predicted_Value</th>\n",
              "    </tr>\n",
              "  </thead>\n",
              "  <tbody>\n",
              "    <tr>\n",
              "      <th>0</th>\n",
              "      <td>650000.0</td>\n",
              "      <td>675,580.57</td>\n",
              "    </tr>\n",
              "    <tr>\n",
              "      <th>1</th>\n",
              "      <td>1460000.0</td>\n",
              "      <td>1,390,886.40</td>\n",
              "    </tr>\n",
              "    <tr>\n",
              "      <th>2</th>\n",
              "      <td>470000.0</td>\n",
              "      <td>493,290.50</td>\n",
              "    </tr>\n",
              "    <tr>\n",
              "      <th>3</th>\n",
              "      <td>1781883.0</td>\n",
              "      <td>1,749,586.95</td>\n",
              "    </tr>\n",
              "    <tr>\n",
              "      <th>4</th>\n",
              "      <td>1650000.0</td>\n",
              "      <td>1,705,184.57</td>\n",
              "    </tr>\n",
              "    <tr>\n",
              "      <th>5</th>\n",
              "      <td>1150000.0</td>\n",
              "      <td>1,061,805.75</td>\n",
              "    </tr>\n",
              "    <tr>\n",
              "      <th>6</th>\n",
              "      <td>5000000.0</td>\n",
              "      <td>5,232,892.59</td>\n",
              "    </tr>\n",
              "    <tr>\n",
              "      <th>7</th>\n",
              "      <td>5050000.0</td>\n",
              "      <td>5,041,783.83</td>\n",
              "    </tr>\n",
              "    <tr>\n",
              "      <th>8</th>\n",
              "      <td>875000.0</td>\n",
              "      <td>824,083.75</td>\n",
              "    </tr>\n",
              "    <tr>\n",
              "      <th>9</th>\n",
              "      <td>490000.0</td>\n",
              "      <td>517,640.11</td>\n",
              "    </tr>\n",
              "  </tbody>\n",
              "</table>\n",
              "</div>"
            ],
            "text/plain": [
              "   Sale_Price Predicted_Value\n",
              "0    650000.0      675,580.57\n",
              "1   1460000.0    1,390,886.40\n",
              "2    470000.0      493,290.50\n",
              "3   1781883.0    1,749,586.95\n",
              "4   1650000.0    1,705,184.57\n",
              "5   1150000.0    1,061,805.75\n",
              "6   5000000.0    5,232,892.59\n",
              "7   5050000.0    5,041,783.83\n",
              "8    875000.0      824,083.75\n",
              "9    490000.0      517,640.11"
            ]
          },
          "metadata": {
            "tags": []
          },
          "execution_count": 28
        }
      ]
    },
    {
      "cell_type": "code",
      "metadata": {
        "colab": {
          "base_uri": "https://localhost:8080/",
          "height": 307
        },
        "id": "LRk5Su5T34CD",
        "outputId": "df3049db-38c4-413d-db6d-53ddf2ace5f0"
      },
      "source": [
        "# This is the final data frame. Merge two df to match the independent variables and the predicted price\n",
        "#result = pd.merge(left, right, on=\"key\")\n",
        "#final_all_prediction_df = reg_pd_df.merge(result_all_df, how='left', left_index=True, right_index=True)\n",
        "#final_all_prediction_df.head(5)\n",
        "\n",
        "final_all_prediction_df = pd.merge(reg_pd_df, result_all_df, on=\"Sale_Price\")\n",
        "\n",
        "# Remove two columns name is 'C' and 'D'\n",
        "# df.drop(['A'], axis = 1)\n",
        "#final_all_prediction_df = final_all_prediction_df.drop(['Sale_Price_y'], axis = 1)\n",
        "final_all_prediction_df.head(5)"
      ],
      "execution_count": null,
      "outputs": [
        {
          "output_type": "execute_result",
          "data": {
            "text/html": [
              "<div>\n",
              "<style scoped>\n",
              "    .dataframe tbody tr th:only-of-type {\n",
              "        vertical-align: middle;\n",
              "    }\n",
              "\n",
              "    .dataframe tbody tr th {\n",
              "        vertical-align: top;\n",
              "    }\n",
              "\n",
              "    .dataframe thead th {\n",
              "        text-align: right;\n",
              "    }\n",
              "</style>\n",
              "<table border=\"1\" class=\"dataframe\">\n",
              "  <thead>\n",
              "    <tr style=\"text-align: right;\">\n",
              "      <th></th>\n",
              "      <th>MLS_Number</th>\n",
              "      <th>Street_Address</th>\n",
              "      <th>City</th>\n",
              "      <th>Zip_Code</th>\n",
              "      <th>county</th>\n",
              "      <th>County_Index</th>\n",
              "      <th>SqFtTotal</th>\n",
              "      <th>Lot_Size</th>\n",
              "      <th>Age</th>\n",
              "      <th>BathsTotal</th>\n",
              "      <th>BedsTotal</th>\n",
              "      <th>BathsFull</th>\n",
              "      <th>BathsHalf</th>\n",
              "      <th>DOM</th>\n",
              "      <th>Year_List</th>\n",
              "      <th>Year_Sold</th>\n",
              "      <th>List_Price</th>\n",
              "      <th>Sale_Price</th>\n",
              "      <th>Listing_Date</th>\n",
              "      <th>Sale_Date</th>\n",
              "      <th>Year_Built</th>\n",
              "      <th>Predicted_Value</th>\n",
              "    </tr>\n",
              "  </thead>\n",
              "  <tbody>\n",
              "    <tr>\n",
              "      <th>0</th>\n",
              "      <td>BA321014028</td>\n",
              "      <td>807 Dizzy Gillespie WAY</td>\n",
              "      <td>Windsor</td>\n",
              "      <td>95492</td>\n",
              "      <td>Sonoma</td>\n",
              "      <td>20</td>\n",
              "      <td>1520</td>\n",
              "      <td>4400.0</td>\n",
              "      <td>22</td>\n",
              "      <td>2</td>\n",
              "      <td>3</td>\n",
              "      <td>2</td>\n",
              "      <td>0</td>\n",
              "      <td>0</td>\n",
              "      <td>2021</td>\n",
              "      <td>2021</td>\n",
              "      <td>629000</td>\n",
              "      <td>650000</td>\n",
              "      <td>5/23/2021 0:00</td>\n",
              "      <td>5/23/2021 0:00</td>\n",
              "      <td>1999</td>\n",
              "      <td>675,580.57</td>\n",
              "    </tr>\n",
              "    <tr>\n",
              "      <th>1</th>\n",
              "      <td>BA321014028</td>\n",
              "      <td>807 Dizzy Gillespie WAY</td>\n",
              "      <td>Windsor</td>\n",
              "      <td>95492</td>\n",
              "      <td>Sonoma</td>\n",
              "      <td>20</td>\n",
              "      <td>1520</td>\n",
              "      <td>4400.0</td>\n",
              "      <td>22</td>\n",
              "      <td>2</td>\n",
              "      <td>3</td>\n",
              "      <td>2</td>\n",
              "      <td>0</td>\n",
              "      <td>0</td>\n",
              "      <td>2021</td>\n",
              "      <td>2021</td>\n",
              "      <td>629000</td>\n",
              "      <td>650000</td>\n",
              "      <td>5/23/2021 0:00</td>\n",
              "      <td>5/23/2021 0:00</td>\n",
              "      <td>1999</td>\n",
              "      <td>765,509.92</td>\n",
              "    </tr>\n",
              "    <tr>\n",
              "      <th>2</th>\n",
              "      <td>BA321014028</td>\n",
              "      <td>807 Dizzy Gillespie WAY</td>\n",
              "      <td>Windsor</td>\n",
              "      <td>95492</td>\n",
              "      <td>Sonoma</td>\n",
              "      <td>20</td>\n",
              "      <td>1520</td>\n",
              "      <td>4400.0</td>\n",
              "      <td>22</td>\n",
              "      <td>2</td>\n",
              "      <td>3</td>\n",
              "      <td>2</td>\n",
              "      <td>0</td>\n",
              "      <td>0</td>\n",
              "      <td>2021</td>\n",
              "      <td>2021</td>\n",
              "      <td>629000</td>\n",
              "      <td>650000</td>\n",
              "      <td>5/23/2021 0:00</td>\n",
              "      <td>5/23/2021 0:00</td>\n",
              "      <td>1999</td>\n",
              "      <td>662,939.47</td>\n",
              "    </tr>\n",
              "    <tr>\n",
              "      <th>3</th>\n",
              "      <td>BA321014028</td>\n",
              "      <td>807 Dizzy Gillespie WAY</td>\n",
              "      <td>Windsor</td>\n",
              "      <td>95492</td>\n",
              "      <td>Sonoma</td>\n",
              "      <td>20</td>\n",
              "      <td>1520</td>\n",
              "      <td>4400.0</td>\n",
              "      <td>22</td>\n",
              "      <td>2</td>\n",
              "      <td>3</td>\n",
              "      <td>2</td>\n",
              "      <td>0</td>\n",
              "      <td>0</td>\n",
              "      <td>2021</td>\n",
              "      <td>2021</td>\n",
              "      <td>629000</td>\n",
              "      <td>650000</td>\n",
              "      <td>5/23/2021 0:00</td>\n",
              "      <td>5/23/2021 0:00</td>\n",
              "      <td>1999</td>\n",
              "      <td>672,423.77</td>\n",
              "    </tr>\n",
              "    <tr>\n",
              "      <th>4</th>\n",
              "      <td>BA321014028</td>\n",
              "      <td>807 Dizzy Gillespie WAY</td>\n",
              "      <td>Windsor</td>\n",
              "      <td>95492</td>\n",
              "      <td>Sonoma</td>\n",
              "      <td>20</td>\n",
              "      <td>1520</td>\n",
              "      <td>4400.0</td>\n",
              "      <td>22</td>\n",
              "      <td>2</td>\n",
              "      <td>3</td>\n",
              "      <td>2</td>\n",
              "      <td>0</td>\n",
              "      <td>0</td>\n",
              "      <td>2021</td>\n",
              "      <td>2021</td>\n",
              "      <td>629000</td>\n",
              "      <td>650000</td>\n",
              "      <td>5/23/2021 0:00</td>\n",
              "      <td>5/23/2021 0:00</td>\n",
              "      <td>1999</td>\n",
              "      <td>652,314.25</td>\n",
              "    </tr>\n",
              "  </tbody>\n",
              "</table>\n",
              "</div>"
            ],
            "text/plain": [
              "    MLS_Number            Street_Address  ... Year_Built  Predicted_Value\n",
              "0  BA321014028  807 Dizzy Gillespie WAY   ...       1999       675,580.57\n",
              "1  BA321014028  807 Dizzy Gillespie WAY   ...       1999       765,509.92\n",
              "2  BA321014028  807 Dizzy Gillespie WAY   ...       1999       662,939.47\n",
              "3  BA321014028  807 Dizzy Gillespie WAY   ...       1999       672,423.77\n",
              "4  BA321014028  807 Dizzy Gillespie WAY   ...       1999       652,314.25\n",
              "\n",
              "[5 rows x 22 columns]"
            ]
          },
          "metadata": {
            "tags": []
          },
          "execution_count": 29
        }
      ]
    },
    {
      "cell_type": "code",
      "metadata": {
        "colab": {
          "base_uri": "https://localhost:8080/"
        },
        "id": "XaB-sz8zWM83",
        "outputId": "a85f20f5-0858-4267-854f-f113a114138a"
      },
      "source": [
        "# Review before export\n",
        "# This is a df of the tested items, not of the whole list\n",
        "reg_test_prediction_df.show(5)\n",
        "#reg_test_prediction_df.count()"
      ],
      "execution_count": null,
      "outputs": [
        {
          "output_type": "stream",
          "text": [
            "+-------+------------+---------+--------+----+----------+---------+---------+---------+----+---------+----------+----------+------------+\n",
            "| county|County_Index|SqFtTotal|Lot_Size| Age|BathsTotal|BedsTotal|BathsFull|BathsHalf| DOM|Year_Sold|List_Price|Sale_Price|  Prediction|\n",
            "+-------+------------+---------+--------+----+----------+---------+---------+---------+----+---------+----------+----------+------------+\n",
            "|Alameda|           8|   1650.0|  7763.0|48.0|       2.0|      4.0|      2.0|      0.0| 8.0|   2021.0| 1228888.0| 1650000.0|1,317,082.69|\n",
            "|Alameda|           8|   1610.0|  7000.0|53.0|       2.0|      3.0|      2.0|      0.0| 6.0|   2021.0|  850000.0|  930000.0|  915,860.29|\n",
            "|Alameda|           8|   1325.0|  4988.0|33.0|       2.0|      3.0|      2.0|      0.0| 5.0|   2021.0|  799000.0| 1020000.0|  853,580.06|\n",
            "|Alameda|           8|   1116.0|  6555.0|61.0|       2.0|      3.0|      2.0|      0.0|16.0|   2021.0|  895000.0|  840000.0|  972,708.05|\n",
            "|Alameda|           8|   1729.0|  6500.0|53.0|       2.0|      3.0|      2.0|      0.0| 8.0|   2021.0| 1239000.0| 1350000.0|1,318,965.79|\n",
            "+-------+------------+---------+--------+----+----------+---------+---------+---------+----+---------+----------+----------+------------+\n",
            "only showing top 5 rows\n",
            "\n"
          ],
          "name": "stdout"
        }
      ]
    },
    {
      "cell_type": "code",
      "metadata": {
        "colab": {
          "base_uri": "https://localhost:8080/"
        },
        "id": "1PLewqrcWNRj",
        "outputId": "03cf1969-5b2b-464f-bd7f-0829f7018400"
      },
      "source": [
        "# CONVERT to pyspark for export\n",
        "#pandasDF = pysparkDF.toPandas()\n",
        "#sparkDF= spark.createDataFrame(pandasDF)\n",
        "final_prediction_df = spark.createDataFrame(final_all_prediction_df)\n",
        "final_prediction_df.show(5)\n",
        "# This is the whole list"
      ],
      "execution_count": null,
      "outputs": [
        {
          "output_type": "stream",
          "text": [
            "+-----------+--------------------+-------+--------+------+------------+---------+--------+---+----------+---------+---------+---------+---+---------+---------+----------+----------+--------------+--------------+----------+---------------+\n",
            "| MLS_Number|      Street_Address|   City|Zip_Code|county|County_Index|SqFtTotal|Lot_Size|Age|BathsTotal|BedsTotal|BathsFull|BathsHalf|DOM|Year_List|Year_Sold|List_Price|Sale_Price|  Listing_Date|     Sale_Date|Year_Built|Predicted_Value|\n",
            "+-----------+--------------------+-------+--------+------+------------+---------+--------+---+----------+---------+---------+---------+---+---------+---------+----------+----------+--------------+--------------+----------+---------------+\n",
            "|BA321014028|807 Dizzy Gillesp...|Windsor|   95492|Sonoma|          20|     1520|  4400.0| 22|         2|        3|        2|        0|  0|     2021|     2021|    629000|    650000|5/23/2021 0:00|5/23/2021 0:00|      1999|     675,580.57|\n",
            "|BA321014028|807 Dizzy Gillesp...|Windsor|   95492|Sonoma|          20|     1520|  4400.0| 22|         2|        3|        2|        0|  0|     2021|     2021|    629000|    650000|5/23/2021 0:00|5/23/2021 0:00|      1999|     765,509.92|\n",
            "|BA321014028|807 Dizzy Gillesp...|Windsor|   95492|Sonoma|          20|     1520|  4400.0| 22|         2|        3|        2|        0|  0|     2021|     2021|    629000|    650000|5/23/2021 0:00|5/23/2021 0:00|      1999|     662,939.47|\n",
            "|BA321014028|807 Dizzy Gillesp...|Windsor|   95492|Sonoma|          20|     1520|  4400.0| 22|         2|        3|        2|        0|  0|     2021|     2021|    629000|    650000|5/23/2021 0:00|5/23/2021 0:00|      1999|     672,423.77|\n",
            "|BA321014028|807 Dizzy Gillesp...|Windsor|   95492|Sonoma|          20|     1520|  4400.0| 22|         2|        3|        2|        0|  0|     2021|     2021|    629000|    650000|5/23/2021 0:00|5/23/2021 0:00|      1999|     652,314.25|\n",
            "+-----------+--------------------+-------+--------+------+------------+---------+--------+---+----------+---------+---------+---------+---+---------+---------+----------+----------+--------------+--------------+----------+---------------+\n",
            "only showing top 5 rows\n",
            "\n"
          ],
          "name": "stdout"
        }
      ]
    },
    {
      "cell_type": "markdown",
      "metadata": {
        "id": "lM1xNxclg6nL"
      },
      "source": [
        "**END**"
      ]
    },
    {
      "cell_type": "markdown",
      "metadata": {
        "id": "42oPBFu1j1E1"
      },
      "source": [
        "**Only activate two lower cells if you want to store data**"
      ]
    },
    {
      "cell_type": "code",
      "metadata": {
        "id": "7tbH1OdkLLhO",
        "colab": {
          "base_uri": "https://localhost:8080/"
        },
        "outputId": "816f4b88-b4fe-4129-cc7f-e026645419b4"
      },
      "source": [
        "# Store environmental variable\n",
        "from getpass import getpass\n",
        "password = getpass('Enter database password')\n",
        "# Configure settings for RDS\n",
        "mode = \"append\"\n",
        "jdbc_url=\"jdbc:postgresql://database-1.cvmp56um73d3.us-west-1.rds.amazonaws.com:5432/Final_Project_db\"\n",
        "config = {\"user\":\"postgres\",\n",
        "          \"password\": password,\n",
        "          \"driver\":\"org.postgresql.Driver\"}\n",
        "\n",
        "# Write DataFrame to house table in RDS\n",
        "# export_prediction_df.write.jdbc(url=jdbc_url, table='final_data_prediction', mode=mode, properties=config)"
      ],
      "execution_count": null,
      "outputs": [
        {
          "output_type": "stream",
          "text": [
            "Enter database password··········\n"
          ],
          "name": "stdout"
        }
      ]
    },
    {
      "cell_type": "code",
      "metadata": {
        "colab": {
          "base_uri": "https://localhost:8080/"
        },
        "id": "X20pw9LLZHs7",
        "outputId": "36bf782f-91ab-476e-ef8f-cb9653330e0b"
      },
      "source": [
        "# Write DataFrame to house table in RDS\n",
        "reg_test_prediction_df.write.jdbc(url=jdbc_url, table='test_prediction', mode=mode, properties=config)\n",
        "type(reg_test_prediction_df)"
      ],
      "execution_count": null,
      "outputs": [
        {
          "output_type": "execute_result",
          "data": {
            "text/plain": [
              "pyspark.sql.dataframe.DataFrame"
            ]
          },
          "metadata": {
            "tags": []
          },
          "execution_count": 33
        }
      ]
    },
    {
      "cell_type": "code",
      "metadata": {
        "colab": {
          "base_uri": "https://localhost:8080/"
        },
        "id": "ecRx-XTfZIPo",
        "outputId": "c15931e3-00ee-4148-ffcd-5553da31c3b0"
      },
      "source": [
        "# Write DataFrame to house table in RDS\n",
        "final_prediction_df.write.jdbc(url=jdbc_url, table='final_prediction_all', mode=mode, properties=config)\n",
        "type(final_prediction_df)\n"
      ],
      "execution_count": null,
      "outputs": [
        {
          "output_type": "execute_result",
          "data": {
            "text/plain": [
              "pyspark.sql.dataframe.DataFrame"
            ]
          },
          "metadata": {
            "tags": []
          },
          "execution_count": 34
        }
      ]
    }
  ]
}