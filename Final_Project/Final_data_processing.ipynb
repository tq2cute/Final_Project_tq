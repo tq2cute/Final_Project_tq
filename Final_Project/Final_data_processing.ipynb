{
  "nbformat": 4,
  "nbformat_minor": 0,
  "metadata": {
    "colab": {
      "name": "Final_data_processing.ipynb",
      "provenance": [],
      "collapsed_sections": []
    },
    "kernelspec": {
      "name": "python3",
      "display_name": "Python 3"
    },
    "language_info": {
      "name": "python"
    }
  },
  "cells": [
    {
      "cell_type": "code",
      "metadata": {
        "colab": {
          "base_uri": "https://localhost:8080/"
        },
        "id": "lFv5-T_zupnd",
        "outputId": "796d7ea8-77c3-42c7-adae-260c0302a4f0"
      },
      "source": [
        "import os\n",
        "# Find the latest version of spark 3.0  from http://www.apache.org/dist/spark/ and enter as the spark version\n",
        "# For example:\n",
        "spark_version = 'spark-3.0.3'\n",
        "#spark_version = 'spark-3.<enter version>'\n",
        "os.environ['SPARK_VERSION']=spark_version\n",
        "\n",
        "# Install Spark and Java\n",
        "!apt-get update\n",
        "!apt-get install openjdk-11-jdk-headless -qq > /dev/null\n",
        "!wget -q http://www.apache.org/dist/spark/$SPARK_VERSION/$SPARK_VERSION-bin-hadoop2.7.tgz\n",
        "!tar xf $SPARK_VERSION-bin-hadoop2.7.tgz\n",
        "!pip install -q findspark\n",
        "\n",
        "# Set Environment Variables\n",
        "import os\n",
        "os.environ[\"JAVA_HOME\"] = \"/usr/lib/jvm/java-11-openjdk-amd64\"\n",
        "os.environ[\"SPARK_HOME\"] = f\"/content/{spark_version}-bin-hadoop2.7\"\n",
        "\n",
        "# Start a SparkSession\n",
        "import findspark\n",
        "findspark.init()"
      ],
      "execution_count": 1,
      "outputs": [
        {
          "output_type": "stream",
          "text": [
            "Get:1 http://security.ubuntu.com/ubuntu bionic-security InRelease [88.7 kB]\n",
            "Get:2 https://cloud.r-project.org/bin/linux/ubuntu bionic-cran40/ InRelease [3,626 B]\n",
            "Ign:3 https://developer.download.nvidia.com/compute/cuda/repos/ubuntu1804/x86_64  InRelease\n",
            "Get:4 http://ppa.launchpad.net/c2d4u.team/c2d4u4.0+/ubuntu bionic InRelease [15.9 kB]\n",
            "Hit:5 http://archive.ubuntu.com/ubuntu bionic InRelease\n",
            "Ign:6 https://developer.download.nvidia.com/compute/machine-learning/repos/ubuntu1804/x86_64  InRelease\n",
            "Get:7 https://developer.download.nvidia.com/compute/cuda/repos/ubuntu1804/x86_64  Release [697 B]\n",
            "Hit:8 https://developer.download.nvidia.com/compute/machine-learning/repos/ubuntu1804/x86_64  Release\n",
            "Get:9 https://developer.download.nvidia.com/compute/cuda/repos/ubuntu1804/x86_64  Release.gpg [836 B]\n",
            "Get:10 http://archive.ubuntu.com/ubuntu bionic-updates InRelease [88.7 kB]\n",
            "Hit:11 http://ppa.launchpad.net/cran/libgit2/ubuntu bionic InRelease\n",
            "Get:12 http://security.ubuntu.com/ubuntu bionic-security/restricted amd64 Packages [510 kB]\n",
            "Get:13 http://archive.ubuntu.com/ubuntu bionic-backports InRelease [74.6 kB]\n",
            "Hit:14 http://ppa.launchpad.net/deadsnakes/ppa/ubuntu bionic InRelease\n",
            "Get:15 http://security.ubuntu.com/ubuntu bionic-security/multiverse amd64 Packages [26.7 kB]\n",
            "Get:16 http://security.ubuntu.com/ubuntu bionic-security/main amd64 Packages [2,263 kB]\n",
            "Get:17 http://ppa.launchpad.net/graphics-drivers/ppa/ubuntu bionic InRelease [21.3 kB]\n",
            "Get:18 http://security.ubuntu.com/ubuntu bionic-security/universe amd64 Packages [1,420 kB]\n",
            "Get:19 https://cloud.r-project.org/bin/linux/ubuntu bionic-cran40/ Packages [62.9 kB]\n",
            "Ign:21 https://developer.download.nvidia.com/compute/cuda/repos/ubuntu1804/x86_64  Packages\n",
            "Get:21 https://developer.download.nvidia.com/compute/cuda/repos/ubuntu1804/x86_64  Packages [695 kB]\n",
            "Get:22 http://ppa.launchpad.net/c2d4u.team/c2d4u4.0+/ubuntu bionic/main Sources [1,786 kB]\n",
            "Get:23 http://archive.ubuntu.com/ubuntu bionic-updates/restricted amd64 Packages [544 kB]\n",
            "Get:24 http://ppa.launchpad.net/c2d4u.team/c2d4u4.0+/ubuntu bionic/main amd64 Packages [914 kB]\n",
            "Get:25 http://archive.ubuntu.com/ubuntu bionic-updates/multiverse amd64 Packages [39.4 kB]\n",
            "Get:26 http://archive.ubuntu.com/ubuntu bionic-updates/main amd64 Packages [2,698 kB]\n",
            "Get:27 http://archive.ubuntu.com/ubuntu bionic-updates/universe amd64 Packages [2,195 kB]\n",
            "Get:28 http://ppa.launchpad.net/graphics-drivers/ppa/ubuntu bionic/main amd64 Packages [44.1 kB]\n",
            "Fetched 13.5 MB in 4s (3,015 kB/s)\n",
            "Reading package lists... Done\n"
          ],
          "name": "stdout"
        }
      ]
    },
    {
      "cell_type": "code",
      "metadata": {
        "id": "Chcx1Hb5vNuS",
        "colab": {
          "base_uri": "https://localhost:8080/"
        },
        "outputId": "5fcc8238-536e-4b30-b93e-cc55170dce29"
      },
      "source": [
        "# First, enter the following code to download a Postgres driver that will allow Spark to interact with Postgres:\n",
        "!wget https://jdbc.postgresql.org/download/postgresql-42.2.16.jar"
      ],
      "execution_count": 2,
      "outputs": [
        {
          "output_type": "stream",
          "text": [
            "--2021-08-06 04:37:46--  https://jdbc.postgresql.org/download/postgresql-42.2.16.jar\n",
            "Resolving jdbc.postgresql.org (jdbc.postgresql.org)... 72.32.157.228, 2001:4800:3e1:1::228\n",
            "Connecting to jdbc.postgresql.org (jdbc.postgresql.org)|72.32.157.228|:443... connected.\n",
            "HTTP request sent, awaiting response... 200 OK\n",
            "Length: 1002883 (979K) [application/java-archive]\n",
            "Saving to: ‘postgresql-42.2.16.jar’\n",
            "\n",
            "postgresql-42.2.16. 100%[===================>] 979.38K  --.-KB/s    in 0.1s    \n",
            "\n",
            "2021-08-06 04:37:47 (6.59 MB/s) - ‘postgresql-42.2.16.jar’ saved [1002883/1002883]\n",
            "\n"
          ],
          "name": "stdout"
        }
      ]
    },
    {
      "cell_type": "code",
      "metadata": {
        "id": "x1fG3JpHGtlD"
      },
      "source": [
        "from pyspark.sql import SparkSession\n",
        "spark = SparkSession.builder.appName(\"Final_data\").config(\"spark.driver.extraClassPath\",\"/content/postgresql-42.2.16.jar\").getOrCreate()"
      ],
      "execution_count": 3,
      "outputs": []
    },
    {
      "cell_type": "code",
      "metadata": {
        "id": "kbZk5lFRFR6p",
        "colab": {
          "base_uri": "https://localhost:8080/"
        },
        "outputId": "f07f46af-0335-49e6-c7c1-2774fa0c1e57"
      },
      "source": [
        "# Read in data from S3 Buckets\n",
        "from pyspark import SparkFiles\n",
        "url = \"https://tq2cutebucket.s3.us-west-1.amazonaws.com/big_main.csv\"\n",
        "spark.sparkContext.addFile(url)\n",
        "df = spark.read.option(\"encoding\", \"UTF-8\").csv(SparkFiles.get(\"big_main.csv\"), sep=\",\", header=True, inferSchema=True)\n",
        "df.show()"
      ],
      "execution_count": 4,
      "outputs": [
        {
          "output_type": "stream",
          "text": [
            "+------------+--------------------+--------------------+--------+---------+--------+---+----------+---------+---------+---------+---+---------+---------+----------+----------+--------------+--------------+----------+\n",
            "|  MLS_Number|      Street_Address|                City|Zip_Code|SqFtTotal|Lot_Size|Age|BathsTotal|BedsTotal|BathsFull|BathsHalf|DOM|Year_Sold|Year_List|List_Price|Sale_Price|  Listing_Date|     Sale_Date|Year_Built|\n",
            "+------------+--------------------+--------------------+--------+---------+--------+---+----------+---------+---------+---------+---+---------+---------+----------+----------+--------------+--------------+----------+\n",
            "|  ML81845207|     5 Faxon Forest |            Atherton|   94027|     9587| 43791.0| 14|         7|        5|        5|        2|  5|     2021|     2021|  21995000|  23050000|5/21/2021 0:00|5/26/2021 0:00|      2007|\n",
            "| TM21-737738|     807 Cinthia ST |       Beverly Hills|   90210|    13300| 30204.0|  3|        12|        7|        8|        4|  1|     2021|     2021|  24999000|  21150000|5/27/2021 0:00|5/28/2021 0:00|      2018|\n",
            "| BA321051636|       200 Sarah DR |         Mill Valley|   94941|     5151|165528.0| 28|         4|        5|        3|        1| 14|     2021|     2021|  17000000|  19500000| 4/5/2021 0:00|4/19/2021 0:00|      1993|\n",
            "|CROC21085005|      35 Tide Watch |       Newport Coast|   92657|     8134| 17499.0| 13|         4|        6|        3|        1| 32|     2021|     2021|  15995000|  15400000|4/20/2021 0:00|5/22/2021 0:00|      2008|\n",
            "| TM21-762052|      622 Walden DR |       Beverly Hills|   90210|     8918| 13074.0| 13|         8|        5|        6|        2|  1|     2021|     2021|  13500000|  13500000|5/26/2021 0:00|5/27/2021 0:00|      2008|\n",
            "|CROC21105843| 7 Pacific Ridge PL |          Dana Point|   92629|     7100| 12545.0|  5|         7|        5|        4|        3|  0|     2021|     2021|  13495000|  13495000|5/17/2021 0:00|5/17/2021 0:00|      2016|\n",
            "|CRAR21102457| 1235 Shenandoah RD |          San Marino|   91108|     8280| 41036.0| 70|         8|        8|        6|        2|  9|     2021|     2021|   9680000|   9780000|5/19/2021 0:00|5/28/2021 0:00|      1951|\n",
            "|  ML81844741| 13791 La Paloma RD |     Los Altos Hills|   94022|     4723| 51941.0| 26|         6|        5|        5|        1|  7|     2021|     2021|   8995000|   9525000|5/19/2021 0:00|5/26/2021 0:00|      1995|\n",
            "| BA321059104|        111 Hill DR |           Kentfield|   94904|     6520| 28148.0| 83|         5|        4|        4|        1|  1|     2021|     2021|   9500000|   9500000|4/17/2021 0:00|4/18/2021 0:00|      1938|\n",
            "| SF421562053|     2519 Pierce ST |       San Francisco|   94115|     4352|  2406.0|111|         5|        5|        4|        1|  4|     2021|     2021|   9500000|   9500000| 5/6/2021 0:00|5/10/2021 0:00|      1910|\n",
            "|CRNP21110628|  506 Via Lido Nord |       Newport Beach|   92663|     3650|  3150.0| 25|         2|        4|        1|        1|  6|     2021|     2021|   8995000|   8995000|5/24/2021 0:00|5/30/2021 0:00|      1996|\n",
            "| BA321042938|     5 Fernhill AVE |                Ross|   94957|     4157| 26267.0| 15|         5|        5|        5|        0|  8|     2021|     2021|   8995000|   8987000|5/20/2021 0:00|5/28/2021 0:00|      2006|\n",
            "| TM21-744926|        626 Alta DR |       Beverly Hills|   90210|     5637| 13966.0| 91|         7|        5|        7|        0|  1|     2021|     2021|   8800000|   8800000|4/14/2021 0:00|4/15/2021 0:00|      1930|\n",
            "|CRPV21070665|    1564 Via Zurita |Palos Verdes Estates|   90274|     8750| 30409.0| 17|         5|        7|        3|        2| 15|     2021|     2021|   7995000|   8250000|5/13/2021 0:00|5/28/2021 0:00|      2004|\n",
            "| TM21-734856|23331 Malibu Colo...|              Malibu|   90265|     1518| 11980.0| 48|         2|        2|        1|        1|  0|     2021|     2021|   8000000|   7803879|5/21/2021 0:00|5/21/2021 0:00|      1973|\n",
            "|  ML81844806|     423 Chaucer ST |           Palo Alto|   94301|     3858| 17368.0| 99|         5|        5|        4|        1|  5|     2021|     2021|   7395000|   7750000|5/20/2021 0:00|5/25/2021 0:00|      1922|\n",
            "| BA321057925|       616 Ridge RD |             Tiburon|   94920|     5300| 23958.0| 44|         6|        6|        5|        1|  0|     2021|     2021|   7495000|   7650000|5/29/2021 0:00|5/29/2021 0:00|      1977|\n",
            "|CRNDP2105433|13598 Nogales Drive |             Del Mar|   92014|     8005| 43995.6| 24|         7|        6|        6|        1|  0|     2021|     2021|   7995000|   7637500|5/17/2021 0:00|5/17/2021 0:00|      1997|\n",
            "| BA321072418|421 Golden Gate AVE |           Belvedere|   94920|     3935| 21449.0|112|         4|        5|        3|        1| 13|     2021|     2021|   7595000|   7600000|4/14/2021 0:00|4/27/2021 0:00|      1909|\n",
            "|  ML81844600|    27827 Via Feliz |     Los Altos Hills|   94022|     3550| 98445.6| 41|         3|        4|        3|        0|  7|     2021|     2021|   5988000|   7500000|5/19/2021 0:00|5/26/2021 0:00|      1980|\n",
            "+------------+--------------------+--------------------+--------+---------+--------+---+----------+---------+---------+---------+---+---------+---------+----------+----------+--------------+--------------+----------+\n",
            "only showing top 20 rows\n",
            "\n"
          ],
          "name": "stdout"
        }
      ]
    },
    {
      "cell_type": "code",
      "metadata": {
        "id": "T5g5gEJpHD_j",
        "colab": {
          "base_uri": "https://localhost:8080/"
        },
        "outputId": "b3b7dbb3-a8b7-4e33-ee85-7b6b57f17f21"
      },
      "source": [
        "# Read in data from S3 Buckets\n",
        "from pyspark import SparkFiles\n",
        "url = \"https://tq2cutebucket.s3.us-west-1.amazonaws.com/county_zipcode.csv\"\n",
        "spark.sparkContext.addFile(url)\n",
        "county_df = spark.read.option(\"encoding\", \"UTF-8\").csv(SparkFiles.get(\"county_zipcode.csv\"), sep=\",\", header=True, inferSchema=True)\n",
        "county_df.show()\n",
        "county_df.count()"
      ],
      "execution_count": 5,
      "outputs": [
        {
          "output_type": "stream",
          "text": [
            "+--------+--------------+\n",
            "|zip_code|        county|\n",
            "+--------+--------------+\n",
            "|   94063|     San Mateo|\n",
            "|   92225|     Riverside|\n",
            "|   92273|      Imperial|\n",
            "|   92651|        Orange|\n",
            "|   92801|        Orange|\n",
            "|   92865|        Orange|\n",
            "|   92352|San Bernardino|\n",
            "|   92250|      Imperial|\n",
            "|   92807|        Orange|\n",
            "|   92627|        Orange|\n",
            "|   91935|     San Diego|\n",
            "|   91773|   Los Angeles|\n",
            "|   91107|   Los Angeles|\n",
            "|   93283|          Kern|\n",
            "|   92866|        Orange|\n",
            "|   94528|  Contra Costa|\n",
            "|   95076|    Santa Cruz|\n",
            "|   90010|   Los Angeles|\n",
            "|   91905|     San Diego|\n",
            "|   91016|   Los Angeles|\n",
            "+--------+--------------+\n",
            "only showing top 20 rows\n",
            "\n"
          ],
          "name": "stdout"
        },
        {
          "output_type": "execute_result",
          "data": {
            "text/plain": [
              "51011"
            ]
          },
          "metadata": {
            "tags": []
          },
          "execution_count": 5
        }
      ]
    },
    {
      "cell_type": "code",
      "metadata": {
        "colab": {
          "base_uri": "https://localhost:8080/"
        },
        "id": "16N3IsozUMeN",
        "outputId": "9ab58823-2dc0-431d-892d-256a7452317e"
      },
      "source": [
        "county_df = county_df.withColumnRenamed(\"zip_code\",\"zipcode_b\")\n",
        "county_df.show()"
      ],
      "execution_count": 6,
      "outputs": [
        {
          "output_type": "stream",
          "text": [
            "+---------+--------------+\n",
            "|zipcode_b|        county|\n",
            "+---------+--------------+\n",
            "|    94063|     San Mateo|\n",
            "|    92225|     Riverside|\n",
            "|    92273|      Imperial|\n",
            "|    92651|        Orange|\n",
            "|    92801|        Orange|\n",
            "|    92865|        Orange|\n",
            "|    92352|San Bernardino|\n",
            "|    92250|      Imperial|\n",
            "|    92807|        Orange|\n",
            "|    92627|        Orange|\n",
            "|    91935|     San Diego|\n",
            "|    91773|   Los Angeles|\n",
            "|    91107|   Los Angeles|\n",
            "|    93283|          Kern|\n",
            "|    92866|        Orange|\n",
            "|    94528|  Contra Costa|\n",
            "|    95076|    Santa Cruz|\n",
            "|    90010|   Los Angeles|\n",
            "|    91905|     San Diego|\n",
            "|    91016|   Los Angeles|\n",
            "+---------+--------------+\n",
            "only showing top 20 rows\n",
            "\n"
          ],
          "name": "stdout"
        }
      ]
    },
    {
      "cell_type": "code",
      "metadata": {
        "id": "4ur94kANIFoa",
        "colab": {
          "base_uri": "https://localhost:8080/"
        },
        "outputId": "42260168-1618-4f9b-c116-5d39ffb805c6"
      },
      "source": [
        "# Join the two DataFrame\n",
        "# empDF.join(deptDF,empDF.emp_dept_id ==  deptDF.dept_id,\"fullouter\") \n",
        "joined_df = df.join(county_df, df.Zip_Code == county_df.zipcode_b, how=\"inner\")\n",
        "joined_df.count()"
      ],
      "execution_count": 7,
      "outputs": [
        {
          "output_type": "execute_result",
          "data": {
            "text/plain": [
              "124729"
            ]
          },
          "metadata": {
            "tags": []
          },
          "execution_count": 7
        }
      ]
    },
    {
      "cell_type": "code",
      "metadata": {
        "id": "nFnF-GhosFv1",
        "colab": {
          "base_uri": "https://localhost:8080/"
        },
        "outputId": "89875dab-f29a-47bb-d1fa-26f7ede12e27"
      },
      "source": [
        "# Give county name a number\n",
        "from pyspark.ml.feature import StringIndexer\n",
        "\n",
        "# create object of StringIndexer class and specify input and output column\n",
        "SI_county = StringIndexer(inputCol='county', outputCol='County_Index')\n",
        "\n",
        "# transform the data\n",
        "joined_df = SI_county.fit(joined_df).transform(joined_df)\n",
        "\n",
        "# view the transformed data\n",
        "joined_df.select('county', 'County_Index').show(10)\n",
        "\n",
        "joined_df.show()"
      ],
      "execution_count": 8,
      "outputs": [
        {
          "output_type": "stream",
          "text": [
            "+------+------------+\n",
            "|county|County_Index|\n",
            "+------+------------+\n",
            "|Orange|         2.0|\n",
            "|Orange|         2.0|\n",
            "|Orange|         2.0|\n",
            "|Orange|         2.0|\n",
            "|Orange|         2.0|\n",
            "|Orange|         2.0|\n",
            "|Orange|         2.0|\n",
            "|Orange|         2.0|\n",
            "|Orange|         2.0|\n",
            "|Orange|         2.0|\n",
            "+------+------------+\n",
            "only showing top 10 rows\n",
            "\n",
            "+------------+--------------------+--------------+--------+---------+--------+---+----------+---------+---------+---------+---+---------+---------+----------+----------+--------------+--------------+----------+---------+--------------+------------+\n",
            "|  MLS_Number|      Street_Address|          City|Zip_Code|SqFtTotal|Lot_Size|Age|BathsTotal|BedsTotal|BathsFull|BathsHalf|DOM|Year_Sold|Year_List|List_Price|Sale_Price|  Listing_Date|     Sale_Date|Year_Built|zipcode_b|        county|County_Index|\n",
            "+------------+--------------------+--------------+--------+---------+--------+---+----------+---------+---------+---------+---+---------+---------+----------+----------+--------------+--------------+----------+---------+--------------+------------+\n",
            "|CRLG21108548|1884 Upper Rim Ro...|  Laguna Beach|   92651|     1647|  6400.0| 59|         3|        2|        3|        0| 22|     2021|     2021|   1695000|   1800100| 5/3/2021 0:00|5/25/2021 0:00|      1962|    92651|        Orange|         2.0|\n",
            "|CROC21106189|    31642 Jewel AVE |  Laguna Beach|   92651|     1694|  3500.0| 91|         3|        4|        3|        0|  9|     2021|     2021|   1995000|   2125000|5/18/2021 0:00|5/27/2021 0:00|      1930|    92651|        Orange|         2.0|\n",
            "|CRLG21114515|     175 Sunset TER |  Laguna Beach|   92651|     1420|  2550.0| 84|         3|        3|        3|        0|  0|     2021|     2021|   2200000|   2200000|4/14/2021 0:00|4/14/2021 0:00|      1937|    92651|        Orange|         2.0|\n",
            "|CROC21117323|   744 Manzanita DR |  Laguna Beach|   92651|     1414|  6250.0| 85|         2|        2|        2|        0|  0|     2021|     2021|   2750000|   2750000|5/28/2021 0:00|5/28/2021 0:00|      1936|    92651|        Orange|         2.0|\n",
            "|CRNP21115210|    725 Emerald Bay |  Laguna Beach|   92651|     3013|  8611.0| 49|         4|        5|        3|        1|  0|     2021|     2021|   4695000|   4550000|5/28/2021 0:00|5/28/2021 0:00|      1972|    92651|        Orange|         2.0|\n",
            "|CRLG21105381|  10 Smithcliffs RD |  Laguna Beach|   92651|     4505| 10520.0| 21|         4|        3|        3|        1|  9|     2021|     2021|   4899000|   4700000|5/21/2021 0:00|5/30/2021 0:00|      2000|    92651|        Orange|         2.0|\n",
            "|CROC21033919|20 N Vista De Cat...|  Laguna Beach|   92651|     3611|  7200.0| 52|         4|        4|        3|        1|  0|     2021|     2021|   4750000|   4750000| 5/5/2021 0:00| 5/5/2021 0:00|      1969|    92651|        Orange|         2.0|\n",
            "|CREV21102047|    3107 W Polk AVE |       Anaheim|   92801|     1276|  7234.0| 68|         1|        3|        1|        0| 30|     2021|     2021|    640000|    630000|4/28/2021 0:00|5/28/2021 0:00|      1953|    92801|        Orange|         2.0|\n",
            "|CRPW21105429|    1309 N Minot ST |       Anaheim|   92801|     1345|  6166.0| 66|         2|        3|        2|        0|  0|     2021|     2021|    655000|    655000|5/17/2021 0:00|5/17/2021 0:00|      1955|    92801|        Orange|         2.0|\n",
            "|CRPW21106749|   3130 W Tyler AVE |       Anaheim|   92801|     1000|  7234.0| 65|         1|        3|        1|        0| 25|     2021|     2021|    640000|    655000| 5/3/2021 0:00|5/28/2021 0:00|      1956|    92801|        Orange|         2.0|\n",
            "|CRPW21102784|   1321 N Elmira ST |       Anaheim|   92801|     1231|  6114.0| 66|         2|        4|        2|        0| 14|     2021|     2021|    650000|    720000|5/12/2021 0:00|5/26/2021 0:00|      1955|    92801|        Orange|         2.0|\n",
            "|CROC21104765|    714 N Modena ST |       Anaheim|   92801|     1171|  6061.0| 66|         1|        3|        1|        0|  6|     2021|     2021|    725000|    755000|5/19/2021 0:00|5/25/2021 0:00|      1955|    92801|        Orange|         2.0|\n",
            "|CROC21102991|  229 N Monterey ST |       Anaheim|   92801|     1787|  7214.0| 64|         1|        4|        1|        0| 13|     2021|     2021|    700000|    780000|5/14/2021 0:00|5/27/2021 0:00|      1957|    92801|        Orange|         2.0|\n",
            "|CRPW21093742| 828 E Glendora AVE |        Orange|   92865|     1185|  8400.0| 59|         1|        3|        1|        0|  8|     2021|     2021|    776900|    809500|5/12/2021 0:00|5/20/2021 0:00|      1962|    92865|        Orange|         2.0|\n",
            "|CRPW21108597|380 W Tulip Tree ...|        Orange|   92865|     2084|  3317.0| 13|         3|        3|        2|        1|  5|     2021|     2021|    799800|    901000|5/20/2021 0:00|5/25/2021 0:00|      2008|    92865|        Orange|         2.0|\n",
            "|CRPW21104872|     855 Oakmont DR |Lake Arrowhead|   92352|     1400|  3200.0| 39|         2|        3|        2|        0|  5|     2021|     2021|    399999|    436000|5/16/2021 0:00|5/21/2021 0:00|      1982|    92352|San Bernardino|         3.0|\n",
            "|CRCV21108787|731 Cottage Grove...|Lake Arrowhead|   92352|     1080| 12670.0| 63|         2|        3|        2|        0|  7|     2021|     2021|    549500|    575000|5/19/2021 0:00|5/26/2021 0:00|      1958|    92352|San Bernardino|         3.0|\n",
            "|CREV21106260|27837 St Bernard LN |Lake Arrowhead|   92352|     1736| 10063.0| 40|         3|        3|        2|        1|  4|     2021|     2021|    549900|    579900|5/18/2021 0:00|5/22/2021 0:00|      1981|    92352|San Bernardino|         3.0|\n",
            "|CREV21108912|  904 Sandalwood DR |Lake Arrowhead|   92352|     1894|  9400.0| 50|         3|        3|        3|        0| 10|     2021|     2021|    619000|    610000|5/20/2021 0:00|5/30/2021 0:00|      1971|    92352|San Bernardino|         3.0|\n",
            "|CREV21111457|  27324 Pinewood DR |Lake Arrowhead|   92352|     1344| 13750.0| 52|         2|        3|        2|        0|  0|     2021|     2021|    615000|    615000|5/24/2021 0:00|5/24/2021 0:00|      1969|    92352|San Bernardino|         3.0|\n",
            "+------------+--------------------+--------------+--------+---------+--------+---+----------+---------+---------+---------+---+---------+---------+----------+----------+--------------+--------------+----------+---------+--------------+------------+\n",
            "only showing top 20 rows\n",
            "\n"
          ],
          "name": "stdout"
        }
      ]
    },
    {
      "cell_type": "code",
      "metadata": {
        "colab": {
          "base_uri": "https://localhost:8080/"
        },
        "id": "prsb53zWjWkM",
        "outputId": "2c7c6ae7-91a1-4748-82cb-adf38374fddd"
      },
      "source": [
        "modify_df = joined_df.select('MLS_Number','Street_Address','City','Zip_Code','county','County_Index','SqFtTotal','Lot_Size','Age','BathsTotal','BedsTotal','BathsFull','BathsHalf','DOM','Year_List','Year_Sold','List_Price','Sale_Price','Listing_Date','Sale_Date','Year_Built')\n",
        "modify_df.show(5)"
      ],
      "execution_count": 9,
      "outputs": [
        {
          "output_type": "stream",
          "text": [
            "+------------+--------------------+------------+--------+------+------------+---------+--------+---+----------+---------+---------+---------+---+---------+---------+----------+----------+--------------+--------------+----------+\n",
            "|  MLS_Number|      Street_Address|        City|Zip_Code|county|County_Index|SqFtTotal|Lot_Size|Age|BathsTotal|BedsTotal|BathsFull|BathsHalf|DOM|Year_List|Year_Sold|List_Price|Sale_Price|  Listing_Date|     Sale_Date|Year_Built|\n",
            "+------------+--------------------+------------+--------+------+------------+---------+--------+---+----------+---------+---------+---------+---+---------+---------+----------+----------+--------------+--------------+----------+\n",
            "|CRLG21108548|1884 Upper Rim Ro...|Laguna Beach|   92651|Orange|         2.0|     1647|  6400.0| 59|         3|        2|        3|        0| 22|     2021|     2021|   1695000|   1800100| 5/3/2021 0:00|5/25/2021 0:00|      1962|\n",
            "|CROC21106189|    31642 Jewel AVE |Laguna Beach|   92651|Orange|         2.0|     1694|  3500.0| 91|         3|        4|        3|        0|  9|     2021|     2021|   1995000|   2125000|5/18/2021 0:00|5/27/2021 0:00|      1930|\n",
            "|CRLG21114515|     175 Sunset TER |Laguna Beach|   92651|Orange|         2.0|     1420|  2550.0| 84|         3|        3|        3|        0|  0|     2021|     2021|   2200000|   2200000|4/14/2021 0:00|4/14/2021 0:00|      1937|\n",
            "|CROC21117323|   744 Manzanita DR |Laguna Beach|   92651|Orange|         2.0|     1414|  6250.0| 85|         2|        2|        2|        0|  0|     2021|     2021|   2750000|   2750000|5/28/2021 0:00|5/28/2021 0:00|      1936|\n",
            "|CRNP21115210|    725 Emerald Bay |Laguna Beach|   92651|Orange|         2.0|     3013|  8611.0| 49|         4|        5|        3|        1|  0|     2021|     2021|   4695000|   4550000|5/28/2021 0:00|5/28/2021 0:00|      1972|\n",
            "+------------+--------------------+------------+--------+------+------------+---------+--------+---+----------+---------+---------+---------+---+---------+---------+----------+----------+--------------+--------------+----------+\n",
            "only showing top 5 rows\n",
            "\n"
          ],
          "name": "stdout"
        }
      ]
    },
    {
      "cell_type": "code",
      "metadata": {
        "id": "ySDlMmx_rtKL",
        "colab": {
          "base_uri": "https://localhost:8080/"
        },
        "outputId": "03c3245b-8a78-4ee8-b1fb-53fb14f2cc36"
      },
      "source": [
        "# import sql function pyspark\n",
        "import pyspark.sql.functions as f\n",
        "\n",
        "# null values in each column\n",
        "data_agg = modify_df.agg(*[f.count(f.when(f.isnull(c), c)).alias(c) for c in modify_df.columns])\n",
        "data_agg.show(5)"
      ],
      "execution_count": 10,
      "outputs": [
        {
          "output_type": "stream",
          "text": [
            "+----------+--------------+----+--------+------+------------+---------+--------+---+----------+---------+---------+---------+---+---------+---------+----------+----------+------------+---------+----------+\n",
            "|MLS_Number|Street_Address|City|Zip_Code|county|County_Index|SqFtTotal|Lot_Size|Age|BathsTotal|BedsTotal|BathsFull|BathsHalf|DOM|Year_List|Year_Sold|List_Price|Sale_Price|Listing_Date|Sale_Date|Year_Built|\n",
            "+----------+--------------+----+--------+------+------------+---------+--------+---+----------+---------+---------+---------+---+---------+---------+----------+----------+------------+---------+----------+\n",
            "|         0|             0|1276|       0|     0|           0|        0|       0|  0|         0|        0|        0|        0|  0|        0|        0|         0|         0|           0|        0|         0|\n",
            "+----------+--------------+----+--------+------+------------+---------+--------+---+----------+---------+---------+---------+---+---------+---------+----------+----------+------------+---------+----------+\n",
            "\n"
          ],
          "name": "stdout"
        }
      ]
    },
    {
      "cell_type": "code",
      "metadata": {
        "id": "6FgRleoMIj4j",
        "colab": {
          "base_uri": "https://localhost:8080/"
        },
        "outputId": "0e159dc0-5cc5-4a11-f9dc-e8e6fa8cf12f"
      },
      "source": [
        "# Drop null values\n",
        "final_df = modify_df.dropDuplicates(['MLS_Number','Street_Address','City','Zip_Code','county','County_Index','SqFtTotal','Lot_Size','Age','BathsTotal','BedsTotal','BathsFull','BathsHalf','DOM','Year_List','Year_Sold','List_Price','Sale_Price','Listing_Date','Sale_Date','Year_Built'])\n",
        "final_df.count()"
      ],
      "execution_count": 11,
      "outputs": [
        {
          "output_type": "execute_result",
          "data": {
            "text/plain": [
              "4301"
            ]
          },
          "metadata": {
            "tags": []
          },
          "execution_count": 11
        }
      ]
    },
    {
      "cell_type": "code",
      "metadata": {
        "colab": {
          "base_uri": "https://localhost:8080/"
        },
        "id": "1wcQRaMHJ6OE",
        "outputId": "8e933448-0613-4a5f-b878-4bec39598fa0"
      },
      "source": [
        "# Find out rows of null values\n",
        "final_df.filter(\"City IS NULL\").show()"
      ],
      "execution_count": 12,
      "outputs": [
        {
          "output_type": "stream",
          "text": [
            "+------------+--------------------+----+--------+--------------+------------+---------+--------+---+----------+---------+---------+---------+---+---------+---------+----------+----------+--------------+--------------+----------+\n",
            "|  MLS_Number|      Street_Address|City|Zip_Code|        county|County_Index|SqFtTotal|Lot_Size|Age|BathsTotal|BedsTotal|BathsFull|BathsHalf|DOM|Year_List|Year_Sold|List_Price|Sale_Price|  Listing_Date|     Sale_Date|Year_Built|\n",
            "+------------+--------------------+----+--------+--------------+------------+---------+--------+---+----------+---------+---------+---------+---+---------+---------+----------+----------+--------------+--------------+----------+\n",
            "|CRIV21105771|24050 Canyon Lake...|null|   92587|     Riverside|         1.0|     2277|  7405.0| 32|         3|        3|        3|        0| 37|     2021|     2021|    725000|    740000|4/18/2021 0:00|5/25/2021 0:00|      1989|\n",
            "|CRSW21111671|29941 Gulf Stream...|null|   92587|     Riverside|         1.0|     1535|  8712.0| 35|         2|        3|        2|        0|  4|     2021|     2021|    506000|    506000|5/24/2021 0:00|5/28/2021 0:00|      1986|\n",
            "|CRSB21108924|        221 31st ST |null|   90254|   Los Angeles|         0.0|     1826|  2096.0| 43|         3|        3|        2|        1|  9|     2021|     2021|   3200000|   3192000|5/19/2021 0:00|5/28/2021 0:00|      1978|\n",
            "|CNSR21105944|11728 Monte Leon ...|null|   91326|   Los Angeles|         0.0|     3511|  9172.0| 44|         3|        5|        3|        0|  7|     2021|     2021|   1399000|   1480000|5/17/2021 0:00|5/24/2021 0:00|      1977|\n",
            "|CNSR21107771|  19046 Muirkirk DR |null|   91326|   Los Angeles|         0.0|     2465|  8254.0| 55|         3|        4|        3|        0|  5|     2021|     2021|   1079000|   1185000|5/21/2021 0:00|5/26/2021 0:00|      1966|\n",
            "| ME202100896|     2224 Leslie CT |null|   95953|        Sutter|        23.0|     1500|  8712.0| 47|         2|        3|        2|        0| 13|     2021|     2021|    312500|    335000|4/13/2021 0:00|4/26/2021 0:00|      1974|\n",
            "|CRSB21082473|       2030 Loma DR |null|   90254|   Los Angeles|         0.0|     3400|  4838.0| 30|         4|        4|        3|        1|  4|     2021|     2021|   2899000|   3250000|5/21/2021 0:00|5/25/2021 0:00|      1991|\n",
            "|CRCV21101517|      869 W 14th ST |null|   91786|San Bernardino|         3.0|     2250| 10030.0| 59|         3|        4|        2|        1|  5|     2021|     2021|    649000|    670000|5/19/2021 0:00|5/24/2021 0:00|      1962|\n",
            "|CNSR21107537|18445 Los Alimos ST |null|   91326|   Los Angeles|         0.0|     1780|  9487.0| 62|         2|        4|        2|        0|  6|     2021|     2021|    819000|    915000|5/20/2021 0:00|5/26/2021 0:00|      1959|\n",
            "| TM21-734118|     11872 West TRL |null|   91342|   Los Angeles|         0.0|     2931| 10268.0| 29|         3|        4|        2|        1|  7|     2021|     2021|    864999|    970000|5/21/2021 0:00|5/28/2021 0:00|      1992|\n",
            "| ME202100422|13761 Sun Forest DR |null|   95946|        Nevada|        27.0|     1216| 16117.0| 40|         2|        3|        2|        0|  8|     2021|     2021|    325000|    335000|2/16/2021 0:00|2/24/2021 0:00|      1981|\n",
            "|CNSR21113147|    10881 Crebs AVE |null|   91326|   Los Angeles|         0.0|     2815| 11437.0| 53|         4|        5|        4|        0|  6|     2021|     2021|   1585000|   1585000|5/24/2021 0:00|5/30/2021 0:00|      1968|\n",
            "| ME221052777|          9873 L ST |null|   95953|        Sutter|        23.0|     1086|  9148.0| 14|         1|        3|        1|        0|  7|     2021|     2021|    319900|    315000|5/17/2021 0:00|5/24/2021 0:00|      2007|\n",
            "|CNSR21108049|11937 Calle Vista...|null|   91326|   Los Angeles|         0.0|     2258|  9344.0| 45|         2|        4|        1|        1|  6|     2021|     2021|   1250000|   1300000|5/19/2021 0:00|5/25/2021 0:00|      1976|\n",
            "|CRSB21129280|      735 Lomita ST |null|   90245|   Los Angeles|         0.0|     1560|  6562.0| 73|         2|        3|        2|        0|426|     2020|     2021|   1450000|   1505000|2/14/2020 0:00|4/15/2021 0:00|      1948|\n",
            "|CRSW21108241|   23806 Newport DR |null|   92587|     Riverside|         1.0|      910|  4792.0| 37|         1|        2|        1|        0| 10|     2021|     2021|    299999|    299000|5/20/2021 0:00|5/30/2021 0:00|      1984|\n",
            "|CRSW21102707|      878 N 2nd Ave |null|   91786|San Bernardino|         3.0|     1373|  9448.0| 73|         2|        3|        2|        0| 11|     2021|     2021|    559900|    580000|5/14/2021 0:00|5/25/2021 0:00|      1948|\n",
            "|CNSR21106630| 11977 Beaufait AVE |null|   91326|   Los Angeles|         0.0|     1536| 10478.0| 48|         1|        4|        1|        0|  0|     2021|     2021|    875000|    875000|5/18/2021 0:00|5/18/2021 0:00|      1973|\n",
            "|CNSR21107983|11839 Porter Vall...|null|   91326|   Los Angeles|         0.0|     2602|  9379.0| 52|         3|        4|        3|        0|  7|     2021|     2021|   1050000|   1250000|5/21/2021 0:00|5/28/2021 0:00|      1969|\n",
            "|CRSW21107340| 29455 Stampede WAY |null|   92587|     Riverside|         1.0|     1500|  6970.0| 36|         2|        3|        2|        0|  0|     2021|     2021|    449900|    492000|5/19/2021 0:00|5/19/2021 0:00|      1985|\n",
            "+------------+--------------------+----+--------+--------------+------------+---------+--------+---+----------+---------+---------+---------+---+---------+---------+----------+----------+--------------+--------------+----------+\n",
            "only showing top 20 rows\n",
            "\n"
          ],
          "name": "stdout"
        }
      ]
    },
    {
      "cell_type": "code",
      "metadata": {
        "colab": {
          "base_uri": "https://localhost:8080/"
        },
        "id": "rB2PlonjKqYz",
        "outputId": "e124119f-7c6b-41f3-b903-6e315308744a"
      },
      "source": [
        "# clean up the column City with null values\n",
        "# drop rows with id 4\n",
        "new_final_df = final_df.filter(final_df.City!='null')\n",
        "new_final_df.count()"
      ],
      "execution_count": 13,
      "outputs": [
        {
          "output_type": "execute_result",
          "data": {
            "text/plain": [
              "4257"
            ]
          },
          "metadata": {
            "tags": []
          },
          "execution_count": 13
        }
      ]
    },
    {
      "cell_type": "code",
      "metadata": {
        "colab": {
          "base_uri": "https://localhost:8080/"
        },
        "id": "idKJvzA5ZToy",
        "outputId": "3784c281-1ab1-4b70-ae54-17998f72520e"
      },
      "source": [
        "#Get all the Lot Size are greater than 800 in a new DataFrame.\n",
        "new_final_df = new_final_df[final_df[\"Lot_Size\"] >= 800]\n",
        "new_final_df.count()"
      ],
      "execution_count": 14,
      "outputs": [
        {
          "output_type": "execute_result",
          "data": {
            "text/plain": [
              "4225"
            ]
          },
          "metadata": {
            "tags": []
          },
          "execution_count": 14
        }
      ]
    },
    {
      "cell_type": "code",
      "metadata": {
        "colab": {
          "base_uri": "https://localhost:8080/"
        },
        "id": "pWkWDbBex1fc",
        "outputId": "fe74c947-c665-4efa-fb05-9e6f43031dbe"
      },
      "source": [
        "# null values in each column\n",
        "data_agg = new_final_df.agg(*[f.count(f.when(f.isnull(c), c)).alias(c) for c in new_final_df.columns])\n",
        "data_agg.show()"
      ],
      "execution_count": 15,
      "outputs": [
        {
          "output_type": "stream",
          "text": [
            "+----------+--------------+----+--------+------+------------+---------+--------+---+----------+---------+---------+---------+---+---------+---------+----------+----------+------------+---------+----------+\n",
            "|MLS_Number|Street_Address|City|Zip_Code|county|County_Index|SqFtTotal|Lot_Size|Age|BathsTotal|BedsTotal|BathsFull|BathsHalf|DOM|Year_List|Year_Sold|List_Price|Sale_Price|Listing_Date|Sale_Date|Year_Built|\n",
            "+----------+--------------+----+--------+------+------------+---------+--------+---+----------+---------+---------+---------+---+---------+---------+----------+----------+------------+---------+----------+\n",
            "|         0|             0|   0|       0|     0|           0|        0|       0|  0|         0|        0|        0|        0|  0|        0|        0|         0|         0|           0|        0|         0|\n",
            "+----------+--------------+----+--------+------+------------+---------+--------+---+----------+---------+---------+---------+---+---------+---------+----------+----------+------------+---------+----------+\n",
            "\n"
          ],
          "name": "stdout"
        }
      ]
    },
    {
      "cell_type": "markdown",
      "metadata": {
        "id": "PJEq3o37idAB"
      },
      "source": [
        "**Yeah** Data is cleaned"
      ]
    },
    {
      "cell_type": "code",
      "metadata": {
        "colab": {
          "base_uri": "https://localhost:8080/"
        },
        "id": "o8P_Q_q21peX",
        "outputId": "002afb14-4f98-42cd-f147-0b4f8c76452d"
      },
      "source": [
        "#show the clean data\n",
        "new_final_df.show()"
      ],
      "execution_count": 16,
      "outputs": [
        {
          "output_type": "stream",
          "text": [
            "+------------+--------------------+---------------+--------+------------+------------+---------+--------+---+----------+---------+---------+---------+---+---------+---------+----------+----------+--------------+--------------+----------+\n",
            "|  MLS_Number|      Street_Address|           City|Zip_Code|      county|County_Index|SqFtTotal|Lot_Size|Age|BathsTotal|BedsTotal|BathsFull|BathsHalf|DOM|Year_List|Year_Sold|List_Price|Sale_Price|  Listing_Date|     Sale_Date|Year_Built|\n",
            "+------------+--------------------+---------------+--------+------------+------------+---------+--------+---+----------+---------+---------+---------+---+---------+---------+----------+----------+--------------+--------------+----------+\n",
            "|  ML81844669|1523 San Andreas ...|       San Jose|   95118| Santa Clara|         7.0|     1144|  5822.0| 67|         2|        3|        2|        0|  8|     2021|     2021|   1199000|   1335555|5/19/2021 0:00|5/27/2021 0:00|      1954|\n",
            "|CRSN21105110|     4255 Stable LN |          Chico|   95973|       Butte|        11.0|     1729| 34412.0| 41|         2|        3|        2|        0|  6|     2021|     2021|    569900|    580000|5/17/2021 0:00|5/23/2021 0:00|      1980|\n",
            "|CRPW21106375| 2717 E Palmyra AVE |         Orange|   92869|      Orange|         2.0|     1814|  7850.0| 58|         2|        3|        2|        0|  5|     2021|     2021|    825000|    885000|5/18/2021 0:00|5/23/2021 0:00|      1963|\n",
            "| ME221055681|  1142 Elderwood DR |           Galt|   95632|  Sacramento|         4.0|     1218|  6499.0| 23|         2|        3|        2|        0|  3|     2021|     2021|    425000|    450000|5/21/2021 0:00|5/24/2021 0:00|      1998|\n",
            "|  EB40951076|        1331 Elm St |     El Cerrito|   94530|Contra Costa|         6.0|      951|  3700.0| 73|         1|        2|        1|        0|  0|     2021|     2021|    900000|    900000|5/21/2021 0:00|5/21/2021 0:00|      1948|\n",
            "|  ML81845593|   1563 Piedmont RD |       San Jose|   95132| Santa Clara|         7.0|     1811|  6552.0| 48|         2|        5|        2|        0|  0|     2021|     2021|   1000000|   1000000|5/24/2021 0:00|5/24/2021 0:00|      1973|\n",
            "|CROC21117827|     40158 Stowe RD |       Temecula|   92591|   Riverside|         1.0|     2250|  4356.0| 18|         3|        4|        2|        1|  0|     2021|     2021|    775000|    775000|4/21/2021 0:00|4/21/2021 0:00|      2003|\n",
            "|CRNDP2105763|1867 Avenida Mimosa |      Encinitas|   92024|   San Diego|         5.0|     2167|  6333.0| 36|         3|        4|        2|        1|  6|     2021|     2021|   1099000|   1392500|5/24/2021 0:00|5/30/2021 0:00|      1985|\n",
            "|CRPW21107728|    8569 El Rio AVE |Fountain Valley|   92708|      Orange|         2.0|     1435|  7200.0| 56|         3|        3|        2|        1|  6|     2021|     2021|    825000|    875000|5/20/2021 0:00|5/26/2021 0:00|      1965|\n",
            "| TM21-734610|      20733 Benz RD |  Santa Clarita|   91350| Los Angeles|         0.0|     1526|  6451.0| 42|         2|        3|        2|        0| 10|     2021|     2021|    699900|    700000|5/20/2021 0:00|5/30/2021 0:00|      1979|\n",
            "| ME221056236|4058 Castellina WAY |        Manteca|   95337| San Joaquin|        10.0|     3284|  8259.0|  9|         4|        4|        3|        1|  2|     2021|     2021|    998000|   1100000|5/26/2021 0:00|5/28/2021 0:00|      2012|\n",
            "|CRTR21097360|      504 Thomas ST |       Oak View|   93022|     Ventura|        17.0|     1125|  7543.0| 48|         2|        3|        2|        0|  5|     2021|     2021|    700000|    695000|4/21/2021 0:00|4/26/2021 0:00|      1973|\n",
            "|CRNDP2105487|3755 Vista Campan...|      Oceanside|   92057|   San Diego|         5.0|      906|  1309.0| 55|         1|        2|        1|        0| 13|     2021|     2021|    299000|    285000|5/17/2021 0:00|5/30/2021 0:00|      1966|\n",
            "|  CC40948779|      429 Calico Ct |      San Ramon|   94582|Contra Costa|         6.0|     3850| 10420.0| 16|         4|        5|        4|        0|  4|     2021|     2021|   2288000|   2625125|5/20/2021 0:00|5/24/2021 0:00|      2005|\n",
            "|CRBB21107239|   2174 N Mills AVE |      Claremont|   91711| Los Angeles|         0.0|     2990| 11880.0| 43|         5|        5|        5|        0|  7|     2021|     2021|   1099998|   1150000|5/19/2021 0:00|5/26/2021 0:00|      1978|\n",
            "|CRPW21108298|    1238 Hampton CT |      Fullerton|   92831|      Orange|         2.0|     2199|  4250.0| 21|         3|        3|        2|        1|  6|     2021|     2021|   1150000|   1205000|5/19/2021 0:00|5/25/2021 0:00|      2000|\n",
            "|CROC21095003|        1 Roncal ST |   Ladera Ranch|   92694|      Orange|         2.0|     1625|  4140.0|  7|         2|        2|        2|        0|  3|     2021|     2021|    899000|    930000|5/25/2021 0:00|5/28/2021 0:00|      2014|\n",
            "|CRTR21098395|   801 Hampshire LN |       La Habra|   90631|      Orange|         2.0|     1520|  2000.0| 44|         2|        4|        1|        1| 20|     2021|     2021|    596000|    645000| 5/4/2021 0:00|5/24/2021 0:00|      1977|\n",
            "|CRSW21114737|3588 Cherry Bloss...|  Lake Elsinore|   92530|   Riverside|         1.0|     1834|  6098.0| 34|         3|        4|        3|        0|  3|     2021|     2021|    487500|    511000|5/27/2021 0:00|5/30/2021 0:00|      1987|\n",
            "|  ML81844452|60 Crazy Horse Ca...|      Prunedale|   93907|    Monterey|        24.0|     2826|256568.0| 34|         3|        3|        3|        0|  8|     2021|     2021|    734000|    850000|5/18/2021 0:00|5/26/2021 0:00|      1987|\n",
            "+------------+--------------------+---------------+--------+------------+------------+---------+--------+---+----------+---------+---------+---------+---+---------+---------+----------+----------+--------------+--------------+----------+\n",
            "only showing top 20 rows\n",
            "\n"
          ],
          "name": "stdout"
        }
      ]
    },
    {
      "cell_type": "markdown",
      "metadata": {
        "id": "W_mfPUypzqH_"
      },
      "source": [
        "**Yeah** Data is cleaned"
      ]
    },
    {
      "cell_type": "code",
      "metadata": {
        "id": "77xsqWdErQSt",
        "colab": {
          "base_uri": "https://localhost:8080/"
        },
        "outputId": "c824668c-a37a-4339-f597-90c2f46fb46e"
      },
      "source": [
        "new_final_df.printSchema()"
      ],
      "execution_count": 17,
      "outputs": [
        {
          "output_type": "stream",
          "text": [
            "root\n",
            " |-- MLS_Number: string (nullable = true)\n",
            " |-- Street_Address: string (nullable = true)\n",
            " |-- City: string (nullable = true)\n",
            " |-- Zip_Code: string (nullable = true)\n",
            " |-- county: string (nullable = true)\n",
            " |-- County_Index: double (nullable = false)\n",
            " |-- SqFtTotal: integer (nullable = true)\n",
            " |-- Lot_Size: double (nullable = true)\n",
            " |-- Age: integer (nullable = true)\n",
            " |-- BathsTotal: integer (nullable = true)\n",
            " |-- BedsTotal: integer (nullable = true)\n",
            " |-- BathsFull: integer (nullable = true)\n",
            " |-- BathsHalf: integer (nullable = true)\n",
            " |-- DOM: integer (nullable = true)\n",
            " |-- Year_List: integer (nullable = true)\n",
            " |-- Year_Sold: integer (nullable = true)\n",
            " |-- List_Price: integer (nullable = true)\n",
            " |-- Sale_Price: integer (nullable = true)\n",
            " |-- Listing_Date: string (nullable = true)\n",
            " |-- Sale_Date: string (nullable = true)\n",
            " |-- Year_Built: integer (nullable = true)\n",
            "\n"
          ],
          "name": "stdout"
        }
      ]
    },
    {
      "cell_type": "code",
      "metadata": {
        "id": "8_cWOUBOrQoZ"
      },
      "source": [
        "# Transpose to make it easy to read by a human being\n",
        "# But it takes lots of times\n",
        "# new_final_df.describe().toPandas().transpose()"
      ],
      "execution_count": 18,
      "outputs": []
    },
    {
      "cell_type": "code",
      "metadata": {
        "id": "VKeYnmv0gVW9",
        "colab": {
          "base_uri": "https://localhost:8080/"
        },
        "outputId": "bf0f20f0-ca0b-40e7-9a8f-6109c24aa833"
      },
      "source": [
        "# Make sure the df has to be pyspark before it is written\n",
        "type(new_final_df)"
      ],
      "execution_count": 19,
      "outputs": [
        {
          "output_type": "execute_result",
          "data": {
            "text/plain": [
              "pyspark.sql.dataframe.DataFrame"
            ]
          },
          "metadata": {
            "tags": []
          },
          "execution_count": 19
        }
      ]
    },
    {
      "cell_type": "code",
      "metadata": {
        "id": "FI1IiFejJs2s",
        "colab": {
          "base_uri": "https://localhost:8080/"
        },
        "outputId": "237a8f80-e4e9-43e1-91ee-93db27ddb979"
      },
      "source": [
        "# Create house dataframe to show only the characteristics of the houses\n",
        "house_df = new_final_df.select('MLS_Number','Street_Address','City','Zip_Code','county','County_Index','SqFtTotal','Lot_Size','BedsTotal','BathsTotal','BathsFull','BathsHalf','Year_Built',\"Sale_Price\")\n",
        "house_df.show(5)\n",
        "house_df.count()"
      ],
      "execution_count": 20,
      "outputs": [
        {
          "output_type": "stream",
          "text": [
            "+------------+--------------------+----------+--------+------------+------------+---------+--------+---------+----------+---------+---------+----------+----------+\n",
            "|  MLS_Number|      Street_Address|      City|Zip_Code|      county|County_Index|SqFtTotal|Lot_Size|BedsTotal|BathsTotal|BathsFull|BathsHalf|Year_Built|Sale_Price|\n",
            "+------------+--------------------+----------+--------+------------+------------+---------+--------+---------+----------+---------+---------+----------+----------+\n",
            "|  ML81844669|1523 San Andreas ...|  San Jose|   95118| Santa Clara|         7.0|     1144|  5822.0|        3|         2|        2|        0|      1954|   1335555|\n",
            "|CRSN21105110|     4255 Stable LN |     Chico|   95973|       Butte|        11.0|     1729| 34412.0|        3|         2|        2|        0|      1980|    580000|\n",
            "|CRPW21106375| 2717 E Palmyra AVE |    Orange|   92869|      Orange|         2.0|     1814|  7850.0|        3|         2|        2|        0|      1963|    885000|\n",
            "| ME221055681|  1142 Elderwood DR |      Galt|   95632|  Sacramento|         4.0|     1218|  6499.0|        3|         2|        2|        0|      1998|    450000|\n",
            "|  EB40951076|        1331 Elm St |El Cerrito|   94530|Contra Costa|         6.0|      951|  3700.0|        2|         1|        1|        0|      1948|    900000|\n",
            "+------------+--------------------+----------+--------+------------+------------+---------+--------+---------+----------+---------+---------+----------+----------+\n",
            "only showing top 5 rows\n",
            "\n"
          ],
          "name": "stdout"
        },
        {
          "output_type": "execute_result",
          "data": {
            "text/plain": [
              "4225"
            ]
          },
          "metadata": {
            "tags": []
          },
          "execution_count": 20
        }
      ]
    },
    {
      "cell_type": "code",
      "metadata": {
        "id": "HX6fQhr3KTsl",
        "colab": {
          "base_uri": "https://localhost:8080/"
        },
        "outputId": "4a6d3d00-888b-4084-d5e6-c88169a4f126"
      },
      "source": [
        "# Create sales dataframe to show information related to sales and listing sales\n",
        "sale_df = new_final_df.select('MLS_Number','county','County_Index','SqFtTotal','Lot_Size', 'BedsTotal','BathsTotal','BathsFull','BathsHalf',\"Age\",'Year_Built','DOM','Year_Sold','Year_List','Sale_Date','List_Price','Sale_Price')\n",
        "sale_df.show(8)\n",
        "sale_df.count()"
      ],
      "execution_count": 21,
      "outputs": [
        {
          "output_type": "stream",
          "text": [
            "+------------+------------+------------+---------+--------+---------+----------+---------+---------+---+----------+---+---------+---------+--------------+----------+----------+\n",
            "|  MLS_Number|      county|County_Index|SqFtTotal|Lot_Size|BedsTotal|BathsTotal|BathsFull|BathsHalf|Age|Year_Built|DOM|Year_Sold|Year_List|     Sale_Date|List_Price|Sale_Price|\n",
            "+------------+------------+------------+---------+--------+---------+----------+---------+---------+---+----------+---+---------+---------+--------------+----------+----------+\n",
            "|  ML81844669| Santa Clara|         7.0|     1144|  5822.0|        3|         2|        2|        0| 67|      1954|  8|     2021|     2021|5/27/2021 0:00|   1199000|   1335555|\n",
            "|CRSN21105110|       Butte|        11.0|     1729| 34412.0|        3|         2|        2|        0| 41|      1980|  6|     2021|     2021|5/23/2021 0:00|    569900|    580000|\n",
            "|CRPW21106375|      Orange|         2.0|     1814|  7850.0|        3|         2|        2|        0| 58|      1963|  5|     2021|     2021|5/23/2021 0:00|    825000|    885000|\n",
            "| ME221055681|  Sacramento|         4.0|     1218|  6499.0|        3|         2|        2|        0| 23|      1998|  3|     2021|     2021|5/24/2021 0:00|    425000|    450000|\n",
            "|  EB40951076|Contra Costa|         6.0|      951|  3700.0|        2|         1|        1|        0| 73|      1948|  0|     2021|     2021|5/21/2021 0:00|    900000|    900000|\n",
            "|  ML81845593| Santa Clara|         7.0|     1811|  6552.0|        5|         2|        2|        0| 48|      1973|  0|     2021|     2021|5/24/2021 0:00|   1000000|   1000000|\n",
            "|CROC21117827|   Riverside|         1.0|     2250|  4356.0|        4|         3|        2|        1| 18|      2003|  0|     2021|     2021|4/21/2021 0:00|    775000|    775000|\n",
            "|CRNDP2105763|   San Diego|         5.0|     2167|  6333.0|        4|         3|        2|        1| 36|      1985|  6|     2021|     2021|5/30/2021 0:00|   1099000|   1392500|\n",
            "+------------+------------+------------+---------+--------+---------+----------+---------+---------+---+----------+---+---------+---------+--------------+----------+----------+\n",
            "only showing top 8 rows\n",
            "\n"
          ],
          "name": "stdout"
        },
        {
          "output_type": "execute_result",
          "data": {
            "text/plain": [
              "4225"
            ]
          },
          "metadata": {
            "tags": []
          },
          "execution_count": 21
        }
      ]
    },
    {
      "cell_type": "code",
      "metadata": {
        "id": "7tbH1OdkLLhO",
        "colab": {
          "base_uri": "https://localhost:8080/"
        },
        "outputId": "1de7a3f2-d104-4b4d-b9fe-487dea3c08bd"
      },
      "source": [
        "# Store environmental variable\n",
        "from getpass import getpass\n",
        "password = getpass('Enter database password')\n",
        "# Configure settings for RDS\n",
        "mode = \"append\"\n",
        "jdbc_url=\"jdbc:postgresql://database-1.cvmp56um73d3.us-west-1.rds.amazonaws.com:5432/Final_Project_db\"\n",
        "config = {\"user\":\"postgres\",\n",
        "          \"password\": password,\n",
        "          \"driver\":\"org.postgresql.Driver\"}"
      ],
      "execution_count": 22,
      "outputs": [
        {
          "output_type": "stream",
          "text": [
            "Enter database password··········\n"
          ],
          "name": "stdout"
        }
      ]
    },
    {
      "cell_type": "code",
      "metadata": {
        "id": "qXXtimKhNJJ7"
      },
      "source": [
        "# Write DataFrame to house table in RDS\n",
        "house_df.write.jdbc(url=jdbc_url, table='house_data', mode=mode, properties=config)"
      ],
      "execution_count": 23,
      "outputs": []
    },
    {
      "cell_type": "code",
      "metadata": {
        "id": "CyqMSnt5O7xS"
      },
      "source": [
        "# Write dataframe to sales table in RDS\n",
        "sale_df.write.jdbc(url=jdbc_url, table='sale_data', mode=mode, properties=config)"
      ],
      "execution_count": 24,
      "outputs": []
    },
    {
      "cell_type": "code",
      "metadata": {
        "id": "DopRTn9PxynB"
      },
      "source": [
        "# Write dataframe to final_data table in RDS\n",
        "new_final_df.write.jdbc(url=jdbc_url, table='final_data', mode=mode, properties=config)"
      ],
      "execution_count": 25,
      "outputs": []
    }
  ]
}