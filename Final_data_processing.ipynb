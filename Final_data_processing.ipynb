{
  "nbformat": 4,
  "nbformat_minor": 0,
  "metadata": {
    "colab": {
      "name": "Final_data_processing.ipynb",
      "provenance": [],
      "collapsed_sections": []
    },
    "kernelspec": {
      "name": "python3",
      "display_name": "Python 3"
    },
    "language_info": {
      "name": "python"
    }
  },
  "cells": [
    {
      "cell_type": "code",
      "metadata": {
        "colab": {
          "base_uri": "https://localhost:8080/"
        },
        "id": "lFv5-T_zupnd",
        "outputId": "32cd6f80-9c8a-4693-b58e-e6f0d7292a28"
      },
      "source": [
        "import os\n",
        "# Find the latest version of spark 3.0  from http://www.apache.org/dist/spark/ and enter as the spark version\n",
        "# For example:\n",
        "spark_version = 'spark-3.0.3'\n",
        "#spark_version = 'spark-3.<enter version>'\n",
        "os.environ['SPARK_VERSION']=spark_version\n",
        "\n",
        "# Install Spark and Java\n",
        "!apt-get update\n",
        "!apt-get install openjdk-11-jdk-headless -qq > /dev/null\n",
        "!wget -q http://www.apache.org/dist/spark/$SPARK_VERSION/$SPARK_VERSION-bin-hadoop2.7.tgz\n",
        "!tar xf $SPARK_VERSION-bin-hadoop2.7.tgz\n",
        "!pip install -q findspark\n",
        "\n",
        "# Set Environment Variables\n",
        "import os\n",
        "os.environ[\"JAVA_HOME\"] = \"/usr/lib/jvm/java-11-openjdk-amd64\"\n",
        "os.environ[\"SPARK_HOME\"] = f\"/content/{spark_version}-bin-hadoop2.7\"\n",
        "\n",
        "# Start a SparkSession\n",
        "import findspark\n",
        "findspark.init()"
      ],
      "execution_count": null,
      "outputs": [
        {
          "output_type": "stream",
          "text": [
            "\r0% [Working]\r            \rHit:1 http://security.ubuntu.com/ubuntu bionic-security InRelease\n",
            "\r0% [Connecting to archive.ubuntu.com (91.189.88.152)] [Connected to cloud.r-pro\r                                                                               \rHit:2 https://cloud.r-project.org/bin/linux/ubuntu bionic-cran40/ InRelease\n",
            "\r0% [Connecting to archive.ubuntu.com (91.189.88.152)] [Connecting to ppa.launch\r0% [1 InRelease gpgv 88.7 kB] [Connected to archive.ubuntu.com (91.189.88.152)]\r                                                                               \rHit:3 http://ppa.launchpad.net/c2d4u.team/c2d4u4.0+/ubuntu bionic InRelease\n",
            "Hit:4 http://archive.ubuntu.com/ubuntu bionic InRelease\n",
            "Hit:5 http://archive.ubuntu.com/ubuntu bionic-updates InRelease\n",
            "Hit:6 http://ppa.launchpad.net/cran/libgit2/ubuntu bionic InRelease\n",
            "Hit:7 http://archive.ubuntu.com/ubuntu bionic-backports InRelease\n",
            "Ign:8 https://developer.download.nvidia.com/compute/cuda/repos/ubuntu1804/x86_64  InRelease\n",
            "Hit:9 http://ppa.launchpad.net/deadsnakes/ppa/ubuntu bionic InRelease\n",
            "Ign:10 https://developer.download.nvidia.com/compute/machine-learning/repos/ubuntu1804/x86_64  InRelease\n",
            "Hit:11 https://developer.download.nvidia.com/compute/cuda/repos/ubuntu1804/x86_64  Release\n",
            "Hit:12 https://developer.download.nvidia.com/compute/machine-learning/repos/ubuntu1804/x86_64  Release\n",
            "Hit:13 http://ppa.launchpad.net/graphics-drivers/ppa/ubuntu bionic InRelease\n",
            "Reading package lists... Done\n"
          ],
          "name": "stdout"
        }
      ]
    },
    {
      "cell_type": "code",
      "metadata": {
        "colab": {
          "base_uri": "https://localhost:8080/"
        },
        "id": "Chcx1Hb5vNuS",
        "outputId": "1696a4e5-757b-4e75-8cf1-15621d76f901"
      },
      "source": [
        "# First, enter the following code to download a Postgres driver that will allow Spark to interact with Postgres:\n",
        "!wget https://jdbc.postgresql.org/download/postgresql-42.2.16.jar"
      ],
      "execution_count": null,
      "outputs": [
        {
          "output_type": "stream",
          "text": [
            "--2021-07-30 21:27:44--  https://jdbc.postgresql.org/download/postgresql-42.2.16.jar\n",
            "Resolving jdbc.postgresql.org (jdbc.postgresql.org)... 72.32.157.228, 2001:4800:3e1:1::228\n",
            "Connecting to jdbc.postgresql.org (jdbc.postgresql.org)|72.32.157.228|:443... connected.\n",
            "HTTP request sent, awaiting response... 200 OK\n",
            "Length: 1002883 (979K) [application/java-archive]\n",
            "Saving to: ‘postgresql-42.2.16.jar.1’\n",
            "\n",
            "postgresql-42.2.16. 100%[===================>] 979.38K  5.64MB/s    in 0.2s    \n",
            "\n",
            "2021-07-30 21:27:44 (5.64 MB/s) - ‘postgresql-42.2.16.jar.1’ saved [1002883/1002883]\n",
            "\n"
          ],
          "name": "stdout"
        }
      ]
    },
    {
      "cell_type": "code",
      "metadata": {
        "id": "x1fG3JpHGtlD"
      },
      "source": [
        "from pyspark.sql import SparkSession\n",
        "spark = SparkSession.builder.appName(\"Final_data\").config(\"spark.driver.extraClassPath\",\"/content/postgresql-42.2.16.jar\").getOrCreate()"
      ],
      "execution_count": null,
      "outputs": []
    },
    {
      "cell_type": "code",
      "metadata": {
        "id": "-L7yMupXPGSn"
      },
      "source": [
        "# Load in a sql function to use columns\n",
        "from pyspark.sql.functions import col, avg, sum, count, rand, randn, to_timestamp"
      ],
      "execution_count": null,
      "outputs": []
    },
    {
      "cell_type": "code",
      "metadata": {
        "id": "kbZk5lFRFR6p",
        "colab": {
          "base_uri": "https://localhost:8080/"
        },
        "outputId": "1609317d-68fb-416d-dd20-99cc0bdb2044"
      },
      "source": [
        "# Read in data from S3 Buckets\n",
        "from pyspark import SparkFiles\n",
        "url = \"https://tq2cutebucket.s3.us-west-1.amazonaws.com/cali_house_sales.csv\"\n",
        "spark.sparkContext.addFile(url)\n",
        "df = spark.read.option(\"encoding\", \"UTF-8\").csv(SparkFiles.get(\"cali_house_sales.csv\"), sep=\",\", header=True, inferSchema=True)\n",
        "df.show()"
      ],
      "execution_count": null,
      "outputs": [
        {
          "output_type": "stream",
          "text": [
            "+------+--------------------+--------+----------+----------+---+-----------+--------+---+---------------+--------------+--------------+-------------------+----------+--------------+---------+\n",
            "|Status|      Street Address|Zip Code|List Price|Sale Price|Age|Sq Ft Total|Lot Size|DOM|   Listing Date|     Sale Date|    Close Date|Original List Price|Year Built|    MLS Number|Year_Sale|\n",
            "+------+--------------------+--------+----------+----------+---+-----------+--------+---+---------------+--------------+--------------+-------------------+----------+--------------+---------+\n",
            "|  Sold|    6882 Norton AVE |   93003|    465000|    415000| 63|       1907|  8400.0| 61| 11/5/2018 0:00| 1/5/2019 0:00|1/18/2019 0:00|             499900|      1958|CRV0-218013798|     2019|\n",
            "|  Sold| 3177 Wood Creek DR |   95928|    475000|    475000| 21|       1800|  4792.0|  5|  1/2/2019 0:00| 1/7/2019 0:00|1/28/2019 0:00|             475000|      2000|   ME201900019|     2019|\n",
            "|  Sold|     3011 S 5th AVE |   95965|    150000|    150000| 91|        960|  4356.0| 23|12/17/2018 0:00| 1/9/2019 0:00|2/14/2019 0:00|             150000|      1930|   ME201804212|     2019|\n",
            "|  Sold| 413 Buena Vista DR |   93023|    769000|    755000| 62|       1997| 10594.0|162|  8/1/2018 0:00|1/10/2019 0:00|1/11/2019 0:00|             799000|      1959|CRV0-218009673|     2019|\n",
            "|  Sold|     308 Melrose DR |   93035|    749000|    725000| 36|       1802|  1750.0|136| 8/27/2018 0:00|1/10/2019 0:00|1/11/2019 0:00|             759000|      1985|CRV0-218010836|     2019|\n",
            "|  Sold|  3764 Oro Dam BLVD |   95966|    110000|     84000| 77|        999|  6534.0|136| 8/27/2018 0:00|1/10/2019 0:00|1/24/2019 0:00|             139000|      1944|   ME201802872|     2019|\n",
            "|  Sold|       201 Chico RD |   93023|   1349000|   1261530| 73|       2159| 33400.0| 99| 10/4/2018 0:00|1/11/2019 0:00|1/25/2019 0:00|            1349000|      1948|CRV0-218012522|     2019|\n",
            "|  Sold|    51 Inglewood DR |   95966|    329000|    312500| 63|       1650| 54886.0| 10|  1/3/2019 0:00|1/13/2019 0:00|2/26/2019 0:00|             329000|      1958|   ME201900034|     2019|\n",
            "|  Sold|5377 Crest Ridge DR |   95966|    237000|    260000| 46|       1170|  7841.0|  7| 1/14/2019 0:00|1/21/2019 0:00|1/28/2019 0:00|             237000|      1975|   ME201804055|     2019|\n",
            "|  Sold|    6418 Corning CT |   95954|    110000|    110000| 41|       1152| 10454.0|  1| 1/25/2019 0:00|1/26/2019 0:00| 2/1/2019 0:00|             110000|      1980|   ME201900260|     2019|\n",
            "|  Sold|         6 Ernie LN |   95916|    249900|    234000| 35|       1546| 72745.0|114| 10/5/2018 0:00|1/27/2019 0:00|2/13/2019 0:00|             274900|      1986|   ME201803424|     2019|\n",
            "|  Sold|   513 Oak Creek LN |   93023|    879000|    910000| 55|       2053| 16400.0| 98|10/25/2018 0:00|1/31/2019 0:00|2/22/2019 0:00|             939000|      1966|CRV0-218013395|     2019|\n",
            "|  Sold|        968 Mort LN |   95973|     75000|     85000| 44|        720| 13068.0| 24| 1/11/2019 0:00| 2/4/2019 0:00| 2/8/2019 0:00|              75000|      1977|   ME201900110|     2019|\n",
            "|  Sold|    2656 Bolker WAY |   93041|    440000|    445000| 49|       1282|  4138.0| 94| 11/6/2018 0:00| 2/8/2019 0:00|2/15/2019 0:00|             451000|      1972|CRV0-218013876|     2019|\n",
            "|  Sold|         8 Nikki CT |   95965|    304900|    310000| 16|       1640|  6098.0|  8| 1/31/2019 0:00| 2/8/2019 0:00|3/15/2019 0:00|             304900|      2005|   ME201900316|     2019|\n",
            "|  Sold|   2165 Ramelli AVE |   93003|    529000|    529000| 55|       1402|  6000.0|116|10/22/2018 0:00|2/15/2019 0:00|2/26/2019 0:00|             549500|      1966|CRV0-218013302|     2019|\n",
            "|  Sold|      90 Apache CIR |   95966|    149000|    149000| 42|       1200|  6534.0|  8| 2/13/2019 0:00|2/21/2019 0:00|3/22/2019 0:00|             149000|      1979|   ME201900445|     2019|\n",
            "|  Sold|     1095 E Meta ST |   93001|    774900|    800000|101|       1028|  5000.0| 34| 1/25/2019 0:00|2/28/2019 0:00|4/12/2019 0:00|             774900|      1920|CRV0-219000916|     2019|\n",
            "|  Sold|   9218 Holland AVE |   95938|    284218|    276500| 49|       1341|  9148.0| 51|  1/9/2019 0:00| 3/1/2019 0:00|3/29/2019 0:00|             289218|      1972|   ME201900091|     2019|\n",
            "|  Sold|      3250 Glen AVE |   95966|    200000|    205000| 59|       1452| 18731.0|  5|  3/1/2019 0:00| 3/6/2019 0:00|4/24/2019 0:00|             200000|      1962|   ME201900602|     2019|\n",
            "+------+--------------------+--------+----------+----------+---+-----------+--------+---+---------------+--------------+--------------+-------------------+----------+--------------+---------+\n",
            "only showing top 20 rows\n",
            "\n"
          ],
          "name": "stdout"
        }
      ]
    },
    {
      "cell_type": "code",
      "metadata": {
        "colab": {
          "base_uri": "https://localhost:8080/"
        },
        "id": "ykcvxrlWDd4s",
        "outputId": "bbfdacf1-4975-4a48-9241-823a605e2bba"
      },
      "source": [
        "# Rename Zip Code in capital to zip_code\n",
        "df = df.withColumnRenamed(\"Zip Code\", \"zip_code\")\n",
        "#.withColumnRenamed(\"colName2\", \"newColName2\")\n",
        "df.show()"
      ],
      "execution_count": null,
      "outputs": [
        {
          "output_type": "stream",
          "text": [
            "+------+--------------------+--------+----------+----------+---+-----------+--------+---+---------------+--------------+--------------+-------------------+----------+--------------+---------+\n",
            "|Status|      Street Address|zip_code|List Price|Sale Price|Age|Sq Ft Total|Lot Size|DOM|   Listing Date|     Sale Date|    Close Date|Original List Price|Year Built|    MLS Number|Year_Sale|\n",
            "+------+--------------------+--------+----------+----------+---+-----------+--------+---+---------------+--------------+--------------+-------------------+----------+--------------+---------+\n",
            "|  Sold|    6882 Norton AVE |   93003|    465000|    415000| 63|       1907|  8400.0| 61| 11/5/2018 0:00| 1/5/2019 0:00|1/18/2019 0:00|             499900|      1958|CRV0-218013798|     2019|\n",
            "|  Sold| 3177 Wood Creek DR |   95928|    475000|    475000| 21|       1800|  4792.0|  5|  1/2/2019 0:00| 1/7/2019 0:00|1/28/2019 0:00|             475000|      2000|   ME201900019|     2019|\n",
            "|  Sold|     3011 S 5th AVE |   95965|    150000|    150000| 91|        960|  4356.0| 23|12/17/2018 0:00| 1/9/2019 0:00|2/14/2019 0:00|             150000|      1930|   ME201804212|     2019|\n",
            "|  Sold| 413 Buena Vista DR |   93023|    769000|    755000| 62|       1997| 10594.0|162|  8/1/2018 0:00|1/10/2019 0:00|1/11/2019 0:00|             799000|      1959|CRV0-218009673|     2019|\n",
            "|  Sold|     308 Melrose DR |   93035|    749000|    725000| 36|       1802|  1750.0|136| 8/27/2018 0:00|1/10/2019 0:00|1/11/2019 0:00|             759000|      1985|CRV0-218010836|     2019|\n",
            "|  Sold|  3764 Oro Dam BLVD |   95966|    110000|     84000| 77|        999|  6534.0|136| 8/27/2018 0:00|1/10/2019 0:00|1/24/2019 0:00|             139000|      1944|   ME201802872|     2019|\n",
            "|  Sold|       201 Chico RD |   93023|   1349000|   1261530| 73|       2159| 33400.0| 99| 10/4/2018 0:00|1/11/2019 0:00|1/25/2019 0:00|            1349000|      1948|CRV0-218012522|     2019|\n",
            "|  Sold|    51 Inglewood DR |   95966|    329000|    312500| 63|       1650| 54886.0| 10|  1/3/2019 0:00|1/13/2019 0:00|2/26/2019 0:00|             329000|      1958|   ME201900034|     2019|\n",
            "|  Sold|5377 Crest Ridge DR |   95966|    237000|    260000| 46|       1170|  7841.0|  7| 1/14/2019 0:00|1/21/2019 0:00|1/28/2019 0:00|             237000|      1975|   ME201804055|     2019|\n",
            "|  Sold|    6418 Corning CT |   95954|    110000|    110000| 41|       1152| 10454.0|  1| 1/25/2019 0:00|1/26/2019 0:00| 2/1/2019 0:00|             110000|      1980|   ME201900260|     2019|\n",
            "|  Sold|         6 Ernie LN |   95916|    249900|    234000| 35|       1546| 72745.0|114| 10/5/2018 0:00|1/27/2019 0:00|2/13/2019 0:00|             274900|      1986|   ME201803424|     2019|\n",
            "|  Sold|   513 Oak Creek LN |   93023|    879000|    910000| 55|       2053| 16400.0| 98|10/25/2018 0:00|1/31/2019 0:00|2/22/2019 0:00|             939000|      1966|CRV0-218013395|     2019|\n",
            "|  Sold|        968 Mort LN |   95973|     75000|     85000| 44|        720| 13068.0| 24| 1/11/2019 0:00| 2/4/2019 0:00| 2/8/2019 0:00|              75000|      1977|   ME201900110|     2019|\n",
            "|  Sold|    2656 Bolker WAY |   93041|    440000|    445000| 49|       1282|  4138.0| 94| 11/6/2018 0:00| 2/8/2019 0:00|2/15/2019 0:00|             451000|      1972|CRV0-218013876|     2019|\n",
            "|  Sold|         8 Nikki CT |   95965|    304900|    310000| 16|       1640|  6098.0|  8| 1/31/2019 0:00| 2/8/2019 0:00|3/15/2019 0:00|             304900|      2005|   ME201900316|     2019|\n",
            "|  Sold|   2165 Ramelli AVE |   93003|    529000|    529000| 55|       1402|  6000.0|116|10/22/2018 0:00|2/15/2019 0:00|2/26/2019 0:00|             549500|      1966|CRV0-218013302|     2019|\n",
            "|  Sold|      90 Apache CIR |   95966|    149000|    149000| 42|       1200|  6534.0|  8| 2/13/2019 0:00|2/21/2019 0:00|3/22/2019 0:00|             149000|      1979|   ME201900445|     2019|\n",
            "|  Sold|     1095 E Meta ST |   93001|    774900|    800000|101|       1028|  5000.0| 34| 1/25/2019 0:00|2/28/2019 0:00|4/12/2019 0:00|             774900|      1920|CRV0-219000916|     2019|\n",
            "|  Sold|   9218 Holland AVE |   95938|    284218|    276500| 49|       1341|  9148.0| 51|  1/9/2019 0:00| 3/1/2019 0:00|3/29/2019 0:00|             289218|      1972|   ME201900091|     2019|\n",
            "|  Sold|      3250 Glen AVE |   95966|    200000|    205000| 59|       1452| 18731.0|  5|  3/1/2019 0:00| 3/6/2019 0:00|4/24/2019 0:00|             200000|      1962|   ME201900602|     2019|\n",
            "+------+--------------------+--------+----------+----------+---+-----------+--------+---+---------------+--------------+--------------+-------------------+----------+--------------+---------+\n",
            "only showing top 20 rows\n",
            "\n"
          ],
          "name": "stdout"
        }
      ]
    },
    {
      "cell_type": "code",
      "metadata": {
        "colab": {
          "base_uri": "https://localhost:8080/"
        },
        "id": "T5g5gEJpHD_j",
        "outputId": "3b180c7e-734c-4a86-95ca-2d5cbeb2a05a"
      },
      "source": [
        "# Read in data from S3 Buckets\n",
        "from pyspark import SparkFiles\n",
        "url = \"https://tq2cutebucket.s3.us-west-1.amazonaws.com/county_zipcode.csv\"\n",
        "spark.sparkContext.addFile(url)\n",
        "county_df = spark.read.option(\"encoding\", \"UTF-8\").csv(SparkFiles.get(\"county_zipcode.csv\"), sep=\",\", header=True, inferSchema=True)\n",
        "county_df.show()\n",
        "county_df.count()"
      ],
      "execution_count": null,
      "outputs": [
        {
          "output_type": "stream",
          "text": [
            "+--------+--------------+\n",
            "|zip_code|        county|\n",
            "+--------+--------------+\n",
            "|   94063|     San Mateo|\n",
            "|   92225|     Riverside|\n",
            "|   92273|      Imperial|\n",
            "|   92651|        Orange|\n",
            "|   92801|        Orange|\n",
            "|   92865|        Orange|\n",
            "|   92352|San Bernardino|\n",
            "|   92250|      Imperial|\n",
            "|   92807|        Orange|\n",
            "|   92627|        Orange|\n",
            "|   91935|     San Diego|\n",
            "|   91773|   Los Angeles|\n",
            "|   91107|   Los Angeles|\n",
            "|   93283|          Kern|\n",
            "|   92866|        Orange|\n",
            "|   94528|  Contra Costa|\n",
            "|   95076|    Santa Cruz|\n",
            "|   90010|   Los Angeles|\n",
            "|   91905|     San Diego|\n",
            "|   91016|   Los Angeles|\n",
            "+--------+--------------+\n",
            "only showing top 20 rows\n",
            "\n"
          ],
          "name": "stdout"
        },
        {
          "output_type": "execute_result",
          "data": {
            "text/plain": [
              "51011"
            ]
          },
          "metadata": {
            "tags": []
          },
          "execution_count": 31
        }
      ]
    },
    {
      "cell_type": "code",
      "metadata": {
        "colab": {
          "base_uri": "https://localhost:8080/"
        },
        "id": "4ur94kANIFoa",
        "outputId": "d7f122a2-2353-4335-afdf-5bbf87fd68ed"
      },
      "source": [
        "# Join the two DataFrame\n",
        "joined_df = df.join(county_df, on=\"zip_code\", how=\"inner\")\n",
        "joined_df.show()\n",
        "joined_df.count()"
      ],
      "execution_count": null,
      "outputs": [
        {
          "output_type": "stream",
          "text": [
            "+--------+------+--------------------+----------+----------+---+-----------+--------+---+--------------+--------------+--------------+-------------------+----------+------------+---------+--------------+\n",
            "|zip_code|Status|      Street Address|List Price|Sale Price|Age|Sq Ft Total|Lot Size|DOM|  Listing Date|     Sale Date|    Close Date|Original List Price|Year Built|  MLS Number|Year_Sale|        county|\n",
            "+--------+------+--------------------+----------+----------+---+-----------+--------+---+--------------+--------------+--------------+-------------------+----------+------------+---------+--------------+\n",
            "|   94063|  Sold|    757 Douglas AVE |    979998|   1350000| 74|       1708|  5000.0|  9|6/15/2021 0:00|6/24/2021 0:00| 7/6/2021 0:00|             979998|      1947|  ML81848993|     2021|     San Mateo|\n",
            "|   92225|  Sold|2760 Colorado Riv...|    749900|    710000| 16|       2002| 19602.0|  2| 6/9/2021 0:00|6/11/2021 0:00|7/16/2021 0:00|             749900|      2005|CRSW21124462|     2021|     Riverside|\n",
            "|   92651|  Sold|       680 Catalina |   1185000|   1850000| 84|        998|  6970.0|  0|6/24/2021 0:00|6/24/2021 0:00|6/24/2021 0:00|            1185000|      1937|CROC21137467|     2021|        Orange|\n",
            "|   92651|  Sold|        2 S Portola |   4195000|   4250000| 81|       2527|  4104.0| 49| 5/6/2021 0:00|6/24/2021 0:00|7/14/2021 0:00|            4195000|      1940|CRNP21120019|     2021|        Orange|\n",
            "|   92651|  Sold|  2492 Glenneyre ST |   4950000|   4950000| 31|       4350|  5000.0|  3|6/12/2021 0:00|6/15/2021 0:00|6/29/2021 0:00|            4950000|      1990|CRLG21127787|     2021|        Orange|\n",
            "|   92651|  Sold|      721 Marlin DR |   4399000|   4650000| 28|       4700|  8250.0| 13|5/31/2021 0:00|6/13/2021 0:00| 7/6/2021 0:00|            4399000|      1993|CRLG21125208|     2021|        Orange|\n",
            "|   92651|  Sold|20 N Vista De Cat...|   4750000|   4750000| 52|       3611|  7200.0|  0| 5/5/2021 0:00| 5/5/2021 0:00|6/30/2021 0:00|            4750000|      1969|CROC21033919|     2021|        Orange|\n",
            "|   92801|  Sold|  1218 N Ralston ST |    749900|    780000| 66|       1245|  6000.0|  4|6/10/2021 0:00|6/14/2021 0:00|6/30/2021 0:00|             749900|      1955|CRPW21124539|     2021|        Orange|\n",
            "|   92865|  Sold|        542 W Cully |    540000|    540000| 65|       1804| 11039.0|  7| 7/2/2021 0:00| 7/9/2021 0:00|7/16/2021 0:00|             540000|      1956|CRSW21145136|     2021|        Orange|\n",
            "|   92865|  Sold| 810 E Whitecap AVE |    720000|    718000| 61|       1213|  7200.0|  8|6/21/2021 0:00|6/29/2021 0:00| 7/1/2021 0:00|             720000|      1960|CROC21131771|     2021|        Orange|\n",
            "|   92865|  Sold|  3182 N Ashwood ST |    698000|    676000| 52|       1662|  7000.0| 19| 6/9/2021 0:00|6/28/2021 0:00| 7/8/2021 0:00|             698000|      1969|CRPW21124941|     2021|        Orange|\n",
            "|   92865|  Sold| 2886 N Santa Fe PL |    679000|    725000| 23|       1600|  1950.0|  6|6/10/2021 0:00|6/16/2021 0:00|7/13/2021 0:00|             679000|      1998|CRPW21125217|     2021|        Orange|\n",
            "|   92352|  Sold|28626 Shenandoah DR |    864000|   1069000| 19|       2442| 10534.0|  5|6/21/2021 0:00|6/26/2021 0:00|7/15/2021 0:00|             864000|      2002|CRSB21134167|     2021|San Bernardino|\n",
            "|   92352|  Sold|   27316 Matterhorn |    550000|    550000| 34|       1854| 13667.0|  3|6/22/2021 0:00|6/25/2021 0:00|7/15/2021 0:00|             550000|      1987|CREV21135815|     2021|San Bernardino|\n",
            "|   92352|  Sold|     838 Bishorn DR |    499000|    510000| 45|       1672|  7910.0|  6|6/16/2021 0:00|6/22/2021 0:00|7/21/2021 0:00|             499000|      1976|CREV21130449|     2021|San Bernardino|\n",
            "|   92352|  Sold|  27098 Teakwood CT |    525000|    590000| 39|       2040|  9581.0| 12| 6/9/2021 0:00|6/21/2021 0:00| 7/9/2021 0:00|             525000|      1982|CREV21124734|     2021|San Bernardino|\n",
            "|   92352|  Sold|   27255 Bernina DR |    550000|    560000| 53|       1638|  9750.0|  5|6/10/2021 0:00|6/15/2021 0:00|7/20/2021 0:00|             550000|      1968|CREV21126818|     2021|San Bernardino|\n",
            "|   92352|  Sold|   1227 Klondike DR |    539000|    570000| 45|       1228|  7200.0|  5|6/10/2021 0:00|6/15/2021 0:00|7/20/2021 0:00|             539000|      1976|CREV21126696|     2021|San Bernardino|\n",
            "|   92807|  Sold|5507 E Vista Del ...|    638800|    650000| 44|       1646|  1466.0|  4|6/27/2021 0:00| 7/1/2021 0:00|7/14/2021 0:00|             638800|      1977|CRNP21139948|     2021|        Orange|\n",
            "|   92807|  Sold| 6518 E Via Estrada |    849900|    890000| 47|       1607| 10175.0|  5|6/21/2021 0:00|6/26/2021 0:00|7/19/2021 0:00|             849900|      1974|CROC21134191|     2021|        Orange|\n",
            "+--------+------+--------------------+----------+----------+---+-----------+--------+---+--------------+--------------+--------------+-------------------+----------+------------+---------+--------------+\n",
            "only showing top 20 rows\n",
            "\n"
          ],
          "name": "stdout"
        },
        {
          "output_type": "execute_result",
          "data": {
            "text/plain": [
              "121510"
            ]
          },
          "metadata": {
            "tags": []
          },
          "execution_count": 32
        }
      ]
    },
    {
      "cell_type": "code",
      "metadata": {
        "colab": {
          "base_uri": "https://localhost:8080/"
        },
        "id": "5p9_sRsWEQfS",
        "outputId": "187b2ce9-4e08-4c8c-e69c-60fe40447fd9"
      },
      "source": [
        "modify_df = joined_df.select(\"MLS Number\", \"Street Address\", \"zip_code\", \"county\", \"List Price\", \"Sale Price\", \"Age\", \"Sq Ft Total\", \"Lot Size\",\"DOM\",\"Year_Sale\",\"Listing Date\",\"Sale Date\", \"Year Built\")\n",
        "modify_df.show()\n",
        "modify_df.count()"
      ],
      "execution_count": null,
      "outputs": [
        {
          "output_type": "stream",
          "text": [
            "+------------+--------------------+--------+--------------+----------+----------+---+-----------+--------+---+---------+--------------+--------------+----------+\n",
            "|  MLS Number|      Street Address|zip_code|        county|List Price|Sale Price|Age|Sq Ft Total|Lot Size|DOM|Year_Sale|  Listing Date|     Sale Date|Year Built|\n",
            "+------------+--------------------+--------+--------------+----------+----------+---+-----------+--------+---+---------+--------------+--------------+----------+\n",
            "|  ML81848993|    757 Douglas AVE |   94063|     San Mateo|    979998|   1350000| 74|       1708|  5000.0|  9|     2021|6/15/2021 0:00|6/24/2021 0:00|      1947|\n",
            "|CRSW21124462|2760 Colorado Riv...|   92225|     Riverside|    749900|    710000| 16|       2002| 19602.0|  2|     2021| 6/9/2021 0:00|6/11/2021 0:00|      2005|\n",
            "|CROC21137467|       680 Catalina |   92651|        Orange|   1185000|   1850000| 84|        998|  6970.0|  0|     2021|6/24/2021 0:00|6/24/2021 0:00|      1937|\n",
            "|CRNP21120019|        2 S Portola |   92651|        Orange|   4195000|   4250000| 81|       2527|  4104.0| 49|     2021| 5/6/2021 0:00|6/24/2021 0:00|      1940|\n",
            "|CRLG21127787|  2492 Glenneyre ST |   92651|        Orange|   4950000|   4950000| 31|       4350|  5000.0|  3|     2021|6/12/2021 0:00|6/15/2021 0:00|      1990|\n",
            "|CRLG21125208|      721 Marlin DR |   92651|        Orange|   4399000|   4650000| 28|       4700|  8250.0| 13|     2021|5/31/2021 0:00|6/13/2021 0:00|      1993|\n",
            "|CROC21033919|20 N Vista De Cat...|   92651|        Orange|   4750000|   4750000| 52|       3611|  7200.0|  0|     2021| 5/5/2021 0:00| 5/5/2021 0:00|      1969|\n",
            "|CRPW21124539|  1218 N Ralston ST |   92801|        Orange|    749900|    780000| 66|       1245|  6000.0|  4|     2021|6/10/2021 0:00|6/14/2021 0:00|      1955|\n",
            "|CRSW21145136|        542 W Cully |   92865|        Orange|    540000|    540000| 65|       1804| 11039.0|  7|     2021| 7/2/2021 0:00| 7/9/2021 0:00|      1956|\n",
            "|CROC21131771| 810 E Whitecap AVE |   92865|        Orange|    720000|    718000| 61|       1213|  7200.0|  8|     2021|6/21/2021 0:00|6/29/2021 0:00|      1960|\n",
            "|CRPW21124941|  3182 N Ashwood ST |   92865|        Orange|    698000|    676000| 52|       1662|  7000.0| 19|     2021| 6/9/2021 0:00|6/28/2021 0:00|      1969|\n",
            "|CRPW21125217| 2886 N Santa Fe PL |   92865|        Orange|    679000|    725000| 23|       1600|  1950.0|  6|     2021|6/10/2021 0:00|6/16/2021 0:00|      1998|\n",
            "|CRSB21134167|28626 Shenandoah DR |   92352|San Bernardino|    864000|   1069000| 19|       2442| 10534.0|  5|     2021|6/21/2021 0:00|6/26/2021 0:00|      2002|\n",
            "|CREV21135815|   27316 Matterhorn |   92352|San Bernardino|    550000|    550000| 34|       1854| 13667.0|  3|     2021|6/22/2021 0:00|6/25/2021 0:00|      1987|\n",
            "|CREV21130449|     838 Bishorn DR |   92352|San Bernardino|    499000|    510000| 45|       1672|  7910.0|  6|     2021|6/16/2021 0:00|6/22/2021 0:00|      1976|\n",
            "|CREV21124734|  27098 Teakwood CT |   92352|San Bernardino|    525000|    590000| 39|       2040|  9581.0| 12|     2021| 6/9/2021 0:00|6/21/2021 0:00|      1982|\n",
            "|CREV21126818|   27255 Bernina DR |   92352|San Bernardino|    550000|    560000| 53|       1638|  9750.0|  5|     2021|6/10/2021 0:00|6/15/2021 0:00|      1968|\n",
            "|CREV21126696|   1227 Klondike DR |   92352|San Bernardino|    539000|    570000| 45|       1228|  7200.0|  5|     2021|6/10/2021 0:00|6/15/2021 0:00|      1976|\n",
            "|CRNP21139948|5507 E Vista Del ...|   92807|        Orange|    638800|    650000| 44|       1646|  1466.0|  4|     2021|6/27/2021 0:00| 7/1/2021 0:00|      1977|\n",
            "|CROC21134191| 6518 E Via Estrada |   92807|        Orange|    849900|    890000| 47|       1607| 10175.0|  5|     2021|6/21/2021 0:00|6/26/2021 0:00|      1974|\n",
            "+------------+--------------------+--------+--------------+----------+----------+---+-----------+--------+---+---------+--------------+--------------+----------+\n",
            "only showing top 20 rows\n",
            "\n"
          ],
          "name": "stdout"
        },
        {
          "output_type": "execute_result",
          "data": {
            "text/plain": [
              "121510"
            ]
          },
          "metadata": {
            "tags": []
          },
          "execution_count": 33
        }
      ]
    },
    {
      "cell_type": "code",
      "metadata": {
        "colab": {
          "base_uri": "https://localhost:8080/"
        },
        "id": "nFnF-GhosFv1",
        "outputId": "d0b920e2-2040-460f-91a4-24b2c0998eb2"
      },
      "source": [
        "from pyspark.ml.feature import StringIndexer\n",
        "\n",
        "#OneHotEncoderEstimator\n",
        "\n",
        "# create object of StringIndexer class and specify input and output column\n",
        "SI_county = StringIndexer(inputCol='county',outputCol='County_Index')\n",
        "\n",
        "# transform the data\n",
        "modify_df = SI_county.fit(modify_df).transform(modify_df)\n",
        "\n",
        "# view the transformed data\n",
        "modify_df.select('county', 'County_Index').show(10)\n",
        "\n",
        "modify_df.show()"
      ],
      "execution_count": null,
      "outputs": [
        {
          "output_type": "stream",
          "text": [
            "+---------+------------+\n",
            "|   county|County_Index|\n",
            "+---------+------------+\n",
            "|San Mateo|        11.0|\n",
            "|Riverside|         3.0|\n",
            "|   Orange|         1.0|\n",
            "|   Orange|         1.0|\n",
            "|   Orange|         1.0|\n",
            "|   Orange|         1.0|\n",
            "|   Orange|         1.0|\n",
            "|   Orange|         1.0|\n",
            "|   Orange|         1.0|\n",
            "|   Orange|         1.0|\n",
            "+---------+------------+\n",
            "only showing top 10 rows\n",
            "\n",
            "+------------+--------------------+--------+--------------+----------+----------+---+-----------+--------+---+---------+--------------+--------------+----------+------------+\n",
            "|  MLS Number|      Street Address|zip_code|        county|List Price|Sale Price|Age|Sq Ft Total|Lot Size|DOM|Year_Sale|  Listing Date|     Sale Date|Year Built|County_Index|\n",
            "+------------+--------------------+--------+--------------+----------+----------+---+-----------+--------+---+---------+--------------+--------------+----------+------------+\n",
            "|  ML81848993|    757 Douglas AVE |   94063|     San Mateo|    979998|   1350000| 74|       1708|  5000.0|  9|     2021|6/15/2021 0:00|6/24/2021 0:00|      1947|        11.0|\n",
            "|CRSW21124462|2760 Colorado Riv...|   92225|     Riverside|    749900|    710000| 16|       2002| 19602.0|  2|     2021| 6/9/2021 0:00|6/11/2021 0:00|      2005|         3.0|\n",
            "|CROC21137467|       680 Catalina |   92651|        Orange|   1185000|   1850000| 84|        998|  6970.0|  0|     2021|6/24/2021 0:00|6/24/2021 0:00|      1937|         1.0|\n",
            "|CRNP21120019|        2 S Portola |   92651|        Orange|   4195000|   4250000| 81|       2527|  4104.0| 49|     2021| 5/6/2021 0:00|6/24/2021 0:00|      1940|         1.0|\n",
            "|CRLG21127787|  2492 Glenneyre ST |   92651|        Orange|   4950000|   4950000| 31|       4350|  5000.0|  3|     2021|6/12/2021 0:00|6/15/2021 0:00|      1990|         1.0|\n",
            "|CRLG21125208|      721 Marlin DR |   92651|        Orange|   4399000|   4650000| 28|       4700|  8250.0| 13|     2021|5/31/2021 0:00|6/13/2021 0:00|      1993|         1.0|\n",
            "|CROC21033919|20 N Vista De Cat...|   92651|        Orange|   4750000|   4750000| 52|       3611|  7200.0|  0|     2021| 5/5/2021 0:00| 5/5/2021 0:00|      1969|         1.0|\n",
            "|CRPW21124539|  1218 N Ralston ST |   92801|        Orange|    749900|    780000| 66|       1245|  6000.0|  4|     2021|6/10/2021 0:00|6/14/2021 0:00|      1955|         1.0|\n",
            "|CRSW21145136|        542 W Cully |   92865|        Orange|    540000|    540000| 65|       1804| 11039.0|  7|     2021| 7/2/2021 0:00| 7/9/2021 0:00|      1956|         1.0|\n",
            "|CROC21131771| 810 E Whitecap AVE |   92865|        Orange|    720000|    718000| 61|       1213|  7200.0|  8|     2021|6/21/2021 0:00|6/29/2021 0:00|      1960|         1.0|\n",
            "|CRPW21124941|  3182 N Ashwood ST |   92865|        Orange|    698000|    676000| 52|       1662|  7000.0| 19|     2021| 6/9/2021 0:00|6/28/2021 0:00|      1969|         1.0|\n",
            "|CRPW21125217| 2886 N Santa Fe PL |   92865|        Orange|    679000|    725000| 23|       1600|  1950.0|  6|     2021|6/10/2021 0:00|6/16/2021 0:00|      1998|         1.0|\n",
            "|CRSB21134167|28626 Shenandoah DR |   92352|San Bernardino|    864000|   1069000| 19|       2442| 10534.0|  5|     2021|6/21/2021 0:00|6/26/2021 0:00|      2002|         8.0|\n",
            "|CREV21135815|   27316 Matterhorn |   92352|San Bernardino|    550000|    550000| 34|       1854| 13667.0|  3|     2021|6/22/2021 0:00|6/25/2021 0:00|      1987|         8.0|\n",
            "|CREV21130449|     838 Bishorn DR |   92352|San Bernardino|    499000|    510000| 45|       1672|  7910.0|  6|     2021|6/16/2021 0:00|6/22/2021 0:00|      1976|         8.0|\n",
            "|CREV21124734|  27098 Teakwood CT |   92352|San Bernardino|    525000|    590000| 39|       2040|  9581.0| 12|     2021| 6/9/2021 0:00|6/21/2021 0:00|      1982|         8.0|\n",
            "|CREV21126818|   27255 Bernina DR |   92352|San Bernardino|    550000|    560000| 53|       1638|  9750.0|  5|     2021|6/10/2021 0:00|6/15/2021 0:00|      1968|         8.0|\n",
            "|CREV21126696|   1227 Klondike DR |   92352|San Bernardino|    539000|    570000| 45|       1228|  7200.0|  5|     2021|6/10/2021 0:00|6/15/2021 0:00|      1976|         8.0|\n",
            "|CRNP21139948|5507 E Vista Del ...|   92807|        Orange|    638800|    650000| 44|       1646|  1466.0|  4|     2021|6/27/2021 0:00| 7/1/2021 0:00|      1977|         1.0|\n",
            "|CROC21134191| 6518 E Via Estrada |   92807|        Orange|    849900|    890000| 47|       1607| 10175.0|  5|     2021|6/21/2021 0:00|6/26/2021 0:00|      1974|         1.0|\n",
            "+------------+--------------------+--------+--------------+----------+----------+---+-----------+--------+---+---------+--------------+--------------+----------+------------+\n",
            "only showing top 20 rows\n",
            "\n"
          ],
          "name": "stdout"
        }
      ]
    },
    {
      "cell_type": "code",
      "metadata": {
        "colab": {
          "base_uri": "https://localhost:8080/"
        },
        "id": "flweuEA-tZqP",
        "outputId": "b0a4caeb-c696-4e18-9b24-c573fef75d28"
      },
      "source": [
        "### Show the df after adding the county index column\n",
        "modify_df.show()"
      ],
      "execution_count": null,
      "outputs": [
        {
          "output_type": "stream",
          "text": [
            "+------------+--------------------+--------+--------------+----------+----------+---+-----------+--------+---+---------+--------------+--------------+----------+------------+\n",
            "|  MLS Number|      Street Address|zip_code|        county|List Price|Sale Price|Age|Sq Ft Total|Lot Size|DOM|Year_Sale|  Listing Date|     Sale Date|Year Built|County_Index|\n",
            "+------------+--------------------+--------+--------------+----------+----------+---+-----------+--------+---+---------+--------------+--------------+----------+------------+\n",
            "|  ML81848993|    757 Douglas AVE |   94063|     San Mateo|    979998|   1350000| 74|       1708|  5000.0|  9|     2021|6/15/2021 0:00|6/24/2021 0:00|      1947|        11.0|\n",
            "|CRSW21124462|2760 Colorado Riv...|   92225|     Riverside|    749900|    710000| 16|       2002| 19602.0|  2|     2021| 6/9/2021 0:00|6/11/2021 0:00|      2005|         3.0|\n",
            "|CROC21137467|       680 Catalina |   92651|        Orange|   1185000|   1850000| 84|        998|  6970.0|  0|     2021|6/24/2021 0:00|6/24/2021 0:00|      1937|         1.0|\n",
            "|CRNP21120019|        2 S Portola |   92651|        Orange|   4195000|   4250000| 81|       2527|  4104.0| 49|     2021| 5/6/2021 0:00|6/24/2021 0:00|      1940|         1.0|\n",
            "|CRLG21127787|  2492 Glenneyre ST |   92651|        Orange|   4950000|   4950000| 31|       4350|  5000.0|  3|     2021|6/12/2021 0:00|6/15/2021 0:00|      1990|         1.0|\n",
            "|CRLG21125208|      721 Marlin DR |   92651|        Orange|   4399000|   4650000| 28|       4700|  8250.0| 13|     2021|5/31/2021 0:00|6/13/2021 0:00|      1993|         1.0|\n",
            "|CROC21033919|20 N Vista De Cat...|   92651|        Orange|   4750000|   4750000| 52|       3611|  7200.0|  0|     2021| 5/5/2021 0:00| 5/5/2021 0:00|      1969|         1.0|\n",
            "|CRPW21124539|  1218 N Ralston ST |   92801|        Orange|    749900|    780000| 66|       1245|  6000.0|  4|     2021|6/10/2021 0:00|6/14/2021 0:00|      1955|         1.0|\n",
            "|CRSW21145136|        542 W Cully |   92865|        Orange|    540000|    540000| 65|       1804| 11039.0|  7|     2021| 7/2/2021 0:00| 7/9/2021 0:00|      1956|         1.0|\n",
            "|CROC21131771| 810 E Whitecap AVE |   92865|        Orange|    720000|    718000| 61|       1213|  7200.0|  8|     2021|6/21/2021 0:00|6/29/2021 0:00|      1960|         1.0|\n",
            "|CRPW21124941|  3182 N Ashwood ST |   92865|        Orange|    698000|    676000| 52|       1662|  7000.0| 19|     2021| 6/9/2021 0:00|6/28/2021 0:00|      1969|         1.0|\n",
            "|CRPW21125217| 2886 N Santa Fe PL |   92865|        Orange|    679000|    725000| 23|       1600|  1950.0|  6|     2021|6/10/2021 0:00|6/16/2021 0:00|      1998|         1.0|\n",
            "|CRSB21134167|28626 Shenandoah DR |   92352|San Bernardino|    864000|   1069000| 19|       2442| 10534.0|  5|     2021|6/21/2021 0:00|6/26/2021 0:00|      2002|         8.0|\n",
            "|CREV21135815|   27316 Matterhorn |   92352|San Bernardino|    550000|    550000| 34|       1854| 13667.0|  3|     2021|6/22/2021 0:00|6/25/2021 0:00|      1987|         8.0|\n",
            "|CREV21130449|     838 Bishorn DR |   92352|San Bernardino|    499000|    510000| 45|       1672|  7910.0|  6|     2021|6/16/2021 0:00|6/22/2021 0:00|      1976|         8.0|\n",
            "|CREV21124734|  27098 Teakwood CT |   92352|San Bernardino|    525000|    590000| 39|       2040|  9581.0| 12|     2021| 6/9/2021 0:00|6/21/2021 0:00|      1982|         8.0|\n",
            "|CREV21126818|   27255 Bernina DR |   92352|San Bernardino|    550000|    560000| 53|       1638|  9750.0|  5|     2021|6/10/2021 0:00|6/15/2021 0:00|      1968|         8.0|\n",
            "|CREV21126696|   1227 Klondike DR |   92352|San Bernardino|    539000|    570000| 45|       1228|  7200.0|  5|     2021|6/10/2021 0:00|6/15/2021 0:00|      1976|         8.0|\n",
            "|CRNP21139948|5507 E Vista Del ...|   92807|        Orange|    638800|    650000| 44|       1646|  1466.0|  4|     2021|6/27/2021 0:00| 7/1/2021 0:00|      1977|         1.0|\n",
            "|CROC21134191| 6518 E Via Estrada |   92807|        Orange|    849900|    890000| 47|       1607| 10175.0|  5|     2021|6/21/2021 0:00|6/26/2021 0:00|      1974|         1.0|\n",
            "+------------+--------------------+--------+--------------+----------+----------+---+-----------+--------+---+---------+--------------+--------------+----------+------------+\n",
            "only showing top 20 rows\n",
            "\n"
          ],
          "name": "stdout"
        }
      ]
    },
    {
      "cell_type": "code",
      "metadata": {
        "colab": {
          "base_uri": "https://localhost:8080/"
        },
        "id": "ySDlMmx_rtKL",
        "outputId": "9d115e12-5845-47f1-a2c0-882bedc89c27"
      },
      "source": [
        "# import sql function pyspark\n",
        "import pyspark.sql.functions as f\n",
        "\n",
        "# null values in each column\n",
        "data_agg = modify_df.agg(*[f.count(f.when(f.isnull(c), c)).alias(c) for c in modify_df.columns])\n",
        "data_agg.show()"
      ],
      "execution_count": null,
      "outputs": [
        {
          "output_type": "stream",
          "text": [
            "+----------+--------------+--------+------+----------+----------+---+-----------+--------+---+---------+------------+---------+----------+------------+\n",
            "|MLS Number|Street Address|zip_code|county|List Price|Sale Price|Age|Sq Ft Total|Lot Size|DOM|Year_Sale|Listing Date|Sale Date|Year Built|County_Index|\n",
            "+----------+--------------+--------+------+----------+----------+---+-----------+--------+---+---------+------------+---------+----------+------------+\n",
            "|         0|             0|       0|     0|         0|         0|  0|          0|       0|  0|        0|           0|        0|         0|           0|\n",
            "+----------+--------------+--------+------+----------+----------+---+-----------+--------+---+---------+------------+---------+----------+------------+\n",
            "\n"
          ],
          "name": "stdout"
        }
      ]
    },
    {
      "cell_type": "code",
      "metadata": {
        "colab": {
          "base_uri": "https://localhost:8080/"
        },
        "id": "6FgRleoMIj4j",
        "outputId": "ab3d73b7-feac-4b53-cc5f-a0b6eecc2e61"
      },
      "source": [
        "# Drop null values\n",
        "final_df = modify_df.dropDuplicates(['MLS Number', 'zip_code', \"Year_Sale\", 'Sale Price', 'Listing Date'])\n",
        "final_df.show()\n",
        "final_df.count()"
      ],
      "execution_count": null,
      "outputs": [
        {
          "output_type": "stream",
          "text": [
            "+------------+--------------------+--------+--------------+----------+----------+---+-----------+--------+---+---------+--------------+--------------+----------+------------+\n",
            "|  MLS Number|      Street Address|zip_code|        county|List Price|Sale Price|Age|Sq Ft Total|Lot Size|DOM|Year_Sale|  Listing Date|     Sale Date|Year Built|County_Index|\n",
            "+------------+--------------------+--------+--------------+----------+----------+---+-----------+--------+---+---------+--------------+--------------+----------+------------+\n",
            "|CRPW21118939|  12930 Burgess AVE |   90638|   Los Angeles|    845000|    845000| 62|       1592|  6303.0| 13|     2021| 6/2/2021 0:00|6/15/2021 0:00|      1959|         0.0|\n",
            "|CNSR21122752| 4916 Greenbush AVE |   91423|   Los Angeles|   1600000|   1710000| 70|       2475|  7206.0|  8|     2021|6/11/2021 0:00|6/19/2021 0:00|      1951|         0.0|\n",
            "|CRNDP2106998|       6211 Agee ST |   92122|     San Diego|   1388000|   1428000| 53|       1698|  7100.0| 12|     2021|6/10/2021 0:00|6/22/2021 0:00|      1968|         7.0|\n",
            "|CRPTP2104175|10615 GREENFORD D...|   92126|     San Diego|    975000|    945000| 42|       1900|  6400.0| 19|     2021|6/10/2021 0:00|6/29/2021 0:00|      1979|         7.0|\n",
            "|CRIG21127301|16722 Desert Will...|   92394|San Bernardino|    379900|    417000| 14|       2607|  6249.0|  6|     2021|6/11/2021 0:00|6/17/2021 0:00|      2007|         8.0|\n",
            "|CRIG21124407|      4064 Tamarind |   92530|     Riverside|    555000|    555000|  4|       1851|  6970.0|  6|     2021| 6/9/2021 0:00|6/15/2021 0:00|      2017|         3.0|\n",
            "|CROC21125012|   5252 Vineland DR |   92649|        Orange|    975000|   1040000| 55|       2105|  6262.0| 20|     2021|6/12/2021 0:00| 7/2/2021 0:00|      1966|         1.0|\n",
            "|CRIG21111996| 3175 Timberline DR |   92882|     Riverside|    675000|    701000| 33|       1700|  5227.0| 39|     2021| 5/7/2021 0:00|6/15/2021 0:00|      1988|         3.0|\n",
            "|  ML81848203|      102 Nueva AVE |   94061|     San Mateo|   1298000|   1385000| 66|        910|  4185.0|  8|     2021|6/10/2021 0:00|6/18/2021 0:00|      1955|        11.0|\n",
            "|  EB40953716|    238 Lawrence Ln |   94513|  Contra Costa|    680000|    700000| 18|       1832|  5266.0|  7|     2021|6/10/2021 0:00|6/17/2021 0:00|      2003|         4.0|\n",
            "|  CC40955293|   1255 Coventry Rd |   94518|  Contra Costa|    730000|    803000| 56|       1072|  5400.0|  9|     2021|6/23/2021 0:00| 7/2/2021 0:00|      1965|         4.0|\n",
            "|  ML81851863|4170 Rivermark PKWY |   95054|   Santa Clara|   2400000|   2400000| 18|       3395|  3394.0|  0|     2021| 7/2/2021 0:00| 7/2/2021 0:00|      2003|         6.0|\n",
            "|  ML81848133|1540 Capitancillo...|   95120|   Santa Clara|   1825000|   1875000| 42|       2522| 10776.0|  9|     2021| 6/9/2021 0:00|6/18/2021 0:00|      1979|         6.0|\n",
            "|  ML81853760|      4018 Tuers RD |   95121|   Santa Clara|   1000000|   1000000| 43|       1633|  7235.0|  0|     2021|7/15/2021 0:00|7/15/2021 0:00|      1978|         6.0|\n",
            "| ME221069947|8705 Los Encantos...|   95624|    Sacramento|    479999|    479000| 42|       1456|  7802.0|  4|     2021|6/17/2021 0:00|6/21/2021 0:00|      1979|         2.0|\n",
            "| ME221071832|  1637 Caislean WAY |   95630|    Sacramento|    700000|    690000| 20|       1607|  6085.0|  5|     2021|6/23/2021 0:00|6/28/2021 0:00|      2001|         2.0|\n",
            "| ME221066268|6527 Mystery Moun...|   95765|        Placer|    525000|    535000| 20|       1650|  5663.0|  4|     2021|6/11/2021 0:00|6/15/2021 0:00|      2001|        10.0|\n",
            "|   CRP1-5385|   1428 Hacienda DR |   91011|   Los Angeles|   2800000|   2780000| 56|       3637| 17421.0| 36|     2021|5/18/2021 0:00|6/23/2021 0:00|      1965|         0.0|\n",
            "|CNSR21123928| 19458 Maldonado PL |   91350|   Los Angeles|    831000|    831000|  3|       1943|  5811.0| 12|     2021|6/10/2021 0:00|6/22/2021 0:00|      2018|         0.0|\n",
            "|CROC21112305|  29069 Sterling LN |   91354|   Los Angeles|    928000|    925000|  7|       2796|  5329.0|  7|     2021| 6/9/2021 0:00|6/16/2021 0:00|      2014|         0.0|\n",
            "+------------+--------------------+--------+--------------+----------+----------+---+-----------+--------+---+---------+--------------+--------------+----------+------------+\n",
            "only showing top 20 rows\n",
            "\n"
          ],
          "name": "stdout"
        },
        {
          "output_type": "execute_result",
          "data": {
            "text/plain": [
              "4190"
            ]
          },
          "metadata": {
            "tags": []
          },
          "execution_count": 37
        }
      ]
    },
    {
      "cell_type": "code",
      "metadata": {
        "colab": {
          "base_uri": "https://localhost:8080/"
        },
        "id": "75DGEyGORhSm",
        "outputId": "db860d24-4bb9-45a6-bcf7-e0a2622a1be2"
      },
      "source": [
        "final_df.na.drop(how='all')\n",
        "final_df.show()\n",
        "final_df.count()"
      ],
      "execution_count": null,
      "outputs": [
        {
          "output_type": "stream",
          "text": [
            "+------------+--------------------+--------+--------------+----------+----------+---+-----------+--------+---+---------+--------------+--------------+----------+------------+\n",
            "|  MLS Number|      Street Address|zip_code|        county|List Price|Sale Price|Age|Sq Ft Total|Lot Size|DOM|Year_Sale|  Listing Date|     Sale Date|Year Built|County_Index|\n",
            "+------------+--------------------+--------+--------------+----------+----------+---+-----------+--------+---+---------+--------------+--------------+----------+------------+\n",
            "|CRPW21118939|  12930 Burgess AVE |   90638|   Los Angeles|    845000|    845000| 62|       1592|  6303.0| 13|     2021| 6/2/2021 0:00|6/15/2021 0:00|      1959|         0.0|\n",
            "|CNSR21122752| 4916 Greenbush AVE |   91423|   Los Angeles|   1600000|   1710000| 70|       2475|  7206.0|  8|     2021|6/11/2021 0:00|6/19/2021 0:00|      1951|         0.0|\n",
            "|CRNDP2106998|       6211 Agee ST |   92122|     San Diego|   1388000|   1428000| 53|       1698|  7100.0| 12|     2021|6/10/2021 0:00|6/22/2021 0:00|      1968|         7.0|\n",
            "|CRPTP2104175|10615 GREENFORD D...|   92126|     San Diego|    975000|    945000| 42|       1900|  6400.0| 19|     2021|6/10/2021 0:00|6/29/2021 0:00|      1979|         7.0|\n",
            "|CRIG21127301|16722 Desert Will...|   92394|San Bernardino|    379900|    417000| 14|       2607|  6249.0|  6|     2021|6/11/2021 0:00|6/17/2021 0:00|      2007|         8.0|\n",
            "|CRIG21124407|      4064 Tamarind |   92530|     Riverside|    555000|    555000|  4|       1851|  6970.0|  6|     2021| 6/9/2021 0:00|6/15/2021 0:00|      2017|         3.0|\n",
            "|CROC21125012|   5252 Vineland DR |   92649|        Orange|    975000|   1040000| 55|       2105|  6262.0| 20|     2021|6/12/2021 0:00| 7/2/2021 0:00|      1966|         1.0|\n",
            "|CRIG21111996| 3175 Timberline DR |   92882|     Riverside|    675000|    701000| 33|       1700|  5227.0| 39|     2021| 5/7/2021 0:00|6/15/2021 0:00|      1988|         3.0|\n",
            "|  ML81848203|      102 Nueva AVE |   94061|     San Mateo|   1298000|   1385000| 66|        910|  4185.0|  8|     2021|6/10/2021 0:00|6/18/2021 0:00|      1955|        11.0|\n",
            "|  EB40953716|    238 Lawrence Ln |   94513|  Contra Costa|    680000|    700000| 18|       1832|  5266.0|  7|     2021|6/10/2021 0:00|6/17/2021 0:00|      2003|         4.0|\n",
            "|  CC40955293|   1255 Coventry Rd |   94518|  Contra Costa|    730000|    803000| 56|       1072|  5400.0|  9|     2021|6/23/2021 0:00| 7/2/2021 0:00|      1965|         4.0|\n",
            "|  ML81851863|4170 Rivermark PKWY |   95054|   Santa Clara|   2400000|   2400000| 18|       3395|  3394.0|  0|     2021| 7/2/2021 0:00| 7/2/2021 0:00|      2003|         6.0|\n",
            "|  ML81848133|1540 Capitancillo...|   95120|   Santa Clara|   1825000|   1875000| 42|       2522| 10776.0|  9|     2021| 6/9/2021 0:00|6/18/2021 0:00|      1979|         6.0|\n",
            "|  ML81853760|      4018 Tuers RD |   95121|   Santa Clara|   1000000|   1000000| 43|       1633|  7235.0|  0|     2021|7/15/2021 0:00|7/15/2021 0:00|      1978|         6.0|\n",
            "| ME221069947|8705 Los Encantos...|   95624|    Sacramento|    479999|    479000| 42|       1456|  7802.0|  4|     2021|6/17/2021 0:00|6/21/2021 0:00|      1979|         2.0|\n",
            "| ME221071832|  1637 Caislean WAY |   95630|    Sacramento|    700000|    690000| 20|       1607|  6085.0|  5|     2021|6/23/2021 0:00|6/28/2021 0:00|      2001|         2.0|\n",
            "| ME221066268|6527 Mystery Moun...|   95765|        Placer|    525000|    535000| 20|       1650|  5663.0|  4|     2021|6/11/2021 0:00|6/15/2021 0:00|      2001|        10.0|\n",
            "|   CRP1-5385|   1428 Hacienda DR |   91011|   Los Angeles|   2800000|   2780000| 56|       3637| 17421.0| 36|     2021|5/18/2021 0:00|6/23/2021 0:00|      1965|         0.0|\n",
            "|CNSR21123928| 19458 Maldonado PL |   91350|   Los Angeles|    831000|    831000|  3|       1943|  5811.0| 12|     2021|6/10/2021 0:00|6/22/2021 0:00|      2018|         0.0|\n",
            "|CROC21112305|  29069 Sterling LN |   91354|   Los Angeles|    928000|    925000|  7|       2796|  5329.0|  7|     2021| 6/9/2021 0:00|6/16/2021 0:00|      2014|         0.0|\n",
            "+------------+--------------------+--------+--------------+----------+----------+---+-----------+--------+---+---------+--------------+--------------+----------+------------+\n",
            "only showing top 20 rows\n",
            "\n"
          ],
          "name": "stdout"
        },
        {
          "output_type": "execute_result",
          "data": {
            "text/plain": [
              "4190"
            ]
          },
          "metadata": {
            "tags": []
          },
          "execution_count": 38
        }
      ]
    },
    {
      "cell_type": "code",
      "metadata": {
        "colab": {
          "base_uri": "https://localhost:8080/"
        },
        "id": "77xsqWdErQSt",
        "outputId": "5cf6a7bb-9bcd-40a5-8bd2-c1a7c2ab30f2"
      },
      "source": [
        "final_df.printSchema()"
      ],
      "execution_count": null,
      "outputs": [
        {
          "output_type": "stream",
          "text": [
            "root\n",
            " |-- MLS Number: string (nullable = true)\n",
            " |-- Street Address: string (nullable = true)\n",
            " |-- zip_code: string (nullable = true)\n",
            " |-- county: string (nullable = true)\n",
            " |-- List Price: integer (nullable = true)\n",
            " |-- Sale Price: integer (nullable = true)\n",
            " |-- Age: integer (nullable = true)\n",
            " |-- Sq Ft Total: integer (nullable = true)\n",
            " |-- Lot Size: double (nullable = true)\n",
            " |-- DOM: integer (nullable = true)\n",
            " |-- Year_Sale: integer (nullable = true)\n",
            " |-- Listing Date: string (nullable = true)\n",
            " |-- Sale Date: string (nullable = true)\n",
            " |-- Year Built: integer (nullable = true)\n",
            " |-- County_Index: double (nullable = false)\n",
            "\n"
          ],
          "name": "stdout"
        }
      ]
    },
    {
      "cell_type": "code",
      "metadata": {
        "colab": {
          "base_uri": "https://localhost:8080/",
          "height": 542
        },
        "id": "8_cWOUBOrQoZ",
        "outputId": "de8af81d-54c2-4ec0-a86a-81cf18c33da9"
      },
      "source": [
        "final_df.describe().toPandas().transpose()"
      ],
      "execution_count": null,
      "outputs": [
        {
          "output_type": "execute_result",
          "data": {
            "text/html": [
              "<div>\n",
              "<style scoped>\n",
              "    .dataframe tbody tr th:only-of-type {\n",
              "        vertical-align: middle;\n",
              "    }\n",
              "\n",
              "    .dataframe tbody tr th {\n",
              "        vertical-align: top;\n",
              "    }\n",
              "\n",
              "    .dataframe thead th {\n",
              "        text-align: right;\n",
              "    }\n",
              "</style>\n",
              "<table border=\"1\" class=\"dataframe\">\n",
              "  <thead>\n",
              "    <tr style=\"text-align: right;\">\n",
              "      <th></th>\n",
              "      <th>0</th>\n",
              "      <th>1</th>\n",
              "      <th>2</th>\n",
              "      <th>3</th>\n",
              "      <th>4</th>\n",
              "    </tr>\n",
              "  </thead>\n",
              "  <tbody>\n",
              "    <tr>\n",
              "      <th>summary</th>\n",
              "      <td>count</td>\n",
              "      <td>mean</td>\n",
              "      <td>stddev</td>\n",
              "      <td>min</td>\n",
              "      <td>max</td>\n",
              "    </tr>\n",
              "    <tr>\n",
              "      <th>MLS Number</th>\n",
              "      <td>4190</td>\n",
              "      <td>None</td>\n",
              "      <td>None</td>\n",
              "      <td>BA321030025</td>\n",
              "      <td>TM21-762052</td>\n",
              "    </tr>\n",
              "    <tr>\n",
              "      <th>Street Address</th>\n",
              "      <td>4190</td>\n",
              "      <td>None</td>\n",
              "      <td>None</td>\n",
              "      <td>\"1595 \"\"C\"\" Josselyn Canyon RD \"</td>\n",
              "      <td>9989 La Porte RD</td>\n",
              "    </tr>\n",
              "    <tr>\n",
              "      <th>zip_code</th>\n",
              "      <td>4190</td>\n",
              "      <td>93733.22840095466</td>\n",
              "      <td>1761.1977376478192</td>\n",
              "      <td>90002</td>\n",
              "      <td>96161</td>\n",
              "    </tr>\n",
              "    <tr>\n",
              "      <th>county</th>\n",
              "      <td>4190</td>\n",
              "      <td>None</td>\n",
              "      <td>None</td>\n",
              "      <td>Alameda</td>\n",
              "      <td>Yuba</td>\n",
              "    </tr>\n",
              "    <tr>\n",
              "      <th>List Price</th>\n",
              "      <td>4190</td>\n",
              "      <td>1038517.646778043</td>\n",
              "      <td>1041527.6312841626</td>\n",
              "      <td>75000</td>\n",
              "      <td>15868000</td>\n",
              "    </tr>\n",
              "    <tr>\n",
              "      <th>Sale Price</th>\n",
              "      <td>4190</td>\n",
              "      <td>1108018.570405728</td>\n",
              "      <td>1081943.3690121523</td>\n",
              "      <td>72000</td>\n",
              "      <td>15350000</td>\n",
              "    </tr>\n",
              "    <tr>\n",
              "      <th>Age</th>\n",
              "      <td>4190</td>\n",
              "      <td>46.71766109785203</td>\n",
              "      <td>26.72218545127131</td>\n",
              "      <td>0</td>\n",
              "      <td>152</td>\n",
              "    </tr>\n",
              "    <tr>\n",
              "      <th>Sq Ft Total</th>\n",
              "      <td>4190</td>\n",
              "      <td>1942.3334128878282</td>\n",
              "      <td>893.6931246817402</td>\n",
              "      <td>266</td>\n",
              "      <td>11853</td>\n",
              "    </tr>\n",
              "    <tr>\n",
              "      <th>Lot Size</th>\n",
              "      <td>4190</td>\n",
              "      <td>309681.166594272</td>\n",
              "      <td>1.1118406844002385E7</td>\n",
              "      <td>800.0</td>\n",
              "      <td>6.181164E8</td>\n",
              "    </tr>\n",
              "    <tr>\n",
              "      <th>DOM</th>\n",
              "      <td>4190</td>\n",
              "      <td>13.511694510739856</td>\n",
              "      <td>36.46870988151748</td>\n",
              "      <td>0</td>\n",
              "      <td>892</td>\n",
              "    </tr>\n",
              "    <tr>\n",
              "      <th>Year_Sale</th>\n",
              "      <td>4190</td>\n",
              "      <td>2020.909307875895</td>\n",
              "      <td>0.37831434776458667</td>\n",
              "      <td>2019</td>\n",
              "      <td>2021</td>\n",
              "    </tr>\n",
              "    <tr>\n",
              "      <th>Listing Date</th>\n",
              "      <td>4190</td>\n",
              "      <td>None</td>\n",
              "      <td>None</td>\n",
              "      <td>1/10/2020 0:00</td>\n",
              "      <td>9/6/2019 0:00</td>\n",
              "    </tr>\n",
              "    <tr>\n",
              "      <th>Sale Date</th>\n",
              "      <td>4190</td>\n",
              "      <td>None</td>\n",
              "      <td>None</td>\n",
              "      <td>1/1/2021 0:00</td>\n",
              "      <td>9/8/2020 0:00</td>\n",
              "    </tr>\n",
              "    <tr>\n",
              "      <th>Year Built</th>\n",
              "      <td>4190</td>\n",
              "      <td>1974.282338902148</td>\n",
              "      <td>26.722185451271333</td>\n",
              "      <td>1869</td>\n",
              "      <td>2021</td>\n",
              "    </tr>\n",
              "    <tr>\n",
              "      <th>County_Index</th>\n",
              "      <td>4190</td>\n",
              "      <td>7.523150357995227</td>\n",
              "      <td>7.797405693506178</td>\n",
              "      <td>0.0</td>\n",
              "      <td>44.0</td>\n",
              "    </tr>\n",
              "  </tbody>\n",
              "</table>\n",
              "</div>"
            ],
            "text/plain": [
              "                    0  ...                  4\n",
              "summary         count  ...                max\n",
              "MLS Number       4190  ...        TM21-762052\n",
              "Street Address   4190  ...  9989 La Porte RD \n",
              "zip_code         4190  ...              96161\n",
              "county           4190  ...               Yuba\n",
              "List Price       4190  ...           15868000\n",
              "Sale Price       4190  ...           15350000\n",
              "Age              4190  ...                152\n",
              "Sq Ft Total      4190  ...              11853\n",
              "Lot Size         4190  ...         6.181164E8\n",
              "DOM              4190  ...                892\n",
              "Year_Sale        4190  ...               2021\n",
              "Listing Date     4190  ...      9/6/2019 0:00\n",
              "Sale Date        4190  ...      9/8/2020 0:00\n",
              "Year Built       4190  ...               2021\n",
              "County_Index     4190  ...               44.0\n",
              "\n",
              "[16 rows x 5 columns]"
            ]
          },
          "metadata": {
            "tags": []
          },
          "execution_count": 40
        }
      ]
    },
    {
      "cell_type": "code",
      "metadata": {
        "id": "y8Ali63JgPLl"
      },
      "source": [
        "#import pandas\n",
        "import pandas as pd\n",
        "import numpy as np\n",
        "from sqlalchemy import create_engine\n",
        "#from config import db_password"
      ],
      "execution_count": null,
      "outputs": []
    },
    {
      "cell_type": "code",
      "metadata": {
        "colab": {
          "base_uri": "https://localhost:8080/"
        },
        "id": "VKeYnmv0gVW9",
        "outputId": "b74e1edd-9729-4b5a-93dc-b739e2150253"
      },
      "source": [
        "# Get the columns and the rows that are not null.\n",
        "final_df.dtypes"
      ],
      "execution_count": null,
      "outputs": [
        {
          "output_type": "execute_result",
          "data": {
            "text/plain": [
              "[('MLS Number', 'string'),\n",
              " ('Street Address', 'string'),\n",
              " ('zip_code', 'string'),\n",
              " ('county', 'string'),\n",
              " ('List Price', 'int'),\n",
              " ('Sale Price', 'int'),\n",
              " ('Age', 'int'),\n",
              " ('Sq Ft Total', 'int'),\n",
              " ('Lot Size', 'double'),\n",
              " ('DOM', 'int'),\n",
              " ('Year_Sale', 'int'),\n",
              " ('Listing Date', 'string'),\n",
              " ('Sale Date', 'string'),\n",
              " ('Year Built', 'int'),\n",
              " ('County_Index', 'double')]"
            ]
          },
          "metadata": {
            "tags": []
          },
          "execution_count": 42
        }
      ]
    },
    {
      "cell_type": "code",
      "metadata": {
        "colab": {
          "base_uri": "https://localhost:8080/"
        },
        "id": "ira5CDpRid-_",
        "outputId": "4005dd3c-2f34-42f1-ee47-ef9846b90f92"
      },
      "source": [
        "#Get all the Lot Size are greater than 800 in a new DataFrame.\n",
        "final_df = final_df[final_df[\"Lot Size\"] >= 800]\n",
        "final_df.count()"
      ],
      "execution_count": null,
      "outputs": [
        {
          "output_type": "execute_result",
          "data": {
            "text/plain": [
              "4190"
            ]
          },
          "metadata": {
            "tags": []
          },
          "execution_count": 43
        }
      ]
    },
    {
      "cell_type": "code",
      "metadata": {
        "colab": {
          "base_uri": "https://localhost:8080/"
        },
        "id": "FI1IiFejJs2s",
        "outputId": "de05d0ff-7daa-43fd-c2c6-827e5a7e0d78"
      },
      "source": [
        "# Create user dataframe to match active_user table\n",
        "house_df = final_df.select('MLS Number', 'Street Address', 'zip_code', 'county', 'age', 'Sq Ft Total', 'Lot size', 'Year Built')\n",
        "#clean_user_df = cleaned_df.select([\"id\",\"first_name\",\"last_name\",\"username\"])\n",
        "house_df.show()"
      ],
      "execution_count": null,
      "outputs": [
        {
          "output_type": "stream",
          "text": [
            "+------------+--------------------+--------+--------------+---+-----------+--------+----------+\n",
            "|  MLS Number|      Street Address|zip_code|        county|age|Sq Ft Total|Lot size|Year Built|\n",
            "+------------+--------------------+--------+--------------+---+-----------+--------+----------+\n",
            "|CRPW21118939|  12930 Burgess AVE |   90638|   Los Angeles| 62|       1592|  6303.0|      1959|\n",
            "|CNSR21122752| 4916 Greenbush AVE |   91423|   Los Angeles| 70|       2475|  7206.0|      1951|\n",
            "|CRNDP2106998|       6211 Agee ST |   92122|     San Diego| 53|       1698|  7100.0|      1968|\n",
            "|CRPTP2104175|10615 GREENFORD D...|   92126|     San Diego| 42|       1900|  6400.0|      1979|\n",
            "|CRIG21127301|16722 Desert Will...|   92394|San Bernardino| 14|       2607|  6249.0|      2007|\n",
            "|CRIG21124407|      4064 Tamarind |   92530|     Riverside|  4|       1851|  6970.0|      2017|\n",
            "|CROC21125012|   5252 Vineland DR |   92649|        Orange| 55|       2105|  6262.0|      1966|\n",
            "|CRIG21111996| 3175 Timberline DR |   92882|     Riverside| 33|       1700|  5227.0|      1988|\n",
            "|  ML81848203|      102 Nueva AVE |   94061|     San Mateo| 66|        910|  4185.0|      1955|\n",
            "|  EB40953716|    238 Lawrence Ln |   94513|  Contra Costa| 18|       1832|  5266.0|      2003|\n",
            "|  CC40955293|   1255 Coventry Rd |   94518|  Contra Costa| 56|       1072|  5400.0|      1965|\n",
            "|  ML81851863|4170 Rivermark PKWY |   95054|   Santa Clara| 18|       3395|  3394.0|      2003|\n",
            "|  ML81848133|1540 Capitancillo...|   95120|   Santa Clara| 42|       2522| 10776.0|      1979|\n",
            "|  ML81853760|      4018 Tuers RD |   95121|   Santa Clara| 43|       1633|  7235.0|      1978|\n",
            "| ME221069947|8705 Los Encantos...|   95624|    Sacramento| 42|       1456|  7802.0|      1979|\n",
            "| ME221071832|  1637 Caislean WAY |   95630|    Sacramento| 20|       1607|  6085.0|      2001|\n",
            "| ME221066268|6527 Mystery Moun...|   95765|        Placer| 20|       1650|  5663.0|      2001|\n",
            "|   CRP1-5385|   1428 Hacienda DR |   91011|   Los Angeles| 56|       3637| 17421.0|      1965|\n",
            "|CNSR21123928| 19458 Maldonado PL |   91350|   Los Angeles|  3|       1943|  5811.0|      2018|\n",
            "|CROC21112305|  29069 Sterling LN |   91354|   Los Angeles|  7|       2796|  5329.0|      2014|\n",
            "+------------+--------------------+--------+--------------+---+-----------+--------+----------+\n",
            "only showing top 20 rows\n",
            "\n"
          ],
          "name": "stdout"
        }
      ]
    },
    {
      "cell_type": "code",
      "metadata": {
        "colab": {
          "base_uri": "https://localhost:8080/"
        },
        "id": "HX6fQhr3KTsl",
        "outputId": "8db4abb3-ce0c-4f72-ddf8-5ecf7c398436"
      },
      "source": [
        "# Create user dataframe to match billing_info table\n",
        "sale_df = final_df.select(\"MLS Number\", \"zip_code\", \"county\", \"County_Index\", \"Year_Sale\", \"List Price\", \"Sale Price\", \"Age\", \"Sq Ft Total\", \"Lot Size\",\"DOM\",\"Sale Date\")\n",
        "sale_df.show()"
      ],
      "execution_count": null,
      "outputs": [
        {
          "output_type": "stream",
          "text": [
            "+------------+--------+--------------+------------+---------+----------+----------+---+-----------+--------+---+--------------+\n",
            "|  MLS Number|zip_code|        county|County_Index|Year_Sale|List Price|Sale Price|Age|Sq Ft Total|Lot Size|DOM|     Sale Date|\n",
            "+------------+--------+--------------+------------+---------+----------+----------+---+-----------+--------+---+--------------+\n",
            "|CRPW21118939|   90638|   Los Angeles|         0.0|     2021|    845000|    845000| 62|       1592|  6303.0| 13|6/15/2021 0:00|\n",
            "|CNSR21122752|   91423|   Los Angeles|         0.0|     2021|   1600000|   1710000| 70|       2475|  7206.0|  8|6/19/2021 0:00|\n",
            "|CRNDP2106998|   92122|     San Diego|         7.0|     2021|   1388000|   1428000| 53|       1698|  7100.0| 12|6/22/2021 0:00|\n",
            "|CRPTP2104175|   92126|     San Diego|         7.0|     2021|    975000|    945000| 42|       1900|  6400.0| 19|6/29/2021 0:00|\n",
            "|CRIG21127301|   92394|San Bernardino|         8.0|     2021|    379900|    417000| 14|       2607|  6249.0|  6|6/17/2021 0:00|\n",
            "|CRIG21124407|   92530|     Riverside|         3.0|     2021|    555000|    555000|  4|       1851|  6970.0|  6|6/15/2021 0:00|\n",
            "|CROC21125012|   92649|        Orange|         1.0|     2021|    975000|   1040000| 55|       2105|  6262.0| 20| 7/2/2021 0:00|\n",
            "|CRIG21111996|   92882|     Riverside|         3.0|     2021|    675000|    701000| 33|       1700|  5227.0| 39|6/15/2021 0:00|\n",
            "|  ML81848203|   94061|     San Mateo|        11.0|     2021|   1298000|   1385000| 66|        910|  4185.0|  8|6/18/2021 0:00|\n",
            "|  EB40953716|   94513|  Contra Costa|         4.0|     2021|    680000|    700000| 18|       1832|  5266.0|  7|6/17/2021 0:00|\n",
            "|  CC40955293|   94518|  Contra Costa|         4.0|     2021|    730000|    803000| 56|       1072|  5400.0|  9| 7/2/2021 0:00|\n",
            "|  ML81851863|   95054|   Santa Clara|         6.0|     2021|   2400000|   2400000| 18|       3395|  3394.0|  0| 7/2/2021 0:00|\n",
            "|  ML81848133|   95120|   Santa Clara|         6.0|     2021|   1825000|   1875000| 42|       2522| 10776.0|  9|6/18/2021 0:00|\n",
            "|  ML81853760|   95121|   Santa Clara|         6.0|     2021|   1000000|   1000000| 43|       1633|  7235.0|  0|7/15/2021 0:00|\n",
            "| ME221069947|   95624|    Sacramento|         2.0|     2021|    479999|    479000| 42|       1456|  7802.0|  4|6/21/2021 0:00|\n",
            "| ME221071832|   95630|    Sacramento|         2.0|     2021|    700000|    690000| 20|       1607|  6085.0|  5|6/28/2021 0:00|\n",
            "| ME221066268|   95765|        Placer|        10.0|     2021|    525000|    535000| 20|       1650|  5663.0|  4|6/15/2021 0:00|\n",
            "|   CRP1-5385|   91011|   Los Angeles|         0.0|     2021|   2800000|   2780000| 56|       3637| 17421.0| 36|6/23/2021 0:00|\n",
            "|CNSR21123928|   91350|   Los Angeles|         0.0|     2021|    831000|    831000|  3|       1943|  5811.0| 12|6/22/2021 0:00|\n",
            "|CROC21112305|   91354|   Los Angeles|         0.0|     2021|    928000|    925000|  7|       2796|  5329.0|  7|6/16/2021 0:00|\n",
            "+------------+--------+--------------+------------+---------+----------+----------+---+-----------+--------+---+--------------+\n",
            "only showing top 20 rows\n",
            "\n"
          ],
          "name": "stdout"
        }
      ]
    },
    {
      "cell_type": "code",
      "metadata": {
        "colab": {
          "base_uri": "https://localhost:8080/"
        },
        "id": "-cUcpEC2Kzwh",
        "outputId": "a9d7e7e5-07f2-4fc8-f2a1-9018f192585d"
      },
      "source": [
        "price_df = final_df.select(\"MLS Number\", \"county\", \"County_Index\", \"Year_Sale\", \"List Price\", \"Sale Price\", \"DOM\",\"Sale Date\")\n",
        "price_df.show()"
      ],
      "execution_count": null,
      "outputs": [
        {
          "output_type": "stream",
          "text": [
            "+------------+--------------+------------+---------+----------+----------+---+--------------+\n",
            "|  MLS Number|        county|County_Index|Year_Sale|List Price|Sale Price|DOM|     Sale Date|\n",
            "+------------+--------------+------------+---------+----------+----------+---+--------------+\n",
            "|CRPW21118939|   Los Angeles|         0.0|     2021|    845000|    845000| 13|6/15/2021 0:00|\n",
            "|CNSR21122752|   Los Angeles|         0.0|     2021|   1600000|   1710000|  8|6/19/2021 0:00|\n",
            "|CRNDP2106998|     San Diego|         7.0|     2021|   1388000|   1428000| 12|6/22/2021 0:00|\n",
            "|CRPTP2104175|     San Diego|         7.0|     2021|    975000|    945000| 19|6/29/2021 0:00|\n",
            "|CRIG21127301|San Bernardino|         8.0|     2021|    379900|    417000|  6|6/17/2021 0:00|\n",
            "|CRIG21124407|     Riverside|         3.0|     2021|    555000|    555000|  6|6/15/2021 0:00|\n",
            "|CROC21125012|        Orange|         1.0|     2021|    975000|   1040000| 20| 7/2/2021 0:00|\n",
            "|CRIG21111996|     Riverside|         3.0|     2021|    675000|    701000| 39|6/15/2021 0:00|\n",
            "|  ML81848203|     San Mateo|        11.0|     2021|   1298000|   1385000|  8|6/18/2021 0:00|\n",
            "|  EB40953716|  Contra Costa|         4.0|     2021|    680000|    700000|  7|6/17/2021 0:00|\n",
            "|  CC40955293|  Contra Costa|         4.0|     2021|    730000|    803000|  9| 7/2/2021 0:00|\n",
            "|  ML81851863|   Santa Clara|         6.0|     2021|   2400000|   2400000|  0| 7/2/2021 0:00|\n",
            "|  ML81848133|   Santa Clara|         6.0|     2021|   1825000|   1875000|  9|6/18/2021 0:00|\n",
            "|  ML81853760|   Santa Clara|         6.0|     2021|   1000000|   1000000|  0|7/15/2021 0:00|\n",
            "| ME221069947|    Sacramento|         2.0|     2021|    479999|    479000|  4|6/21/2021 0:00|\n",
            "| ME221071832|    Sacramento|         2.0|     2021|    700000|    690000|  5|6/28/2021 0:00|\n",
            "| ME221066268|        Placer|        10.0|     2021|    525000|    535000|  4|6/15/2021 0:00|\n",
            "|   CRP1-5385|   Los Angeles|         0.0|     2021|   2800000|   2780000| 36|6/23/2021 0:00|\n",
            "|CNSR21123928|   Los Angeles|         0.0|     2021|    831000|    831000| 12|6/22/2021 0:00|\n",
            "|CROC21112305|   Los Angeles|         0.0|     2021|    928000|    925000|  7|6/16/2021 0:00|\n",
            "+------------+--------------+------------+---------+----------+----------+---+--------------+\n",
            "only showing top 20 rows\n",
            "\n"
          ],
          "name": "stdout"
        }
      ]
    },
    {
      "cell_type": "code",
      "metadata": {
        "colab": {
          "base_uri": "https://localhost:8080/"
        },
        "id": "bMWSRibrVBAs",
        "outputId": "979e0ef1-ca7f-43fb-b39d-4f9b99fa7dc3"
      },
      "source": [
        "machine_learning_df = final_df.select(\"zip_code\", \"county\", \"County_Index\", \"Year_Sale\", \"List Price\", \"Sale Price\", \"Age\", \"Sq Ft Total\", \"Lot Size\",\"DOM\", \"Sale Date\")\n",
        "machine_learning_df.show()"
      ],
      "execution_count": null,
      "outputs": [
        {
          "output_type": "stream",
          "text": [
            "+--------+--------------+------------+---------+----------+----------+---+-----------+--------+---+--------------+\n",
            "|zip_code|        county|County_Index|Year_Sale|List Price|Sale Price|Age|Sq Ft Total|Lot Size|DOM|     Sale Date|\n",
            "+--------+--------------+------------+---------+----------+----------+---+-----------+--------+---+--------------+\n",
            "|   90638|   Los Angeles|         0.0|     2021|    845000|    845000| 62|       1592|  6303.0| 13|6/15/2021 0:00|\n",
            "|   91423|   Los Angeles|         0.0|     2021|   1600000|   1710000| 70|       2475|  7206.0|  8|6/19/2021 0:00|\n",
            "|   92122|     San Diego|         7.0|     2021|   1388000|   1428000| 53|       1698|  7100.0| 12|6/22/2021 0:00|\n",
            "|   92126|     San Diego|         7.0|     2021|    975000|    945000| 42|       1900|  6400.0| 19|6/29/2021 0:00|\n",
            "|   92394|San Bernardino|         8.0|     2021|    379900|    417000| 14|       2607|  6249.0|  6|6/17/2021 0:00|\n",
            "|   92530|     Riverside|         3.0|     2021|    555000|    555000|  4|       1851|  6970.0|  6|6/15/2021 0:00|\n",
            "|   92649|        Orange|         1.0|     2021|    975000|   1040000| 55|       2105|  6262.0| 20| 7/2/2021 0:00|\n",
            "|   92882|     Riverside|         3.0|     2021|    675000|    701000| 33|       1700|  5227.0| 39|6/15/2021 0:00|\n",
            "|   94061|     San Mateo|        11.0|     2021|   1298000|   1385000| 66|        910|  4185.0|  8|6/18/2021 0:00|\n",
            "|   94513|  Contra Costa|         4.0|     2021|    680000|    700000| 18|       1832|  5266.0|  7|6/17/2021 0:00|\n",
            "|   94518|  Contra Costa|         4.0|     2021|    730000|    803000| 56|       1072|  5400.0|  9| 7/2/2021 0:00|\n",
            "|   95054|   Santa Clara|         6.0|     2021|   2400000|   2400000| 18|       3395|  3394.0|  0| 7/2/2021 0:00|\n",
            "|   95120|   Santa Clara|         6.0|     2021|   1825000|   1875000| 42|       2522| 10776.0|  9|6/18/2021 0:00|\n",
            "|   95121|   Santa Clara|         6.0|     2021|   1000000|   1000000| 43|       1633|  7235.0|  0|7/15/2021 0:00|\n",
            "|   95624|    Sacramento|         2.0|     2021|    479999|    479000| 42|       1456|  7802.0|  4|6/21/2021 0:00|\n",
            "|   95630|    Sacramento|         2.0|     2021|    700000|    690000| 20|       1607|  6085.0|  5|6/28/2021 0:00|\n",
            "|   95765|        Placer|        10.0|     2021|    525000|    535000| 20|       1650|  5663.0|  4|6/15/2021 0:00|\n",
            "|   91011|   Los Angeles|         0.0|     2021|   2800000|   2780000| 56|       3637| 17421.0| 36|6/23/2021 0:00|\n",
            "|   91350|   Los Angeles|         0.0|     2021|    831000|    831000|  3|       1943|  5811.0| 12|6/22/2021 0:00|\n",
            "|   91354|   Los Angeles|         0.0|     2021|    928000|    925000|  7|       2796|  5329.0|  7|6/16/2021 0:00|\n",
            "+--------+--------------+------------+---------+----------+----------+---+-----------+--------+---+--------------+\n",
            "only showing top 20 rows\n",
            "\n"
          ],
          "name": "stdout"
        }
      ]
    },
    {
      "cell_type": "code",
      "metadata": {
        "colab": {
          "base_uri": "https://localhost:8080/"
        },
        "id": "7tbH1OdkLLhO",
        "outputId": "7382b40a-d1c3-4eba-a4b3-11189956469d"
      },
      "source": [
        "# Store environmental variable\n",
        "from getpass import getpass\n",
        "password = getpass('Enter database password')\n",
        "# Configure settings for RDS\n",
        "mode = \"append\"\n",
        "jdbc_url=\"jdbc:postgresql://database-1.cvmp56um73d3.us-west-1.rds.amazonaws.com:5432/Final_Project_db\"\n",
        "config = {\"user\":\"postgres\",\n",
        "          \"password\": password,\n",
        "          \"driver\":\"org.postgresql.Driver\"}"
      ],
      "execution_count": null,
      "outputs": [
        {
          "output_type": "stream",
          "text": [
            "Enter database password··········\n"
          ],
          "name": "stdout"
        }
      ]
    },
    {
      "cell_type": "code",
      "metadata": {
        "id": "qXXtimKhNJJ7"
      },
      "source": [
        "# Write DataFrame to active_user table in RDS\n",
        "house_df.write.jdbc(url=jdbc_url, table='house_info', mode=mode, properties=config)"
      ],
      "execution_count": null,
      "outputs": []
    },
    {
      "cell_type": "code",
      "metadata": {
        "id": "CyqMSnt5O7xS"
      },
      "source": [
        "# Write dataframe to billing_info table in RDS\n",
        "sale_df.write.jdbc(url=jdbc_url, table='sale_info', mode=mode, properties=config)"
      ],
      "execution_count": null,
      "outputs": []
    },
    {
      "cell_type": "code",
      "metadata": {
        "id": "1Gpto0cqPnAH"
      },
      "source": [
        "# Write dataframe to payment_info table in RDS\n",
        "price_df.write.jdbc(url=jdbc_url, table='price_info', mode=mode, properties=config)"
      ],
      "execution_count": null,
      "outputs": []
    },
    {
      "cell_type": "code",
      "metadata": {
        "id": "tPY-q1wMV0-H"
      },
      "source": [
        "# Write dataframe to payment_info table in RDS\n",
        "machine_learning_df.write.jdbc(url=jdbc_url, table='machine_learning', mode=mode, properties=config)"
      ],
      "execution_count": null,
      "outputs": []
    },
    {
      "cell_type": "code",
      "metadata": {
        "colab": {
          "base_uri": "https://localhost:8080/"
        },
        "id": "hKKuvHCQwpDZ",
        "outputId": "0614d008-836a-4b51-f936-2bae2e3c520c"
      },
      "source": [
        "# Create user dataframe to match billing_info table\n",
        "final_data_df = final_df.select('MLS Number', 'Street Address', 'zip_code', 'county', 'County_Index', \"Year_Sale\", 'List Price', 'Sale Price', 'Age', 'Sq Ft Total', 'Lot Size', 'DOM', 'Listing Date', 'Sale Date', 'Year Built')\n",
        "final_data_df.show()"
      ],
      "execution_count": null,
      "outputs": [
        {
          "output_type": "stream",
          "text": [
            "+------------+--------------------+--------+--------------+------------+---------+----------+----------+---+-----------+--------+---+--------------+--------------+----------+\n",
            "|  MLS Number|      Street Address|zip_code|        county|County_Index|Year_Sale|List Price|Sale Price|Age|Sq Ft Total|Lot Size|DOM|  Listing Date|     Sale Date|Year Built|\n",
            "+------------+--------------------+--------+--------------+------------+---------+----------+----------+---+-----------+--------+---+--------------+--------------+----------+\n",
            "|CRPW21118939|  12930 Burgess AVE |   90638|   Los Angeles|         0.0|     2021|    845000|    845000| 62|       1592|  6303.0| 13| 6/2/2021 0:00|6/15/2021 0:00|      1959|\n",
            "|CNSR21122752| 4916 Greenbush AVE |   91423|   Los Angeles|         0.0|     2021|   1600000|   1710000| 70|       2475|  7206.0|  8|6/11/2021 0:00|6/19/2021 0:00|      1951|\n",
            "|CRNDP2106998|       6211 Agee ST |   92122|     San Diego|         7.0|     2021|   1388000|   1428000| 53|       1698|  7100.0| 12|6/10/2021 0:00|6/22/2021 0:00|      1968|\n",
            "|CRPTP2104175|10615 GREENFORD D...|   92126|     San Diego|         7.0|     2021|    975000|    945000| 42|       1900|  6400.0| 19|6/10/2021 0:00|6/29/2021 0:00|      1979|\n",
            "|CRIG21127301|16722 Desert Will...|   92394|San Bernardino|         8.0|     2021|    379900|    417000| 14|       2607|  6249.0|  6|6/11/2021 0:00|6/17/2021 0:00|      2007|\n",
            "|CRIG21124407|      4064 Tamarind |   92530|     Riverside|         3.0|     2021|    555000|    555000|  4|       1851|  6970.0|  6| 6/9/2021 0:00|6/15/2021 0:00|      2017|\n",
            "|CROC21125012|   5252 Vineland DR |   92649|        Orange|         1.0|     2021|    975000|   1040000| 55|       2105|  6262.0| 20|6/12/2021 0:00| 7/2/2021 0:00|      1966|\n",
            "|CRIG21111996| 3175 Timberline DR |   92882|     Riverside|         3.0|     2021|    675000|    701000| 33|       1700|  5227.0| 39| 5/7/2021 0:00|6/15/2021 0:00|      1988|\n",
            "|  ML81848203|      102 Nueva AVE |   94061|     San Mateo|        11.0|     2021|   1298000|   1385000| 66|        910|  4185.0|  8|6/10/2021 0:00|6/18/2021 0:00|      1955|\n",
            "|  EB40953716|    238 Lawrence Ln |   94513|  Contra Costa|         4.0|     2021|    680000|    700000| 18|       1832|  5266.0|  7|6/10/2021 0:00|6/17/2021 0:00|      2003|\n",
            "|  CC40955293|   1255 Coventry Rd |   94518|  Contra Costa|         4.0|     2021|    730000|    803000| 56|       1072|  5400.0|  9|6/23/2021 0:00| 7/2/2021 0:00|      1965|\n",
            "|  ML81851863|4170 Rivermark PKWY |   95054|   Santa Clara|         6.0|     2021|   2400000|   2400000| 18|       3395|  3394.0|  0| 7/2/2021 0:00| 7/2/2021 0:00|      2003|\n",
            "|  ML81848133|1540 Capitancillo...|   95120|   Santa Clara|         6.0|     2021|   1825000|   1875000| 42|       2522| 10776.0|  9| 6/9/2021 0:00|6/18/2021 0:00|      1979|\n",
            "|  ML81853760|      4018 Tuers RD |   95121|   Santa Clara|         6.0|     2021|   1000000|   1000000| 43|       1633|  7235.0|  0|7/15/2021 0:00|7/15/2021 0:00|      1978|\n",
            "| ME221069947|8705 Los Encantos...|   95624|    Sacramento|         2.0|     2021|    479999|    479000| 42|       1456|  7802.0|  4|6/17/2021 0:00|6/21/2021 0:00|      1979|\n",
            "| ME221071832|  1637 Caislean WAY |   95630|    Sacramento|         2.0|     2021|    700000|    690000| 20|       1607|  6085.0|  5|6/23/2021 0:00|6/28/2021 0:00|      2001|\n",
            "| ME221066268|6527 Mystery Moun...|   95765|        Placer|        10.0|     2021|    525000|    535000| 20|       1650|  5663.0|  4|6/11/2021 0:00|6/15/2021 0:00|      2001|\n",
            "|   CRP1-5385|   1428 Hacienda DR |   91011|   Los Angeles|         0.0|     2021|   2800000|   2780000| 56|       3637| 17421.0| 36|5/18/2021 0:00|6/23/2021 0:00|      1965|\n",
            "|CNSR21123928| 19458 Maldonado PL |   91350|   Los Angeles|         0.0|     2021|    831000|    831000|  3|       1943|  5811.0| 12|6/10/2021 0:00|6/22/2021 0:00|      2018|\n",
            "|CROC21112305|  29069 Sterling LN |   91354|   Los Angeles|         0.0|     2021|    928000|    925000|  7|       2796|  5329.0|  7| 6/9/2021 0:00|6/16/2021 0:00|      2014|\n",
            "+------------+--------------------+--------+--------------+------------+---------+----------+----------+---+-----------+--------+---+--------------+--------------+----------+\n",
            "only showing top 20 rows\n",
            "\n"
          ],
          "name": "stdout"
        }
      ]
    },
    {
      "cell_type": "code",
      "metadata": {
        "id": "DopRTn9PxynB"
      },
      "source": [
        "# Write dataframe to payment_info table in RDS\n",
        "final_data_df.write.jdbc(url=jdbc_url, table='final_data', mode=mode, properties=config)"
      ],
      "execution_count": null,
      "outputs": []
    }
  ]
}